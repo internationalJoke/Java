{
  "cells": [
    {
      "cell_type": "code",
      "execution_count": 2,
      "metadata": {
        "tags": [],
        "id": "O4YHMHYrUm9Z"
      },
      "outputs": [],
      "source": [
        "import pandas as pd\n",
        "import numpy as np\n",
        "import matplotlib\n",
        "import matplotlib.pyplot as plt\n",
        "\n",
        "from sklearn import tree\n",
        "from sklearn.ensemble import BaggingClassifier, RandomForestClassifier\n",
        "\n",
        "import graphviz"
      ]
    },
    {
      "cell_type": "markdown",
      "metadata": {
        "tags": [],
        "id": "v76mJSVcUm9a"
      },
      "source": [
        "# Tree-Based Methods"
      ]
    },
    {
      "cell_type": "markdown",
      "metadata": {
        "tags": [],
        "id": "KeysLsORUm9a"
      },
      "source": [
        "## 8.1 Classification tree"
      ]
    },
    {
      "cell_type": "markdown",
      "metadata": {
        "tags": [],
        "id": "8PpoMrM8Um9b"
      },
      "source": [
        "This problem involves the `OJ` dataset (`data/oj.csv`)  \n",
        "**Orange Juice Data**\n",
        "\n",
        "The data contains 1070 purchases where the customer either purchased Citrus Hill or Minute Maid Orange Juice. A number of characteristics of the customer and product are recorded.\n",
        "\n",
        "A data frame with 1070 observations on the following 18 variables:\n",
        "\n",
        "`Purchase` :A factor with levels CH and MM indicating whether the customer purchased Citrus Hill or Minute Maid Orange Juice  \n",
        "`WeekofPurchase`: Week of purchase  \n",
        "`StoreID`: Store ID  \n",
        "`PriceCH`: Price charged for CH  \n",
        "`PriceMM`: Price charged for MM  \n",
        "`DiscCH`: Discount offered for CH\n",
        "`DiscMM`: Discount offered for MM  \n",
        "`SpecialCH`: Indicator of special on CH  \n",
        "`SpecialMM`: Indicator of special on MM  \n",
        "`LoyalCH`: Customer brand loyalty for CH  \n",
        "`SalePriceMM`: Sale price for MM  \n",
        "`SalePriceCH`: Sale price for CH  \n",
        "`PriceDiff`: Sale price of MM less sale price of CH  \n",
        "`Store7`: A factor with levels No and Yes indicating whether the sale is at Store 7  \n",
        "`PctDiscMM`: Percentage discount for MM  \n",
        "`PctDiscCH`: Percentage discount for CH  \n",
        "`ListPriceDiff`: List price of MM less list price of CH  \n",
        "`STORE`: Which of 5 possible stores the sale occured at"
      ]
    },
    {
      "cell_type": "markdown",
      "metadata": {
        "tags": [],
        "id": "ztsS6I0HUm9b"
      },
      "source": [
        "### a)\n",
        "Create a training set containing a random sample of 800 observations, and a test set containing the remaining observations."
      ]
    },
    {
      "cell_type": "code",
      "execution_count": 3,
      "metadata": {
        "tags": [],
        "id": "fREApJDUUm9b"
      },
      "outputs": [],
      "source": [
        "#OJ = pd.read_csv('data/OJ.csv')\n",
        "OJ = pd.read_csv('https://uu-sml.github.io/course-sml-public/data/oj.csv')\n"
      ]
    },
    {
      "cell_type": "code",
      "source": [
        "OJ.info()"
      ],
      "metadata": {
        "id": "yKDbl0LdXlOc",
        "outputId": "c9e5cfc6-9a32-4db0-b426-4303695fafca",
        "colab": {
          "base_uri": "https://localhost:8080/"
        }
      },
      "execution_count": 4,
      "outputs": [
        {
          "output_type": "stream",
          "name": "stdout",
          "text": [
            "<class 'pandas.core.frame.DataFrame'>\n",
            "RangeIndex: 1070 entries, 0 to 1069\n",
            "Data columns (total 18 columns):\n",
            " #   Column          Non-Null Count  Dtype  \n",
            "---  ------          --------------  -----  \n",
            " 0   Purchase        1070 non-null   object \n",
            " 1   WeekofPurchase  1070 non-null   int64  \n",
            " 2   StoreID         1070 non-null   int64  \n",
            " 3   PriceCH         1070 non-null   float64\n",
            " 4   PriceMM         1070 non-null   float64\n",
            " 5   DiscCH          1070 non-null   float64\n",
            " 6   DiscMM          1070 non-null   float64\n",
            " 7   SpecialCH       1070 non-null   int64  \n",
            " 8   SpecialMM       1070 non-null   int64  \n",
            " 9   LoyalCH         1070 non-null   float64\n",
            " 10  SalePriceMM     1070 non-null   float64\n",
            " 11  SalePriceCH     1070 non-null   float64\n",
            " 12  PriceDiff       1070 non-null   float64\n",
            " 13  Store7          1070 non-null   object \n",
            " 14  PctDiscMM       1070 non-null   float64\n",
            " 15  PctDiscCH       1070 non-null   float64\n",
            " 16  ListPriceDiff   1070 non-null   float64\n",
            " 17  STORE           1070 non-null   int64  \n",
            "dtypes: float64(11), int64(5), object(2)\n",
            "memory usage: 150.6+ KB\n"
          ]
        }
      ]
    },
    {
      "cell_type": "code",
      "execution_count": 6,
      "metadata": {
        "tags": [],
        "id": "IUYxLtq3Um9b"
      },
      "outputs": [],
      "source": [
        "np.random.seed(1)\n",
        "train_index = np.random.choice(OJ.shape[0], size = 800, replace = False)\n",
        "train = OJ.iloc[train_index]\n",
        "test = OJ.iloc[~OJ.index.isin(train_index)]"
      ]
    },
    {
      "cell_type": "code",
      "source": [
        "train.info()"
      ],
      "metadata": {
        "id": "kw5EWoFiYU3a",
        "outputId": "0f034be8-8009-432d-8761-06876024a89d",
        "colab": {
          "base_uri": "https://localhost:8080/"
        }
      },
      "execution_count": 7,
      "outputs": [
        {
          "output_type": "stream",
          "name": "stdout",
          "text": [
            "<class 'pandas.core.frame.DataFrame'>\n",
            "Index: 800 entries, 120 to 833\n",
            "Data columns (total 18 columns):\n",
            " #   Column          Non-Null Count  Dtype  \n",
            "---  ------          --------------  -----  \n",
            " 0   Purchase        800 non-null    object \n",
            " 1   WeekofPurchase  800 non-null    int64  \n",
            " 2   StoreID         800 non-null    int64  \n",
            " 3   PriceCH         800 non-null    float64\n",
            " 4   PriceMM         800 non-null    float64\n",
            " 5   DiscCH          800 non-null    float64\n",
            " 6   DiscMM          800 non-null    float64\n",
            " 7   SpecialCH       800 non-null    int64  \n",
            " 8   SpecialMM       800 non-null    int64  \n",
            " 9   LoyalCH         800 non-null    float64\n",
            " 10  SalePriceMM     800 non-null    float64\n",
            " 11  SalePriceCH     800 non-null    float64\n",
            " 12  PriceDiff       800 non-null    float64\n",
            " 13  Store7          800 non-null    object \n",
            " 14  PctDiscMM       800 non-null    float64\n",
            " 15  PctDiscCH       800 non-null    float64\n",
            " 16  ListPriceDiff   800 non-null    float64\n",
            " 17  STORE           800 non-null    int64  \n",
            "dtypes: float64(11), int64(5), object(2)\n",
            "memory usage: 118.8+ KB\n"
          ]
        }
      ]
    },
    {
      "cell_type": "code",
      "source": [
        "test.info()"
      ],
      "metadata": {
        "id": "byY1456jato_",
        "outputId": "343edbc3-6492-4381-b9dd-c623bbdd644a",
        "colab": {
          "base_uri": "https://localhost:8080/"
        }
      },
      "execution_count": 8,
      "outputs": [
        {
          "output_type": "stream",
          "name": "stdout",
          "text": [
            "<class 'pandas.core.frame.DataFrame'>\n",
            "Index: 270 entries, 10 to 1068\n",
            "Data columns (total 18 columns):\n",
            " #   Column          Non-Null Count  Dtype  \n",
            "---  ------          --------------  -----  \n",
            " 0   Purchase        270 non-null    object \n",
            " 1   WeekofPurchase  270 non-null    int64  \n",
            " 2   StoreID         270 non-null    int64  \n",
            " 3   PriceCH         270 non-null    float64\n",
            " 4   PriceMM         270 non-null    float64\n",
            " 5   DiscCH          270 non-null    float64\n",
            " 6   DiscMM          270 non-null    float64\n",
            " 7   SpecialCH       270 non-null    int64  \n",
            " 8   SpecialMM       270 non-null    int64  \n",
            " 9   LoyalCH         270 non-null    float64\n",
            " 10  SalePriceMM     270 non-null    float64\n",
            " 11  SalePriceCH     270 non-null    float64\n",
            " 12  PriceDiff       270 non-null    float64\n",
            " 13  Store7          270 non-null    object \n",
            " 14  PctDiscMM       270 non-null    float64\n",
            " 15  PctDiscCH       270 non-null    float64\n",
            " 16  ListPriceDiff   270 non-null    float64\n",
            " 17  STORE           270 non-null    int64  \n",
            "dtypes: float64(11), int64(5), object(2)\n",
            "memory usage: 40.1+ KB\n"
          ]
        }
      ]
    },
    {
      "cell_type": "markdown",
      "metadata": {
        "tags": [],
        "id": "p_3L36HVUm9b"
      },
      "source": [
        "### b)\n",
        "Learn a classification tree from the training data using the function `sklearn.tree.DecisionTreeClassifier()`, with\n",
        "`Purchase` as the output and the other variables as inputs. Don't forget to handle qulitative variables correctly. To avoid severe overfit, you have to add some constraints to the tree, using, e.g., a maximum depth of 2 (`max_depth=2`)."
      ]
    },
    {
      "cell_type": "code",
      "execution_count": 25,
      "metadata": {
        "tags": [],
        "id": "n0bZfNqPUm9b",
        "outputId": "8631a53d-833d-4184-c385-1522e01a00a2",
        "colab": {
          "base_uri": "https://localhost:8080/",
          "height": 80
        }
      },
      "outputs": [
        {
          "output_type": "execute_result",
          "data": {
            "text/plain": [
              "DecisionTreeClassifier(max_depth=8)"
            ],
            "text/html": [
              "<style>#sk-container-id-5 {\n",
              "  /* Definition of color scheme common for light and dark mode */\n",
              "  --sklearn-color-text: black;\n",
              "  --sklearn-color-line: gray;\n",
              "  /* Definition of color scheme for unfitted estimators */\n",
              "  --sklearn-color-unfitted-level-0: #fff5e6;\n",
              "  --sklearn-color-unfitted-level-1: #f6e4d2;\n",
              "  --sklearn-color-unfitted-level-2: #ffe0b3;\n",
              "  --sklearn-color-unfitted-level-3: chocolate;\n",
              "  /* Definition of color scheme for fitted estimators */\n",
              "  --sklearn-color-fitted-level-0: #f0f8ff;\n",
              "  --sklearn-color-fitted-level-1: #d4ebff;\n",
              "  --sklearn-color-fitted-level-2: #b3dbfd;\n",
              "  --sklearn-color-fitted-level-3: cornflowerblue;\n",
              "\n",
              "  /* Specific color for light theme */\n",
              "  --sklearn-color-text-on-default-background: var(--sg-text-color, var(--theme-code-foreground, var(--jp-content-font-color1, black)));\n",
              "  --sklearn-color-background: var(--sg-background-color, var(--theme-background, var(--jp-layout-color0, white)));\n",
              "  --sklearn-color-border-box: var(--sg-text-color, var(--theme-code-foreground, var(--jp-content-font-color1, black)));\n",
              "  --sklearn-color-icon: #696969;\n",
              "\n",
              "  @media (prefers-color-scheme: dark) {\n",
              "    /* Redefinition of color scheme for dark theme */\n",
              "    --sklearn-color-text-on-default-background: var(--sg-text-color, var(--theme-code-foreground, var(--jp-content-font-color1, white)));\n",
              "    --sklearn-color-background: var(--sg-background-color, var(--theme-background, var(--jp-layout-color0, #111)));\n",
              "    --sklearn-color-border-box: var(--sg-text-color, var(--theme-code-foreground, var(--jp-content-font-color1, white)));\n",
              "    --sklearn-color-icon: #878787;\n",
              "  }\n",
              "}\n",
              "\n",
              "#sk-container-id-5 {\n",
              "  color: var(--sklearn-color-text);\n",
              "}\n",
              "\n",
              "#sk-container-id-5 pre {\n",
              "  padding: 0;\n",
              "}\n",
              "\n",
              "#sk-container-id-5 input.sk-hidden--visually {\n",
              "  border: 0;\n",
              "  clip: rect(1px 1px 1px 1px);\n",
              "  clip: rect(1px, 1px, 1px, 1px);\n",
              "  height: 1px;\n",
              "  margin: -1px;\n",
              "  overflow: hidden;\n",
              "  padding: 0;\n",
              "  position: absolute;\n",
              "  width: 1px;\n",
              "}\n",
              "\n",
              "#sk-container-id-5 div.sk-dashed-wrapped {\n",
              "  border: 1px dashed var(--sklearn-color-line);\n",
              "  margin: 0 0.4em 0.5em 0.4em;\n",
              "  box-sizing: border-box;\n",
              "  padding-bottom: 0.4em;\n",
              "  background-color: var(--sklearn-color-background);\n",
              "}\n",
              "\n",
              "#sk-container-id-5 div.sk-container {\n",
              "  /* jupyter's `normalize.less` sets `[hidden] { display: none; }`\n",
              "     but bootstrap.min.css set `[hidden] { display: none !important; }`\n",
              "     so we also need the `!important` here to be able to override the\n",
              "     default hidden behavior on the sphinx rendered scikit-learn.org.\n",
              "     See: https://github.com/scikit-learn/scikit-learn/issues/21755 */\n",
              "  display: inline-block !important;\n",
              "  position: relative;\n",
              "}\n",
              "\n",
              "#sk-container-id-5 div.sk-text-repr-fallback {\n",
              "  display: none;\n",
              "}\n",
              "\n",
              "div.sk-parallel-item,\n",
              "div.sk-serial,\n",
              "div.sk-item {\n",
              "  /* draw centered vertical line to link estimators */\n",
              "  background-image: linear-gradient(var(--sklearn-color-text-on-default-background), var(--sklearn-color-text-on-default-background));\n",
              "  background-size: 2px 100%;\n",
              "  background-repeat: no-repeat;\n",
              "  background-position: center center;\n",
              "}\n",
              "\n",
              "/* Parallel-specific style estimator block */\n",
              "\n",
              "#sk-container-id-5 div.sk-parallel-item::after {\n",
              "  content: \"\";\n",
              "  width: 100%;\n",
              "  border-bottom: 2px solid var(--sklearn-color-text-on-default-background);\n",
              "  flex-grow: 1;\n",
              "}\n",
              "\n",
              "#sk-container-id-5 div.sk-parallel {\n",
              "  display: flex;\n",
              "  align-items: stretch;\n",
              "  justify-content: center;\n",
              "  background-color: var(--sklearn-color-background);\n",
              "  position: relative;\n",
              "}\n",
              "\n",
              "#sk-container-id-5 div.sk-parallel-item {\n",
              "  display: flex;\n",
              "  flex-direction: column;\n",
              "}\n",
              "\n",
              "#sk-container-id-5 div.sk-parallel-item:first-child::after {\n",
              "  align-self: flex-end;\n",
              "  width: 50%;\n",
              "}\n",
              "\n",
              "#sk-container-id-5 div.sk-parallel-item:last-child::after {\n",
              "  align-self: flex-start;\n",
              "  width: 50%;\n",
              "}\n",
              "\n",
              "#sk-container-id-5 div.sk-parallel-item:only-child::after {\n",
              "  width: 0;\n",
              "}\n",
              "\n",
              "/* Serial-specific style estimator block */\n",
              "\n",
              "#sk-container-id-5 div.sk-serial {\n",
              "  display: flex;\n",
              "  flex-direction: column;\n",
              "  align-items: center;\n",
              "  background-color: var(--sklearn-color-background);\n",
              "  padding-right: 1em;\n",
              "  padding-left: 1em;\n",
              "}\n",
              "\n",
              "\n",
              "/* Toggleable style: style used for estimator/Pipeline/ColumnTransformer box that is\n",
              "clickable and can be expanded/collapsed.\n",
              "- Pipeline and ColumnTransformer use this feature and define the default style\n",
              "- Estimators will overwrite some part of the style using the `sk-estimator` class\n",
              "*/\n",
              "\n",
              "/* Pipeline and ColumnTransformer style (default) */\n",
              "\n",
              "#sk-container-id-5 div.sk-toggleable {\n",
              "  /* Default theme specific background. It is overwritten whether we have a\n",
              "  specific estimator or a Pipeline/ColumnTransformer */\n",
              "  background-color: var(--sklearn-color-background);\n",
              "}\n",
              "\n",
              "/* Toggleable label */\n",
              "#sk-container-id-5 label.sk-toggleable__label {\n",
              "  cursor: pointer;\n",
              "  display: block;\n",
              "  width: 100%;\n",
              "  margin-bottom: 0;\n",
              "  padding: 0.5em;\n",
              "  box-sizing: border-box;\n",
              "  text-align: center;\n",
              "}\n",
              "\n",
              "#sk-container-id-5 label.sk-toggleable__label-arrow:before {\n",
              "  /* Arrow on the left of the label */\n",
              "  content: \"▸\";\n",
              "  float: left;\n",
              "  margin-right: 0.25em;\n",
              "  color: var(--sklearn-color-icon);\n",
              "}\n",
              "\n",
              "#sk-container-id-5 label.sk-toggleable__label-arrow:hover:before {\n",
              "  color: var(--sklearn-color-text);\n",
              "}\n",
              "\n",
              "/* Toggleable content - dropdown */\n",
              "\n",
              "#sk-container-id-5 div.sk-toggleable__content {\n",
              "  max-height: 0;\n",
              "  max-width: 0;\n",
              "  overflow: hidden;\n",
              "  text-align: left;\n",
              "  /* unfitted */\n",
              "  background-color: var(--sklearn-color-unfitted-level-0);\n",
              "}\n",
              "\n",
              "#sk-container-id-5 div.sk-toggleable__content.fitted {\n",
              "  /* fitted */\n",
              "  background-color: var(--sklearn-color-fitted-level-0);\n",
              "}\n",
              "\n",
              "#sk-container-id-5 div.sk-toggleable__content pre {\n",
              "  margin: 0.2em;\n",
              "  border-radius: 0.25em;\n",
              "  color: var(--sklearn-color-text);\n",
              "  /* unfitted */\n",
              "  background-color: var(--sklearn-color-unfitted-level-0);\n",
              "}\n",
              "\n",
              "#sk-container-id-5 div.sk-toggleable__content.fitted pre {\n",
              "  /* unfitted */\n",
              "  background-color: var(--sklearn-color-fitted-level-0);\n",
              "}\n",
              "\n",
              "#sk-container-id-5 input.sk-toggleable__control:checked~div.sk-toggleable__content {\n",
              "  /* Expand drop-down */\n",
              "  max-height: 200px;\n",
              "  max-width: 100%;\n",
              "  overflow: auto;\n",
              "}\n",
              "\n",
              "#sk-container-id-5 input.sk-toggleable__control:checked~label.sk-toggleable__label-arrow:before {\n",
              "  content: \"▾\";\n",
              "}\n",
              "\n",
              "/* Pipeline/ColumnTransformer-specific style */\n",
              "\n",
              "#sk-container-id-5 div.sk-label input.sk-toggleable__control:checked~label.sk-toggleable__label {\n",
              "  color: var(--sklearn-color-text);\n",
              "  background-color: var(--sklearn-color-unfitted-level-2);\n",
              "}\n",
              "\n",
              "#sk-container-id-5 div.sk-label.fitted input.sk-toggleable__control:checked~label.sk-toggleable__label {\n",
              "  background-color: var(--sklearn-color-fitted-level-2);\n",
              "}\n",
              "\n",
              "/* Estimator-specific style */\n",
              "\n",
              "/* Colorize estimator box */\n",
              "#sk-container-id-5 div.sk-estimator input.sk-toggleable__control:checked~label.sk-toggleable__label {\n",
              "  /* unfitted */\n",
              "  background-color: var(--sklearn-color-unfitted-level-2);\n",
              "}\n",
              "\n",
              "#sk-container-id-5 div.sk-estimator.fitted input.sk-toggleable__control:checked~label.sk-toggleable__label {\n",
              "  /* fitted */\n",
              "  background-color: var(--sklearn-color-fitted-level-2);\n",
              "}\n",
              "\n",
              "#sk-container-id-5 div.sk-label label.sk-toggleable__label,\n",
              "#sk-container-id-5 div.sk-label label {\n",
              "  /* The background is the default theme color */\n",
              "  color: var(--sklearn-color-text-on-default-background);\n",
              "}\n",
              "\n",
              "/* On hover, darken the color of the background */\n",
              "#sk-container-id-5 div.sk-label:hover label.sk-toggleable__label {\n",
              "  color: var(--sklearn-color-text);\n",
              "  background-color: var(--sklearn-color-unfitted-level-2);\n",
              "}\n",
              "\n",
              "/* Label box, darken color on hover, fitted */\n",
              "#sk-container-id-5 div.sk-label.fitted:hover label.sk-toggleable__label.fitted {\n",
              "  color: var(--sklearn-color-text);\n",
              "  background-color: var(--sklearn-color-fitted-level-2);\n",
              "}\n",
              "\n",
              "/* Estimator label */\n",
              "\n",
              "#sk-container-id-5 div.sk-label label {\n",
              "  font-family: monospace;\n",
              "  font-weight: bold;\n",
              "  display: inline-block;\n",
              "  line-height: 1.2em;\n",
              "}\n",
              "\n",
              "#sk-container-id-5 div.sk-label-container {\n",
              "  text-align: center;\n",
              "}\n",
              "\n",
              "/* Estimator-specific */\n",
              "#sk-container-id-5 div.sk-estimator {\n",
              "  font-family: monospace;\n",
              "  border: 1px dotted var(--sklearn-color-border-box);\n",
              "  border-radius: 0.25em;\n",
              "  box-sizing: border-box;\n",
              "  margin-bottom: 0.5em;\n",
              "  /* unfitted */\n",
              "  background-color: var(--sklearn-color-unfitted-level-0);\n",
              "}\n",
              "\n",
              "#sk-container-id-5 div.sk-estimator.fitted {\n",
              "  /* fitted */\n",
              "  background-color: var(--sklearn-color-fitted-level-0);\n",
              "}\n",
              "\n",
              "/* on hover */\n",
              "#sk-container-id-5 div.sk-estimator:hover {\n",
              "  /* unfitted */\n",
              "  background-color: var(--sklearn-color-unfitted-level-2);\n",
              "}\n",
              "\n",
              "#sk-container-id-5 div.sk-estimator.fitted:hover {\n",
              "  /* fitted */\n",
              "  background-color: var(--sklearn-color-fitted-level-2);\n",
              "}\n",
              "\n",
              "/* Specification for estimator info (e.g. \"i\" and \"?\") */\n",
              "\n",
              "/* Common style for \"i\" and \"?\" */\n",
              "\n",
              ".sk-estimator-doc-link,\n",
              "a:link.sk-estimator-doc-link,\n",
              "a:visited.sk-estimator-doc-link {\n",
              "  float: right;\n",
              "  font-size: smaller;\n",
              "  line-height: 1em;\n",
              "  font-family: monospace;\n",
              "  background-color: var(--sklearn-color-background);\n",
              "  border-radius: 1em;\n",
              "  height: 1em;\n",
              "  width: 1em;\n",
              "  text-decoration: none !important;\n",
              "  margin-left: 1ex;\n",
              "  /* unfitted */\n",
              "  border: var(--sklearn-color-unfitted-level-1) 1pt solid;\n",
              "  color: var(--sklearn-color-unfitted-level-1);\n",
              "}\n",
              "\n",
              ".sk-estimator-doc-link.fitted,\n",
              "a:link.sk-estimator-doc-link.fitted,\n",
              "a:visited.sk-estimator-doc-link.fitted {\n",
              "  /* fitted */\n",
              "  border: var(--sklearn-color-fitted-level-1) 1pt solid;\n",
              "  color: var(--sklearn-color-fitted-level-1);\n",
              "}\n",
              "\n",
              "/* On hover */\n",
              "div.sk-estimator:hover .sk-estimator-doc-link:hover,\n",
              ".sk-estimator-doc-link:hover,\n",
              "div.sk-label-container:hover .sk-estimator-doc-link:hover,\n",
              ".sk-estimator-doc-link:hover {\n",
              "  /* unfitted */\n",
              "  background-color: var(--sklearn-color-unfitted-level-3);\n",
              "  color: var(--sklearn-color-background);\n",
              "  text-decoration: none;\n",
              "}\n",
              "\n",
              "div.sk-estimator.fitted:hover .sk-estimator-doc-link.fitted:hover,\n",
              ".sk-estimator-doc-link.fitted:hover,\n",
              "div.sk-label-container:hover .sk-estimator-doc-link.fitted:hover,\n",
              ".sk-estimator-doc-link.fitted:hover {\n",
              "  /* fitted */\n",
              "  background-color: var(--sklearn-color-fitted-level-3);\n",
              "  color: var(--sklearn-color-background);\n",
              "  text-decoration: none;\n",
              "}\n",
              "\n",
              "/* Span, style for the box shown on hovering the info icon */\n",
              ".sk-estimator-doc-link span {\n",
              "  display: none;\n",
              "  z-index: 9999;\n",
              "  position: relative;\n",
              "  font-weight: normal;\n",
              "  right: .2ex;\n",
              "  padding: .5ex;\n",
              "  margin: .5ex;\n",
              "  width: min-content;\n",
              "  min-width: 20ex;\n",
              "  max-width: 50ex;\n",
              "  color: var(--sklearn-color-text);\n",
              "  box-shadow: 2pt 2pt 4pt #999;\n",
              "  /* unfitted */\n",
              "  background: var(--sklearn-color-unfitted-level-0);\n",
              "  border: .5pt solid var(--sklearn-color-unfitted-level-3);\n",
              "}\n",
              "\n",
              ".sk-estimator-doc-link.fitted span {\n",
              "  /* fitted */\n",
              "  background: var(--sklearn-color-fitted-level-0);\n",
              "  border: var(--sklearn-color-fitted-level-3);\n",
              "}\n",
              "\n",
              ".sk-estimator-doc-link:hover span {\n",
              "  display: block;\n",
              "}\n",
              "\n",
              "/* \"?\"-specific style due to the `<a>` HTML tag */\n",
              "\n",
              "#sk-container-id-5 a.estimator_doc_link {\n",
              "  float: right;\n",
              "  font-size: 1rem;\n",
              "  line-height: 1em;\n",
              "  font-family: monospace;\n",
              "  background-color: var(--sklearn-color-background);\n",
              "  border-radius: 1rem;\n",
              "  height: 1rem;\n",
              "  width: 1rem;\n",
              "  text-decoration: none;\n",
              "  /* unfitted */\n",
              "  color: var(--sklearn-color-unfitted-level-1);\n",
              "  border: var(--sklearn-color-unfitted-level-1) 1pt solid;\n",
              "}\n",
              "\n",
              "#sk-container-id-5 a.estimator_doc_link.fitted {\n",
              "  /* fitted */\n",
              "  border: var(--sklearn-color-fitted-level-1) 1pt solid;\n",
              "  color: var(--sklearn-color-fitted-level-1);\n",
              "}\n",
              "\n",
              "/* On hover */\n",
              "#sk-container-id-5 a.estimator_doc_link:hover {\n",
              "  /* unfitted */\n",
              "  background-color: var(--sklearn-color-unfitted-level-3);\n",
              "  color: var(--sklearn-color-background);\n",
              "  text-decoration: none;\n",
              "}\n",
              "\n",
              "#sk-container-id-5 a.estimator_doc_link.fitted:hover {\n",
              "  /* fitted */\n",
              "  background-color: var(--sklearn-color-fitted-level-3);\n",
              "}\n",
              "</style><div id=\"sk-container-id-5\" class=\"sk-top-container\"><div class=\"sk-text-repr-fallback\"><pre>DecisionTreeClassifier(max_depth=8)</pre><b>In a Jupyter environment, please rerun this cell to show the HTML representation or trust the notebook. <br />On GitHub, the HTML representation is unable to render, please try loading this page with nbviewer.org.</b></div><div class=\"sk-container\" hidden><div class=\"sk-item\"><div class=\"sk-estimator fitted sk-toggleable\"><input class=\"sk-toggleable__control sk-hidden--visually\" id=\"sk-estimator-id-5\" type=\"checkbox\" checked><label for=\"sk-estimator-id-5\" class=\"sk-toggleable__label fitted sk-toggleable__label-arrow fitted\">&nbsp;&nbsp;DecisionTreeClassifier<a class=\"sk-estimator-doc-link fitted\" rel=\"noreferrer\" target=\"_blank\" href=\"https://scikit-learn.org/1.5/modules/generated/sklearn.tree.DecisionTreeClassifier.html\">?<span>Documentation for DecisionTreeClassifier</span></a><span class=\"sk-estimator-doc-link fitted\">i<span>Fitted</span></span></label><div class=\"sk-toggleable__content fitted\"><pre>DecisionTreeClassifier(max_depth=8)</pre></div> </div></div></div></div>"
            ]
          },
          "metadata": {},
          "execution_count": 25
        }
      ],
      "source": [
        "tree_max_depth = 8\n",
        "X_train = train.drop(columns=['Purchase'])\n",
        "\n",
        "X_train = pd.get_dummies(X_train, columns=['Store7'])\n",
        "y_train = train['Purchase']\n",
        "\n",
        "model = tree.DecisionTreeClassifier(max_depth=tree_max_depth)\n",
        "model.fit(X = X_train, y = y_train)"
      ]
    },
    {
      "cell_type": "markdown",
      "metadata": {
        "tags": [],
        "id": "3xdtk-2wUm9b"
      },
      "source": [
        "### c)\n",
        "Use `sklearn.tree.export_graphviz()`and the `Python` module `graphviz` to visualize the tree and interpret the result. How many terminal nodes does the tree have? Pick one of the terminal nodes, and interpret the information displayed. Type `OJ.info()` to get information about all input variables in the data set."
      ]
    },
    {
      "cell_type": "code",
      "execution_count": 26,
      "metadata": {
        "tags": [],
        "id": "b610S5PaUm9b",
        "outputId": "17f07c4b-99f3-4ed6-c472-e34f39c25b69",
        "colab": {
          "base_uri": "https://localhost:8080/",
          "height": 1000
        }
      },
      "outputs": [
        {
          "output_type": "execute_result",
          "data": {
            "image/svg+xml": "<?xml version=\"1.0\" encoding=\"UTF-8\" standalone=\"no\"?>\n<!DOCTYPE svg PUBLIC \"-//W3C//DTD SVG 1.1//EN\"\n \"http://www.w3.org/Graphics/SVG/1.1/DTD/svg11.dtd\">\n<!-- Generated by graphviz version 2.43.0 (0)\n -->\n<!-- Title: Tree Pages: 1 -->\n<svg width=\"12207pt\" height=\"1036pt\"\n viewBox=\"0.00 0.00 12207.00 1035.50\" xmlns=\"http://www.w3.org/2000/svg\" xmlns:xlink=\"http://www.w3.org/1999/xlink\">\n<g id=\"graph0\" class=\"graph\" transform=\"scale(1 1) rotate(0) translate(4 1031.5)\">\n<title>Tree</title>\n<polygon fill=\"white\" stroke=\"transparent\" points=\"-4,4 -4,-1031.5 12203,-1031.5 12203,4 -4,4\"/>\n<!-- 0 -->\n<g id=\"node1\" class=\"node\">\n<title>0</title>\n<path fill=\"#f6d5bc\" stroke=\"black\" d=\"M6172,-1027.5C6172,-1027.5 6049,-1027.5 6049,-1027.5 6043,-1027.5 6037,-1021.5 6037,-1015.5 6037,-1015.5 6037,-956.5 6037,-956.5 6037,-950.5 6043,-944.5 6049,-944.5 6049,-944.5 6172,-944.5 6172,-944.5 6178,-944.5 6184,-950.5 6184,-956.5 6184,-956.5 6184,-1015.5 6184,-1015.5 6184,-1021.5 6178,-1027.5 6172,-1027.5\"/>\n<text text-anchor=\"middle\" x=\"6110.5\" y=\"-1012.3\" font-family=\"Helvetica,sans-Serif\" font-size=\"14.00\">LoyalCH &lt;= 0.482</text>\n<text text-anchor=\"middle\" x=\"6110.5\" y=\"-997.3\" font-family=\"Helvetica,sans-Serif\" font-size=\"14.00\">gini = 0.479</text>\n<text text-anchor=\"middle\" x=\"6110.5\" y=\"-982.3\" font-family=\"Helvetica,sans-Serif\" font-size=\"14.00\">samples = 100.0%</text>\n<text text-anchor=\"middle\" x=\"6110.5\" y=\"-967.3\" font-family=\"Helvetica,sans-Serif\" font-size=\"14.00\">value = [0.601, 0.399]</text>\n<text text-anchor=\"middle\" x=\"6110.5\" y=\"-952.3\" font-family=\"Helvetica,sans-Serif\" font-size=\"14.00\">class = CH</text>\n</g>\n<!-- 1 -->\n<g id=\"node2\" class=\"node\">\n<title>1</title>\n<path fill=\"#6fb8ec\" stroke=\"black\" d=\"M3997,-908.5C3997,-908.5 3874,-908.5 3874,-908.5 3868,-908.5 3862,-902.5 3862,-896.5 3862,-896.5 3862,-837.5 3862,-837.5 3862,-831.5 3868,-825.5 3874,-825.5 3874,-825.5 3997,-825.5 3997,-825.5 4003,-825.5 4009,-831.5 4009,-837.5 4009,-837.5 4009,-896.5 4009,-896.5 4009,-902.5 4003,-908.5 3997,-908.5\"/>\n<text text-anchor=\"middle\" x=\"3935.5\" y=\"-893.3\" font-family=\"Helvetica,sans-Serif\" font-size=\"14.00\">PriceDiff &lt;= 0.31</text>\n<text text-anchor=\"middle\" x=\"3935.5\" y=\"-878.3\" font-family=\"Helvetica,sans-Serif\" font-size=\"14.00\">gini = 0.338</text>\n<text text-anchor=\"middle\" x=\"3935.5\" y=\"-863.3\" font-family=\"Helvetica,sans-Serif\" font-size=\"14.00\">samples = 37.1%</text>\n<text text-anchor=\"middle\" x=\"3935.5\" y=\"-848.3\" font-family=\"Helvetica,sans-Serif\" font-size=\"14.00\">value = [0.215, 0.785]</text>\n<text text-anchor=\"middle\" x=\"3935.5\" y=\"-833.3\" font-family=\"Helvetica,sans-Serif\" font-size=\"14.00\">class = MM</text>\n</g>\n<!-- 0&#45;&gt;1 -->\n<g id=\"edge1\" class=\"edge\">\n<title>0&#45;&gt;1</title>\n<path fill=\"none\" stroke=\"black\" d=\"M6036.89,-981.04C5707.33,-963.31 4368.37,-891.29 4019.14,-872.5\"/>\n<polygon fill=\"black\" stroke=\"black\" points=\"4019.27,-869 4009.09,-871.96 4018.89,-875.99 4019.27,-869\"/>\n<text text-anchor=\"middle\" x=\"4025.8\" y=\"-886.86\" font-family=\"Helvetica,sans-Serif\" font-size=\"14.00\">True</text>\n</g>\n<!-- 80 -->\n<g id=\"node81\" class=\"node\">\n<title>80</title>\n<path fill=\"#ea9b62\" stroke=\"black\" d=\"M8944,-908.5C8944,-908.5 8821,-908.5 8821,-908.5 8815,-908.5 8809,-902.5 8809,-896.5 8809,-896.5 8809,-837.5 8809,-837.5 8809,-831.5 8815,-825.5 8821,-825.5 8821,-825.5 8944,-825.5 8944,-825.5 8950,-825.5 8956,-831.5 8956,-837.5 8956,-837.5 8956,-896.5 8956,-896.5 8956,-902.5 8950,-908.5 8944,-908.5\"/>\n<text text-anchor=\"middle\" x=\"8882.5\" y=\"-893.3\" font-family=\"Helvetica,sans-Serif\" font-size=\"14.00\">LoyalCH &lt;= 0.765</text>\n<text text-anchor=\"middle\" x=\"8882.5\" y=\"-878.3\" font-family=\"Helvetica,sans-Serif\" font-size=\"14.00\">gini = 0.283</text>\n<text text-anchor=\"middle\" x=\"8882.5\" y=\"-863.3\" font-family=\"Helvetica,sans-Serif\" font-size=\"14.00\">samples = 62.9%</text>\n<text text-anchor=\"middle\" x=\"8882.5\" y=\"-848.3\" font-family=\"Helvetica,sans-Serif\" font-size=\"14.00\">value = [0.829, 0.171]</text>\n<text text-anchor=\"middle\" x=\"8882.5\" y=\"-833.3\" font-family=\"Helvetica,sans-Serif\" font-size=\"14.00\">class = CH</text>\n</g>\n<!-- 0&#45;&gt;80 -->\n<g id=\"edge80\" class=\"edge\">\n<title>0&#45;&gt;80</title>\n<path fill=\"none\" stroke=\"black\" d=\"M6184.29,-981.89C6573.51,-965.46 8385.86,-888.96 8798.66,-871.54\"/>\n<polygon fill=\"black\" stroke=\"black\" points=\"8798.89,-875.03 8808.73,-871.11 8798.59,-868.04 8798.89,-875.03\"/>\n<text text-anchor=\"middle\" x=\"8791.82\" y=\"-885.82\" font-family=\"Helvetica,sans-Serif\" font-size=\"14.00\">False</text>\n</g>\n<!-- 2 -->\n<g id=\"node3\" class=\"node\">\n<title>2</title>\n<path fill=\"#5eafea\" stroke=\"black\" d=\"M2153,-789.5C2153,-789.5 2030,-789.5 2030,-789.5 2024,-789.5 2018,-783.5 2018,-777.5 2018,-777.5 2018,-718.5 2018,-718.5 2018,-712.5 2024,-706.5 2030,-706.5 2030,-706.5 2153,-706.5 2153,-706.5 2159,-706.5 2165,-712.5 2165,-718.5 2165,-718.5 2165,-777.5 2165,-777.5 2165,-783.5 2159,-789.5 2153,-789.5\"/>\n<text text-anchor=\"middle\" x=\"2091.5\" y=\"-774.3\" font-family=\"Helvetica,sans-Serif\" font-size=\"14.00\">StoreID &lt;= 3.5</text>\n<text text-anchor=\"middle\" x=\"2091.5\" y=\"-759.3\" font-family=\"Helvetica,sans-Serif\" font-size=\"14.00\">gini = 0.266</text>\n<text text-anchor=\"middle\" x=\"2091.5\" y=\"-744.3\" font-family=\"Helvetica,sans-Serif\" font-size=\"14.00\">samples = 29.2%</text>\n<text text-anchor=\"middle\" x=\"2091.5\" y=\"-729.3\" font-family=\"Helvetica,sans-Serif\" font-size=\"14.00\">value = [0.158, 0.842]</text>\n<text text-anchor=\"middle\" x=\"2091.5\" y=\"-714.3\" font-family=\"Helvetica,sans-Serif\" font-size=\"14.00\">class = MM</text>\n</g>\n<!-- 1&#45;&gt;2 -->\n<g id=\"edge2\" class=\"edge\">\n<title>1&#45;&gt;2</title>\n<path fill=\"none\" stroke=\"black\" d=\"M3861.79,-861.32C3568.61,-842.72 2486.09,-774.04 2175.38,-754.32\"/>\n<polygon fill=\"black\" stroke=\"black\" points=\"2175.3,-750.81 2165.1,-753.67 2174.85,-757.8 2175.3,-750.81\"/>\n</g>\n<!-- 47 -->\n<g id=\"node48\" class=\"node\">\n<title>47</title>\n<path fill=\"#cee6f8\" stroke=\"black\" d=\"M3997,-789.5C3997,-789.5 3874,-789.5 3874,-789.5 3868,-789.5 3862,-783.5 3862,-777.5 3862,-777.5 3862,-718.5 3862,-718.5 3862,-712.5 3868,-706.5 3874,-706.5 3874,-706.5 3997,-706.5 3997,-706.5 4003,-706.5 4009,-712.5 4009,-718.5 4009,-718.5 4009,-777.5 4009,-777.5 4009,-783.5 4003,-789.5 3997,-789.5\"/>\n<text text-anchor=\"middle\" x=\"3935.5\" y=\"-774.3\" font-family=\"Helvetica,sans-Serif\" font-size=\"14.00\">LoyalCH &lt;= 0.173</text>\n<text text-anchor=\"middle\" x=\"3935.5\" y=\"-759.3\" font-family=\"Helvetica,sans-Serif\" font-size=\"14.00\">gini = 0.49</text>\n<text text-anchor=\"middle\" x=\"3935.5\" y=\"-744.3\" font-family=\"Helvetica,sans-Serif\" font-size=\"14.00\">samples = 7.9%</text>\n<text text-anchor=\"middle\" x=\"3935.5\" y=\"-729.3\" font-family=\"Helvetica,sans-Serif\" font-size=\"14.00\">value = [0.429, 0.571]</text>\n<text text-anchor=\"middle\" x=\"3935.5\" y=\"-714.3\" font-family=\"Helvetica,sans-Serif\" font-size=\"14.00\">class = MM</text>\n</g>\n<!-- 1&#45;&gt;47 -->\n<g id=\"edge47\" class=\"edge\">\n<title>1&#45;&gt;47</title>\n<path fill=\"none\" stroke=\"black\" d=\"M3935.5,-825.41C3935.5,-817.15 3935.5,-808.36 3935.5,-799.8\"/>\n<polygon fill=\"black\" stroke=\"black\" points=\"3939,-799.52 3935.5,-789.52 3932,-799.52 3939,-799.52\"/>\n</g>\n<!-- 3 -->\n<g id=\"node4\" class=\"node\">\n<title>3</title>\n<path fill=\"#51a9e8\" stroke=\"black\" d=\"M1259,-670.5C1259,-670.5 1136,-670.5 1136,-670.5 1130,-670.5 1124,-664.5 1124,-658.5 1124,-658.5 1124,-599.5 1124,-599.5 1124,-593.5 1130,-587.5 1136,-587.5 1136,-587.5 1259,-587.5 1259,-587.5 1265,-587.5 1271,-593.5 1271,-599.5 1271,-599.5 1271,-658.5 1271,-658.5 1271,-664.5 1265,-670.5 1259,-670.5\"/>\n<text text-anchor=\"middle\" x=\"1197.5\" y=\"-655.3\" font-family=\"Helvetica,sans-Serif\" font-size=\"14.00\">LoyalCH &lt;= 0.434</text>\n<text text-anchor=\"middle\" x=\"1197.5\" y=\"-640.3\" font-family=\"Helvetica,sans-Serif\" font-size=\"14.00\">gini = 0.19</text>\n<text text-anchor=\"middle\" x=\"1197.5\" y=\"-625.3\" font-family=\"Helvetica,sans-Serif\" font-size=\"14.00\">samples = 22.4%</text>\n<text text-anchor=\"middle\" x=\"1197.5\" y=\"-610.3\" font-family=\"Helvetica,sans-Serif\" font-size=\"14.00\">value = [0.106, 0.894]</text>\n<text text-anchor=\"middle\" x=\"1197.5\" y=\"-595.3\" font-family=\"Helvetica,sans-Serif\" font-size=\"14.00\">class = MM</text>\n</g>\n<!-- 2&#45;&gt;3 -->\n<g id=\"edge3\" class=\"edge\">\n<title>2&#45;&gt;3</title>\n<path fill=\"none\" stroke=\"black\" d=\"M2017.96,-737.38C1853.23,-715.82 1455.45,-663.76 1281.41,-640.98\"/>\n<polygon fill=\"black\" stroke=\"black\" points=\"1281.64,-637.48 1271.27,-639.66 1280.74,-644.42 1281.64,-637.48\"/>\n</g>\n<!-- 22 -->\n<g id=\"node23\" class=\"node\">\n<title>22</title>\n<path fill=\"#99cdf2\" stroke=\"black\" d=\"M2153,-670.5C2153,-670.5 2030,-670.5 2030,-670.5 2024,-670.5 2018,-664.5 2018,-658.5 2018,-658.5 2018,-599.5 2018,-599.5 2018,-593.5 2024,-587.5 2030,-587.5 2030,-587.5 2153,-587.5 2153,-587.5 2159,-587.5 2165,-593.5 2165,-599.5 2165,-599.5 2165,-658.5 2165,-658.5 2165,-664.5 2159,-670.5 2153,-670.5\"/>\n<text text-anchor=\"middle\" x=\"2091.5\" y=\"-655.3\" font-family=\"Helvetica,sans-Serif\" font-size=\"14.00\">SalePriceCH &lt;= 1.72</text>\n<text text-anchor=\"middle\" x=\"2091.5\" y=\"-640.3\" font-family=\"Helvetica,sans-Serif\" font-size=\"14.00\">gini = 0.44</text>\n<text text-anchor=\"middle\" x=\"2091.5\" y=\"-625.3\" font-family=\"Helvetica,sans-Serif\" font-size=\"14.00\">samples = 6.9%</text>\n<text text-anchor=\"middle\" x=\"2091.5\" y=\"-610.3\" font-family=\"Helvetica,sans-Serif\" font-size=\"14.00\">value = [0.327, 0.673]</text>\n<text text-anchor=\"middle\" x=\"2091.5\" y=\"-595.3\" font-family=\"Helvetica,sans-Serif\" font-size=\"14.00\">class = MM</text>\n</g>\n<!-- 2&#45;&gt;22 -->\n<g id=\"edge22\" class=\"edge\">\n<title>2&#45;&gt;22</title>\n<path fill=\"none\" stroke=\"black\" d=\"M2091.5,-706.41C2091.5,-698.15 2091.5,-689.36 2091.5,-680.8\"/>\n<polygon fill=\"black\" stroke=\"black\" points=\"2095,-680.52 2091.5,-670.52 2088,-680.52 2095,-680.52\"/>\n</g>\n<!-- 4 -->\n<g id=\"node5\" class=\"node\">\n<title>4</title>\n<path fill=\"#4ba6e7\" stroke=\"black\" d=\"M323,-551.5C323,-551.5 200,-551.5 200,-551.5 194,-551.5 188,-545.5 188,-539.5 188,-539.5 188,-480.5 188,-480.5 188,-474.5 194,-468.5 200,-468.5 200,-468.5 323,-468.5 323,-468.5 329,-468.5 335,-474.5 335,-480.5 335,-480.5 335,-539.5 335,-539.5 335,-545.5 329,-551.5 323,-551.5\"/>\n<text text-anchor=\"middle\" x=\"261.5\" y=\"-536.3\" font-family=\"Helvetica,sans-Serif\" font-size=\"14.00\">LoyalCH &lt;= 0.035</text>\n<text text-anchor=\"middle\" x=\"261.5\" y=\"-521.3\" font-family=\"Helvetica,sans-Serif\" font-size=\"14.00\">gini = 0.156</text>\n<text text-anchor=\"middle\" x=\"261.5\" y=\"-506.3\" font-family=\"Helvetica,sans-Serif\" font-size=\"14.00\">samples = 20.5%</text>\n<text text-anchor=\"middle\" x=\"261.5\" y=\"-491.3\" font-family=\"Helvetica,sans-Serif\" font-size=\"14.00\">value = [0.085, 0.915]</text>\n<text text-anchor=\"middle\" x=\"261.5\" y=\"-476.3\" font-family=\"Helvetica,sans-Serif\" font-size=\"14.00\">class = MM</text>\n</g>\n<!-- 3&#45;&gt;4 -->\n<g id=\"edge4\" class=\"edge\">\n<title>3&#45;&gt;4</title>\n<path fill=\"none\" stroke=\"black\" d=\"M1123.66,-618.77C951.87,-597.3 526.23,-544.09 345.17,-521.46\"/>\n<polygon fill=\"black\" stroke=\"black\" points=\"345.53,-517.98 335.17,-520.21 344.66,-524.92 345.53,-517.98\"/>\n</g>\n<!-- 13 -->\n<g id=\"node14\" class=\"node\">\n<title>13</title>\n<path fill=\"#9ccef2\" stroke=\"black\" d=\"M1263.5,-551.5C1263.5,-551.5 1131.5,-551.5 1131.5,-551.5 1125.5,-551.5 1119.5,-545.5 1119.5,-539.5 1119.5,-539.5 1119.5,-480.5 1119.5,-480.5 1119.5,-474.5 1125.5,-468.5 1131.5,-468.5 1131.5,-468.5 1263.5,-468.5 1263.5,-468.5 1269.5,-468.5 1275.5,-474.5 1275.5,-480.5 1275.5,-480.5 1275.5,-539.5 1275.5,-539.5 1275.5,-545.5 1269.5,-551.5 1263.5,-551.5\"/>\n<text text-anchor=\"middle\" x=\"1197.5\" y=\"-536.3\" font-family=\"Helvetica,sans-Serif\" font-size=\"14.00\">SalePriceMM &lt;= 2.105</text>\n<text text-anchor=\"middle\" x=\"1197.5\" y=\"-521.3\" font-family=\"Helvetica,sans-Serif\" font-size=\"14.00\">gini = 0.444</text>\n<text text-anchor=\"middle\" x=\"1197.5\" y=\"-506.3\" font-family=\"Helvetica,sans-Serif\" font-size=\"14.00\">samples = 1.9%</text>\n<text text-anchor=\"middle\" x=\"1197.5\" y=\"-491.3\" font-family=\"Helvetica,sans-Serif\" font-size=\"14.00\">value = [0.333, 0.667]</text>\n<text text-anchor=\"middle\" x=\"1197.5\" y=\"-476.3\" font-family=\"Helvetica,sans-Serif\" font-size=\"14.00\">class = MM</text>\n</g>\n<!-- 3&#45;&gt;13 -->\n<g id=\"edge13\" class=\"edge\">\n<title>3&#45;&gt;13</title>\n<path fill=\"none\" stroke=\"black\" d=\"M1197.5,-587.41C1197.5,-579.15 1197.5,-570.36 1197.5,-561.8\"/>\n<polygon fill=\"black\" stroke=\"black\" points=\"1201,-561.52 1197.5,-551.52 1194,-561.52 1201,-561.52\"/>\n</g>\n<!-- 5 -->\n<g id=\"node6\" class=\"node\">\n<title>5</title>\n<path fill=\"#399de5\" stroke=\"black\" d=\"M105,-68C105,-68 12,-68 12,-68 6,-68 0,-62 0,-56 0,-56 0,-12 0,-12 0,-6 6,0 12,0 12,0 105,0 105,0 111,0 117,-6 117,-12 117,-12 117,-56 117,-56 117,-62 111,-68 105,-68\"/>\n<text text-anchor=\"middle\" x=\"58.5\" y=\"-52.8\" font-family=\"Helvetica,sans-Serif\" font-size=\"14.00\">gini = 0.0</text>\n<text text-anchor=\"middle\" x=\"58.5\" y=\"-37.8\" font-family=\"Helvetica,sans-Serif\" font-size=\"14.00\">samples = 5.6%</text>\n<text text-anchor=\"middle\" x=\"58.5\" y=\"-22.8\" font-family=\"Helvetica,sans-Serif\" font-size=\"14.00\">value = [0.0, 1.0]</text>\n<text text-anchor=\"middle\" x=\"58.5\" y=\"-7.8\" font-family=\"Helvetica,sans-Serif\" font-size=\"14.00\">class = MM</text>\n</g>\n<!-- 4&#45;&gt;5 -->\n<g id=\"edge5\" class=\"edge\">\n<title>4&#45;&gt;5</title>\n<path fill=\"none\" stroke=\"black\" d=\"M217.08,-468.06C197.35,-449.87 178.5,-432.5 178.5,-432.5 178.5,-432.5 102.51,-180.79 71.47,-77.97\"/>\n<polygon fill=\"black\" stroke=\"black\" points=\"74.77,-76.77 68.52,-68.21 68.06,-78.79 74.77,-76.77\"/>\n</g>\n<!-- 6 -->\n<g id=\"node7\" class=\"node\">\n<title>6</title>\n<path fill=\"#53aae8\" stroke=\"black\" d=\"M323,-432.5C323,-432.5 200,-432.5 200,-432.5 194,-432.5 188,-426.5 188,-420.5 188,-420.5 188,-361.5 188,-361.5 188,-355.5 194,-349.5 200,-349.5 200,-349.5 323,-349.5 323,-349.5 329,-349.5 335,-355.5 335,-361.5 335,-361.5 335,-420.5 335,-420.5 335,-426.5 329,-432.5 323,-432.5\"/>\n<text text-anchor=\"middle\" x=\"261.5\" y=\"-417.3\" font-family=\"Helvetica,sans-Serif\" font-size=\"14.00\">LoyalCH &lt;= 0.039</text>\n<text text-anchor=\"middle\" x=\"261.5\" y=\"-402.3\" font-family=\"Helvetica,sans-Serif\" font-size=\"14.00\">gini = 0.208</text>\n<text text-anchor=\"middle\" x=\"261.5\" y=\"-387.3\" font-family=\"Helvetica,sans-Serif\" font-size=\"14.00\">samples = 14.9%</text>\n<text text-anchor=\"middle\" x=\"261.5\" y=\"-372.3\" font-family=\"Helvetica,sans-Serif\" font-size=\"14.00\">value = [0.118, 0.882]</text>\n<text text-anchor=\"middle\" x=\"261.5\" y=\"-357.3\" font-family=\"Helvetica,sans-Serif\" font-size=\"14.00\">class = MM</text>\n</g>\n<!-- 4&#45;&gt;6 -->\n<g id=\"edge6\" class=\"edge\">\n<title>4&#45;&gt;6</title>\n<path fill=\"none\" stroke=\"black\" d=\"M261.5,-468.41C261.5,-460.15 261.5,-451.36 261.5,-442.8\"/>\n<polygon fill=\"black\" stroke=\"black\" points=\"265,-442.52 261.5,-432.52 258,-442.52 265,-442.52\"/>\n</g>\n<!-- 7 -->\n<g id=\"node8\" class=\"node\">\n<title>7</title>\n<path fill=\"#e58139\" stroke=\"black\" d=\"M240,-68C240,-68 147,-68 147,-68 141,-68 135,-62 135,-56 135,-56 135,-12 135,-12 135,-6 141,0 147,0 147,0 240,0 240,0 246,0 252,-6 252,-12 252,-12 252,-56 252,-56 252,-62 246,-68 240,-68\"/>\n<text text-anchor=\"middle\" x=\"193.5\" y=\"-52.8\" font-family=\"Helvetica,sans-Serif\" font-size=\"14.00\">gini = 0.0</text>\n<text text-anchor=\"middle\" x=\"193.5\" y=\"-37.8\" font-family=\"Helvetica,sans-Serif\" font-size=\"14.00\">samples = 0.1%</text>\n<text text-anchor=\"middle\" x=\"193.5\" y=\"-22.8\" font-family=\"Helvetica,sans-Serif\" font-size=\"14.00\">value = [1.0, 0.0]</text>\n<text text-anchor=\"middle\" x=\"193.5\" y=\"-7.8\" font-family=\"Helvetica,sans-Serif\" font-size=\"14.00\">class = CH</text>\n</g>\n<!-- 6&#45;&gt;7 -->\n<g id=\"edge7\" class=\"edge\">\n<title>6&#45;&gt;7</title>\n<path fill=\"none\" stroke=\"black\" d=\"M251.87,-349.06C247.59,-330.87 243.5,-313.5 243.5,-313.5 243.5,-313.5 215.27,-156.25 201.23,-78.07\"/>\n<polygon fill=\"black\" stroke=\"black\" points=\"204.64,-77.27 199.43,-68.04 197.75,-78.5 204.64,-77.27\"/>\n</g>\n<!-- 8 -->\n<g id=\"node9\" class=\"node\">\n<title>8</title>\n<path fill=\"#52a9e8\" stroke=\"black\" d=\"M392.5,-313.5C392.5,-313.5 264.5,-313.5 264.5,-313.5 258.5,-313.5 252.5,-307.5 252.5,-301.5 252.5,-301.5 252.5,-242.5 252.5,-242.5 252.5,-236.5 258.5,-230.5 264.5,-230.5 264.5,-230.5 392.5,-230.5 392.5,-230.5 398.5,-230.5 404.5,-236.5 404.5,-242.5 404.5,-242.5 404.5,-301.5 404.5,-301.5 404.5,-307.5 398.5,-313.5 392.5,-313.5\"/>\n<text text-anchor=\"middle\" x=\"328.5\" y=\"-298.3\" font-family=\"Helvetica,sans-Serif\" font-size=\"14.00\">SalePriceCH &lt;= 1.755</text>\n<text text-anchor=\"middle\" x=\"328.5\" y=\"-283.3\" font-family=\"Helvetica,sans-Serif\" font-size=\"14.00\">gini = 0.196</text>\n<text text-anchor=\"middle\" x=\"328.5\" y=\"-268.3\" font-family=\"Helvetica,sans-Serif\" font-size=\"14.00\">samples = 14.8%</text>\n<text text-anchor=\"middle\" x=\"328.5\" y=\"-253.3\" font-family=\"Helvetica,sans-Serif\" font-size=\"14.00\">value = [0.11, 0.89]</text>\n<text text-anchor=\"middle\" x=\"328.5\" y=\"-238.3\" font-family=\"Helvetica,sans-Serif\" font-size=\"14.00\">class = MM</text>\n</g>\n<!-- 6&#45;&gt;8 -->\n<g id=\"edge8\" class=\"edge\">\n<title>6&#45;&gt;8</title>\n<path fill=\"none\" stroke=\"black\" d=\"M284.75,-349.41C289.73,-340.7 295.06,-331.4 300.21,-322.39\"/>\n<polygon fill=\"black\" stroke=\"black\" points=\"303.36,-323.94 305.3,-313.52 297.29,-320.46 303.36,-323.94\"/>\n</g>\n<!-- 9 -->\n<g id=\"node10\" class=\"node\">\n<title>9</title>\n<path fill=\"#399de5\" stroke=\"black\" d=\"M375,-68C375,-68 282,-68 282,-68 276,-68 270,-62 270,-56 270,-56 270,-12 270,-12 270,-6 276,0 282,0 282,0 375,0 375,0 381,0 387,-6 387,-12 387,-12 387,-56 387,-56 387,-62 381,-68 375,-68\"/>\n<text text-anchor=\"middle\" x=\"328.5\" y=\"-52.8\" font-family=\"Helvetica,sans-Serif\" font-size=\"14.00\">gini = 0.0</text>\n<text text-anchor=\"middle\" x=\"328.5\" y=\"-37.8\" font-family=\"Helvetica,sans-Serif\" font-size=\"14.00\">samples = 4.0%</text>\n<text text-anchor=\"middle\" x=\"328.5\" y=\"-22.8\" font-family=\"Helvetica,sans-Serif\" font-size=\"14.00\">value = [0.0, 1.0]</text>\n<text text-anchor=\"middle\" x=\"328.5\" y=\"-7.8\" font-family=\"Helvetica,sans-Serif\" font-size=\"14.00\">class = MM</text>\n</g>\n<!-- 8&#45;&gt;9 -->\n<g id=\"edge9\" class=\"edge\">\n<title>8&#45;&gt;9</title>\n<path fill=\"none\" stroke=\"black\" d=\"M328.5,-230.43C328.5,-188.06 328.5,-121.85 328.5,-78.44\"/>\n<polygon fill=\"black\" stroke=\"black\" points=\"332,-78.19 328.5,-68.19 325,-78.19 332,-78.19\"/>\n</g>\n<!-- 10 -->\n<g id=\"node11\" class=\"node\">\n<title>10</title>\n<path fill=\"#5caeea\" stroke=\"black\" d=\"M540,-194.5C540,-194.5 417,-194.5 417,-194.5 411,-194.5 405,-188.5 405,-182.5 405,-182.5 405,-123.5 405,-123.5 405,-117.5 411,-111.5 417,-111.5 417,-111.5 540,-111.5 540,-111.5 546,-111.5 552,-117.5 552,-123.5 552,-123.5 552,-182.5 552,-182.5 552,-188.5 546,-194.5 540,-194.5\"/>\n<text text-anchor=\"middle\" x=\"478.5\" y=\"-179.3\" font-family=\"Helvetica,sans-Serif\" font-size=\"14.00\">DiscCH &lt;= 0.05</text>\n<text text-anchor=\"middle\" x=\"478.5\" y=\"-164.3\" font-family=\"Helvetica,sans-Serif\" font-size=\"14.00\">gini = 0.257</text>\n<text text-anchor=\"middle\" x=\"478.5\" y=\"-149.3\" font-family=\"Helvetica,sans-Serif\" font-size=\"14.00\">samples = 10.8%</text>\n<text text-anchor=\"middle\" x=\"478.5\" y=\"-134.3\" font-family=\"Helvetica,sans-Serif\" font-size=\"14.00\">value = [0.151, 0.849]</text>\n<text text-anchor=\"middle\" x=\"478.5\" y=\"-119.3\" font-family=\"Helvetica,sans-Serif\" font-size=\"14.00\">class = MM</text>\n</g>\n<!-- 8&#45;&gt;10 -->\n<g id=\"edge10\" class=\"edge\">\n<title>8&#45;&gt;10</title>\n<path fill=\"none\" stroke=\"black\" d=\"M380.54,-230.41C392.76,-220.88 405.87,-210.65 418.41,-200.87\"/>\n<polygon fill=\"black\" stroke=\"black\" points=\"420.82,-203.43 426.55,-194.52 416.51,-197.91 420.82,-203.43\"/>\n</g>\n<!-- 11 -->\n<g id=\"node12\" class=\"node\">\n<title>11</title>\n<path fill=\"#57ace9\" stroke=\"black\" d=\"M540,-68C540,-68 417,-68 417,-68 411,-68 405,-62 405,-56 405,-56 405,-12 405,-12 405,-6 411,0 417,0 417,0 540,0 540,0 546,0 552,-6 552,-12 552,-12 552,-56 552,-56 552,-62 546,-68 540,-68\"/>\n<text text-anchor=\"middle\" x=\"478.5\" y=\"-52.8\" font-family=\"Helvetica,sans-Serif\" font-size=\"14.00\">gini = 0.23</text>\n<text text-anchor=\"middle\" x=\"478.5\" y=\"-37.8\" font-family=\"Helvetica,sans-Serif\" font-size=\"14.00\">samples = 10.4%</text>\n<text text-anchor=\"middle\" x=\"478.5\" y=\"-22.8\" font-family=\"Helvetica,sans-Serif\" font-size=\"14.00\">value = [0.133, 0.867]</text>\n<text text-anchor=\"middle\" x=\"478.5\" y=\"-7.8\" font-family=\"Helvetica,sans-Serif\" font-size=\"14.00\">class = MM</text>\n</g>\n<!-- 10&#45;&gt;11 -->\n<g id=\"edge11\" class=\"edge\">\n<title>10&#45;&gt;11</title>\n<path fill=\"none\" stroke=\"black\" d=\"M478.5,-111.41C478.5,-100.7 478.5,-89.12 478.5,-78.28\"/>\n<polygon fill=\"black\" stroke=\"black\" points=\"482,-78.17 478.5,-68.17 475,-78.17 482,-78.17\"/>\n</g>\n<!-- 12 -->\n<g id=\"node13\" class=\"node\">\n<title>12</title>\n<path fill=\"#f2c09c\" stroke=\"black\" d=\"M705,-68C705,-68 582,-68 582,-68 576,-68 570,-62 570,-56 570,-56 570,-12 570,-12 570,-6 576,0 582,0 582,0 705,0 705,0 711,0 717,-6 717,-12 717,-12 717,-56 717,-56 717,-62 711,-68 705,-68\"/>\n<text text-anchor=\"middle\" x=\"643.5\" y=\"-52.8\" font-family=\"Helvetica,sans-Serif\" font-size=\"14.00\">gini = 0.444</text>\n<text text-anchor=\"middle\" x=\"643.5\" y=\"-37.8\" font-family=\"Helvetica,sans-Serif\" font-size=\"14.00\">samples = 0.4%</text>\n<text text-anchor=\"middle\" x=\"643.5\" y=\"-22.8\" font-family=\"Helvetica,sans-Serif\" font-size=\"14.00\">value = [0.667, 0.333]</text>\n<text text-anchor=\"middle\" x=\"643.5\" y=\"-7.8\" font-family=\"Helvetica,sans-Serif\" font-size=\"14.00\">class = CH</text>\n</g>\n<!-- 10&#45;&gt;12 -->\n<g id=\"edge12\" class=\"edge\">\n<title>10&#45;&gt;12</title>\n<path fill=\"none\" stroke=\"black\" d=\"M535.75,-111.41C552.86,-99.27 571.59,-85.99 588.55,-73.96\"/>\n<polygon fill=\"black\" stroke=\"black\" points=\"590.59,-76.81 596.73,-68.17 586.54,-71.1 590.59,-76.81\"/>\n</g>\n<!-- 14 -->\n<g id=\"node15\" class=\"node\">\n<title>14</title>\n<path fill=\"#74baed\" stroke=\"black\" d=\"M1057,-432.5C1057,-432.5 934,-432.5 934,-432.5 928,-432.5 922,-426.5 922,-420.5 922,-420.5 922,-361.5 922,-361.5 922,-355.5 928,-349.5 934,-349.5 934,-349.5 1057,-349.5 1057,-349.5 1063,-349.5 1069,-355.5 1069,-361.5 1069,-361.5 1069,-420.5 1069,-420.5 1069,-426.5 1063,-432.5 1057,-432.5\"/>\n<text text-anchor=\"middle\" x=\"995.5\" y=\"-417.3\" font-family=\"Helvetica,sans-Serif\" font-size=\"14.00\">LoyalCH &lt;= 0.437</text>\n<text text-anchor=\"middle\" x=\"995.5\" y=\"-402.3\" font-family=\"Helvetica,sans-Serif\" font-size=\"14.00\">gini = 0.355</text>\n<text text-anchor=\"middle\" x=\"995.5\" y=\"-387.3\" font-family=\"Helvetica,sans-Serif\" font-size=\"14.00\">samples = 1.6%</text>\n<text text-anchor=\"middle\" x=\"995.5\" y=\"-372.3\" font-family=\"Helvetica,sans-Serif\" font-size=\"14.00\">value = [0.231, 0.769]</text>\n<text text-anchor=\"middle\" x=\"995.5\" y=\"-357.3\" font-family=\"Helvetica,sans-Serif\" font-size=\"14.00\">class = MM</text>\n</g>\n<!-- 13&#45;&gt;14 -->\n<g id=\"edge14\" class=\"edge\">\n<title>13&#45;&gt;14</title>\n<path fill=\"none\" stroke=\"black\" d=\"M1127.42,-468.41C1110.34,-458.52 1091.96,-447.87 1074.49,-437.75\"/>\n<polygon fill=\"black\" stroke=\"black\" points=\"1075.87,-434.5 1065.46,-432.52 1072.36,-440.56 1075.87,-434.5\"/>\n</g>\n<!-- 21 -->\n<g id=\"node22\" class=\"node\">\n<title>21</title>\n<path fill=\"#e58139\" stroke=\"black\" d=\"M1380,-68C1380,-68 1287,-68 1287,-68 1281,-68 1275,-62 1275,-56 1275,-56 1275,-12 1275,-12 1275,-6 1281,0 1287,0 1287,0 1380,0 1380,0 1386,0 1392,-6 1392,-12 1392,-12 1392,-56 1392,-56 1392,-62 1386,-68 1380,-68\"/>\n<text text-anchor=\"middle\" x=\"1333.5\" y=\"-52.8\" font-family=\"Helvetica,sans-Serif\" font-size=\"14.00\">gini = 0.0</text>\n<text text-anchor=\"middle\" x=\"1333.5\" y=\"-37.8\" font-family=\"Helvetica,sans-Serif\" font-size=\"14.00\">samples = 0.2%</text>\n<text text-anchor=\"middle\" x=\"1333.5\" y=\"-22.8\" font-family=\"Helvetica,sans-Serif\" font-size=\"14.00\">value = [1.0, 0.0]</text>\n<text text-anchor=\"middle\" x=\"1333.5\" y=\"-7.8\" font-family=\"Helvetica,sans-Serif\" font-size=\"14.00\">class = CH</text>\n</g>\n<!-- 13&#45;&gt;21 -->\n<g id=\"edge21\" class=\"edge\">\n<title>13&#45;&gt;21</title>\n<path fill=\"none\" stroke=\"black\" d=\"M1209.21,-468.18C1234.74,-379.22 1295.17,-168.59 1321.21,-77.83\"/>\n<polygon fill=\"black\" stroke=\"black\" points=\"1324.6,-78.72 1323.99,-68.14 1317.87,-76.79 1324.6,-78.72\"/>\n</g>\n<!-- 15 -->\n<g id=\"node16\" class=\"node\">\n<title>15</title>\n<path fill=\"#e58139\" stroke=\"black\" d=\"M840,-68C840,-68 747,-68 747,-68 741,-68 735,-62 735,-56 735,-56 735,-12 735,-12 735,-6 741,0 747,0 747,0 840,0 840,0 846,0 852,-6 852,-12 852,-12 852,-56 852,-56 852,-62 846,-68 840,-68\"/>\n<text text-anchor=\"middle\" x=\"793.5\" y=\"-52.8\" font-family=\"Helvetica,sans-Serif\" font-size=\"14.00\">gini = 0.0</text>\n<text text-anchor=\"middle\" x=\"793.5\" y=\"-37.8\" font-family=\"Helvetica,sans-Serif\" font-size=\"14.00\">samples = 0.2%</text>\n<text text-anchor=\"middle\" x=\"793.5\" y=\"-22.8\" font-family=\"Helvetica,sans-Serif\" font-size=\"14.00\">value = [1.0, 0.0]</text>\n<text text-anchor=\"middle\" x=\"793.5\" y=\"-7.8\" font-family=\"Helvetica,sans-Serif\" font-size=\"14.00\">class = CH</text>\n</g>\n<!-- 14&#45;&gt;15 -->\n<g id=\"edge15\" class=\"edge\">\n<title>14&#45;&gt;15</title>\n<path fill=\"none\" stroke=\"black\" d=\"M950.55,-349.06C930.58,-330.87 911.5,-313.5 911.5,-313.5 911.5,-313.5 844.6,-155.61 811.55,-77.59\"/>\n<polygon fill=\"black\" stroke=\"black\" points=\"814.62,-75.88 807.5,-68.04 808.18,-78.61 814.62,-75.88\"/>\n</g>\n<!-- 16 -->\n<g id=\"node17\" class=\"node\">\n<title>16</title>\n<path fill=\"#4da7e8\" stroke=\"black\" d=\"M1058,-313.5C1058,-313.5 933,-313.5 933,-313.5 927,-313.5 921,-307.5 921,-301.5 921,-301.5 921,-242.5 921,-242.5 921,-236.5 927,-230.5 933,-230.5 933,-230.5 1058,-230.5 1058,-230.5 1064,-230.5 1070,-236.5 1070,-242.5 1070,-242.5 1070,-301.5 1070,-301.5 1070,-307.5 1064,-313.5 1058,-313.5\"/>\n<text text-anchor=\"middle\" x=\"995.5\" y=\"-298.3\" font-family=\"Helvetica,sans-Serif\" font-size=\"14.00\">SalePriceMM &lt;= 1.89</text>\n<text text-anchor=\"middle\" x=\"995.5\" y=\"-283.3\" font-family=\"Helvetica,sans-Serif\" font-size=\"14.00\">gini = 0.165</text>\n<text text-anchor=\"middle\" x=\"995.5\" y=\"-268.3\" font-family=\"Helvetica,sans-Serif\" font-size=\"14.00\">samples = 1.4%</text>\n<text text-anchor=\"middle\" x=\"995.5\" y=\"-253.3\" font-family=\"Helvetica,sans-Serif\" font-size=\"14.00\">value = [0.091, 0.909]</text>\n<text text-anchor=\"middle\" x=\"995.5\" y=\"-238.3\" font-family=\"Helvetica,sans-Serif\" font-size=\"14.00\">class = MM</text>\n</g>\n<!-- 14&#45;&gt;16 -->\n<g id=\"edge16\" class=\"edge\">\n<title>14&#45;&gt;16</title>\n<path fill=\"none\" stroke=\"black\" d=\"M995.5,-349.41C995.5,-341.15 995.5,-332.36 995.5,-323.8\"/>\n<polygon fill=\"black\" stroke=\"black\" points=\"999,-323.52 995.5,-313.52 992,-323.52 999,-323.52\"/>\n</g>\n<!-- 17 -->\n<g id=\"node18\" class=\"node\">\n<title>17</title>\n<path fill=\"#399de5\" stroke=\"black\" d=\"M975,-68C975,-68 882,-68 882,-68 876,-68 870,-62 870,-56 870,-56 870,-12 870,-12 870,-6 876,0 882,0 882,0 975,0 975,0 981,0 987,-6 987,-12 987,-12 987,-56 987,-56 987,-62 981,-68 975,-68\"/>\n<text text-anchor=\"middle\" x=\"928.5\" y=\"-52.8\" font-family=\"Helvetica,sans-Serif\" font-size=\"14.00\">gini = 0.0</text>\n<text text-anchor=\"middle\" x=\"928.5\" y=\"-37.8\" font-family=\"Helvetica,sans-Serif\" font-size=\"14.00\">samples = 0.9%</text>\n<text text-anchor=\"middle\" x=\"928.5\" y=\"-22.8\" font-family=\"Helvetica,sans-Serif\" font-size=\"14.00\">value = [0.0, 1.0]</text>\n<text text-anchor=\"middle\" x=\"928.5\" y=\"-7.8\" font-family=\"Helvetica,sans-Serif\" font-size=\"14.00\">class = MM</text>\n</g>\n<!-- 16&#45;&gt;17 -->\n<g id=\"edge17\" class=\"edge\">\n<title>16&#45;&gt;17</title>\n<path fill=\"none\" stroke=\"black\" d=\"M983.98,-230.43C971.9,-187.88 953,-121.29 940.68,-77.89\"/>\n<polygon fill=\"black\" stroke=\"black\" points=\"944.02,-76.86 937.92,-68.19 937.29,-78.77 944.02,-76.86\"/>\n</g>\n<!-- 18 -->\n<g id=\"node19\" class=\"node\">\n<title>18</title>\n<path fill=\"#7bbeee\" stroke=\"black\" d=\"M1117.5,-194.5C1117.5,-194.5 1009.5,-194.5 1009.5,-194.5 1003.5,-194.5 997.5,-188.5 997.5,-182.5 997.5,-182.5 997.5,-123.5 997.5,-123.5 997.5,-117.5 1003.5,-111.5 1009.5,-111.5 1009.5,-111.5 1117.5,-111.5 1117.5,-111.5 1123.5,-111.5 1129.5,-117.5 1129.5,-123.5 1129.5,-123.5 1129.5,-182.5 1129.5,-182.5 1129.5,-188.5 1123.5,-194.5 1117.5,-194.5\"/>\n<text text-anchor=\"middle\" x=\"1063.5\" y=\"-179.3\" font-family=\"Helvetica,sans-Serif\" font-size=\"14.00\">StoreID &lt;= 1.5</text>\n<text text-anchor=\"middle\" x=\"1063.5\" y=\"-164.3\" font-family=\"Helvetica,sans-Serif\" font-size=\"14.00\">gini = 0.375</text>\n<text text-anchor=\"middle\" x=\"1063.5\" y=\"-149.3\" font-family=\"Helvetica,sans-Serif\" font-size=\"14.00\">samples = 0.5%</text>\n<text text-anchor=\"middle\" x=\"1063.5\" y=\"-134.3\" font-family=\"Helvetica,sans-Serif\" font-size=\"14.00\">value = [0.25, 0.75]</text>\n<text text-anchor=\"middle\" x=\"1063.5\" y=\"-119.3\" font-family=\"Helvetica,sans-Serif\" font-size=\"14.00\">class = MM</text>\n</g>\n<!-- 16&#45;&gt;18 -->\n<g id=\"edge18\" class=\"edge\">\n<title>16&#45;&gt;18</title>\n<path fill=\"none\" stroke=\"black\" d=\"M1019.09,-230.41C1024.16,-221.7 1029.56,-212.4 1034.79,-203.39\"/>\n<polygon fill=\"black\" stroke=\"black\" points=\"1037.95,-204.93 1039.95,-194.52 1031.9,-201.41 1037.95,-204.93\"/>\n</g>\n<!-- 19 -->\n<g id=\"node20\" class=\"node\">\n<title>19</title>\n<path fill=\"#ffffff\" stroke=\"black\" d=\"M1110,-68C1110,-68 1017,-68 1017,-68 1011,-68 1005,-62 1005,-56 1005,-56 1005,-12 1005,-12 1005,-6 1011,0 1017,0 1017,0 1110,0 1110,0 1116,0 1122,-6 1122,-12 1122,-12 1122,-56 1122,-56 1122,-62 1116,-68 1110,-68\"/>\n<text text-anchor=\"middle\" x=\"1063.5\" y=\"-52.8\" font-family=\"Helvetica,sans-Serif\" font-size=\"14.00\">gini = 0.5</text>\n<text text-anchor=\"middle\" x=\"1063.5\" y=\"-37.8\" font-family=\"Helvetica,sans-Serif\" font-size=\"14.00\">samples = 0.2%</text>\n<text text-anchor=\"middle\" x=\"1063.5\" y=\"-22.8\" font-family=\"Helvetica,sans-Serif\" font-size=\"14.00\">value = [0.5, 0.5]</text>\n<text text-anchor=\"middle\" x=\"1063.5\" y=\"-7.8\" font-family=\"Helvetica,sans-Serif\" font-size=\"14.00\">class = CH</text>\n</g>\n<!-- 18&#45;&gt;19 -->\n<g id=\"edge19\" class=\"edge\">\n<title>18&#45;&gt;19</title>\n<path fill=\"none\" stroke=\"black\" d=\"M1063.5,-111.41C1063.5,-100.7 1063.5,-89.12 1063.5,-78.28\"/>\n<polygon fill=\"black\" stroke=\"black\" points=\"1067,-78.17 1063.5,-68.17 1060,-78.17 1067,-78.17\"/>\n</g>\n<!-- 20 -->\n<g id=\"node21\" class=\"node\">\n<title>20</title>\n<path fill=\"#399de5\" stroke=\"black\" d=\"M1245,-68C1245,-68 1152,-68 1152,-68 1146,-68 1140,-62 1140,-56 1140,-56 1140,-12 1140,-12 1140,-6 1146,0 1152,0 1152,0 1245,0 1245,0 1251,0 1257,-6 1257,-12 1257,-12 1257,-56 1257,-56 1257,-62 1251,-68 1245,-68\"/>\n<text text-anchor=\"middle\" x=\"1198.5\" y=\"-52.8\" font-family=\"Helvetica,sans-Serif\" font-size=\"14.00\">gini = 0.0</text>\n<text text-anchor=\"middle\" x=\"1198.5\" y=\"-37.8\" font-family=\"Helvetica,sans-Serif\" font-size=\"14.00\">samples = 0.2%</text>\n<text text-anchor=\"middle\" x=\"1198.5\" y=\"-22.8\" font-family=\"Helvetica,sans-Serif\" font-size=\"14.00\">value = [0.0, 1.0]</text>\n<text text-anchor=\"middle\" x=\"1198.5\" y=\"-7.8\" font-family=\"Helvetica,sans-Serif\" font-size=\"14.00\">class = MM</text>\n</g>\n<!-- 18&#45;&gt;20 -->\n<g id=\"edge20\" class=\"edge\">\n<title>18&#45;&gt;20</title>\n<path fill=\"none\" stroke=\"black\" d=\"M1110.34,-111.41C1123.96,-99.6 1138.83,-86.72 1152.4,-74.95\"/>\n<polygon fill=\"black\" stroke=\"black\" points=\"1154.97,-77.36 1160.23,-68.17 1150.38,-72.07 1154.97,-77.36\"/>\n</g>\n<!-- 23 -->\n<g id=\"node24\" class=\"node\">\n<title>23</title>\n<path fill=\"#eca06a\" stroke=\"black\" d=\"M1920.5,-551.5C1920.5,-551.5 1826.5,-551.5 1826.5,-551.5 1820.5,-551.5 1814.5,-545.5 1814.5,-539.5 1814.5,-539.5 1814.5,-480.5 1814.5,-480.5 1814.5,-474.5 1820.5,-468.5 1826.5,-468.5 1826.5,-468.5 1920.5,-468.5 1920.5,-468.5 1926.5,-468.5 1932.5,-474.5 1932.5,-480.5 1932.5,-480.5 1932.5,-539.5 1932.5,-539.5 1932.5,-545.5 1926.5,-551.5 1920.5,-551.5\"/>\n<text text-anchor=\"middle\" x=\"1873.5\" y=\"-536.3\" font-family=\"Helvetica,sans-Serif\" font-size=\"14.00\">PriceDiff &lt;= 0.25</text>\n<text text-anchor=\"middle\" x=\"1873.5\" y=\"-521.3\" font-family=\"Helvetica,sans-Serif\" font-size=\"14.00\">gini = 0.32</text>\n<text text-anchor=\"middle\" x=\"1873.5\" y=\"-506.3\" font-family=\"Helvetica,sans-Serif\" font-size=\"14.00\">samples = 1.2%</text>\n<text text-anchor=\"middle\" x=\"1873.5\" y=\"-491.3\" font-family=\"Helvetica,sans-Serif\" font-size=\"14.00\">value = [0.8, 0.2]</text>\n<text text-anchor=\"middle\" x=\"1873.5\" y=\"-476.3\" font-family=\"Helvetica,sans-Serif\" font-size=\"14.00\">class = CH</text>\n</g>\n<!-- 22&#45;&gt;23 -->\n<g id=\"edge23\" class=\"edge\">\n<title>22&#45;&gt;23</title>\n<path fill=\"none\" stroke=\"black\" d=\"M2018,-588.55C1993.34,-575.32 1965.95,-560.62 1941.72,-547.61\"/>\n<polygon fill=\"black\" stroke=\"black\" points=\"1943.06,-544.36 1932.59,-542.71 1939.75,-550.53 1943.06,-544.36\"/>\n</g>\n<!-- 30 -->\n<g id=\"node31\" class=\"node\">\n<title>30</title>\n<path fill=\"#72b9ec\" stroke=\"black\" d=\"M2438,-551.5C2438,-551.5 2315,-551.5 2315,-551.5 2309,-551.5 2303,-545.5 2303,-539.5 2303,-539.5 2303,-480.5 2303,-480.5 2303,-474.5 2309,-468.5 2315,-468.5 2315,-468.5 2438,-468.5 2438,-468.5 2444,-468.5 2450,-474.5 2450,-480.5 2450,-480.5 2450,-539.5 2450,-539.5 2450,-545.5 2444,-551.5 2438,-551.5\"/>\n<text text-anchor=\"middle\" x=\"2376.5\" y=\"-536.3\" font-family=\"Helvetica,sans-Serif\" font-size=\"14.00\">PriceDiff &lt;= 0.05</text>\n<text text-anchor=\"middle\" x=\"2376.5\" y=\"-521.3\" font-family=\"Helvetica,sans-Serif\" font-size=\"14.00\">gini = 0.346</text>\n<text text-anchor=\"middle\" x=\"2376.5\" y=\"-506.3\" font-family=\"Helvetica,sans-Serif\" font-size=\"14.00\">samples = 5.6%</text>\n<text text-anchor=\"middle\" x=\"2376.5\" y=\"-491.3\" font-family=\"Helvetica,sans-Serif\" font-size=\"14.00\">value = [0.222, 0.778]</text>\n<text text-anchor=\"middle\" x=\"2376.5\" y=\"-476.3\" font-family=\"Helvetica,sans-Serif\" font-size=\"14.00\">class = MM</text>\n</g>\n<!-- 22&#45;&gt;30 -->\n<g id=\"edge30\" class=\"edge\">\n<title>22&#45;&gt;30</title>\n<path fill=\"none\" stroke=\"black\" d=\"M2165.27,-597.72C2204.44,-581.64 2252.72,-561.82 2293.23,-545.18\"/>\n<polygon fill=\"black\" stroke=\"black\" points=\"2294.63,-548.39 2302.55,-541.36 2291.97,-541.92 2294.63,-548.39\"/>\n</g>\n<!-- 24 -->\n<g id=\"node25\" class=\"node\">\n<title>24</title>\n<path fill=\"#e89152\" stroke=\"black\" d=\"M1733,-432.5C1733,-432.5 1610,-432.5 1610,-432.5 1604,-432.5 1598,-426.5 1598,-420.5 1598,-420.5 1598,-361.5 1598,-361.5 1598,-355.5 1604,-349.5 1610,-349.5 1610,-349.5 1733,-349.5 1733,-349.5 1739,-349.5 1745,-355.5 1745,-361.5 1745,-361.5 1745,-420.5 1745,-420.5 1745,-426.5 1739,-432.5 1733,-432.5\"/>\n<text text-anchor=\"middle\" x=\"1671.5\" y=\"-417.3\" font-family=\"Helvetica,sans-Serif\" font-size=\"14.00\">DiscCH &lt;= 0.235</text>\n<text text-anchor=\"middle\" x=\"1671.5\" y=\"-402.3\" font-family=\"Helvetica,sans-Serif\" font-size=\"14.00\">gini = 0.198</text>\n<text text-anchor=\"middle\" x=\"1671.5\" y=\"-387.3\" font-family=\"Helvetica,sans-Serif\" font-size=\"14.00\">samples = 1.1%</text>\n<text text-anchor=\"middle\" x=\"1671.5\" y=\"-372.3\" font-family=\"Helvetica,sans-Serif\" font-size=\"14.00\">value = [0.889, 0.111]</text>\n<text text-anchor=\"middle\" x=\"1671.5\" y=\"-357.3\" font-family=\"Helvetica,sans-Serif\" font-size=\"14.00\">class = CH</text>\n</g>\n<!-- 23&#45;&gt;24 -->\n<g id=\"edge24\" class=\"edge\">\n<title>23&#45;&gt;24</title>\n<path fill=\"none\" stroke=\"black\" d=\"M1814.26,-474.69C1794.2,-463.07 1771.48,-449.91 1750.16,-437.56\"/>\n<polygon fill=\"black\" stroke=\"black\" points=\"1751.85,-434.49 1741.44,-432.51 1748.34,-440.55 1751.85,-434.49\"/>\n</g>\n<!-- 29 -->\n<g id=\"node30\" class=\"node\">\n<title>29</title>\n<path fill=\"#399de5\" stroke=\"black\" d=\"M1920,-68C1920,-68 1827,-68 1827,-68 1821,-68 1815,-62 1815,-56 1815,-56 1815,-12 1815,-12 1815,-6 1821,0 1827,0 1827,0 1920,0 1920,0 1926,0 1932,-6 1932,-12 1932,-12 1932,-56 1932,-56 1932,-62 1926,-68 1920,-68\"/>\n<text text-anchor=\"middle\" x=\"1873.5\" y=\"-52.8\" font-family=\"Helvetica,sans-Serif\" font-size=\"14.00\">gini = 0.0</text>\n<text text-anchor=\"middle\" x=\"1873.5\" y=\"-37.8\" font-family=\"Helvetica,sans-Serif\" font-size=\"14.00\">samples = 0.1%</text>\n<text text-anchor=\"middle\" x=\"1873.5\" y=\"-22.8\" font-family=\"Helvetica,sans-Serif\" font-size=\"14.00\">value = [0.0, 1.0]</text>\n<text text-anchor=\"middle\" x=\"1873.5\" y=\"-7.8\" font-family=\"Helvetica,sans-Serif\" font-size=\"14.00\">class = MM</text>\n</g>\n<!-- 23&#45;&gt;29 -->\n<g id=\"edge29\" class=\"edge\">\n<title>23&#45;&gt;29</title>\n<path fill=\"none\" stroke=\"black\" d=\"M1873.5,-468.18C1873.5,-379.4 1873.5,-169.45 1873.5,-78.39\"/>\n<polygon fill=\"black\" stroke=\"black\" points=\"1877,-78.14 1873.5,-68.14 1870,-78.14 1877,-78.14\"/>\n</g>\n<!-- 25 -->\n<g id=\"node26\" class=\"node\">\n<title>25</title>\n<path fill=\"#e58139\" stroke=\"black\" d=\"M1515,-68C1515,-68 1422,-68 1422,-68 1416,-68 1410,-62 1410,-56 1410,-56 1410,-12 1410,-12 1410,-6 1416,0 1422,0 1422,0 1515,0 1515,0 1521,0 1527,-6 1527,-12 1527,-12 1527,-56 1527,-56 1527,-62 1521,-68 1515,-68\"/>\n<text text-anchor=\"middle\" x=\"1468.5\" y=\"-52.8\" font-family=\"Helvetica,sans-Serif\" font-size=\"14.00\">gini = 0.0</text>\n<text text-anchor=\"middle\" x=\"1468.5\" y=\"-37.8\" font-family=\"Helvetica,sans-Serif\" font-size=\"14.00\">samples = 0.8%</text>\n<text text-anchor=\"middle\" x=\"1468.5\" y=\"-22.8\" font-family=\"Helvetica,sans-Serif\" font-size=\"14.00\">value = [1.0, 0.0]</text>\n<text text-anchor=\"middle\" x=\"1468.5\" y=\"-7.8\" font-family=\"Helvetica,sans-Serif\" font-size=\"14.00\">class = CH</text>\n</g>\n<!-- 24&#45;&gt;25 -->\n<g id=\"edge25\" class=\"edge\">\n<title>24&#45;&gt;25</title>\n<path fill=\"none\" stroke=\"black\" d=\"M1627.08,-349.06C1607.35,-330.87 1588.5,-313.5 1588.5,-313.5 1588.5,-313.5 1520.47,-155.61 1486.85,-77.59\"/>\n<polygon fill=\"black\" stroke=\"black\" points=\"1489.91,-75.84 1482.74,-68.04 1483.48,-78.61 1489.91,-75.84\"/>\n</g>\n<!-- 26 -->\n<g id=\"node27\" class=\"node\">\n<title>26</title>\n<path fill=\"#f2c09c\" stroke=\"black\" d=\"M1733,-313.5C1733,-313.5 1610,-313.5 1610,-313.5 1604,-313.5 1598,-307.5 1598,-301.5 1598,-301.5 1598,-242.5 1598,-242.5 1598,-236.5 1604,-230.5 1610,-230.5 1610,-230.5 1733,-230.5 1733,-230.5 1739,-230.5 1745,-236.5 1745,-242.5 1745,-242.5 1745,-301.5 1745,-301.5 1745,-307.5 1739,-313.5 1733,-313.5\"/>\n<text text-anchor=\"middle\" x=\"1671.5\" y=\"-298.3\" font-family=\"Helvetica,sans-Serif\" font-size=\"14.00\">LoyalCH &lt;= 0.267</text>\n<text text-anchor=\"middle\" x=\"1671.5\" y=\"-283.3\" font-family=\"Helvetica,sans-Serif\" font-size=\"14.00\">gini = 0.444</text>\n<text text-anchor=\"middle\" x=\"1671.5\" y=\"-268.3\" font-family=\"Helvetica,sans-Serif\" font-size=\"14.00\">samples = 0.4%</text>\n<text text-anchor=\"middle\" x=\"1671.5\" y=\"-253.3\" font-family=\"Helvetica,sans-Serif\" font-size=\"14.00\">value = [0.667, 0.333]</text>\n<text text-anchor=\"middle\" x=\"1671.5\" y=\"-238.3\" font-family=\"Helvetica,sans-Serif\" font-size=\"14.00\">class = CH</text>\n</g>\n<!-- 24&#45;&gt;26 -->\n<g id=\"edge26\" class=\"edge\">\n<title>24&#45;&gt;26</title>\n<path fill=\"none\" stroke=\"black\" d=\"M1671.5,-349.41C1671.5,-341.15 1671.5,-332.36 1671.5,-323.8\"/>\n<polygon fill=\"black\" stroke=\"black\" points=\"1675,-323.52 1671.5,-313.52 1668,-323.52 1675,-323.52\"/>\n</g>\n<!-- 27 -->\n<g id=\"node28\" class=\"node\">\n<title>27</title>\n<path fill=\"#399de5\" stroke=\"black\" d=\"M1650,-68C1650,-68 1557,-68 1557,-68 1551,-68 1545,-62 1545,-56 1545,-56 1545,-12 1545,-12 1545,-6 1551,0 1557,0 1557,0 1650,0 1650,0 1656,0 1662,-6 1662,-12 1662,-12 1662,-56 1662,-56 1662,-62 1656,-68 1650,-68\"/>\n<text text-anchor=\"middle\" x=\"1603.5\" y=\"-52.8\" font-family=\"Helvetica,sans-Serif\" font-size=\"14.00\">gini = 0.0</text>\n<text text-anchor=\"middle\" x=\"1603.5\" y=\"-37.8\" font-family=\"Helvetica,sans-Serif\" font-size=\"14.00\">samples = 0.1%</text>\n<text text-anchor=\"middle\" x=\"1603.5\" y=\"-22.8\" font-family=\"Helvetica,sans-Serif\" font-size=\"14.00\">value = [0.0, 1.0]</text>\n<text text-anchor=\"middle\" x=\"1603.5\" y=\"-7.8\" font-family=\"Helvetica,sans-Serif\" font-size=\"14.00\">class = MM</text>\n</g>\n<!-- 26&#45;&gt;27 -->\n<g id=\"edge27\" class=\"edge\">\n<title>26&#45;&gt;27</title>\n<path fill=\"none\" stroke=\"black\" d=\"M1659.81,-230.43C1647.55,-187.88 1628.36,-121.29 1615.86,-77.89\"/>\n<polygon fill=\"black\" stroke=\"black\" points=\"1619.2,-76.83 1613.06,-68.19 1612.47,-78.77 1619.2,-76.83\"/>\n</g>\n<!-- 28 -->\n<g id=\"node29\" class=\"node\">\n<title>28</title>\n<path fill=\"#e58139\" stroke=\"black\" d=\"M1785,-68C1785,-68 1692,-68 1692,-68 1686,-68 1680,-62 1680,-56 1680,-56 1680,-12 1680,-12 1680,-6 1686,0 1692,0 1692,0 1785,0 1785,0 1791,0 1797,-6 1797,-12 1797,-12 1797,-56 1797,-56 1797,-62 1791,-68 1785,-68\"/>\n<text text-anchor=\"middle\" x=\"1738.5\" y=\"-52.8\" font-family=\"Helvetica,sans-Serif\" font-size=\"14.00\">gini = 0.0</text>\n<text text-anchor=\"middle\" x=\"1738.5\" y=\"-37.8\" font-family=\"Helvetica,sans-Serif\" font-size=\"14.00\">samples = 0.2%</text>\n<text text-anchor=\"middle\" x=\"1738.5\" y=\"-22.8\" font-family=\"Helvetica,sans-Serif\" font-size=\"14.00\">value = [1.0, 0.0]</text>\n<text text-anchor=\"middle\" x=\"1738.5\" y=\"-7.8\" font-family=\"Helvetica,sans-Serif\" font-size=\"14.00\">class = CH</text>\n</g>\n<!-- 26&#45;&gt;28 -->\n<g id=\"edge28\" class=\"edge\">\n<title>26&#45;&gt;28</title>\n<path fill=\"none\" stroke=\"black\" d=\"M1683.02,-230.43C1695.1,-187.88 1714,-121.29 1726.32,-77.89\"/>\n<polygon fill=\"black\" stroke=\"black\" points=\"1729.71,-78.77 1729.08,-68.19 1722.98,-76.86 1729.71,-78.77\"/>\n</g>\n<!-- 31 -->\n<g id=\"node32\" class=\"node\">\n<title>31</title>\n<path fill=\"#4fa8e8\" stroke=\"black\" d=\"M2423,-432.5C2423,-432.5 2330,-432.5 2330,-432.5 2324,-432.5 2318,-426.5 2318,-420.5 2318,-420.5 2318,-361.5 2318,-361.5 2318,-355.5 2324,-349.5 2330,-349.5 2330,-349.5 2423,-349.5 2423,-349.5 2429,-349.5 2435,-355.5 2435,-361.5 2435,-361.5 2435,-420.5 2435,-420.5 2435,-426.5 2429,-432.5 2423,-432.5\"/>\n<text text-anchor=\"middle\" x=\"2376.5\" y=\"-417.3\" font-family=\"Helvetica,sans-Serif\" font-size=\"14.00\">DiscCH &lt;= 0.05</text>\n<text text-anchor=\"middle\" x=\"2376.5\" y=\"-402.3\" font-family=\"Helvetica,sans-Serif\" font-size=\"14.00\">gini = 0.18</text>\n<text text-anchor=\"middle\" x=\"2376.5\" y=\"-387.3\" font-family=\"Helvetica,sans-Serif\" font-size=\"14.00\">samples = 3.8%</text>\n<text text-anchor=\"middle\" x=\"2376.5\" y=\"-372.3\" font-family=\"Helvetica,sans-Serif\" font-size=\"14.00\">value = [0.1, 0.9]</text>\n<text text-anchor=\"middle\" x=\"2376.5\" y=\"-357.3\" font-family=\"Helvetica,sans-Serif\" font-size=\"14.00\">class = MM</text>\n</g>\n<!-- 30&#45;&gt;31 -->\n<g id=\"edge31\" class=\"edge\">\n<title>30&#45;&gt;31</title>\n<path fill=\"none\" stroke=\"black\" d=\"M2376.5,-468.41C2376.5,-460.15 2376.5,-451.36 2376.5,-442.8\"/>\n<polygon fill=\"black\" stroke=\"black\" points=\"2380,-442.52 2376.5,-432.52 2373,-442.52 2380,-442.52\"/>\n</g>\n<!-- 38 -->\n<g id=\"node39\" class=\"node\">\n<title>38</title>\n<path fill=\"#e6f3fc\" stroke=\"black\" d=\"M2714,-432.5C2714,-432.5 2561,-432.5 2561,-432.5 2555,-432.5 2549,-426.5 2549,-420.5 2549,-420.5 2549,-361.5 2549,-361.5 2549,-355.5 2555,-349.5 2561,-349.5 2561,-349.5 2714,-349.5 2714,-349.5 2720,-349.5 2726,-355.5 2726,-361.5 2726,-361.5 2726,-420.5 2726,-420.5 2726,-426.5 2720,-432.5 2714,-432.5\"/>\n<text text-anchor=\"middle\" x=\"2637.5\" y=\"-417.3\" font-family=\"Helvetica,sans-Serif\" font-size=\"14.00\">WeekofPurchase &lt;= 248.0</text>\n<text text-anchor=\"middle\" x=\"2637.5\" y=\"-402.3\" font-family=\"Helvetica,sans-Serif\" font-size=\"14.00\">gini = 0.498</text>\n<text text-anchor=\"middle\" x=\"2637.5\" y=\"-387.3\" font-family=\"Helvetica,sans-Serif\" font-size=\"14.00\">samples = 1.9%</text>\n<text text-anchor=\"middle\" x=\"2637.5\" y=\"-372.3\" font-family=\"Helvetica,sans-Serif\" font-size=\"14.00\">value = [0.467, 0.533]</text>\n<text text-anchor=\"middle\" x=\"2637.5\" y=\"-357.3\" font-family=\"Helvetica,sans-Serif\" font-size=\"14.00\">class = MM</text>\n</g>\n<!-- 30&#45;&gt;38 -->\n<g id=\"edge38\" class=\"edge\">\n<title>30&#45;&gt;38</title>\n<path fill=\"none\" stroke=\"black\" d=\"M2450.25,-475.94C2477.86,-463.56 2509.68,-449.3 2539.17,-436.08\"/>\n<polygon fill=\"black\" stroke=\"black\" points=\"2540.96,-439.11 2548.65,-431.83 2538.09,-432.73 2540.96,-439.11\"/>\n</g>\n<!-- 32 -->\n<g id=\"node33\" class=\"node\">\n<title>32</title>\n<path fill=\"#48a4e7\" stroke=\"black\" d=\"M2385,-313.5C2385,-313.5 2232,-313.5 2232,-313.5 2226,-313.5 2220,-307.5 2220,-301.5 2220,-301.5 2220,-242.5 2220,-242.5 2220,-236.5 2226,-230.5 2232,-230.5 2232,-230.5 2385,-230.5 2385,-230.5 2391,-230.5 2397,-236.5 2397,-242.5 2397,-242.5 2397,-301.5 2397,-301.5 2397,-307.5 2391,-313.5 2385,-313.5\"/>\n<text text-anchor=\"middle\" x=\"2308.5\" y=\"-298.3\" font-family=\"Helvetica,sans-Serif\" font-size=\"14.00\">WeekofPurchase &lt;= 235.5</text>\n<text text-anchor=\"middle\" x=\"2308.5\" y=\"-283.3\" font-family=\"Helvetica,sans-Serif\" font-size=\"14.00\">gini = 0.128</text>\n<text text-anchor=\"middle\" x=\"2308.5\" y=\"-268.3\" font-family=\"Helvetica,sans-Serif\" font-size=\"14.00\">samples = 3.6%</text>\n<text text-anchor=\"middle\" x=\"2308.5\" y=\"-253.3\" font-family=\"Helvetica,sans-Serif\" font-size=\"14.00\">value = [0.069, 0.931]</text>\n<text text-anchor=\"middle\" x=\"2308.5\" y=\"-238.3\" font-family=\"Helvetica,sans-Serif\" font-size=\"14.00\">class = MM</text>\n</g>\n<!-- 31&#45;&gt;32 -->\n<g id=\"edge32\" class=\"edge\">\n<title>31&#45;&gt;32</title>\n<path fill=\"none\" stroke=\"black\" d=\"M2352.91,-349.41C2347.84,-340.7 2342.44,-331.4 2337.21,-322.39\"/>\n<polygon fill=\"black\" stroke=\"black\" points=\"2340.1,-320.41 2332.05,-313.52 2334.05,-323.93 2340.1,-320.41\"/>\n</g>\n<!-- 37 -->\n<g id=\"node38\" class=\"node\">\n<title>37</title>\n<path fill=\"#e58139\" stroke=\"black\" d=\"M2490,-68C2490,-68 2397,-68 2397,-68 2391,-68 2385,-62 2385,-56 2385,-56 2385,-12 2385,-12 2385,-6 2391,0 2397,0 2397,0 2490,0 2490,0 2496,0 2502,-6 2502,-12 2502,-12 2502,-56 2502,-56 2502,-62 2496,-68 2490,-68\"/>\n<text text-anchor=\"middle\" x=\"2443.5\" y=\"-52.8\" font-family=\"Helvetica,sans-Serif\" font-size=\"14.00\">gini = 0.0</text>\n<text text-anchor=\"middle\" x=\"2443.5\" y=\"-37.8\" font-family=\"Helvetica,sans-Serif\" font-size=\"14.00\">samples = 0.1%</text>\n<text text-anchor=\"middle\" x=\"2443.5\" y=\"-22.8\" font-family=\"Helvetica,sans-Serif\" font-size=\"14.00\">value = [1.0, 0.0]</text>\n<text text-anchor=\"middle\" x=\"2443.5\" y=\"-7.8\" font-family=\"Helvetica,sans-Serif\" font-size=\"14.00\">class = CH</text>\n</g>\n<!-- 31&#45;&gt;37 -->\n<g id=\"edge37\" class=\"edge\">\n<title>31&#45;&gt;37</title>\n<path fill=\"none\" stroke=\"black\" d=\"M2392.02,-349.06C2398.91,-330.87 2405.5,-313.5 2405.5,-313.5 2405.5,-313.5 2426.96,-156.25 2437.62,-78.07\"/>\n<polygon fill=\"black\" stroke=\"black\" points=\"2441.11,-78.42 2438.99,-68.04 2434.17,-77.48 2441.11,-78.42\"/>\n</g>\n<!-- 33 -->\n<g id=\"node34\" class=\"node\">\n<title>33</title>\n<path fill=\"#72b9ec\" stroke=\"black\" d=\"M2220,-194.5C2220,-194.5 2097,-194.5 2097,-194.5 2091,-194.5 2085,-188.5 2085,-182.5 2085,-182.5 2085,-123.5 2085,-123.5 2085,-117.5 2091,-111.5 2097,-111.5 2097,-111.5 2220,-111.5 2220,-111.5 2226,-111.5 2232,-117.5 2232,-123.5 2232,-123.5 2232,-182.5 2232,-182.5 2232,-188.5 2226,-194.5 2220,-194.5\"/>\n<text text-anchor=\"middle\" x=\"2158.5\" y=\"-179.3\" font-family=\"Helvetica,sans-Serif\" font-size=\"14.00\">LoyalCH &lt;= 0.145</text>\n<text text-anchor=\"middle\" x=\"2158.5\" y=\"-164.3\" font-family=\"Helvetica,sans-Serif\" font-size=\"14.00\">gini = 0.346</text>\n<text text-anchor=\"middle\" x=\"2158.5\" y=\"-149.3\" font-family=\"Helvetica,sans-Serif\" font-size=\"14.00\">samples = 1.1%</text>\n<text text-anchor=\"middle\" x=\"2158.5\" y=\"-134.3\" font-family=\"Helvetica,sans-Serif\" font-size=\"14.00\">value = [0.222, 0.778]</text>\n<text text-anchor=\"middle\" x=\"2158.5\" y=\"-119.3\" font-family=\"Helvetica,sans-Serif\" font-size=\"14.00\">class = MM</text>\n</g>\n<!-- 32&#45;&gt;33 -->\n<g id=\"edge33\" class=\"edge\">\n<title>32&#45;&gt;33</title>\n<path fill=\"none\" stroke=\"black\" d=\"M2256.46,-230.41C2244.24,-220.88 2231.13,-210.65 2218.59,-200.87\"/>\n<polygon fill=\"black\" stroke=\"black\" points=\"2220.49,-197.91 2210.45,-194.52 2216.18,-203.43 2220.49,-197.91\"/>\n</g>\n<!-- 36 -->\n<g id=\"node37\" class=\"node\">\n<title>36</title>\n<path fill=\"#399de5\" stroke=\"black\" d=\"M2355,-68C2355,-68 2262,-68 2262,-68 2256,-68 2250,-62 2250,-56 2250,-56 2250,-12 2250,-12 2250,-6 2256,0 2262,0 2262,0 2355,0 2355,0 2361,0 2367,-6 2367,-12 2367,-12 2367,-56 2367,-56 2367,-62 2361,-68 2355,-68\"/>\n<text text-anchor=\"middle\" x=\"2308.5\" y=\"-52.8\" font-family=\"Helvetica,sans-Serif\" font-size=\"14.00\">gini = 0.0</text>\n<text text-anchor=\"middle\" x=\"2308.5\" y=\"-37.8\" font-family=\"Helvetica,sans-Serif\" font-size=\"14.00\">samples = 2.5%</text>\n<text text-anchor=\"middle\" x=\"2308.5\" y=\"-22.8\" font-family=\"Helvetica,sans-Serif\" font-size=\"14.00\">value = [0.0, 1.0]</text>\n<text text-anchor=\"middle\" x=\"2308.5\" y=\"-7.8\" font-family=\"Helvetica,sans-Serif\" font-size=\"14.00\">class = MM</text>\n</g>\n<!-- 32&#45;&gt;36 -->\n<g id=\"edge36\" class=\"edge\">\n<title>32&#45;&gt;36</title>\n<path fill=\"none\" stroke=\"black\" d=\"M2308.5,-230.43C2308.5,-188.06 2308.5,-121.85 2308.5,-78.44\"/>\n<polygon fill=\"black\" stroke=\"black\" points=\"2312,-78.19 2308.5,-68.19 2305,-78.19 2312,-78.19\"/>\n</g>\n<!-- 34 -->\n<g id=\"node35\" class=\"node\">\n<title>34</title>\n<path fill=\"#e58139\" stroke=\"black\" d=\"M2055,-68C2055,-68 1962,-68 1962,-68 1956,-68 1950,-62 1950,-56 1950,-56 1950,-12 1950,-12 1950,-6 1956,0 1962,0 1962,0 2055,0 2055,0 2061,0 2067,-6 2067,-12 2067,-12 2067,-56 2067,-56 2067,-62 2061,-68 2055,-68\"/>\n<text text-anchor=\"middle\" x=\"2008.5\" y=\"-52.8\" font-family=\"Helvetica,sans-Serif\" font-size=\"14.00\">gini = 0.0</text>\n<text text-anchor=\"middle\" x=\"2008.5\" y=\"-37.8\" font-family=\"Helvetica,sans-Serif\" font-size=\"14.00\">samples = 0.1%</text>\n<text text-anchor=\"middle\" x=\"2008.5\" y=\"-22.8\" font-family=\"Helvetica,sans-Serif\" font-size=\"14.00\">value = [1.0, 0.0]</text>\n<text text-anchor=\"middle\" x=\"2008.5\" y=\"-7.8\" font-family=\"Helvetica,sans-Serif\" font-size=\"14.00\">class = CH</text>\n</g>\n<!-- 33&#45;&gt;34 -->\n<g id=\"edge34\" class=\"edge\">\n<title>33&#45;&gt;34</title>\n<path fill=\"none\" stroke=\"black\" d=\"M2106.46,-111.41C2091.18,-99.49 2074.49,-86.48 2059.29,-74.62\"/>\n<polygon fill=\"black\" stroke=\"black\" points=\"2061.06,-71.56 2051.02,-68.17 2056.75,-77.08 2061.06,-71.56\"/>\n</g>\n<!-- 35 -->\n<g id=\"node36\" class=\"node\">\n<title>35</title>\n<path fill=\"#55abe9\" stroke=\"black\" d=\"M2220,-68C2220,-68 2097,-68 2097,-68 2091,-68 2085,-62 2085,-56 2085,-56 2085,-12 2085,-12 2085,-6 2091,0 2097,0 2097,0 2220,0 2220,0 2226,0 2232,-6 2232,-12 2232,-12 2232,-56 2232,-56 2232,-62 2226,-68 2220,-68\"/>\n<text text-anchor=\"middle\" x=\"2158.5\" y=\"-52.8\" font-family=\"Helvetica,sans-Serif\" font-size=\"14.00\">gini = 0.219</text>\n<text text-anchor=\"middle\" x=\"2158.5\" y=\"-37.8\" font-family=\"Helvetica,sans-Serif\" font-size=\"14.00\">samples = 1.0%</text>\n<text text-anchor=\"middle\" x=\"2158.5\" y=\"-22.8\" font-family=\"Helvetica,sans-Serif\" font-size=\"14.00\">value = [0.125, 0.875]</text>\n<text text-anchor=\"middle\" x=\"2158.5\" y=\"-7.8\" font-family=\"Helvetica,sans-Serif\" font-size=\"14.00\">class = MM</text>\n</g>\n<!-- 33&#45;&gt;35 -->\n<g id=\"edge35\" class=\"edge\">\n<title>33&#45;&gt;35</title>\n<path fill=\"none\" stroke=\"black\" d=\"M2158.5,-111.41C2158.5,-100.7 2158.5,-89.12 2158.5,-78.28\"/>\n<polygon fill=\"black\" stroke=\"black\" points=\"2162,-78.17 2158.5,-68.17 2155,-78.17 2162,-78.17\"/>\n</g>\n<!-- 39 -->\n<g id=\"node40\" class=\"node\">\n<title>39</title>\n<path fill=\"#61b1ea\" stroke=\"black\" d=\"M2701.5,-313.5C2701.5,-313.5 2573.5,-313.5 2573.5,-313.5 2567.5,-313.5 2561.5,-307.5 2561.5,-301.5 2561.5,-301.5 2561.5,-242.5 2561.5,-242.5 2561.5,-236.5 2567.5,-230.5 2573.5,-230.5 2573.5,-230.5 2701.5,-230.5 2701.5,-230.5 2707.5,-230.5 2713.5,-236.5 2713.5,-242.5 2713.5,-242.5 2713.5,-301.5 2713.5,-301.5 2713.5,-307.5 2707.5,-313.5 2701.5,-313.5\"/>\n<text text-anchor=\"middle\" x=\"2637.5\" y=\"-298.3\" font-family=\"Helvetica,sans-Serif\" font-size=\"14.00\">SalePriceCH &lt;= 1.825</text>\n<text text-anchor=\"middle\" x=\"2637.5\" y=\"-283.3\" font-family=\"Helvetica,sans-Serif\" font-size=\"14.00\">gini = 0.278</text>\n<text text-anchor=\"middle\" x=\"2637.5\" y=\"-268.3\" font-family=\"Helvetica,sans-Serif\" font-size=\"14.00\">samples = 0.8%</text>\n<text text-anchor=\"middle\" x=\"2637.5\" y=\"-253.3\" font-family=\"Helvetica,sans-Serif\" font-size=\"14.00\">value = [0.167, 0.833]</text>\n<text text-anchor=\"middle\" x=\"2637.5\" y=\"-238.3\" font-family=\"Helvetica,sans-Serif\" font-size=\"14.00\">class = MM</text>\n</g>\n<!-- 38&#45;&gt;39 -->\n<g id=\"edge39\" class=\"edge\">\n<title>38&#45;&gt;39</title>\n<path fill=\"none\" stroke=\"black\" d=\"M2637.5,-349.41C2637.5,-341.15 2637.5,-332.36 2637.5,-323.8\"/>\n<polygon fill=\"black\" stroke=\"black\" points=\"2641,-323.52 2637.5,-313.52 2634,-323.52 2641,-323.52\"/>\n</g>\n<!-- 42 -->\n<g id=\"node43\" class=\"node\">\n<title>42</title>\n<path fill=\"#f2c09c\" stroke=\"black\" d=\"M2925,-313.5C2925,-313.5 2772,-313.5 2772,-313.5 2766,-313.5 2760,-307.5 2760,-301.5 2760,-301.5 2760,-242.5 2760,-242.5 2760,-236.5 2766,-230.5 2772,-230.5 2772,-230.5 2925,-230.5 2925,-230.5 2931,-230.5 2937,-236.5 2937,-242.5 2937,-242.5 2937,-301.5 2937,-301.5 2937,-307.5 2931,-313.5 2925,-313.5\"/>\n<text text-anchor=\"middle\" x=\"2848.5\" y=\"-298.3\" font-family=\"Helvetica,sans-Serif\" font-size=\"14.00\">WeekofPurchase &lt;= 266.0</text>\n<text text-anchor=\"middle\" x=\"2848.5\" y=\"-283.3\" font-family=\"Helvetica,sans-Serif\" font-size=\"14.00\">gini = 0.444</text>\n<text text-anchor=\"middle\" x=\"2848.5\" y=\"-268.3\" font-family=\"Helvetica,sans-Serif\" font-size=\"14.00\">samples = 1.1%</text>\n<text text-anchor=\"middle\" x=\"2848.5\" y=\"-253.3\" font-family=\"Helvetica,sans-Serif\" font-size=\"14.00\">value = [0.667, 0.333]</text>\n<text text-anchor=\"middle\" x=\"2848.5\" y=\"-238.3\" font-family=\"Helvetica,sans-Serif\" font-size=\"14.00\">class = CH</text>\n</g>\n<!-- 38&#45;&gt;42 -->\n<g id=\"edge42\" class=\"edge\">\n<title>38&#45;&gt;42</title>\n<path fill=\"none\" stroke=\"black\" d=\"M2710.71,-349.41C2728.71,-339.42 2748.1,-328.67 2766.49,-318.48\"/>\n<polygon fill=\"black\" stroke=\"black\" points=\"2768.38,-321.43 2775.42,-313.52 2764.98,-315.31 2768.38,-321.43\"/>\n</g>\n<!-- 40 -->\n<g id=\"node41\" class=\"node\">\n<title>40</title>\n<path fill=\"#e58139\" stroke=\"black\" d=\"M2625,-68C2625,-68 2532,-68 2532,-68 2526,-68 2520,-62 2520,-56 2520,-56 2520,-12 2520,-12 2520,-6 2526,0 2532,0 2532,0 2625,0 2625,0 2631,0 2637,-6 2637,-12 2637,-12 2637,-56 2637,-56 2637,-62 2631,-68 2625,-68\"/>\n<text text-anchor=\"middle\" x=\"2578.5\" y=\"-52.8\" font-family=\"Helvetica,sans-Serif\" font-size=\"14.00\">gini = 0.0</text>\n<text text-anchor=\"middle\" x=\"2578.5\" y=\"-37.8\" font-family=\"Helvetica,sans-Serif\" font-size=\"14.00\">samples = 0.1%</text>\n<text text-anchor=\"middle\" x=\"2578.5\" y=\"-22.8\" font-family=\"Helvetica,sans-Serif\" font-size=\"14.00\">value = [1.0, 0.0]</text>\n<text text-anchor=\"middle\" x=\"2578.5\" y=\"-7.8\" font-family=\"Helvetica,sans-Serif\" font-size=\"14.00\">class = CH</text>\n</g>\n<!-- 39&#45;&gt;40 -->\n<g id=\"edge40\" class=\"edge\">\n<title>39&#45;&gt;40</title>\n<path fill=\"none\" stroke=\"black\" d=\"M2627.36,-230.43C2616.74,-187.97 2600.14,-121.57 2589.29,-78.16\"/>\n<polygon fill=\"black\" stroke=\"black\" points=\"2592.62,-77.04 2586.8,-68.19 2585.83,-78.74 2592.62,-77.04\"/>\n</g>\n<!-- 41 -->\n<g id=\"node42\" class=\"node\">\n<title>41</title>\n<path fill=\"#399de5\" stroke=\"black\" d=\"M2760,-68C2760,-68 2667,-68 2667,-68 2661,-68 2655,-62 2655,-56 2655,-56 2655,-12 2655,-12 2655,-6 2661,0 2667,0 2667,0 2760,0 2760,0 2766,0 2772,-6 2772,-12 2772,-12 2772,-56 2772,-56 2772,-62 2766,-68 2760,-68\"/>\n<text text-anchor=\"middle\" x=\"2713.5\" y=\"-52.8\" font-family=\"Helvetica,sans-Serif\" font-size=\"14.00\">gini = 0.0</text>\n<text text-anchor=\"middle\" x=\"2713.5\" y=\"-37.8\" font-family=\"Helvetica,sans-Serif\" font-size=\"14.00\">samples = 0.6%</text>\n<text text-anchor=\"middle\" x=\"2713.5\" y=\"-22.8\" font-family=\"Helvetica,sans-Serif\" font-size=\"14.00\">value = [0.0, 1.0]</text>\n<text text-anchor=\"middle\" x=\"2713.5\" y=\"-7.8\" font-family=\"Helvetica,sans-Serif\" font-size=\"14.00\">class = MM</text>\n</g>\n<!-- 39&#45;&gt;41 -->\n<g id=\"edge41\" class=\"edge\">\n<title>39&#45;&gt;41</title>\n<path fill=\"none\" stroke=\"black\" d=\"M2650.56,-230.43C2664.27,-187.88 2685.71,-121.29 2699.69,-77.89\"/>\n<polygon fill=\"black\" stroke=\"black\" points=\"2703.08,-78.78 2702.81,-68.19 2696.41,-76.64 2703.08,-78.78\"/>\n</g>\n<!-- 43 -->\n<g id=\"node44\" class=\"node\">\n<title>43</title>\n<path fill=\"#e58139\" stroke=\"black\" d=\"M2895,-68C2895,-68 2802,-68 2802,-68 2796,-68 2790,-62 2790,-56 2790,-56 2790,-12 2790,-12 2790,-6 2796,0 2802,0 2802,0 2895,0 2895,0 2901,0 2907,-6 2907,-12 2907,-12 2907,-56 2907,-56 2907,-62 2901,-68 2895,-68\"/>\n<text text-anchor=\"middle\" x=\"2848.5\" y=\"-52.8\" font-family=\"Helvetica,sans-Serif\" font-size=\"14.00\">gini = 0.0</text>\n<text text-anchor=\"middle\" x=\"2848.5\" y=\"-37.8\" font-family=\"Helvetica,sans-Serif\" font-size=\"14.00\">samples = 0.5%</text>\n<text text-anchor=\"middle\" x=\"2848.5\" y=\"-22.8\" font-family=\"Helvetica,sans-Serif\" font-size=\"14.00\">value = [1.0, 0.0]</text>\n<text text-anchor=\"middle\" x=\"2848.5\" y=\"-7.8\" font-family=\"Helvetica,sans-Serif\" font-size=\"14.00\">class = CH</text>\n</g>\n<!-- 42&#45;&gt;43 -->\n<g id=\"edge43\" class=\"edge\">\n<title>42&#45;&gt;43</title>\n<path fill=\"none\" stroke=\"black\" d=\"M2848.5,-230.43C2848.5,-188.06 2848.5,-121.85 2848.5,-78.44\"/>\n<polygon fill=\"black\" stroke=\"black\" points=\"2852,-78.19 2848.5,-68.19 2845,-78.19 2852,-78.19\"/>\n</g>\n<!-- 44 -->\n<g id=\"node45\" class=\"node\">\n<title>44</title>\n<path fill=\"#bddef6\" stroke=\"black\" d=\"M3034.5,-194.5C3034.5,-194.5 2932.5,-194.5 2932.5,-194.5 2926.5,-194.5 2920.5,-188.5 2920.5,-182.5 2920.5,-182.5 2920.5,-123.5 2920.5,-123.5 2920.5,-117.5 2926.5,-111.5 2932.5,-111.5 2932.5,-111.5 3034.5,-111.5 3034.5,-111.5 3040.5,-111.5 3046.5,-117.5 3046.5,-123.5 3046.5,-123.5 3046.5,-182.5 3046.5,-182.5 3046.5,-188.5 3040.5,-194.5 3034.5,-194.5\"/>\n<text text-anchor=\"middle\" x=\"2983.5\" y=\"-179.3\" font-family=\"Helvetica,sans-Serif\" font-size=\"14.00\">LoyalCH &lt;= 0.371</text>\n<text text-anchor=\"middle\" x=\"2983.5\" y=\"-164.3\" font-family=\"Helvetica,sans-Serif\" font-size=\"14.00\">gini = 0.48</text>\n<text text-anchor=\"middle\" x=\"2983.5\" y=\"-149.3\" font-family=\"Helvetica,sans-Serif\" font-size=\"14.00\">samples = 0.6%</text>\n<text text-anchor=\"middle\" x=\"2983.5\" y=\"-134.3\" font-family=\"Helvetica,sans-Serif\" font-size=\"14.00\">value = [0.4, 0.6]</text>\n<text text-anchor=\"middle\" x=\"2983.5\" y=\"-119.3\" font-family=\"Helvetica,sans-Serif\" font-size=\"14.00\">class = MM</text>\n</g>\n<!-- 42&#45;&gt;44 -->\n<g id=\"edge44\" class=\"edge\">\n<title>42&#45;&gt;44</title>\n<path fill=\"none\" stroke=\"black\" d=\"M2895.34,-230.41C2906.23,-220.97 2917.91,-210.84 2929.1,-201.15\"/>\n<polygon fill=\"black\" stroke=\"black\" points=\"2931.48,-203.72 2936.75,-194.52 2926.9,-198.43 2931.48,-203.72\"/>\n</g>\n<!-- 45 -->\n<g id=\"node46\" class=\"node\">\n<title>45</title>\n<path fill=\"#399de5\" stroke=\"black\" d=\"M3030,-68C3030,-68 2937,-68 2937,-68 2931,-68 2925,-62 2925,-56 2925,-56 2925,-12 2925,-12 2925,-6 2931,0 2937,0 2937,0 3030,0 3030,0 3036,0 3042,-6 3042,-12 3042,-12 3042,-56 3042,-56 3042,-62 3036,-68 3030,-68\"/>\n<text text-anchor=\"middle\" x=\"2983.5\" y=\"-52.8\" font-family=\"Helvetica,sans-Serif\" font-size=\"14.00\">gini = 0.0</text>\n<text text-anchor=\"middle\" x=\"2983.5\" y=\"-37.8\" font-family=\"Helvetica,sans-Serif\" font-size=\"14.00\">samples = 0.2%</text>\n<text text-anchor=\"middle\" x=\"2983.5\" y=\"-22.8\" font-family=\"Helvetica,sans-Serif\" font-size=\"14.00\">value = [0.0, 1.0]</text>\n<text text-anchor=\"middle\" x=\"2983.5\" y=\"-7.8\" font-family=\"Helvetica,sans-Serif\" font-size=\"14.00\">class = MM</text>\n</g>\n<!-- 44&#45;&gt;45 -->\n<g id=\"edge45\" class=\"edge\">\n<title>44&#45;&gt;45</title>\n<path fill=\"none\" stroke=\"black\" d=\"M2983.5,-111.41C2983.5,-100.7 2983.5,-89.12 2983.5,-78.28\"/>\n<polygon fill=\"black\" stroke=\"black\" points=\"2987,-78.17 2983.5,-68.17 2980,-78.17 2987,-78.17\"/>\n</g>\n<!-- 46 -->\n<g id=\"node47\" class=\"node\">\n<title>46</title>\n<path fill=\"#f2c09c\" stroke=\"black\" d=\"M3195,-68C3195,-68 3072,-68 3072,-68 3066,-68 3060,-62 3060,-56 3060,-56 3060,-12 3060,-12 3060,-6 3066,0 3072,0 3072,0 3195,0 3195,0 3201,0 3207,-6 3207,-12 3207,-12 3207,-56 3207,-56 3207,-62 3201,-68 3195,-68\"/>\n<text text-anchor=\"middle\" x=\"3133.5\" y=\"-52.8\" font-family=\"Helvetica,sans-Serif\" font-size=\"14.00\">gini = 0.444</text>\n<text text-anchor=\"middle\" x=\"3133.5\" y=\"-37.8\" font-family=\"Helvetica,sans-Serif\" font-size=\"14.00\">samples = 0.4%</text>\n<text text-anchor=\"middle\" x=\"3133.5\" y=\"-22.8\" font-family=\"Helvetica,sans-Serif\" font-size=\"14.00\">value = [0.667, 0.333]</text>\n<text text-anchor=\"middle\" x=\"3133.5\" y=\"-7.8\" font-family=\"Helvetica,sans-Serif\" font-size=\"14.00\">class = CH</text>\n</g>\n<!-- 44&#45;&gt;46 -->\n<g id=\"edge46\" class=\"edge\">\n<title>44&#45;&gt;46</title>\n<path fill=\"none\" stroke=\"black\" d=\"M3035.54,-111.41C3050.82,-99.49 3067.51,-86.48 3082.71,-74.62\"/>\n<polygon fill=\"black\" stroke=\"black\" points=\"3085.25,-77.08 3090.98,-68.17 3080.94,-71.56 3085.25,-77.08\"/>\n</g>\n<!-- 48 -->\n<g id=\"node49\" class=\"node\">\n<title>48</title>\n<path fill=\"#57ace9\" stroke=\"black\" d=\"M3855,-670.5C3855,-670.5 3702,-670.5 3702,-670.5 3696,-670.5 3690,-664.5 3690,-658.5 3690,-658.5 3690,-599.5 3690,-599.5 3690,-593.5 3696,-587.5 3702,-587.5 3702,-587.5 3855,-587.5 3855,-587.5 3861,-587.5 3867,-593.5 3867,-599.5 3867,-599.5 3867,-658.5 3867,-658.5 3867,-664.5 3861,-670.5 3855,-670.5\"/>\n<text text-anchor=\"middle\" x=\"3778.5\" y=\"-655.3\" font-family=\"Helvetica,sans-Serif\" font-size=\"14.00\">WeekofPurchase &lt;= 266.5</text>\n<text text-anchor=\"middle\" x=\"3778.5\" y=\"-640.3\" font-family=\"Helvetica,sans-Serif\" font-size=\"14.00\">gini = 0.227</text>\n<text text-anchor=\"middle\" x=\"3778.5\" y=\"-625.3\" font-family=\"Helvetica,sans-Serif\" font-size=\"14.00\">samples = 2.9%</text>\n<text text-anchor=\"middle\" x=\"3778.5\" y=\"-610.3\" font-family=\"Helvetica,sans-Serif\" font-size=\"14.00\">value = [0.13, 0.87]</text>\n<text text-anchor=\"middle\" x=\"3778.5\" y=\"-595.3\" font-family=\"Helvetica,sans-Serif\" font-size=\"14.00\">class = MM</text>\n</g>\n<!-- 47&#45;&gt;48 -->\n<g id=\"edge48\" class=\"edge\">\n<title>47&#45;&gt;48</title>\n<path fill=\"none\" stroke=\"black\" d=\"M3881.03,-706.41C3868.12,-696.79 3854.25,-686.45 3841.02,-676.59\"/>\n<polygon fill=\"black\" stroke=\"black\" points=\"3842.98,-673.69 3832.87,-670.52 3838.8,-679.3 3842.98,-673.69\"/>\n</g>\n<!-- 57 -->\n<g id=\"node58\" class=\"node\">\n<title>57</title>\n<path fill=\"#f6d5bd\" stroke=\"black\" d=\"M4073,-670.5C4073,-670.5 3980,-670.5 3980,-670.5 3974,-670.5 3968,-664.5 3968,-658.5 3968,-658.5 3968,-599.5 3968,-599.5 3968,-593.5 3974,-587.5 3980,-587.5 3980,-587.5 4073,-587.5 4073,-587.5 4079,-587.5 4085,-593.5 4085,-599.5 4085,-599.5 4085,-658.5 4085,-658.5 4085,-664.5 4079,-670.5 4073,-670.5\"/>\n<text text-anchor=\"middle\" x=\"4026.5\" y=\"-655.3\" font-family=\"Helvetica,sans-Serif\" font-size=\"14.00\">STORE &lt;= 1.5</text>\n<text text-anchor=\"middle\" x=\"4026.5\" y=\"-640.3\" font-family=\"Helvetica,sans-Serif\" font-size=\"14.00\">gini = 0.48</text>\n<text text-anchor=\"middle\" x=\"4026.5\" y=\"-625.3\" font-family=\"Helvetica,sans-Serif\" font-size=\"14.00\">samples = 5.0%</text>\n<text text-anchor=\"middle\" x=\"4026.5\" y=\"-610.3\" font-family=\"Helvetica,sans-Serif\" font-size=\"14.00\">value = [0.6, 0.4]</text>\n<text text-anchor=\"middle\" x=\"4026.5\" y=\"-595.3\" font-family=\"Helvetica,sans-Serif\" font-size=\"14.00\">class = CH</text>\n</g>\n<!-- 47&#45;&gt;57 -->\n<g id=\"edge57\" class=\"edge\">\n<title>47&#45;&gt;57</title>\n<path fill=\"none\" stroke=\"black\" d=\"M3967.07,-706.41C3974.06,-697.42 3981.53,-687.82 3988.74,-678.55\"/>\n<polygon fill=\"black\" stroke=\"black\" points=\"3991.61,-680.56 3994.98,-670.52 3986.08,-676.27 3991.61,-680.56\"/>\n</g>\n<!-- 49 -->\n<g id=\"node50\" class=\"node\">\n<title>49</title>\n<path fill=\"#45a3e7\" stroke=\"black\" d=\"M3615,-551.5C3615,-551.5 3492,-551.5 3492,-551.5 3486,-551.5 3480,-545.5 3480,-539.5 3480,-539.5 3480,-480.5 3480,-480.5 3480,-474.5 3486,-468.5 3492,-468.5 3492,-468.5 3615,-468.5 3615,-468.5 3621,-468.5 3627,-474.5 3627,-480.5 3627,-480.5 3627,-539.5 3627,-539.5 3627,-545.5 3621,-551.5 3615,-551.5\"/>\n<text text-anchor=\"middle\" x=\"3553.5\" y=\"-536.3\" font-family=\"Helvetica,sans-Serif\" font-size=\"14.00\">ListPriceDiff &lt;= 0.215</text>\n<text text-anchor=\"middle\" x=\"3553.5\" y=\"-521.3\" font-family=\"Helvetica,sans-Serif\" font-size=\"14.00\">gini = 0.105</text>\n<text text-anchor=\"middle\" x=\"3553.5\" y=\"-506.3\" font-family=\"Helvetica,sans-Serif\" font-size=\"14.00\">samples = 2.2%</text>\n<text text-anchor=\"middle\" x=\"3553.5\" y=\"-491.3\" font-family=\"Helvetica,sans-Serif\" font-size=\"14.00\">value = [0.056, 0.944]</text>\n<text text-anchor=\"middle\" x=\"3553.5\" y=\"-476.3\" font-family=\"Helvetica,sans-Serif\" font-size=\"14.00\">class = MM</text>\n</g>\n<!-- 48&#45;&gt;49 -->\n<g id=\"edge49\" class=\"edge\">\n<title>48&#45;&gt;49</title>\n<path fill=\"none\" stroke=\"black\" d=\"M3700.44,-587.41C3679.67,-576.61 3657.17,-564.91 3636.16,-553.98\"/>\n<polygon fill=\"black\" stroke=\"black\" points=\"3637.75,-550.86 3627.26,-549.36 3634.52,-557.08 3637.75,-550.86\"/>\n</g>\n<!-- 54 -->\n<g id=\"node55\" class=\"node\">\n<title>54</title>\n<path fill=\"#bddef6\" stroke=\"black\" d=\"M3855,-551.5C3855,-551.5 3702,-551.5 3702,-551.5 3696,-551.5 3690,-545.5 3690,-539.5 3690,-539.5 3690,-480.5 3690,-480.5 3690,-474.5 3696,-468.5 3702,-468.5 3702,-468.5 3855,-468.5 3855,-468.5 3861,-468.5 3867,-474.5 3867,-480.5 3867,-480.5 3867,-539.5 3867,-539.5 3867,-545.5 3861,-551.5 3855,-551.5\"/>\n<text text-anchor=\"middle\" x=\"3778.5\" y=\"-536.3\" font-family=\"Helvetica,sans-Serif\" font-size=\"14.00\">WeekofPurchase &lt;= 269.5</text>\n<text text-anchor=\"middle\" x=\"3778.5\" y=\"-521.3\" font-family=\"Helvetica,sans-Serif\" font-size=\"14.00\">gini = 0.48</text>\n<text text-anchor=\"middle\" x=\"3778.5\" y=\"-506.3\" font-family=\"Helvetica,sans-Serif\" font-size=\"14.00\">samples = 0.6%</text>\n<text text-anchor=\"middle\" x=\"3778.5\" y=\"-491.3\" font-family=\"Helvetica,sans-Serif\" font-size=\"14.00\">value = [0.4, 0.6]</text>\n<text text-anchor=\"middle\" x=\"3778.5\" y=\"-476.3\" font-family=\"Helvetica,sans-Serif\" font-size=\"14.00\">class = MM</text>\n</g>\n<!-- 48&#45;&gt;54 -->\n<g id=\"edge54\" class=\"edge\">\n<title>48&#45;&gt;54</title>\n<path fill=\"none\" stroke=\"black\" d=\"M3778.5,-587.41C3778.5,-579.15 3778.5,-570.36 3778.5,-561.8\"/>\n<polygon fill=\"black\" stroke=\"black\" points=\"3782,-561.52 3778.5,-551.52 3775,-561.52 3782,-561.52\"/>\n</g>\n<!-- 50 -->\n<g id=\"node51\" class=\"node\">\n<title>50</title>\n<path fill=\"#ffffff\" stroke=\"black\" d=\"M3495,-432.5C3495,-432.5 3342,-432.5 3342,-432.5 3336,-432.5 3330,-426.5 3330,-420.5 3330,-420.5 3330,-361.5 3330,-361.5 3330,-355.5 3336,-349.5 3342,-349.5 3342,-349.5 3495,-349.5 3495,-349.5 3501,-349.5 3507,-355.5 3507,-361.5 3507,-361.5 3507,-420.5 3507,-420.5 3507,-426.5 3501,-432.5 3495,-432.5\"/>\n<text text-anchor=\"middle\" x=\"3418.5\" y=\"-417.3\" font-family=\"Helvetica,sans-Serif\" font-size=\"14.00\">WeekofPurchase &lt;= 252.5</text>\n<text text-anchor=\"middle\" x=\"3418.5\" y=\"-402.3\" font-family=\"Helvetica,sans-Serif\" font-size=\"14.00\">gini = 0.5</text>\n<text text-anchor=\"middle\" x=\"3418.5\" y=\"-387.3\" font-family=\"Helvetica,sans-Serif\" font-size=\"14.00\">samples = 0.2%</text>\n<text text-anchor=\"middle\" x=\"3418.5\" y=\"-372.3\" font-family=\"Helvetica,sans-Serif\" font-size=\"14.00\">value = [0.5, 0.5]</text>\n<text text-anchor=\"middle\" x=\"3418.5\" y=\"-357.3\" font-family=\"Helvetica,sans-Serif\" font-size=\"14.00\">class = CH</text>\n</g>\n<!-- 49&#45;&gt;50 -->\n<g id=\"edge50\" class=\"edge\">\n<title>49&#45;&gt;50</title>\n<path fill=\"none\" stroke=\"black\" d=\"M3506.66,-468.41C3495.77,-458.97 3484.09,-448.84 3472.9,-439.15\"/>\n<polygon fill=\"black\" stroke=\"black\" points=\"3475.1,-436.43 3465.25,-432.52 3470.52,-441.72 3475.1,-436.43\"/>\n</g>\n<!-- 53 -->\n<g id=\"node54\" class=\"node\">\n<title>53</title>\n<path fill=\"#399de5\" stroke=\"black\" d=\"M3600,-68C3600,-68 3507,-68 3507,-68 3501,-68 3495,-62 3495,-56 3495,-56 3495,-12 3495,-12 3495,-6 3501,0 3507,0 3507,0 3600,0 3600,0 3606,0 3612,-6 3612,-12 3612,-12 3612,-56 3612,-56 3612,-62 3606,-68 3600,-68\"/>\n<text text-anchor=\"middle\" x=\"3553.5\" y=\"-52.8\" font-family=\"Helvetica,sans-Serif\" font-size=\"14.00\">gini = 0.0</text>\n<text text-anchor=\"middle\" x=\"3553.5\" y=\"-37.8\" font-family=\"Helvetica,sans-Serif\" font-size=\"14.00\">samples = 2.0%</text>\n<text text-anchor=\"middle\" x=\"3553.5\" y=\"-22.8\" font-family=\"Helvetica,sans-Serif\" font-size=\"14.00\">value = [0.0, 1.0]</text>\n<text text-anchor=\"middle\" x=\"3553.5\" y=\"-7.8\" font-family=\"Helvetica,sans-Serif\" font-size=\"14.00\">class = MM</text>\n</g>\n<!-- 49&#45;&gt;53 -->\n<g id=\"edge53\" class=\"edge\">\n<title>49&#45;&gt;53</title>\n<path fill=\"none\" stroke=\"black\" d=\"M3553.5,-468.18C3553.5,-379.4 3553.5,-169.45 3553.5,-78.39\"/>\n<polygon fill=\"black\" stroke=\"black\" points=\"3557,-78.14 3553.5,-68.14 3550,-78.14 3557,-78.14\"/>\n</g>\n<!-- 51 -->\n<g id=\"node52\" class=\"node\">\n<title>51</title>\n<path fill=\"#399de5\" stroke=\"black\" d=\"M3330,-68C3330,-68 3237,-68 3237,-68 3231,-68 3225,-62 3225,-56 3225,-56 3225,-12 3225,-12 3225,-6 3231,0 3237,0 3237,0 3330,0 3330,0 3336,0 3342,-6 3342,-12 3342,-12 3342,-56 3342,-56 3342,-62 3336,-68 3330,-68\"/>\n<text text-anchor=\"middle\" x=\"3283.5\" y=\"-52.8\" font-family=\"Helvetica,sans-Serif\" font-size=\"14.00\">gini = 0.0</text>\n<text text-anchor=\"middle\" x=\"3283.5\" y=\"-37.8\" font-family=\"Helvetica,sans-Serif\" font-size=\"14.00\">samples = 0.1%</text>\n<text text-anchor=\"middle\" x=\"3283.5\" y=\"-22.8\" font-family=\"Helvetica,sans-Serif\" font-size=\"14.00\">value = [0.0, 1.0]</text>\n<text text-anchor=\"middle\" x=\"3283.5\" y=\"-7.8\" font-family=\"Helvetica,sans-Serif\" font-size=\"14.00\">class = MM</text>\n</g>\n<!-- 50&#45;&gt;51 -->\n<g id=\"edge51\" class=\"edge\">\n<title>50&#45;&gt;51</title>\n<path fill=\"none\" stroke=\"black\" d=\"M3403.01,-349.28C3377.3,-281.67 3326.04,-146.87 3299.8,-77.87\"/>\n<polygon fill=\"black\" stroke=\"black\" points=\"3302.94,-76.28 3296.12,-68.18 3296.4,-78.77 3302.94,-76.28\"/>\n</g>\n<!-- 52 -->\n<g id=\"node53\" class=\"node\">\n<title>52</title>\n<path fill=\"#e58139\" stroke=\"black\" d=\"M3465,-68C3465,-68 3372,-68 3372,-68 3366,-68 3360,-62 3360,-56 3360,-56 3360,-12 3360,-12 3360,-6 3366,0 3372,0 3372,0 3465,0 3465,0 3471,0 3477,-6 3477,-12 3477,-12 3477,-56 3477,-56 3477,-62 3471,-68 3465,-68\"/>\n<text text-anchor=\"middle\" x=\"3418.5\" y=\"-52.8\" font-family=\"Helvetica,sans-Serif\" font-size=\"14.00\">gini = 0.0</text>\n<text text-anchor=\"middle\" x=\"3418.5\" y=\"-37.8\" font-family=\"Helvetica,sans-Serif\" font-size=\"14.00\">samples = 0.1%</text>\n<text text-anchor=\"middle\" x=\"3418.5\" y=\"-22.8\" font-family=\"Helvetica,sans-Serif\" font-size=\"14.00\">value = [1.0, 0.0]</text>\n<text text-anchor=\"middle\" x=\"3418.5\" y=\"-7.8\" font-family=\"Helvetica,sans-Serif\" font-size=\"14.00\">class = CH</text>\n</g>\n<!-- 50&#45;&gt;52 -->\n<g id=\"edge52\" class=\"edge\">\n<title>50&#45;&gt;52</title>\n<path fill=\"none\" stroke=\"black\" d=\"M3418.5,-349.28C3418.5,-281.8 3418.5,-147.42 3418.5,-78.29\"/>\n<polygon fill=\"black\" stroke=\"black\" points=\"3422,-78.18 3418.5,-68.18 3415,-78.18 3422,-78.18\"/>\n</g>\n<!-- 55 -->\n<g id=\"node56\" class=\"node\">\n<title>55</title>\n<path fill=\"#e58139\" stroke=\"black\" d=\"M3735,-68C3735,-68 3642,-68 3642,-68 3636,-68 3630,-62 3630,-56 3630,-56 3630,-12 3630,-12 3630,-6 3636,0 3642,0 3642,0 3735,0 3735,0 3741,0 3747,-6 3747,-12 3747,-12 3747,-56 3747,-56 3747,-62 3741,-68 3735,-68\"/>\n<text text-anchor=\"middle\" x=\"3688.5\" y=\"-52.8\" font-family=\"Helvetica,sans-Serif\" font-size=\"14.00\">gini = 0.0</text>\n<text text-anchor=\"middle\" x=\"3688.5\" y=\"-37.8\" font-family=\"Helvetica,sans-Serif\" font-size=\"14.00\">samples = 0.2%</text>\n<text text-anchor=\"middle\" x=\"3688.5\" y=\"-22.8\" font-family=\"Helvetica,sans-Serif\" font-size=\"14.00\">value = [1.0, 0.0]</text>\n<text text-anchor=\"middle\" x=\"3688.5\" y=\"-7.8\" font-family=\"Helvetica,sans-Serif\" font-size=\"14.00\">class = CH</text>\n</g>\n<!-- 54&#45;&gt;55 -->\n<g id=\"edge55\" class=\"edge\">\n<title>54&#45;&gt;55</title>\n<path fill=\"none\" stroke=\"black\" d=\"M3770.75,-468.18C3753.87,-379.31 3713.95,-169.02 3696.69,-78.11\"/>\n<polygon fill=\"black\" stroke=\"black\" points=\"3700.1,-77.32 3694.79,-68.14 3693.22,-78.62 3700.1,-77.32\"/>\n</g>\n<!-- 56 -->\n<g id=\"node57\" class=\"node\">\n<title>56</title>\n<path fill=\"#399de5\" stroke=\"black\" d=\"M3870,-68C3870,-68 3777,-68 3777,-68 3771,-68 3765,-62 3765,-56 3765,-56 3765,-12 3765,-12 3765,-6 3771,0 3777,0 3777,0 3870,0 3870,0 3876,0 3882,-6 3882,-12 3882,-12 3882,-56 3882,-56 3882,-62 3876,-68 3870,-68\"/>\n<text text-anchor=\"middle\" x=\"3823.5\" y=\"-52.8\" font-family=\"Helvetica,sans-Serif\" font-size=\"14.00\">gini = 0.0</text>\n<text text-anchor=\"middle\" x=\"3823.5\" y=\"-37.8\" font-family=\"Helvetica,sans-Serif\" font-size=\"14.00\">samples = 0.4%</text>\n<text text-anchor=\"middle\" x=\"3823.5\" y=\"-22.8\" font-family=\"Helvetica,sans-Serif\" font-size=\"14.00\">value = [0.0, 1.0]</text>\n<text text-anchor=\"middle\" x=\"3823.5\" y=\"-7.8\" font-family=\"Helvetica,sans-Serif\" font-size=\"14.00\">class = MM</text>\n</g>\n<!-- 54&#45;&gt;56 -->\n<g id=\"edge56\" class=\"edge\">\n<title>54&#45;&gt;56</title>\n<path fill=\"none\" stroke=\"black\" d=\"M3782.38,-468.18C3790.81,-379.31 3810.78,-169.02 3819.41,-78.11\"/>\n<polygon fill=\"black\" stroke=\"black\" points=\"3822.89,-78.43 3820.35,-68.14 3815.92,-77.77 3822.89,-78.43\"/>\n</g>\n<!-- 58 -->\n<g id=\"node59\" class=\"node\">\n<title>58</title>\n<path fill=\"#efb286\" stroke=\"black\" d=\"M4080.5,-551.5C4080.5,-551.5 3972.5,-551.5 3972.5,-551.5 3966.5,-551.5 3960.5,-545.5 3960.5,-539.5 3960.5,-539.5 3960.5,-480.5 3960.5,-480.5 3960.5,-474.5 3966.5,-468.5 3972.5,-468.5 3972.5,-468.5 4080.5,-468.5 4080.5,-468.5 4086.5,-468.5 4092.5,-474.5 4092.5,-480.5 4092.5,-480.5 4092.5,-539.5 4092.5,-539.5 4092.5,-545.5 4086.5,-551.5 4080.5,-551.5\"/>\n<text text-anchor=\"middle\" x=\"4026.5\" y=\"-536.3\" font-family=\"Helvetica,sans-Serif\" font-size=\"14.00\">LoyalCH &lt;= 0.357</text>\n<text text-anchor=\"middle\" x=\"4026.5\" y=\"-521.3\" font-family=\"Helvetica,sans-Serif\" font-size=\"14.00\">gini = 0.403</text>\n<text text-anchor=\"middle\" x=\"4026.5\" y=\"-506.3\" font-family=\"Helvetica,sans-Serif\" font-size=\"14.00\">samples = 3.1%</text>\n<text text-anchor=\"middle\" x=\"4026.5\" y=\"-491.3\" font-family=\"Helvetica,sans-Serif\" font-size=\"14.00\">value = [0.72, 0.28]</text>\n<text text-anchor=\"middle\" x=\"4026.5\" y=\"-476.3\" font-family=\"Helvetica,sans-Serif\" font-size=\"14.00\">class = CH</text>\n</g>\n<!-- 57&#45;&gt;58 -->\n<g id=\"edge58\" class=\"edge\">\n<title>57&#45;&gt;58</title>\n<path fill=\"none\" stroke=\"black\" d=\"M4026.5,-587.41C4026.5,-579.15 4026.5,-570.36 4026.5,-561.8\"/>\n<polygon fill=\"black\" stroke=\"black\" points=\"4030,-561.52 4026.5,-551.52 4023,-561.52 4030,-561.52\"/>\n</g>\n<!-- 67 -->\n<g id=\"node68\" class=\"node\">\n<title>67</title>\n<path fill=\"#bddef6\" stroke=\"black\" d=\"M4714.5,-551.5C4714.5,-551.5 4612.5,-551.5 4612.5,-551.5 4606.5,-551.5 4600.5,-545.5 4600.5,-539.5 4600.5,-539.5 4600.5,-480.5 4600.5,-480.5 4600.5,-474.5 4606.5,-468.5 4612.5,-468.5 4612.5,-468.5 4714.5,-468.5 4714.5,-468.5 4720.5,-468.5 4726.5,-474.5 4726.5,-480.5 4726.5,-480.5 4726.5,-539.5 4726.5,-539.5 4726.5,-545.5 4720.5,-551.5 4714.5,-551.5\"/>\n<text text-anchor=\"middle\" x=\"4663.5\" y=\"-536.3\" font-family=\"Helvetica,sans-Serif\" font-size=\"14.00\">LoyalCH &lt;= 0.203</text>\n<text text-anchor=\"middle\" x=\"4663.5\" y=\"-521.3\" font-family=\"Helvetica,sans-Serif\" font-size=\"14.00\">gini = 0.48</text>\n<text text-anchor=\"middle\" x=\"4663.5\" y=\"-506.3\" font-family=\"Helvetica,sans-Serif\" font-size=\"14.00\">samples = 1.9%</text>\n<text text-anchor=\"middle\" x=\"4663.5\" y=\"-491.3\" font-family=\"Helvetica,sans-Serif\" font-size=\"14.00\">value = [0.4, 0.6]</text>\n<text text-anchor=\"middle\" x=\"4663.5\" y=\"-476.3\" font-family=\"Helvetica,sans-Serif\" font-size=\"14.00\">class = MM</text>\n</g>\n<!-- 57&#45;&gt;67 -->\n<g id=\"edge67\" class=\"edge\">\n<title>57&#45;&gt;67</title>\n<path fill=\"none\" stroke=\"black\" d=\"M4085,-617.25C4201.49,-595.86 4462.19,-547.97 4590.01,-524.5\"/>\n<polygon fill=\"black\" stroke=\"black\" points=\"4590.89,-527.89 4600.1,-522.65 4589.63,-521.01 4590.89,-527.89\"/>\n</g>\n<!-- 59 -->\n<g id=\"node60\" class=\"node\">\n<title>59</title>\n<path fill=\"#e58139\" stroke=\"black\" d=\"M4005,-68C4005,-68 3912,-68 3912,-68 3906,-68 3900,-62 3900,-56 3900,-56 3900,-12 3900,-12 3900,-6 3906,0 3912,0 3912,0 4005,0 4005,0 4011,0 4017,-6 4017,-12 4017,-12 4017,-56 4017,-56 4017,-62 4011,-68 4005,-68\"/>\n<text text-anchor=\"middle\" x=\"3958.5\" y=\"-52.8\" font-family=\"Helvetica,sans-Serif\" font-size=\"14.00\">gini = 0.0</text>\n<text text-anchor=\"middle\" x=\"3958.5\" y=\"-37.8\" font-family=\"Helvetica,sans-Serif\" font-size=\"14.00\">samples = 1.1%</text>\n<text text-anchor=\"middle\" x=\"3958.5\" y=\"-22.8\" font-family=\"Helvetica,sans-Serif\" font-size=\"14.00\">value = [1.0, 0.0]</text>\n<text text-anchor=\"middle\" x=\"3958.5\" y=\"-7.8\" font-family=\"Helvetica,sans-Serif\" font-size=\"14.00\">class = CH</text>\n</g>\n<!-- 58&#45;&gt;59 -->\n<g id=\"edge59\" class=\"edge\">\n<title>58&#45;&gt;59</title>\n<path fill=\"none\" stroke=\"black\" d=\"M4009.91,-468.06C4002.54,-449.87 3995.5,-432.5 3995.5,-432.5 3995.5,-432.5 3972.12,-181.29 3962.53,-78.28\"/>\n<polygon fill=\"black\" stroke=\"black\" points=\"3966,-77.84 3961.59,-68.21 3959.03,-78.49 3966,-77.84\"/>\n</g>\n<!-- 60 -->\n<g id=\"node61\" class=\"node\">\n<title>60</title>\n<path fill=\"#f9e3d3\" stroke=\"black\" d=\"M4170,-432.5C4170,-432.5 4017,-432.5 4017,-432.5 4011,-432.5 4005,-426.5 4005,-420.5 4005,-420.5 4005,-361.5 4005,-361.5 4005,-355.5 4011,-349.5 4017,-349.5 4017,-349.5 4170,-349.5 4170,-349.5 4176,-349.5 4182,-355.5 4182,-361.5 4182,-361.5 4182,-420.5 4182,-420.5 4182,-426.5 4176,-432.5 4170,-432.5\"/>\n<text text-anchor=\"middle\" x=\"4093.5\" y=\"-417.3\" font-family=\"Helvetica,sans-Serif\" font-size=\"14.00\">WeekofPurchase &lt;= 252.0</text>\n<text text-anchor=\"middle\" x=\"4093.5\" y=\"-402.3\" font-family=\"Helvetica,sans-Serif\" font-size=\"14.00\">gini = 0.492</text>\n<text text-anchor=\"middle\" x=\"4093.5\" y=\"-387.3\" font-family=\"Helvetica,sans-Serif\" font-size=\"14.00\">samples = 2.0%</text>\n<text text-anchor=\"middle\" x=\"4093.5\" y=\"-372.3\" font-family=\"Helvetica,sans-Serif\" font-size=\"14.00\">value = [0.562, 0.438]</text>\n<text text-anchor=\"middle\" x=\"4093.5\" y=\"-357.3\" font-family=\"Helvetica,sans-Serif\" font-size=\"14.00\">class = CH</text>\n</g>\n<!-- 58&#45;&gt;60 -->\n<g id=\"edge60\" class=\"edge\">\n<title>58&#45;&gt;60</title>\n<path fill=\"none\" stroke=\"black\" d=\"M4049.75,-468.41C4054.73,-459.7 4060.06,-450.4 4065.21,-441.39\"/>\n<polygon fill=\"black\" stroke=\"black\" points=\"4068.36,-442.94 4070.3,-432.52 4062.29,-439.46 4068.36,-442.94\"/>\n</g>\n<!-- 61 -->\n<g id=\"node62\" class=\"node\">\n<title>61</title>\n<path fill=\"#e58139\" stroke=\"black\" d=\"M4140,-68C4140,-68 4047,-68 4047,-68 4041,-68 4035,-62 4035,-56 4035,-56 4035,-12 4035,-12 4035,-6 4041,0 4047,0 4047,0 4140,0 4140,0 4146,0 4152,-6 4152,-12 4152,-12 4152,-56 4152,-56 4152,-62 4146,-68 4140,-68\"/>\n<text text-anchor=\"middle\" x=\"4093.5\" y=\"-52.8\" font-family=\"Helvetica,sans-Serif\" font-size=\"14.00\">gini = 0.0</text>\n<text text-anchor=\"middle\" x=\"4093.5\" y=\"-37.8\" font-family=\"Helvetica,sans-Serif\" font-size=\"14.00\">samples = 0.4%</text>\n<text text-anchor=\"middle\" x=\"4093.5\" y=\"-22.8\" font-family=\"Helvetica,sans-Serif\" font-size=\"14.00\">value = [1.0, 0.0]</text>\n<text text-anchor=\"middle\" x=\"4093.5\" y=\"-7.8\" font-family=\"Helvetica,sans-Serif\" font-size=\"14.00\">class = CH</text>\n</g>\n<!-- 60&#45;&gt;61 -->\n<g id=\"edge61\" class=\"edge\">\n<title>60&#45;&gt;61</title>\n<path fill=\"none\" stroke=\"black\" d=\"M4093.5,-349.28C4093.5,-281.8 4093.5,-147.42 4093.5,-78.29\"/>\n<polygon fill=\"black\" stroke=\"black\" points=\"4097,-78.18 4093.5,-68.18 4090,-78.18 4097,-78.18\"/>\n</g>\n<!-- 62 -->\n<g id=\"node63\" class=\"node\">\n<title>62</title>\n<path fill=\"#e3f1fb\" stroke=\"black\" d=\"M4305,-313.5C4305,-313.5 4152,-313.5 4152,-313.5 4146,-313.5 4140,-307.5 4140,-301.5 4140,-301.5 4140,-242.5 4140,-242.5 4140,-236.5 4146,-230.5 4152,-230.5 4152,-230.5 4305,-230.5 4305,-230.5 4311,-230.5 4317,-236.5 4317,-242.5 4317,-242.5 4317,-301.5 4317,-301.5 4317,-307.5 4311,-313.5 4305,-313.5\"/>\n<text text-anchor=\"middle\" x=\"4228.5\" y=\"-298.3\" font-family=\"Helvetica,sans-Serif\" font-size=\"14.00\">WeekofPurchase &lt;= 255.5</text>\n<text text-anchor=\"middle\" x=\"4228.5\" y=\"-283.3\" font-family=\"Helvetica,sans-Serif\" font-size=\"14.00\">gini = 0.497</text>\n<text text-anchor=\"middle\" x=\"4228.5\" y=\"-268.3\" font-family=\"Helvetica,sans-Serif\" font-size=\"14.00\">samples = 1.6%</text>\n<text text-anchor=\"middle\" x=\"4228.5\" y=\"-253.3\" font-family=\"Helvetica,sans-Serif\" font-size=\"14.00\">value = [0.462, 0.538]</text>\n<text text-anchor=\"middle\" x=\"4228.5\" y=\"-238.3\" font-family=\"Helvetica,sans-Serif\" font-size=\"14.00\">class = MM</text>\n</g>\n<!-- 60&#45;&gt;62 -->\n<g id=\"edge62\" class=\"edge\">\n<title>60&#45;&gt;62</title>\n<path fill=\"none\" stroke=\"black\" d=\"M4140.34,-349.41C4151.23,-339.97 4162.91,-329.84 4174.1,-320.15\"/>\n<polygon fill=\"black\" stroke=\"black\" points=\"4176.48,-322.72 4181.75,-313.52 4171.9,-317.43 4176.48,-322.72\"/>\n</g>\n<!-- 63 -->\n<g id=\"node64\" class=\"node\">\n<title>63</title>\n<path fill=\"#399de5\" stroke=\"black\" d=\"M4275,-68C4275,-68 4182,-68 4182,-68 4176,-68 4170,-62 4170,-56 4170,-56 4170,-12 4170,-12 4170,-6 4176,0 4182,0 4182,0 4275,0 4275,0 4281,0 4287,-6 4287,-12 4287,-12 4287,-56 4287,-56 4287,-62 4281,-68 4275,-68\"/>\n<text text-anchor=\"middle\" x=\"4228.5\" y=\"-52.8\" font-family=\"Helvetica,sans-Serif\" font-size=\"14.00\">gini = 0.0</text>\n<text text-anchor=\"middle\" x=\"4228.5\" y=\"-37.8\" font-family=\"Helvetica,sans-Serif\" font-size=\"14.00\">samples = 0.2%</text>\n<text text-anchor=\"middle\" x=\"4228.5\" y=\"-22.8\" font-family=\"Helvetica,sans-Serif\" font-size=\"14.00\">value = [0.0, 1.0]</text>\n<text text-anchor=\"middle\" x=\"4228.5\" y=\"-7.8\" font-family=\"Helvetica,sans-Serif\" font-size=\"14.00\">class = MM</text>\n</g>\n<!-- 62&#45;&gt;63 -->\n<g id=\"edge63\" class=\"edge\">\n<title>62&#45;&gt;63</title>\n<path fill=\"none\" stroke=\"black\" d=\"M4228.5,-230.43C4228.5,-188.06 4228.5,-121.85 4228.5,-78.44\"/>\n<polygon fill=\"black\" stroke=\"black\" points=\"4232,-78.19 4228.5,-68.19 4225,-78.19 4232,-78.19\"/>\n</g>\n<!-- 64 -->\n<g id=\"node65\" class=\"node\">\n<title>64</title>\n<path fill=\"#fbeade\" stroke=\"black\" d=\"M4440,-194.5C4440,-194.5 4317,-194.5 4317,-194.5 4311,-194.5 4305,-188.5 4305,-182.5 4305,-182.5 4305,-123.5 4305,-123.5 4305,-117.5 4311,-111.5 4317,-111.5 4317,-111.5 4440,-111.5 4440,-111.5 4446,-111.5 4452,-117.5 4452,-123.5 4452,-123.5 4452,-182.5 4452,-182.5 4452,-188.5 4446,-194.5 4440,-194.5\"/>\n<text text-anchor=\"middle\" x=\"4378.5\" y=\"-179.3\" font-family=\"Helvetica,sans-Serif\" font-size=\"14.00\">LoyalCH &lt;= 0.43</text>\n<text text-anchor=\"middle\" x=\"4378.5\" y=\"-164.3\" font-family=\"Helvetica,sans-Serif\" font-size=\"14.00\">gini = 0.496</text>\n<text text-anchor=\"middle\" x=\"4378.5\" y=\"-149.3\" font-family=\"Helvetica,sans-Serif\" font-size=\"14.00\">samples = 1.4%</text>\n<text text-anchor=\"middle\" x=\"4378.5\" y=\"-134.3\" font-family=\"Helvetica,sans-Serif\" font-size=\"14.00\">value = [0.545, 0.455]</text>\n<text text-anchor=\"middle\" x=\"4378.5\" y=\"-119.3\" font-family=\"Helvetica,sans-Serif\" font-size=\"14.00\">class = CH</text>\n</g>\n<!-- 62&#45;&gt;64 -->\n<g id=\"edge64\" class=\"edge\">\n<title>62&#45;&gt;64</title>\n<path fill=\"none\" stroke=\"black\" d=\"M4280.54,-230.41C4292.76,-220.88 4305.87,-210.65 4318.41,-200.87\"/>\n<polygon fill=\"black\" stroke=\"black\" points=\"4320.82,-203.43 4326.55,-194.52 4316.51,-197.91 4320.82,-203.43\"/>\n</g>\n<!-- 65 -->\n<g id=\"node66\" class=\"node\">\n<title>65</title>\n<path fill=\"#d7ebfa\" stroke=\"black\" d=\"M4440,-68C4440,-68 4317,-68 4317,-68 4311,-68 4305,-62 4305,-56 4305,-56 4305,-12 4305,-12 4305,-6 4311,0 4317,0 4317,0 4440,0 4440,0 4446,0 4452,-6 4452,-12 4452,-12 4452,-56 4452,-56 4452,-62 4446,-68 4440,-68\"/>\n<text text-anchor=\"middle\" x=\"4378.5\" y=\"-52.8\" font-family=\"Helvetica,sans-Serif\" font-size=\"14.00\">gini = 0.494</text>\n<text text-anchor=\"middle\" x=\"4378.5\" y=\"-37.8\" font-family=\"Helvetica,sans-Serif\" font-size=\"14.00\">samples = 1.1%</text>\n<text text-anchor=\"middle\" x=\"4378.5\" y=\"-22.8\" font-family=\"Helvetica,sans-Serif\" font-size=\"14.00\">value = [0.444, 0.556]</text>\n<text text-anchor=\"middle\" x=\"4378.5\" y=\"-7.8\" font-family=\"Helvetica,sans-Serif\" font-size=\"14.00\">class = MM</text>\n</g>\n<!-- 64&#45;&gt;65 -->\n<g id=\"edge65\" class=\"edge\">\n<title>64&#45;&gt;65</title>\n<path fill=\"none\" stroke=\"black\" d=\"M4378.5,-111.41C4378.5,-100.7 4378.5,-89.12 4378.5,-78.28\"/>\n<polygon fill=\"black\" stroke=\"black\" points=\"4382,-78.17 4378.5,-68.17 4375,-78.17 4382,-78.17\"/>\n</g>\n<!-- 66 -->\n<g id=\"node67\" class=\"node\">\n<title>66</title>\n<path fill=\"#e58139\" stroke=\"black\" d=\"M4575,-68C4575,-68 4482,-68 4482,-68 4476,-68 4470,-62 4470,-56 4470,-56 4470,-12 4470,-12 4470,-6 4476,0 4482,0 4482,0 4575,0 4575,0 4581,0 4587,-6 4587,-12 4587,-12 4587,-56 4587,-56 4587,-62 4581,-68 4575,-68\"/>\n<text text-anchor=\"middle\" x=\"4528.5\" y=\"-52.8\" font-family=\"Helvetica,sans-Serif\" font-size=\"14.00\">gini = 0.0</text>\n<text text-anchor=\"middle\" x=\"4528.5\" y=\"-37.8\" font-family=\"Helvetica,sans-Serif\" font-size=\"14.00\">samples = 0.2%</text>\n<text text-anchor=\"middle\" x=\"4528.5\" y=\"-22.8\" font-family=\"Helvetica,sans-Serif\" font-size=\"14.00\">value = [1.0, 0.0]</text>\n<text text-anchor=\"middle\" x=\"4528.5\" y=\"-7.8\" font-family=\"Helvetica,sans-Serif\" font-size=\"14.00\">class = CH</text>\n</g>\n<!-- 64&#45;&gt;66 -->\n<g id=\"edge66\" class=\"edge\">\n<title>64&#45;&gt;66</title>\n<path fill=\"none\" stroke=\"black\" d=\"M4430.54,-111.41C4445.82,-99.49 4462.51,-86.48 4477.71,-74.62\"/>\n<polygon fill=\"black\" stroke=\"black\" points=\"4480.25,-77.08 4485.98,-68.17 4475.94,-71.56 4480.25,-77.08\"/>\n</g>\n<!-- 68 -->\n<g id=\"node69\" class=\"node\">\n<title>68</title>\n<path fill=\"#e58139\" stroke=\"black\" d=\"M4710,-68C4710,-68 4617,-68 4617,-68 4611,-68 4605,-62 4605,-56 4605,-56 4605,-12 4605,-12 4605,-6 4611,0 4617,0 4617,0 4710,0 4710,0 4716,0 4722,-6 4722,-12 4722,-12 4722,-56 4722,-56 4722,-62 4716,-68 4710,-68\"/>\n<text text-anchor=\"middle\" x=\"4663.5\" y=\"-52.8\" font-family=\"Helvetica,sans-Serif\" font-size=\"14.00\">gini = 0.0</text>\n<text text-anchor=\"middle\" x=\"4663.5\" y=\"-37.8\" font-family=\"Helvetica,sans-Serif\" font-size=\"14.00\">samples = 0.2%</text>\n<text text-anchor=\"middle\" x=\"4663.5\" y=\"-22.8\" font-family=\"Helvetica,sans-Serif\" font-size=\"14.00\">value = [1.0, 0.0]</text>\n<text text-anchor=\"middle\" x=\"4663.5\" y=\"-7.8\" font-family=\"Helvetica,sans-Serif\" font-size=\"14.00\">class = CH</text>\n</g>\n<!-- 67&#45;&gt;68 -->\n<g id=\"edge68\" class=\"edge\">\n<title>67&#45;&gt;68</title>\n<path fill=\"none\" stroke=\"black\" d=\"M4663.5,-468.18C4663.5,-379.4 4663.5,-169.45 4663.5,-78.39\"/>\n<polygon fill=\"black\" stroke=\"black\" points=\"4667,-78.14 4663.5,-68.14 4660,-78.14 4667,-78.14\"/>\n</g>\n<!-- 69 -->\n<g id=\"node70\" class=\"node\">\n<title>69</title>\n<path fill=\"#91c9f1\" stroke=\"black\" d=\"M4943,-432.5C4943,-432.5 4790,-432.5 4790,-432.5 4784,-432.5 4778,-426.5 4778,-420.5 4778,-420.5 4778,-361.5 4778,-361.5 4778,-355.5 4784,-349.5 4790,-349.5 4790,-349.5 4943,-349.5 4943,-349.5 4949,-349.5 4955,-355.5 4955,-361.5 4955,-361.5 4955,-420.5 4955,-420.5 4955,-426.5 4949,-432.5 4943,-432.5\"/>\n<text text-anchor=\"middle\" x=\"4866.5\" y=\"-417.3\" font-family=\"Helvetica,sans-Serif\" font-size=\"14.00\">WeekofPurchase &lt;= 269.5</text>\n<text text-anchor=\"middle\" x=\"4866.5\" y=\"-402.3\" font-family=\"Helvetica,sans-Serif\" font-size=\"14.00\">gini = 0.426</text>\n<text text-anchor=\"middle\" x=\"4866.5\" y=\"-387.3\" font-family=\"Helvetica,sans-Serif\" font-size=\"14.00\">samples = 1.6%</text>\n<text text-anchor=\"middle\" x=\"4866.5\" y=\"-372.3\" font-family=\"Helvetica,sans-Serif\" font-size=\"14.00\">value = [0.308, 0.692]</text>\n<text text-anchor=\"middle\" x=\"4866.5\" y=\"-357.3\" font-family=\"Helvetica,sans-Serif\" font-size=\"14.00\">class = MM</text>\n</g>\n<!-- 67&#45;&gt;69 -->\n<g id=\"edge69\" class=\"edge\">\n<title>67&#45;&gt;69</title>\n<path fill=\"none\" stroke=\"black\" d=\"M4726.62,-472.62C4745.78,-461.58 4767.08,-449.3 4787.17,-437.72\"/>\n<polygon fill=\"black\" stroke=\"black\" points=\"4789.08,-440.66 4795.99,-432.64 4785.58,-434.6 4789.08,-440.66\"/>\n</g>\n<!-- 70 -->\n<g id=\"node71\" class=\"node\">\n<title>70</title>\n<path fill=\"#6ab6ec\" stroke=\"black\" d=\"M4914,-313.5C4914,-313.5 4819,-313.5 4819,-313.5 4813,-313.5 4807,-307.5 4807,-301.5 4807,-301.5 4807,-242.5 4807,-242.5 4807,-236.5 4813,-230.5 4819,-230.5 4819,-230.5 4914,-230.5 4914,-230.5 4920,-230.5 4926,-236.5 4926,-242.5 4926,-242.5 4926,-301.5 4926,-301.5 4926,-307.5 4920,-313.5 4914,-313.5\"/>\n<text text-anchor=\"middle\" x=\"4866.5\" y=\"-298.3\" font-family=\"Helvetica,sans-Serif\" font-size=\"14.00\">LoyalCH &lt;= 0.27</text>\n<text text-anchor=\"middle\" x=\"4866.5\" y=\"-283.3\" font-family=\"Helvetica,sans-Serif\" font-size=\"14.00\">gini = 0.32</text>\n<text text-anchor=\"middle\" x=\"4866.5\" y=\"-268.3\" font-family=\"Helvetica,sans-Serif\" font-size=\"14.00\">samples = 1.2%</text>\n<text text-anchor=\"middle\" x=\"4866.5\" y=\"-253.3\" font-family=\"Helvetica,sans-Serif\" font-size=\"14.00\">value = [0.2, 0.8]</text>\n<text text-anchor=\"middle\" x=\"4866.5\" y=\"-238.3\" font-family=\"Helvetica,sans-Serif\" font-size=\"14.00\">class = MM</text>\n</g>\n<!-- 69&#45;&gt;70 -->\n<g id=\"edge70\" class=\"edge\">\n<title>69&#45;&gt;70</title>\n<path fill=\"none\" stroke=\"black\" d=\"M4866.5,-349.41C4866.5,-341.15 4866.5,-332.36 4866.5,-323.8\"/>\n<polygon fill=\"black\" stroke=\"black\" points=\"4870,-323.52 4866.5,-313.52 4863,-323.52 4870,-323.52\"/>\n</g>\n<!-- 75 -->\n<g id=\"node76\" class=\"node\">\n<title>75</title>\n<path fill=\"#f2c09c\" stroke=\"black\" d=\"M5295,-313.5C5295,-313.5 5172,-313.5 5172,-313.5 5166,-313.5 5160,-307.5 5160,-301.5 5160,-301.5 5160,-242.5 5160,-242.5 5160,-236.5 5166,-230.5 5172,-230.5 5172,-230.5 5295,-230.5 5295,-230.5 5301,-230.5 5307,-236.5 5307,-242.5 5307,-242.5 5307,-301.5 5307,-301.5 5307,-307.5 5301,-313.5 5295,-313.5\"/>\n<text text-anchor=\"middle\" x=\"5233.5\" y=\"-298.3\" font-family=\"Helvetica,sans-Serif\" font-size=\"14.00\">LoyalCH &lt;= 0.319</text>\n<text text-anchor=\"middle\" x=\"5233.5\" y=\"-283.3\" font-family=\"Helvetica,sans-Serif\" font-size=\"14.00\">gini = 0.444</text>\n<text text-anchor=\"middle\" x=\"5233.5\" y=\"-268.3\" font-family=\"Helvetica,sans-Serif\" font-size=\"14.00\">samples = 0.4%</text>\n<text text-anchor=\"middle\" x=\"5233.5\" y=\"-253.3\" font-family=\"Helvetica,sans-Serif\" font-size=\"14.00\">value = [0.667, 0.333]</text>\n<text text-anchor=\"middle\" x=\"5233.5\" y=\"-238.3\" font-family=\"Helvetica,sans-Serif\" font-size=\"14.00\">class = CH</text>\n</g>\n<!-- 69&#45;&gt;75 -->\n<g id=\"edge75\" class=\"edge\">\n<title>69&#45;&gt;75</title>\n<path fill=\"none\" stroke=\"black\" d=\"M4955.34,-361.68C5014.6,-342.79 5091.99,-318.11 5150.1,-299.59\"/>\n<polygon fill=\"black\" stroke=\"black\" points=\"5151.52,-302.81 5159.98,-296.44 5149.39,-296.14 5151.52,-302.81\"/>\n</g>\n<!-- 71 -->\n<g id=\"node72\" class=\"node\">\n<title>71</title>\n<path fill=\"#399de5\" stroke=\"black\" d=\"M4845,-68C4845,-68 4752,-68 4752,-68 4746,-68 4740,-62 4740,-56 4740,-56 4740,-12 4740,-12 4740,-6 4746,0 4752,0 4752,0 4845,0 4845,0 4851,0 4857,-6 4857,-12 4857,-12 4857,-56 4857,-56 4857,-62 4851,-68 4845,-68\"/>\n<text text-anchor=\"middle\" x=\"4798.5\" y=\"-52.8\" font-family=\"Helvetica,sans-Serif\" font-size=\"14.00\">gini = 0.0</text>\n<text text-anchor=\"middle\" x=\"4798.5\" y=\"-37.8\" font-family=\"Helvetica,sans-Serif\" font-size=\"14.00\">samples = 0.4%</text>\n<text text-anchor=\"middle\" x=\"4798.5\" y=\"-22.8\" font-family=\"Helvetica,sans-Serif\" font-size=\"14.00\">value = [0.0, 1.0]</text>\n<text text-anchor=\"middle\" x=\"4798.5\" y=\"-7.8\" font-family=\"Helvetica,sans-Serif\" font-size=\"14.00\">class = MM</text>\n</g>\n<!-- 70&#45;&gt;71 -->\n<g id=\"edge71\" class=\"edge\">\n<title>70&#45;&gt;71</title>\n<path fill=\"none\" stroke=\"black\" d=\"M4854.81,-230.43C4842.55,-187.88 4823.36,-121.29 4810.86,-77.89\"/>\n<polygon fill=\"black\" stroke=\"black\" points=\"4814.2,-76.83 4808.06,-68.19 4807.47,-78.77 4814.2,-76.83\"/>\n</g>\n<!-- 72 -->\n<g id=\"node73\" class=\"node\">\n<title>72</title>\n<path fill=\"#88c4ef\" stroke=\"black\" d=\"M4995,-194.5C4995,-194.5 4872,-194.5 4872,-194.5 4866,-194.5 4860,-188.5 4860,-182.5 4860,-182.5 4860,-123.5 4860,-123.5 4860,-117.5 4866,-111.5 4872,-111.5 4872,-111.5 4995,-111.5 4995,-111.5 5001,-111.5 5007,-117.5 5007,-123.5 5007,-123.5 5007,-182.5 5007,-182.5 5007,-188.5 5001,-194.5 4995,-194.5\"/>\n<text text-anchor=\"middle\" x=\"4933.5\" y=\"-179.3\" font-family=\"Helvetica,sans-Serif\" font-size=\"14.00\">LoyalCH &lt;= 0.302</text>\n<text text-anchor=\"middle\" x=\"4933.5\" y=\"-164.3\" font-family=\"Helvetica,sans-Serif\" font-size=\"14.00\">gini = 0.408</text>\n<text text-anchor=\"middle\" x=\"4933.5\" y=\"-149.3\" font-family=\"Helvetica,sans-Serif\" font-size=\"14.00\">samples = 0.9%</text>\n<text text-anchor=\"middle\" x=\"4933.5\" y=\"-134.3\" font-family=\"Helvetica,sans-Serif\" font-size=\"14.00\">value = [0.286, 0.714]</text>\n<text text-anchor=\"middle\" x=\"4933.5\" y=\"-119.3\" font-family=\"Helvetica,sans-Serif\" font-size=\"14.00\">class = MM</text>\n</g>\n<!-- 70&#45;&gt;72 -->\n<g id=\"edge72\" class=\"edge\">\n<title>70&#45;&gt;72</title>\n<path fill=\"none\" stroke=\"black\" d=\"M4889.75,-230.41C4894.73,-221.7 4900.06,-212.4 4905.21,-203.39\"/>\n<polygon fill=\"black\" stroke=\"black\" points=\"4908.36,-204.94 4910.3,-194.52 4902.29,-201.46 4908.36,-204.94\"/>\n</g>\n<!-- 73 -->\n<g id=\"node74\" class=\"node\">\n<title>73</title>\n<path fill=\"#e58139\" stroke=\"black\" d=\"M4980,-68C4980,-68 4887,-68 4887,-68 4881,-68 4875,-62 4875,-56 4875,-56 4875,-12 4875,-12 4875,-6 4881,0 4887,0 4887,0 4980,0 4980,0 4986,0 4992,-6 4992,-12 4992,-12 4992,-56 4992,-56 4992,-62 4986,-68 4980,-68\"/>\n<text text-anchor=\"middle\" x=\"4933.5\" y=\"-52.8\" font-family=\"Helvetica,sans-Serif\" font-size=\"14.00\">gini = 0.0</text>\n<text text-anchor=\"middle\" x=\"4933.5\" y=\"-37.8\" font-family=\"Helvetica,sans-Serif\" font-size=\"14.00\">samples = 0.1%</text>\n<text text-anchor=\"middle\" x=\"4933.5\" y=\"-22.8\" font-family=\"Helvetica,sans-Serif\" font-size=\"14.00\">value = [1.0, 0.0]</text>\n<text text-anchor=\"middle\" x=\"4933.5\" y=\"-7.8\" font-family=\"Helvetica,sans-Serif\" font-size=\"14.00\">class = CH</text>\n</g>\n<!-- 72&#45;&gt;73 -->\n<g id=\"edge73\" class=\"edge\">\n<title>72&#45;&gt;73</title>\n<path fill=\"none\" stroke=\"black\" d=\"M4933.5,-111.41C4933.5,-100.7 4933.5,-89.12 4933.5,-78.28\"/>\n<polygon fill=\"black\" stroke=\"black\" points=\"4937,-78.17 4933.5,-68.17 4930,-78.17 4937,-78.17\"/>\n</g>\n<!-- 74 -->\n<g id=\"node75\" class=\"node\">\n<title>74</title>\n<path fill=\"#61b1ea\" stroke=\"black\" d=\"M5145,-68C5145,-68 5022,-68 5022,-68 5016,-68 5010,-62 5010,-56 5010,-56 5010,-12 5010,-12 5010,-6 5016,0 5022,0 5022,0 5145,0 5145,0 5151,0 5157,-6 5157,-12 5157,-12 5157,-56 5157,-56 5157,-62 5151,-68 5145,-68\"/>\n<text text-anchor=\"middle\" x=\"5083.5\" y=\"-52.8\" font-family=\"Helvetica,sans-Serif\" font-size=\"14.00\">gini = 0.278</text>\n<text text-anchor=\"middle\" x=\"5083.5\" y=\"-37.8\" font-family=\"Helvetica,sans-Serif\" font-size=\"14.00\">samples = 0.8%</text>\n<text text-anchor=\"middle\" x=\"5083.5\" y=\"-22.8\" font-family=\"Helvetica,sans-Serif\" font-size=\"14.00\">value = [0.167, 0.833]</text>\n<text text-anchor=\"middle\" x=\"5083.5\" y=\"-7.8\" font-family=\"Helvetica,sans-Serif\" font-size=\"14.00\">class = MM</text>\n</g>\n<!-- 72&#45;&gt;74 -->\n<g id=\"edge74\" class=\"edge\">\n<title>72&#45;&gt;74</title>\n<path fill=\"none\" stroke=\"black\" d=\"M4985.54,-111.41C5000.82,-99.49 5017.51,-86.48 5032.71,-74.62\"/>\n<polygon fill=\"black\" stroke=\"black\" points=\"5035.25,-77.08 5040.98,-68.17 5030.94,-71.56 5035.25,-77.08\"/>\n</g>\n<!-- 76 -->\n<g id=\"node77\" class=\"node\">\n<title>76</title>\n<path fill=\"#e58139\" stroke=\"black\" d=\"M5280,-68C5280,-68 5187,-68 5187,-68 5181,-68 5175,-62 5175,-56 5175,-56 5175,-12 5175,-12 5175,-6 5181,0 5187,0 5187,0 5280,0 5280,0 5286,0 5292,-6 5292,-12 5292,-12 5292,-56 5292,-56 5292,-62 5286,-68 5280,-68\"/>\n<text text-anchor=\"middle\" x=\"5233.5\" y=\"-52.8\" font-family=\"Helvetica,sans-Serif\" font-size=\"14.00\">gini = 0.0</text>\n<text text-anchor=\"middle\" x=\"5233.5\" y=\"-37.8\" font-family=\"Helvetica,sans-Serif\" font-size=\"14.00\">samples = 0.1%</text>\n<text text-anchor=\"middle\" x=\"5233.5\" y=\"-22.8\" font-family=\"Helvetica,sans-Serif\" font-size=\"14.00\">value = [1.0, 0.0]</text>\n<text text-anchor=\"middle\" x=\"5233.5\" y=\"-7.8\" font-family=\"Helvetica,sans-Serif\" font-size=\"14.00\">class = CH</text>\n</g>\n<!-- 75&#45;&gt;76 -->\n<g id=\"edge76\" class=\"edge\">\n<title>75&#45;&gt;76</title>\n<path fill=\"none\" stroke=\"black\" d=\"M5233.5,-230.43C5233.5,-188.06 5233.5,-121.85 5233.5,-78.44\"/>\n<polygon fill=\"black\" stroke=\"black\" points=\"5237,-78.19 5233.5,-68.19 5230,-78.19 5237,-78.19\"/>\n</g>\n<!-- 77 -->\n<g id=\"node78\" class=\"node\">\n<title>77</title>\n<path fill=\"#ffffff\" stroke=\"black\" d=\"M5419.5,-194.5C5419.5,-194.5 5317.5,-194.5 5317.5,-194.5 5311.5,-194.5 5305.5,-188.5 5305.5,-182.5 5305.5,-182.5 5305.5,-123.5 5305.5,-123.5 5305.5,-117.5 5311.5,-111.5 5317.5,-111.5 5317.5,-111.5 5419.5,-111.5 5419.5,-111.5 5425.5,-111.5 5431.5,-117.5 5431.5,-123.5 5431.5,-123.5 5431.5,-182.5 5431.5,-182.5 5431.5,-188.5 5425.5,-194.5 5419.5,-194.5\"/>\n<text text-anchor=\"middle\" x=\"5368.5\" y=\"-179.3\" font-family=\"Helvetica,sans-Serif\" font-size=\"14.00\">LoyalCH &lt;= 0.335</text>\n<text text-anchor=\"middle\" x=\"5368.5\" y=\"-164.3\" font-family=\"Helvetica,sans-Serif\" font-size=\"14.00\">gini = 0.5</text>\n<text text-anchor=\"middle\" x=\"5368.5\" y=\"-149.3\" font-family=\"Helvetica,sans-Serif\" font-size=\"14.00\">samples = 0.2%</text>\n<text text-anchor=\"middle\" x=\"5368.5\" y=\"-134.3\" font-family=\"Helvetica,sans-Serif\" font-size=\"14.00\">value = [0.5, 0.5]</text>\n<text text-anchor=\"middle\" x=\"5368.5\" y=\"-119.3\" font-family=\"Helvetica,sans-Serif\" font-size=\"14.00\">class = CH</text>\n</g>\n<!-- 75&#45;&gt;77 -->\n<g id=\"edge77\" class=\"edge\">\n<title>75&#45;&gt;77</title>\n<path fill=\"none\" stroke=\"black\" d=\"M5280.34,-230.41C5291.23,-220.97 5302.91,-210.84 5314.1,-201.15\"/>\n<polygon fill=\"black\" stroke=\"black\" points=\"5316.48,-203.72 5321.75,-194.52 5311.9,-198.43 5316.48,-203.72\"/>\n</g>\n<!-- 78 -->\n<g id=\"node79\" class=\"node\">\n<title>78</title>\n<path fill=\"#399de5\" stroke=\"black\" d=\"M5415,-68C5415,-68 5322,-68 5322,-68 5316,-68 5310,-62 5310,-56 5310,-56 5310,-12 5310,-12 5310,-6 5316,0 5322,0 5322,0 5415,0 5415,0 5421,0 5427,-6 5427,-12 5427,-12 5427,-56 5427,-56 5427,-62 5421,-68 5415,-68\"/>\n<text text-anchor=\"middle\" x=\"5368.5\" y=\"-52.8\" font-family=\"Helvetica,sans-Serif\" font-size=\"14.00\">gini = 0.0</text>\n<text text-anchor=\"middle\" x=\"5368.5\" y=\"-37.8\" font-family=\"Helvetica,sans-Serif\" font-size=\"14.00\">samples = 0.1%</text>\n<text text-anchor=\"middle\" x=\"5368.5\" y=\"-22.8\" font-family=\"Helvetica,sans-Serif\" font-size=\"14.00\">value = [0.0, 1.0]</text>\n<text text-anchor=\"middle\" x=\"5368.5\" y=\"-7.8\" font-family=\"Helvetica,sans-Serif\" font-size=\"14.00\">class = MM</text>\n</g>\n<!-- 77&#45;&gt;78 -->\n<g id=\"edge78\" class=\"edge\">\n<title>77&#45;&gt;78</title>\n<path fill=\"none\" stroke=\"black\" d=\"M5368.5,-111.41C5368.5,-100.7 5368.5,-89.12 5368.5,-78.28\"/>\n<polygon fill=\"black\" stroke=\"black\" points=\"5372,-78.17 5368.5,-68.17 5365,-78.17 5372,-78.17\"/>\n</g>\n<!-- 79 -->\n<g id=\"node80\" class=\"node\">\n<title>79</title>\n<path fill=\"#e58139\" stroke=\"black\" d=\"M5550,-68C5550,-68 5457,-68 5457,-68 5451,-68 5445,-62 5445,-56 5445,-56 5445,-12 5445,-12 5445,-6 5451,0 5457,0 5457,0 5550,0 5550,0 5556,0 5562,-6 5562,-12 5562,-12 5562,-56 5562,-56 5562,-62 5556,-68 5550,-68\"/>\n<text text-anchor=\"middle\" x=\"5503.5\" y=\"-52.8\" font-family=\"Helvetica,sans-Serif\" font-size=\"14.00\">gini = 0.0</text>\n<text text-anchor=\"middle\" x=\"5503.5\" y=\"-37.8\" font-family=\"Helvetica,sans-Serif\" font-size=\"14.00\">samples = 0.1%</text>\n<text text-anchor=\"middle\" x=\"5503.5\" y=\"-22.8\" font-family=\"Helvetica,sans-Serif\" font-size=\"14.00\">value = [1.0, 0.0]</text>\n<text text-anchor=\"middle\" x=\"5503.5\" y=\"-7.8\" font-family=\"Helvetica,sans-Serif\" font-size=\"14.00\">class = CH</text>\n</g>\n<!-- 77&#45;&gt;79 -->\n<g id=\"edge79\" class=\"edge\">\n<title>77&#45;&gt;79</title>\n<path fill=\"none\" stroke=\"black\" d=\"M5415.34,-111.41C5428.96,-99.6 5443.83,-86.72 5457.4,-74.95\"/>\n<polygon fill=\"black\" stroke=\"black\" points=\"5459.97,-77.36 5465.23,-68.17 5455.38,-72.07 5459.97,-77.36\"/>\n</g>\n<!-- 81 -->\n<g id=\"node82\" class=\"node\">\n<title>81</title>\n<path fill=\"#f1bb94\" stroke=\"black\" d=\"M8944,-789.5C8944,-789.5 8821,-789.5 8821,-789.5 8815,-789.5 8809,-783.5 8809,-777.5 8809,-777.5 8809,-718.5 8809,-718.5 8809,-712.5 8815,-706.5 8821,-706.5 8821,-706.5 8944,-706.5 8944,-706.5 8950,-706.5 8956,-712.5 8956,-718.5 8956,-718.5 8956,-777.5 8956,-777.5 8956,-783.5 8950,-789.5 8944,-789.5\"/>\n<text text-anchor=\"middle\" x=\"8882.5\" y=\"-774.3\" font-family=\"Helvetica,sans-Serif\" font-size=\"14.00\">PriceDiff &lt;= 0.215</text>\n<text text-anchor=\"middle\" x=\"8882.5\" y=\"-759.3\" font-family=\"Helvetica,sans-Serif\" font-size=\"14.00\">gini = 0.432</text>\n<text text-anchor=\"middle\" x=\"8882.5\" y=\"-744.3\" font-family=\"Helvetica,sans-Serif\" font-size=\"14.00\">samples = 30.1%</text>\n<text text-anchor=\"middle\" x=\"8882.5\" y=\"-729.3\" font-family=\"Helvetica,sans-Serif\" font-size=\"14.00\">value = [0.685, 0.315]</text>\n<text text-anchor=\"middle\" x=\"8882.5\" y=\"-714.3\" font-family=\"Helvetica,sans-Serif\" font-size=\"14.00\">class = CH</text>\n</g>\n<!-- 80&#45;&gt;81 -->\n<g id=\"edge81\" class=\"edge\">\n<title>80&#45;&gt;81</title>\n<path fill=\"none\" stroke=\"black\" d=\"M8882.5,-825.41C8882.5,-817.15 8882.5,-808.36 8882.5,-799.8\"/>\n<polygon fill=\"black\" stroke=\"black\" points=\"8886,-799.52 8882.5,-789.52 8879,-799.52 8886,-799.52\"/>\n</g>\n<!-- 144 -->\n<g id=\"node145\" class=\"node\">\n<title>144</title>\n<path fill=\"#e68641\" stroke=\"black\" d=\"M10313,-789.5C10313,-789.5 10190,-789.5 10190,-789.5 10184,-789.5 10178,-783.5 10178,-777.5 10178,-777.5 10178,-718.5 10178,-718.5 10178,-712.5 10184,-706.5 10190,-706.5 10190,-706.5 10313,-706.5 10313,-706.5 10319,-706.5 10325,-712.5 10325,-718.5 10325,-718.5 10325,-777.5 10325,-777.5 10325,-783.5 10319,-789.5 10313,-789.5\"/>\n<text text-anchor=\"middle\" x=\"10251.5\" y=\"-774.3\" font-family=\"Helvetica,sans-Serif\" font-size=\"14.00\">PriceDiff &lt;= &#45;0.39</text>\n<text text-anchor=\"middle\" x=\"10251.5\" y=\"-759.3\" font-family=\"Helvetica,sans-Serif\" font-size=\"14.00\">gini = 0.073</text>\n<text text-anchor=\"middle\" x=\"10251.5\" y=\"-744.3\" font-family=\"Helvetica,sans-Serif\" font-size=\"14.00\">samples = 32.8%</text>\n<text text-anchor=\"middle\" x=\"10251.5\" y=\"-729.3\" font-family=\"Helvetica,sans-Serif\" font-size=\"14.00\">value = [0.962, 0.038]</text>\n<text text-anchor=\"middle\" x=\"10251.5\" y=\"-714.3\" font-family=\"Helvetica,sans-Serif\" font-size=\"14.00\">class = CH</text>\n</g>\n<!-- 80&#45;&gt;144 -->\n<g id=\"edge144\" class=\"edge\">\n<title>80&#45;&gt;144</title>\n<path fill=\"none\" stroke=\"black\" d=\"M8956.1,-859.71C9190.69,-839.66 9919.87,-777.34 10167.91,-756.14\"/>\n<polygon fill=\"black\" stroke=\"black\" points=\"10168.28,-759.62 10177.95,-755.29 10167.69,-752.65 10168.28,-759.62\"/>\n</g>\n<!-- 82 -->\n<g id=\"node83\" class=\"node\">\n<title>82</title>\n<path fill=\"#eff7fd\" stroke=\"black\" d=\"M8280,-670.5C8280,-670.5 8157,-670.5 8157,-670.5 8151,-670.5 8145,-664.5 8145,-658.5 8145,-658.5 8145,-599.5 8145,-599.5 8145,-593.5 8151,-587.5 8157,-587.5 8157,-587.5 8280,-587.5 8280,-587.5 8286,-587.5 8292,-593.5 8292,-599.5 8292,-599.5 8292,-658.5 8292,-658.5 8292,-664.5 8286,-670.5 8280,-670.5\"/>\n<text text-anchor=\"middle\" x=\"8218.5\" y=\"-655.3\" font-family=\"Helvetica,sans-Serif\" font-size=\"14.00\">ListPriceDiff &lt;= 0.235</text>\n<text text-anchor=\"middle\" x=\"8218.5\" y=\"-640.3\" font-family=\"Helvetica,sans-Serif\" font-size=\"14.00\">gini = 0.499</text>\n<text text-anchor=\"middle\" x=\"8218.5\" y=\"-625.3\" font-family=\"Helvetica,sans-Serif\" font-size=\"14.00\">samples = 14.4%</text>\n<text text-anchor=\"middle\" x=\"8218.5\" y=\"-610.3\" font-family=\"Helvetica,sans-Serif\" font-size=\"14.00\">value = [0.478, 0.522]</text>\n<text text-anchor=\"middle\" x=\"8218.5\" y=\"-595.3\" font-family=\"Helvetica,sans-Serif\" font-size=\"14.00\">class = MM</text>\n</g>\n<!-- 81&#45;&gt;82 -->\n<g id=\"edge82\" class=\"edge\">\n<title>81&#45;&gt;82</title>\n<path fill=\"none\" stroke=\"black\" d=\"M8808.9,-734.03C8684.43,-712.1 8433.12,-667.82 8302.16,-644.74\"/>\n<polygon fill=\"black\" stroke=\"black\" points=\"8302.63,-641.27 8292.17,-642.98 8301.41,-648.16 8302.63,-641.27\"/>\n</g>\n<!-- 125 -->\n<g id=\"node126\" class=\"node\">\n<title>125</title>\n<path fill=\"#e99356\" stroke=\"black\" d=\"M9633,-670.5C9633,-670.5 9510,-670.5 9510,-670.5 9504,-670.5 9498,-664.5 9498,-658.5 9498,-658.5 9498,-599.5 9498,-599.5 9498,-593.5 9504,-587.5 9510,-587.5 9510,-587.5 9633,-587.5 9633,-587.5 9639,-587.5 9645,-593.5 9645,-599.5 9645,-599.5 9645,-658.5 9645,-658.5 9645,-664.5 9639,-670.5 9633,-670.5\"/>\n<text text-anchor=\"middle\" x=\"9571.5\" y=\"-655.3\" font-family=\"Helvetica,sans-Serif\" font-size=\"14.00\">PctDiscMM &lt;= 0.014</text>\n<text text-anchor=\"middle\" x=\"9571.5\" y=\"-640.3\" font-family=\"Helvetica,sans-Serif\" font-size=\"14.00\">gini = 0.222</text>\n<text text-anchor=\"middle\" x=\"9571.5\" y=\"-625.3\" font-family=\"Helvetica,sans-Serif\" font-size=\"14.00\">samples = 15.8%</text>\n<text text-anchor=\"middle\" x=\"9571.5\" y=\"-610.3\" font-family=\"Helvetica,sans-Serif\" font-size=\"14.00\">value = [0.873, 0.127]</text>\n<text text-anchor=\"middle\" x=\"9571.5\" y=\"-595.3\" font-family=\"Helvetica,sans-Serif\" font-size=\"14.00\">class = CH</text>\n</g>\n<!-- 81&#45;&gt;125 -->\n<g id=\"edge125\" class=\"edge\">\n<title>81&#45;&gt;125</title>\n<path fill=\"none\" stroke=\"black\" d=\"M8956.24,-734.48C9085.44,-712.54 9351.92,-667.29 9487.82,-644.21\"/>\n<polygon fill=\"black\" stroke=\"black\" points=\"9488.5,-647.64 9497.78,-642.52 9487.33,-640.74 9488.5,-647.64\"/>\n</g>\n<!-- 83 -->\n<g id=\"node84\" class=\"node\">\n<title>83</title>\n<path fill=\"#abd6f4\" stroke=\"black\" d=\"M7128,-551.5C7128,-551.5 7005,-551.5 7005,-551.5 6999,-551.5 6993,-545.5 6993,-539.5 6993,-539.5 6993,-480.5 6993,-480.5 6993,-474.5 6999,-468.5 7005,-468.5 7005,-468.5 7128,-468.5 7128,-468.5 7134,-468.5 7140,-474.5 7140,-480.5 7140,-480.5 7140,-539.5 7140,-539.5 7140,-545.5 7134,-551.5 7128,-551.5\"/>\n<text text-anchor=\"middle\" x=\"7066.5\" y=\"-536.3\" font-family=\"Helvetica,sans-Serif\" font-size=\"14.00\">PriceDiff &lt;= 0.05</text>\n<text text-anchor=\"middle\" x=\"7066.5\" y=\"-521.3\" font-family=\"Helvetica,sans-Serif\" font-size=\"14.00\">gini = 0.464</text>\n<text text-anchor=\"middle\" x=\"7066.5\" y=\"-506.3\" font-family=\"Helvetica,sans-Serif\" font-size=\"14.00\">samples = 10.2%</text>\n<text text-anchor=\"middle\" x=\"7066.5\" y=\"-491.3\" font-family=\"Helvetica,sans-Serif\" font-size=\"14.00\">value = [0.366, 0.634]</text>\n<text text-anchor=\"middle\" x=\"7066.5\" y=\"-476.3\" font-family=\"Helvetica,sans-Serif\" font-size=\"14.00\">class = MM</text>\n</g>\n<!-- 82&#45;&gt;83 -->\n<g id=\"edge83\" class=\"edge\">\n<title>82&#45;&gt;83</title>\n<path fill=\"none\" stroke=\"black\" d=\"M8144.68,-620.5C7939.98,-599.71 7366.04,-541.42 7150.08,-519.49\"/>\n<polygon fill=\"black\" stroke=\"black\" points=\"7150.37,-516 7140.07,-518.47 7149.67,-522.96 7150.37,-516\"/>\n</g>\n<!-- 110 -->\n<g id=\"node111\" class=\"node\">\n<title>110</title>\n<path fill=\"#eda978\" stroke=\"black\" d=\"M8280,-551.5C8280,-551.5 8157,-551.5 8157,-551.5 8151,-551.5 8145,-545.5 8145,-539.5 8145,-539.5 8145,-480.5 8145,-480.5 8145,-474.5 8151,-468.5 8157,-468.5 8157,-468.5 8280,-468.5 8280,-468.5 8286,-468.5 8292,-474.5 8292,-480.5 8292,-480.5 8292,-539.5 8292,-539.5 8292,-545.5 8286,-551.5 8280,-551.5\"/>\n<text text-anchor=\"middle\" x=\"8218.5\" y=\"-536.3\" font-family=\"Helvetica,sans-Serif\" font-size=\"14.00\">LoyalCH &lt;= 0.512</text>\n<text text-anchor=\"middle\" x=\"8218.5\" y=\"-521.3\" font-family=\"Helvetica,sans-Serif\" font-size=\"14.00\">gini = 0.367</text>\n<text text-anchor=\"middle\" x=\"8218.5\" y=\"-506.3\" font-family=\"Helvetica,sans-Serif\" font-size=\"14.00\">samples = 4.1%</text>\n<text text-anchor=\"middle\" x=\"8218.5\" y=\"-491.3\" font-family=\"Helvetica,sans-Serif\" font-size=\"14.00\">value = [0.758, 0.242]</text>\n<text text-anchor=\"middle\" x=\"8218.5\" y=\"-476.3\" font-family=\"Helvetica,sans-Serif\" font-size=\"14.00\">class = CH</text>\n</g>\n<!-- 82&#45;&gt;110 -->\n<g id=\"edge110\" class=\"edge\">\n<title>82&#45;&gt;110</title>\n<path fill=\"none\" stroke=\"black\" d=\"M8218.5,-587.41C8218.5,-579.15 8218.5,-570.36 8218.5,-561.8\"/>\n<polygon fill=\"black\" stroke=\"black\" points=\"8222,-561.52 8218.5,-551.52 8215,-561.52 8222,-561.52\"/>\n</g>\n<!-- 84 -->\n<g id=\"node85\" class=\"node\">\n<title>84</title>\n<path fill=\"#80c0ee\" stroke=\"black\" d=\"M6367,-432.5C6367,-432.5 6244,-432.5 6244,-432.5 6238,-432.5 6232,-426.5 6232,-420.5 6232,-420.5 6232,-361.5 6232,-361.5 6232,-355.5 6238,-349.5 6244,-349.5 6244,-349.5 6367,-349.5 6367,-349.5 6373,-349.5 6379,-355.5 6379,-361.5 6379,-361.5 6379,-420.5 6379,-420.5 6379,-426.5 6373,-432.5 6367,-432.5\"/>\n<text text-anchor=\"middle\" x=\"6305.5\" y=\"-417.3\" font-family=\"Helvetica,sans-Serif\" font-size=\"14.00\">STORE &lt;= 2.5</text>\n<text text-anchor=\"middle\" x=\"6305.5\" y=\"-402.3\" font-family=\"Helvetica,sans-Serif\" font-size=\"14.00\">gini = 0.388</text>\n<text text-anchor=\"middle\" x=\"6305.5\" y=\"-387.3\" font-family=\"Helvetica,sans-Serif\" font-size=\"14.00\">samples = 7.1%</text>\n<text text-anchor=\"middle\" x=\"6305.5\" y=\"-372.3\" font-family=\"Helvetica,sans-Serif\" font-size=\"14.00\">value = [0.263, 0.737]</text>\n<text text-anchor=\"middle\" x=\"6305.5\" y=\"-357.3\" font-family=\"Helvetica,sans-Serif\" font-size=\"14.00\">class = MM</text>\n</g>\n<!-- 83&#45;&gt;84 -->\n<g id=\"edge84\" class=\"edge\">\n<title>83&#45;&gt;84</title>\n<path fill=\"none\" stroke=\"black\" d=\"M6992.84,-497.68C6850.63,-475.81 6539.11,-427.92 6389.27,-404.88\"/>\n<polygon fill=\"black\" stroke=\"black\" points=\"6389.62,-401.39 6379.2,-403.33 6388.55,-408.31 6389.62,-401.39\"/>\n</g>\n<!-- 97 -->\n<g id=\"node98\" class=\"node\">\n<title>97</title>\n<path fill=\"#f6d5bd\" stroke=\"black\" d=\"M7113,-432.5C7113,-432.5 7020,-432.5 7020,-432.5 7014,-432.5 7008,-426.5 7008,-420.5 7008,-420.5 7008,-361.5 7008,-361.5 7008,-355.5 7014,-349.5 7020,-349.5 7020,-349.5 7113,-349.5 7113,-349.5 7119,-349.5 7125,-355.5 7125,-361.5 7125,-361.5 7125,-420.5 7125,-420.5 7125,-426.5 7119,-432.5 7113,-432.5\"/>\n<text text-anchor=\"middle\" x=\"7066.5\" y=\"-417.3\" font-family=\"Helvetica,sans-Serif\" font-size=\"14.00\">StoreID &lt;= 2.5</text>\n<text text-anchor=\"middle\" x=\"7066.5\" y=\"-402.3\" font-family=\"Helvetica,sans-Serif\" font-size=\"14.00\">gini = 0.48</text>\n<text text-anchor=\"middle\" x=\"7066.5\" y=\"-387.3\" font-family=\"Helvetica,sans-Serif\" font-size=\"14.00\">samples = 3.1%</text>\n<text text-anchor=\"middle\" x=\"7066.5\" y=\"-372.3\" font-family=\"Helvetica,sans-Serif\" font-size=\"14.00\">value = [0.6, 0.4]</text>\n<text text-anchor=\"middle\" x=\"7066.5\" y=\"-357.3\" font-family=\"Helvetica,sans-Serif\" font-size=\"14.00\">class = CH</text>\n</g>\n<!-- 83&#45;&gt;97 -->\n<g id=\"edge97\" class=\"edge\">\n<title>83&#45;&gt;97</title>\n<path fill=\"none\" stroke=\"black\" d=\"M7066.5,-468.41C7066.5,-460.15 7066.5,-451.36 7066.5,-442.8\"/>\n<polygon fill=\"black\" stroke=\"black\" points=\"7070,-442.52 7066.5,-432.52 7063,-442.52 7070,-442.52\"/>\n</g>\n<!-- 85 -->\n<g id=\"node86\" class=\"node\">\n<title>85</title>\n<path fill=\"#61b1ea\" stroke=\"black\" d=\"M5940,-313.5C5940,-313.5 5787,-313.5 5787,-313.5 5781,-313.5 5775,-307.5 5775,-301.5 5775,-301.5 5775,-242.5 5775,-242.5 5775,-236.5 5781,-230.5 5787,-230.5 5787,-230.5 5940,-230.5 5940,-230.5 5946,-230.5 5952,-236.5 5952,-242.5 5952,-242.5 5952,-301.5 5952,-301.5 5952,-307.5 5946,-313.5 5940,-313.5\"/>\n<text text-anchor=\"middle\" x=\"5863.5\" y=\"-298.3\" font-family=\"Helvetica,sans-Serif\" font-size=\"14.00\">WeekofPurchase &lt;= 227.5</text>\n<text text-anchor=\"middle\" x=\"5863.5\" y=\"-283.3\" font-family=\"Helvetica,sans-Serif\" font-size=\"14.00\">gini = 0.278</text>\n<text text-anchor=\"middle\" x=\"5863.5\" y=\"-268.3\" font-family=\"Helvetica,sans-Serif\" font-size=\"14.00\">samples = 5.2%</text>\n<text text-anchor=\"middle\" x=\"5863.5\" y=\"-253.3\" font-family=\"Helvetica,sans-Serif\" font-size=\"14.00\">value = [0.167, 0.833]</text>\n<text text-anchor=\"middle\" x=\"5863.5\" y=\"-238.3\" font-family=\"Helvetica,sans-Serif\" font-size=\"14.00\">class = MM</text>\n</g>\n<!-- 84&#45;&gt;85 -->\n<g id=\"edge85\" class=\"edge\">\n<title>84&#45;&gt;85</title>\n<path fill=\"none\" stroke=\"black\" d=\"M6231.52,-370.42C6157.6,-350.85 6043.53,-320.65 5961.99,-299.07\"/>\n<polygon fill=\"black\" stroke=\"black\" points=\"5962.77,-295.66 5952.21,-296.48 5960.98,-302.42 5962.77,-295.66\"/>\n</g>\n<!-- 90 -->\n<g id=\"node91\" class=\"node\">\n<title>90</title>\n<path fill=\"#fcefe6\" stroke=\"black\" d=\"M6367,-313.5C6367,-313.5 6244,-313.5 6244,-313.5 6238,-313.5 6232,-307.5 6232,-301.5 6232,-301.5 6232,-242.5 6232,-242.5 6232,-236.5 6238,-230.5 6244,-230.5 6244,-230.5 6367,-230.5 6367,-230.5 6373,-230.5 6379,-236.5 6379,-242.5 6379,-242.5 6379,-301.5 6379,-301.5 6379,-307.5 6373,-313.5 6367,-313.5\"/>\n<text text-anchor=\"middle\" x=\"6305.5\" y=\"-298.3\" font-family=\"Helvetica,sans-Serif\" font-size=\"14.00\">LoyalCH &lt;= 0.632</text>\n<text text-anchor=\"middle\" x=\"6305.5\" y=\"-283.3\" font-family=\"Helvetica,sans-Serif\" font-size=\"14.00\">gini = 0.498</text>\n<text text-anchor=\"middle\" x=\"6305.5\" y=\"-268.3\" font-family=\"Helvetica,sans-Serif\" font-size=\"14.00\">samples = 1.9%</text>\n<text text-anchor=\"middle\" x=\"6305.5\" y=\"-253.3\" font-family=\"Helvetica,sans-Serif\" font-size=\"14.00\">value = [0.533, 0.467]</text>\n<text text-anchor=\"middle\" x=\"6305.5\" y=\"-238.3\" font-family=\"Helvetica,sans-Serif\" font-size=\"14.00\">class = CH</text>\n</g>\n<!-- 84&#45;&gt;90 -->\n<g id=\"edge90\" class=\"edge\">\n<title>84&#45;&gt;90</title>\n<path fill=\"none\" stroke=\"black\" d=\"M6305.5,-349.41C6305.5,-341.15 6305.5,-332.36 6305.5,-323.8\"/>\n<polygon fill=\"black\" stroke=\"black\" points=\"6309,-323.52 6305.5,-313.52 6302,-323.52 6309,-323.52\"/>\n</g>\n<!-- 86 -->\n<g id=\"node87\" class=\"node\">\n<title>86</title>\n<path fill=\"#e58139\" stroke=\"black\" d=\"M5685,-68C5685,-68 5592,-68 5592,-68 5586,-68 5580,-62 5580,-56 5580,-56 5580,-12 5580,-12 5580,-6 5586,0 5592,0 5592,0 5685,0 5685,0 5691,0 5697,-6 5697,-12 5697,-12 5697,-56 5697,-56 5697,-62 5691,-68 5685,-68\"/>\n<text text-anchor=\"middle\" x=\"5638.5\" y=\"-52.8\" font-family=\"Helvetica,sans-Serif\" font-size=\"14.00\">gini = 0.0</text>\n<text text-anchor=\"middle\" x=\"5638.5\" y=\"-37.8\" font-family=\"Helvetica,sans-Serif\" font-size=\"14.00\">samples = 0.2%</text>\n<text text-anchor=\"middle\" x=\"5638.5\" y=\"-22.8\" font-family=\"Helvetica,sans-Serif\" font-size=\"14.00\">value = [1.0, 0.0]</text>\n<text text-anchor=\"middle\" x=\"5638.5\" y=\"-7.8\" font-family=\"Helvetica,sans-Serif\" font-size=\"14.00\">class = CH</text>\n</g>\n<!-- 85&#45;&gt;86 -->\n<g id=\"edge86\" class=\"edge\">\n<title>85&#45;&gt;86</title>\n<path fill=\"none\" stroke=\"black\" d=\"M5818.55,-230.06C5798.58,-211.87 5779.5,-194.5 5779.5,-194.5 5779.5,-194.5 5716.25,-122.95 5674.48,-75.7\"/>\n<polygon fill=\"black\" stroke=\"black\" points=\"5676.96,-73.22 5667.72,-68.05 5671.72,-77.86 5676.96,-73.22\"/>\n</g>\n<!-- 87 -->\n<g id=\"node88\" class=\"node\">\n<title>87</title>\n<path fill=\"#55abe9\" stroke=\"black\" d=\"M5926,-194.5C5926,-194.5 5801,-194.5 5801,-194.5 5795,-194.5 5789,-188.5 5789,-182.5 5789,-182.5 5789,-123.5 5789,-123.5 5789,-117.5 5795,-111.5 5801,-111.5 5801,-111.5 5926,-111.5 5926,-111.5 5932,-111.5 5938,-117.5 5938,-123.5 5938,-123.5 5938,-182.5 5938,-182.5 5938,-188.5 5932,-194.5 5926,-194.5\"/>\n<text text-anchor=\"middle\" x=\"5863.5\" y=\"-179.3\" font-family=\"Helvetica,sans-Serif\" font-size=\"14.00\">SalePriceMM &lt;= 1.84</text>\n<text text-anchor=\"middle\" x=\"5863.5\" y=\"-164.3\" font-family=\"Helvetica,sans-Serif\" font-size=\"14.00\">gini = 0.219</text>\n<text text-anchor=\"middle\" x=\"5863.5\" y=\"-149.3\" font-family=\"Helvetica,sans-Serif\" font-size=\"14.00\">samples = 5.0%</text>\n<text text-anchor=\"middle\" x=\"5863.5\" y=\"-134.3\" font-family=\"Helvetica,sans-Serif\" font-size=\"14.00\">value = [0.125, 0.875]</text>\n<text text-anchor=\"middle\" x=\"5863.5\" y=\"-119.3\" font-family=\"Helvetica,sans-Serif\" font-size=\"14.00\">class = MM</text>\n</g>\n<!-- 85&#45;&gt;87 -->\n<g id=\"edge87\" class=\"edge\">\n<title>85&#45;&gt;87</title>\n<path fill=\"none\" stroke=\"black\" d=\"M5863.5,-230.41C5863.5,-222.15 5863.5,-213.36 5863.5,-204.8\"/>\n<polygon fill=\"black\" stroke=\"black\" points=\"5867,-204.52 5863.5,-194.52 5860,-204.52 5867,-204.52\"/>\n</g>\n<!-- 88 -->\n<g id=\"node89\" class=\"node\">\n<title>88</title>\n<path fill=\"#4ba6e7\" stroke=\"black\" d=\"M5850,-68C5850,-68 5727,-68 5727,-68 5721,-68 5715,-62 5715,-56 5715,-56 5715,-12 5715,-12 5715,-6 5721,0 5727,0 5727,0 5850,0 5850,0 5856,0 5862,-6 5862,-12 5862,-12 5862,-56 5862,-56 5862,-62 5856,-68 5850,-68\"/>\n<text text-anchor=\"middle\" x=\"5788.5\" y=\"-52.8\" font-family=\"Helvetica,sans-Serif\" font-size=\"14.00\">gini = 0.153</text>\n<text text-anchor=\"middle\" x=\"5788.5\" y=\"-37.8\" font-family=\"Helvetica,sans-Serif\" font-size=\"14.00\">samples = 4.5%</text>\n<text text-anchor=\"middle\" x=\"5788.5\" y=\"-22.8\" font-family=\"Helvetica,sans-Serif\" font-size=\"14.00\">value = [0.083, 0.917]</text>\n<text text-anchor=\"middle\" x=\"5788.5\" y=\"-7.8\" font-family=\"Helvetica,sans-Serif\" font-size=\"14.00\">class = MM</text>\n</g>\n<!-- 87&#45;&gt;88 -->\n<g id=\"edge88\" class=\"edge\">\n<title>87&#45;&gt;88</title>\n<path fill=\"none\" stroke=\"black\" d=\"M5837.48,-111.41C5830.26,-100.15 5822.42,-87.92 5815.17,-76.61\"/>\n<polygon fill=\"black\" stroke=\"black\" points=\"5818.1,-74.7 5809.76,-68.17 5812.21,-78.47 5818.1,-74.7\"/>\n</g>\n<!-- 89 -->\n<g id=\"node90\" class=\"node\">\n<title>89</title>\n<path fill=\"#ffffff\" stroke=\"black\" d=\"M5985,-68C5985,-68 5892,-68 5892,-68 5886,-68 5880,-62 5880,-56 5880,-56 5880,-12 5880,-12 5880,-6 5886,0 5892,0 5892,0 5985,0 5985,0 5991,0 5997,-6 5997,-12 5997,-12 5997,-56 5997,-56 5997,-62 5991,-68 5985,-68\"/>\n<text text-anchor=\"middle\" x=\"5938.5\" y=\"-52.8\" font-family=\"Helvetica,sans-Serif\" font-size=\"14.00\">gini = 0.5</text>\n<text text-anchor=\"middle\" x=\"5938.5\" y=\"-37.8\" font-family=\"Helvetica,sans-Serif\" font-size=\"14.00\">samples = 0.5%</text>\n<text text-anchor=\"middle\" x=\"5938.5\" y=\"-22.8\" font-family=\"Helvetica,sans-Serif\" font-size=\"14.00\">value = [0.5, 0.5]</text>\n<text text-anchor=\"middle\" x=\"5938.5\" y=\"-7.8\" font-family=\"Helvetica,sans-Serif\" font-size=\"14.00\">class = CH</text>\n</g>\n<!-- 87&#45;&gt;89 -->\n<g id=\"edge89\" class=\"edge\">\n<title>87&#45;&gt;89</title>\n<path fill=\"none\" stroke=\"black\" d=\"M5889.52,-111.41C5896.74,-100.15 5904.58,-87.92 5911.83,-76.61\"/>\n<polygon fill=\"black\" stroke=\"black\" points=\"5914.79,-78.47 5917.24,-68.17 5908.9,-74.7 5914.79,-78.47\"/>\n</g>\n<!-- 91 -->\n<g id=\"node92\" class=\"node\">\n<title>91</title>\n<path fill=\"#bddef6\" stroke=\"black\" d=\"M6284.5,-194.5C6284.5,-194.5 6182.5,-194.5 6182.5,-194.5 6176.5,-194.5 6170.5,-188.5 6170.5,-182.5 6170.5,-182.5 6170.5,-123.5 6170.5,-123.5 6170.5,-117.5 6176.5,-111.5 6182.5,-111.5 6182.5,-111.5 6284.5,-111.5 6284.5,-111.5 6290.5,-111.5 6296.5,-117.5 6296.5,-123.5 6296.5,-123.5 6296.5,-182.5 6296.5,-182.5 6296.5,-188.5 6290.5,-194.5 6284.5,-194.5\"/>\n<text text-anchor=\"middle\" x=\"6233.5\" y=\"-179.3\" font-family=\"Helvetica,sans-Serif\" font-size=\"14.00\">LoyalCH &lt;= 0.562</text>\n<text text-anchor=\"middle\" x=\"6233.5\" y=\"-164.3\" font-family=\"Helvetica,sans-Serif\" font-size=\"14.00\">gini = 0.48</text>\n<text text-anchor=\"middle\" x=\"6233.5\" y=\"-149.3\" font-family=\"Helvetica,sans-Serif\" font-size=\"14.00\">samples = 1.2%</text>\n<text text-anchor=\"middle\" x=\"6233.5\" y=\"-134.3\" font-family=\"Helvetica,sans-Serif\" font-size=\"14.00\">value = [0.4, 0.6]</text>\n<text text-anchor=\"middle\" x=\"6233.5\" y=\"-119.3\" font-family=\"Helvetica,sans-Serif\" font-size=\"14.00\">class = MM</text>\n</g>\n<!-- 90&#45;&gt;91 -->\n<g id=\"edge91\" class=\"edge\">\n<title>90&#45;&gt;91</title>\n<path fill=\"none\" stroke=\"black\" d=\"M6280.52,-230.41C6275.1,-221.6 6269.32,-212.2 6263.72,-203.11\"/>\n<polygon fill=\"black\" stroke=\"black\" points=\"6266.66,-201.2 6258.44,-194.52 6260.7,-204.87 6266.66,-201.2\"/>\n</g>\n<!-- 94 -->\n<g id=\"node95\" class=\"node\">\n<title>94</title>\n<path fill=\"#eca06a\" stroke=\"black\" d=\"M6428.5,-194.5C6428.5,-194.5 6326.5,-194.5 6326.5,-194.5 6320.5,-194.5 6314.5,-188.5 6314.5,-182.5 6314.5,-182.5 6314.5,-123.5 6314.5,-123.5 6314.5,-117.5 6320.5,-111.5 6326.5,-111.5 6326.5,-111.5 6428.5,-111.5 6428.5,-111.5 6434.5,-111.5 6440.5,-117.5 6440.5,-123.5 6440.5,-123.5 6440.5,-182.5 6440.5,-182.5 6440.5,-188.5 6434.5,-194.5 6428.5,-194.5\"/>\n<text text-anchor=\"middle\" x=\"6377.5\" y=\"-179.3\" font-family=\"Helvetica,sans-Serif\" font-size=\"14.00\">LoyalCH &lt;= 0.748</text>\n<text text-anchor=\"middle\" x=\"6377.5\" y=\"-164.3\" font-family=\"Helvetica,sans-Serif\" font-size=\"14.00\">gini = 0.32</text>\n<text text-anchor=\"middle\" x=\"6377.5\" y=\"-149.3\" font-family=\"Helvetica,sans-Serif\" font-size=\"14.00\">samples = 0.6%</text>\n<text text-anchor=\"middle\" x=\"6377.5\" y=\"-134.3\" font-family=\"Helvetica,sans-Serif\" font-size=\"14.00\">value = [0.8, 0.2]</text>\n<text text-anchor=\"middle\" x=\"6377.5\" y=\"-119.3\" font-family=\"Helvetica,sans-Serif\" font-size=\"14.00\">class = CH</text>\n</g>\n<!-- 90&#45;&gt;94 -->\n<g id=\"edge94\" class=\"edge\">\n<title>90&#45;&gt;94</title>\n<path fill=\"none\" stroke=\"black\" d=\"M6330.48,-230.41C6335.9,-221.6 6341.68,-212.2 6347.28,-203.11\"/>\n<polygon fill=\"black\" stroke=\"black\" points=\"6350.3,-204.87 6352.56,-194.52 6344.34,-201.2 6350.3,-204.87\"/>\n</g>\n<!-- 92 -->\n<g id=\"node93\" class=\"node\">\n<title>92</title>\n<path fill=\"#f2c09c\" stroke=\"black\" d=\"M6150,-68C6150,-68 6027,-68 6027,-68 6021,-68 6015,-62 6015,-56 6015,-56 6015,-12 6015,-12 6015,-6 6021,0 6027,0 6027,0 6150,0 6150,0 6156,0 6162,-6 6162,-12 6162,-12 6162,-56 6162,-56 6162,-62 6156,-68 6150,-68\"/>\n<text text-anchor=\"middle\" x=\"6088.5\" y=\"-52.8\" font-family=\"Helvetica,sans-Serif\" font-size=\"14.00\">gini = 0.444</text>\n<text text-anchor=\"middle\" x=\"6088.5\" y=\"-37.8\" font-family=\"Helvetica,sans-Serif\" font-size=\"14.00\">samples = 0.8%</text>\n<text text-anchor=\"middle\" x=\"6088.5\" y=\"-22.8\" font-family=\"Helvetica,sans-Serif\" font-size=\"14.00\">value = [0.667, 0.333]</text>\n<text text-anchor=\"middle\" x=\"6088.5\" y=\"-7.8\" font-family=\"Helvetica,sans-Serif\" font-size=\"14.00\">class = CH</text>\n</g>\n<!-- 91&#45;&gt;92 -->\n<g id=\"edge92\" class=\"edge\">\n<title>91&#45;&gt;92</title>\n<path fill=\"none\" stroke=\"black\" d=\"M6183.19,-111.41C6168.42,-99.49 6152.29,-86.48 6137.6,-74.62\"/>\n<polygon fill=\"black\" stroke=\"black\" points=\"6139.58,-71.72 6129.6,-68.17 6135.19,-77.17 6139.58,-71.72\"/>\n</g>\n<!-- 93 -->\n<g id=\"node94\" class=\"node\">\n<title>93</title>\n<path fill=\"#399de5\" stroke=\"black\" d=\"M6285,-68C6285,-68 6192,-68 6192,-68 6186,-68 6180,-62 6180,-56 6180,-56 6180,-12 6180,-12 6180,-6 6186,0 6192,0 6192,0 6285,0 6285,0 6291,0 6297,-6 6297,-12 6297,-12 6297,-56 6297,-56 6297,-62 6291,-68 6285,-68\"/>\n<text text-anchor=\"middle\" x=\"6238.5\" y=\"-52.8\" font-family=\"Helvetica,sans-Serif\" font-size=\"14.00\">gini = 0.0</text>\n<text text-anchor=\"middle\" x=\"6238.5\" y=\"-37.8\" font-family=\"Helvetica,sans-Serif\" font-size=\"14.00\">samples = 0.5%</text>\n<text text-anchor=\"middle\" x=\"6238.5\" y=\"-22.8\" font-family=\"Helvetica,sans-Serif\" font-size=\"14.00\">value = [0.0, 1.0]</text>\n<text text-anchor=\"middle\" x=\"6238.5\" y=\"-7.8\" font-family=\"Helvetica,sans-Serif\" font-size=\"14.00\">class = MM</text>\n</g>\n<!-- 91&#45;&gt;93 -->\n<g id=\"edge93\" class=\"edge\">\n<title>91&#45;&gt;93</title>\n<path fill=\"none\" stroke=\"black\" d=\"M6235.23,-111.41C6235.69,-100.7 6236.19,-89.12 6236.65,-78.28\"/>\n<polygon fill=\"black\" stroke=\"black\" points=\"6240.15,-78.31 6237.08,-68.17 6233.16,-78.01 6240.15,-78.31\"/>\n</g>\n<!-- 95 -->\n<g id=\"node96\" class=\"node\">\n<title>95</title>\n<path fill=\"#e58139\" stroke=\"black\" d=\"M6420,-68C6420,-68 6327,-68 6327,-68 6321,-68 6315,-62 6315,-56 6315,-56 6315,-12 6315,-12 6315,-6 6321,0 6327,0 6327,0 6420,0 6420,0 6426,0 6432,-6 6432,-12 6432,-12 6432,-56 6432,-56 6432,-62 6426,-68 6420,-68\"/>\n<text text-anchor=\"middle\" x=\"6373.5\" y=\"-52.8\" font-family=\"Helvetica,sans-Serif\" font-size=\"14.00\">gini = 0.0</text>\n<text text-anchor=\"middle\" x=\"6373.5\" y=\"-37.8\" font-family=\"Helvetica,sans-Serif\" font-size=\"14.00\">samples = 0.5%</text>\n<text text-anchor=\"middle\" x=\"6373.5\" y=\"-22.8\" font-family=\"Helvetica,sans-Serif\" font-size=\"14.00\">value = [1.0, 0.0]</text>\n<text text-anchor=\"middle\" x=\"6373.5\" y=\"-7.8\" font-family=\"Helvetica,sans-Serif\" font-size=\"14.00\">class = CH</text>\n</g>\n<!-- 94&#45;&gt;95 -->\n<g id=\"edge95\" class=\"edge\">\n<title>94&#45;&gt;95</title>\n<path fill=\"none\" stroke=\"black\" d=\"M6376.11,-111.41C6375.75,-100.7 6375.35,-89.12 6374.98,-78.28\"/>\n<polygon fill=\"black\" stroke=\"black\" points=\"6378.47,-78.04 6374.63,-68.17 6371.48,-78.28 6378.47,-78.04\"/>\n</g>\n<!-- 96 -->\n<g id=\"node97\" class=\"node\">\n<title>96</title>\n<path fill=\"#399de5\" stroke=\"black\" d=\"M6555,-68C6555,-68 6462,-68 6462,-68 6456,-68 6450,-62 6450,-56 6450,-56 6450,-12 6450,-12 6450,-6 6456,0 6462,0 6462,0 6555,0 6555,0 6561,0 6567,-6 6567,-12 6567,-12 6567,-56 6567,-56 6567,-62 6561,-68 6555,-68\"/>\n<text text-anchor=\"middle\" x=\"6508.5\" y=\"-52.8\" font-family=\"Helvetica,sans-Serif\" font-size=\"14.00\">gini = 0.0</text>\n<text text-anchor=\"middle\" x=\"6508.5\" y=\"-37.8\" font-family=\"Helvetica,sans-Serif\" font-size=\"14.00\">samples = 0.1%</text>\n<text text-anchor=\"middle\" x=\"6508.5\" y=\"-22.8\" font-family=\"Helvetica,sans-Serif\" font-size=\"14.00\">value = [0.0, 1.0]</text>\n<text text-anchor=\"middle\" x=\"6508.5\" y=\"-7.8\" font-family=\"Helvetica,sans-Serif\" font-size=\"14.00\">class = MM</text>\n</g>\n<!-- 94&#45;&gt;96 -->\n<g id=\"edge96\" class=\"edge\">\n<title>94&#45;&gt;96</title>\n<path fill=\"none\" stroke=\"black\" d=\"M6422.95,-111.41C6436.17,-99.6 6450.6,-86.72 6463.77,-74.95\"/>\n<polygon fill=\"black\" stroke=\"black\" points=\"6466.24,-77.44 6471.36,-68.17 6461.57,-72.22 6466.24,-77.44\"/>\n</g>\n<!-- 98 -->\n<g id=\"node99\" class=\"node\">\n<title>98</title>\n<path fill=\"#eb9d65\" stroke=\"black\" d=\"M7005,-313.5C7005,-313.5 6882,-313.5 6882,-313.5 6876,-313.5 6870,-307.5 6870,-301.5 6870,-301.5 6870,-242.5 6870,-242.5 6870,-236.5 6876,-230.5 6882,-230.5 6882,-230.5 7005,-230.5 7005,-230.5 7011,-230.5 7017,-236.5 7017,-242.5 7017,-242.5 7017,-301.5 7017,-301.5 7017,-307.5 7011,-313.5 7005,-313.5\"/>\n<text text-anchor=\"middle\" x=\"6943.5\" y=\"-298.3\" font-family=\"Helvetica,sans-Serif\" font-size=\"14.00\">LoyalCH &lt;= 0.55</text>\n<text text-anchor=\"middle\" x=\"6943.5\" y=\"-283.3\" font-family=\"Helvetica,sans-Serif\" font-size=\"14.00\">gini = 0.298</text>\n<text text-anchor=\"middle\" x=\"6943.5\" y=\"-268.3\" font-family=\"Helvetica,sans-Serif\" font-size=\"14.00\">samples = 1.4%</text>\n<text text-anchor=\"middle\" x=\"6943.5\" y=\"-253.3\" font-family=\"Helvetica,sans-Serif\" font-size=\"14.00\">value = [0.818, 0.182]</text>\n<text text-anchor=\"middle\" x=\"6943.5\" y=\"-238.3\" font-family=\"Helvetica,sans-Serif\" font-size=\"14.00\">class = CH</text>\n</g>\n<!-- 97&#45;&gt;98 -->\n<g id=\"edge98\" class=\"edge\">\n<title>97&#45;&gt;98</title>\n<path fill=\"none\" stroke=\"black\" d=\"M7023.83,-349.41C7014,-340.06 7003.46,-330.04 6993.36,-320.43\"/>\n<polygon fill=\"black\" stroke=\"black\" points=\"6995.76,-317.88 6986.1,-313.52 6990.93,-322.95 6995.76,-317.88\"/>\n</g>\n<!-- 103 -->\n<g id=\"node104\" class=\"node\">\n<title>103</title>\n<path fill=\"#cee6f8\" stroke=\"black\" d=\"M7233,-313.5C7233,-313.5 7080,-313.5 7080,-313.5 7074,-313.5 7068,-307.5 7068,-301.5 7068,-301.5 7068,-242.5 7068,-242.5 7068,-236.5 7074,-230.5 7080,-230.5 7080,-230.5 7233,-230.5 7233,-230.5 7239,-230.5 7245,-236.5 7245,-242.5 7245,-242.5 7245,-301.5 7245,-301.5 7245,-307.5 7239,-313.5 7233,-313.5\"/>\n<text text-anchor=\"middle\" x=\"7156.5\" y=\"-298.3\" font-family=\"Helvetica,sans-Serif\" font-size=\"14.00\">WeekofPurchase &lt;= 268.0</text>\n<text text-anchor=\"middle\" x=\"7156.5\" y=\"-283.3\" font-family=\"Helvetica,sans-Serif\" font-size=\"14.00\">gini = 0.49</text>\n<text text-anchor=\"middle\" x=\"7156.5\" y=\"-268.3\" font-family=\"Helvetica,sans-Serif\" font-size=\"14.00\">samples = 1.8%</text>\n<text text-anchor=\"middle\" x=\"7156.5\" y=\"-253.3\" font-family=\"Helvetica,sans-Serif\" font-size=\"14.00\">value = [0.429, 0.571]</text>\n<text text-anchor=\"middle\" x=\"7156.5\" y=\"-238.3\" font-family=\"Helvetica,sans-Serif\" font-size=\"14.00\">class = MM</text>\n</g>\n<!-- 97&#45;&gt;103 -->\n<g id=\"edge103\" class=\"edge\">\n<title>97&#45;&gt;103</title>\n<path fill=\"none\" stroke=\"black\" d=\"M7097.73,-349.41C7104.64,-340.42 7112.03,-330.82 7119.15,-321.55\"/>\n<polygon fill=\"black\" stroke=\"black\" points=\"7122.01,-323.58 7125.33,-313.52 7116.46,-319.31 7122.01,-323.58\"/>\n</g>\n<!-- 99 -->\n<g id=\"node100\" class=\"node\">\n<title>99</title>\n<path fill=\"#ffffff\" stroke=\"black\" d=\"M6842.5,-194.5C6842.5,-194.5 6744.5,-194.5 6744.5,-194.5 6738.5,-194.5 6732.5,-188.5 6732.5,-182.5 6732.5,-182.5 6732.5,-123.5 6732.5,-123.5 6732.5,-117.5 6738.5,-111.5 6744.5,-111.5 6744.5,-111.5 6842.5,-111.5 6842.5,-111.5 6848.5,-111.5 6854.5,-117.5 6854.5,-123.5 6854.5,-123.5 6854.5,-182.5 6854.5,-182.5 6854.5,-188.5 6848.5,-194.5 6842.5,-194.5\"/>\n<text text-anchor=\"middle\" x=\"6793.5\" y=\"-179.3\" font-family=\"Helvetica,sans-Serif\" font-size=\"14.00\">PriceMM &lt;= 1.89</text>\n<text text-anchor=\"middle\" x=\"6793.5\" y=\"-164.3\" font-family=\"Helvetica,sans-Serif\" font-size=\"14.00\">gini = 0.5</text>\n<text text-anchor=\"middle\" x=\"6793.5\" y=\"-149.3\" font-family=\"Helvetica,sans-Serif\" font-size=\"14.00\">samples = 0.5%</text>\n<text text-anchor=\"middle\" x=\"6793.5\" y=\"-134.3\" font-family=\"Helvetica,sans-Serif\" font-size=\"14.00\">value = [0.5, 0.5]</text>\n<text text-anchor=\"middle\" x=\"6793.5\" y=\"-119.3\" font-family=\"Helvetica,sans-Serif\" font-size=\"14.00\">class = CH</text>\n</g>\n<!-- 98&#45;&gt;99 -->\n<g id=\"edge99\" class=\"edge\">\n<title>98&#45;&gt;99</title>\n<path fill=\"none\" stroke=\"black\" d=\"M6891.46,-230.41C6879.24,-220.88 6866.13,-210.65 6853.59,-200.87\"/>\n<polygon fill=\"black\" stroke=\"black\" points=\"6855.49,-197.91 6845.45,-194.52 6851.18,-203.43 6855.49,-197.91\"/>\n</g>\n<!-- 102 -->\n<g id=\"node103\" class=\"node\">\n<title>102</title>\n<path fill=\"#e58139\" stroke=\"black\" d=\"M6990,-68C6990,-68 6897,-68 6897,-68 6891,-68 6885,-62 6885,-56 6885,-56 6885,-12 6885,-12 6885,-6 6891,0 6897,0 6897,0 6990,0 6990,0 6996,0 7002,-6 7002,-12 7002,-12 7002,-56 7002,-56 7002,-62 6996,-68 6990,-68\"/>\n<text text-anchor=\"middle\" x=\"6943.5\" y=\"-52.8\" font-family=\"Helvetica,sans-Serif\" font-size=\"14.00\">gini = 0.0</text>\n<text text-anchor=\"middle\" x=\"6943.5\" y=\"-37.8\" font-family=\"Helvetica,sans-Serif\" font-size=\"14.00\">samples = 0.9%</text>\n<text text-anchor=\"middle\" x=\"6943.5\" y=\"-22.8\" font-family=\"Helvetica,sans-Serif\" font-size=\"14.00\">value = [1.0, 0.0]</text>\n<text text-anchor=\"middle\" x=\"6943.5\" y=\"-7.8\" font-family=\"Helvetica,sans-Serif\" font-size=\"14.00\">class = CH</text>\n</g>\n<!-- 98&#45;&gt;102 -->\n<g id=\"edge102\" class=\"edge\">\n<title>98&#45;&gt;102</title>\n<path fill=\"none\" stroke=\"black\" d=\"M6943.5,-230.43C6943.5,-188.06 6943.5,-121.85 6943.5,-78.44\"/>\n<polygon fill=\"black\" stroke=\"black\" points=\"6947,-78.19 6943.5,-68.19 6940,-78.19 6947,-78.19\"/>\n</g>\n<!-- 100 -->\n<g id=\"node101\" class=\"node\">\n<title>100</title>\n<path fill=\"#e58139\" stroke=\"black\" d=\"M6690,-68C6690,-68 6597,-68 6597,-68 6591,-68 6585,-62 6585,-56 6585,-56 6585,-12 6585,-12 6585,-6 6591,0 6597,0 6597,0 6690,0 6690,0 6696,0 6702,-6 6702,-12 6702,-12 6702,-56 6702,-56 6702,-62 6696,-68 6690,-68\"/>\n<text text-anchor=\"middle\" x=\"6643.5\" y=\"-52.8\" font-family=\"Helvetica,sans-Serif\" font-size=\"14.00\">gini = 0.0</text>\n<text text-anchor=\"middle\" x=\"6643.5\" y=\"-37.8\" font-family=\"Helvetica,sans-Serif\" font-size=\"14.00\">samples = 0.1%</text>\n<text text-anchor=\"middle\" x=\"6643.5\" y=\"-22.8\" font-family=\"Helvetica,sans-Serif\" font-size=\"14.00\">value = [1.0, 0.0]</text>\n<text text-anchor=\"middle\" x=\"6643.5\" y=\"-7.8\" font-family=\"Helvetica,sans-Serif\" font-size=\"14.00\">class = CH</text>\n</g>\n<!-- 99&#45;&gt;100 -->\n<g id=\"edge100\" class=\"edge\">\n<title>99&#45;&gt;100</title>\n<path fill=\"none\" stroke=\"black\" d=\"M6741.46,-111.41C6726.18,-99.49 6709.49,-86.48 6694.29,-74.62\"/>\n<polygon fill=\"black\" stroke=\"black\" points=\"6696.06,-71.56 6686.02,-68.17 6691.75,-77.08 6696.06,-71.56\"/>\n</g>\n<!-- 101 -->\n<g id=\"node102\" class=\"node\">\n<title>101</title>\n<path fill=\"#9ccef2\" stroke=\"black\" d=\"M6855,-68C6855,-68 6732,-68 6732,-68 6726,-68 6720,-62 6720,-56 6720,-56 6720,-12 6720,-12 6720,-6 6726,0 6732,0 6732,0 6855,0 6855,0 6861,0 6867,-6 6867,-12 6867,-12 6867,-56 6867,-56 6867,-62 6861,-68 6855,-68\"/>\n<text text-anchor=\"middle\" x=\"6793.5\" y=\"-52.8\" font-family=\"Helvetica,sans-Serif\" font-size=\"14.00\">gini = 0.444</text>\n<text text-anchor=\"middle\" x=\"6793.5\" y=\"-37.8\" font-family=\"Helvetica,sans-Serif\" font-size=\"14.00\">samples = 0.4%</text>\n<text text-anchor=\"middle\" x=\"6793.5\" y=\"-22.8\" font-family=\"Helvetica,sans-Serif\" font-size=\"14.00\">value = [0.333, 0.667]</text>\n<text text-anchor=\"middle\" x=\"6793.5\" y=\"-7.8\" font-family=\"Helvetica,sans-Serif\" font-size=\"14.00\">class = MM</text>\n</g>\n<!-- 99&#45;&gt;101 -->\n<g id=\"edge101\" class=\"edge\">\n<title>99&#45;&gt;101</title>\n<path fill=\"none\" stroke=\"black\" d=\"M6793.5,-111.41C6793.5,-100.7 6793.5,-89.12 6793.5,-78.28\"/>\n<polygon fill=\"black\" stroke=\"black\" points=\"6797,-78.17 6793.5,-68.17 6790,-78.17 6797,-78.17\"/>\n</g>\n<!-- 104 -->\n<g id=\"node105\" class=\"node\">\n<title>104</title>\n<path fill=\"#7bbeee\" stroke=\"black\" d=\"M7210.5,-194.5C7210.5,-194.5 7102.5,-194.5 7102.5,-194.5 7096.5,-194.5 7090.5,-188.5 7090.5,-182.5 7090.5,-182.5 7090.5,-123.5 7090.5,-123.5 7090.5,-117.5 7096.5,-111.5 7102.5,-111.5 7102.5,-111.5 7210.5,-111.5 7210.5,-111.5 7216.5,-111.5 7222.5,-117.5 7222.5,-123.5 7222.5,-123.5 7222.5,-182.5 7222.5,-182.5 7222.5,-188.5 7216.5,-194.5 7210.5,-194.5\"/>\n<text text-anchor=\"middle\" x=\"7156.5\" y=\"-179.3\" font-family=\"Helvetica,sans-Serif\" font-size=\"14.00\">StoreID &lt;= 3.5</text>\n<text text-anchor=\"middle\" x=\"7156.5\" y=\"-164.3\" font-family=\"Helvetica,sans-Serif\" font-size=\"14.00\">gini = 0.375</text>\n<text text-anchor=\"middle\" x=\"7156.5\" y=\"-149.3\" font-family=\"Helvetica,sans-Serif\" font-size=\"14.00\">samples = 1.0%</text>\n<text text-anchor=\"middle\" x=\"7156.5\" y=\"-134.3\" font-family=\"Helvetica,sans-Serif\" font-size=\"14.00\">value = [0.25, 0.75]</text>\n<text text-anchor=\"middle\" x=\"7156.5\" y=\"-119.3\" font-family=\"Helvetica,sans-Serif\" font-size=\"14.00\">class = MM</text>\n</g>\n<!-- 103&#45;&gt;104 -->\n<g id=\"edge104\" class=\"edge\">\n<title>103&#45;&gt;104</title>\n<path fill=\"none\" stroke=\"black\" d=\"M7156.5,-230.41C7156.5,-222.15 7156.5,-213.36 7156.5,-204.8\"/>\n<polygon fill=\"black\" stroke=\"black\" points=\"7160,-204.52 7156.5,-194.52 7153,-204.52 7160,-204.52\"/>\n</g>\n<!-- 107 -->\n<g id=\"node108\" class=\"node\">\n<title>107</title>\n<path fill=\"#f2c09c\" stroke=\"black\" d=\"M7410,-194.5C7410,-194.5 7287,-194.5 7287,-194.5 7281,-194.5 7275,-188.5 7275,-182.5 7275,-182.5 7275,-123.5 7275,-123.5 7275,-117.5 7281,-111.5 7287,-111.5 7287,-111.5 7410,-111.5 7410,-111.5 7416,-111.5 7422,-117.5 7422,-123.5 7422,-123.5 7422,-182.5 7422,-182.5 7422,-188.5 7416,-194.5 7410,-194.5\"/>\n<text text-anchor=\"middle\" x=\"7348.5\" y=\"-179.3\" font-family=\"Helvetica,sans-Serif\" font-size=\"14.00\">StoreID &lt;= 3.5</text>\n<text text-anchor=\"middle\" x=\"7348.5\" y=\"-164.3\" font-family=\"Helvetica,sans-Serif\" font-size=\"14.00\">gini = 0.444</text>\n<text text-anchor=\"middle\" x=\"7348.5\" y=\"-149.3\" font-family=\"Helvetica,sans-Serif\" font-size=\"14.00\">samples = 0.8%</text>\n<text text-anchor=\"middle\" x=\"7348.5\" y=\"-134.3\" font-family=\"Helvetica,sans-Serif\" font-size=\"14.00\">value = [0.667, 0.333]</text>\n<text text-anchor=\"middle\" x=\"7348.5\" y=\"-119.3\" font-family=\"Helvetica,sans-Serif\" font-size=\"14.00\">class = CH</text>\n</g>\n<!-- 103&#45;&gt;107 -->\n<g id=\"edge107\" class=\"edge\">\n<title>103&#45;&gt;107</title>\n<path fill=\"none\" stroke=\"black\" d=\"M7223.11,-230.41C7239.35,-220.52 7256.82,-209.87 7273.42,-199.75\"/>\n<polygon fill=\"black\" stroke=\"black\" points=\"7275.29,-202.71 7282,-194.52 7271.64,-196.74 7275.29,-202.71\"/>\n</g>\n<!-- 105 -->\n<g id=\"node106\" class=\"node\">\n<title>105</title>\n<path fill=\"#399de5\" stroke=\"black\" d=\"M7125,-68C7125,-68 7032,-68 7032,-68 7026,-68 7020,-62 7020,-56 7020,-56 7020,-12 7020,-12 7020,-6 7026,0 7032,0 7032,0 7125,0 7125,0 7131,0 7137,-6 7137,-12 7137,-12 7137,-56 7137,-56 7137,-62 7131,-68 7125,-68\"/>\n<text text-anchor=\"middle\" x=\"7078.5\" y=\"-52.8\" font-family=\"Helvetica,sans-Serif\" font-size=\"14.00\">gini = 0.0</text>\n<text text-anchor=\"middle\" x=\"7078.5\" y=\"-37.8\" font-family=\"Helvetica,sans-Serif\" font-size=\"14.00\">samples = 0.5%</text>\n<text text-anchor=\"middle\" x=\"7078.5\" y=\"-22.8\" font-family=\"Helvetica,sans-Serif\" font-size=\"14.00\">value = [0.0, 1.0]</text>\n<text text-anchor=\"middle\" x=\"7078.5\" y=\"-7.8\" font-family=\"Helvetica,sans-Serif\" font-size=\"14.00\">class = MM</text>\n</g>\n<!-- 104&#45;&gt;105 -->\n<g id=\"edge105\" class=\"edge\">\n<title>104&#45;&gt;105</title>\n<path fill=\"none\" stroke=\"black\" d=\"M7129.44,-111.41C7121.93,-100.15 7113.78,-87.92 7106.24,-76.61\"/>\n<polygon fill=\"black\" stroke=\"black\" points=\"7109.07,-74.55 7100.61,-68.17 7103.25,-78.43 7109.07,-74.55\"/>\n</g>\n<!-- 106 -->\n<g id=\"node107\" class=\"node\">\n<title>106</title>\n<path fill=\"#ffffff\" stroke=\"black\" d=\"M7260,-68C7260,-68 7167,-68 7167,-68 7161,-68 7155,-62 7155,-56 7155,-56 7155,-12 7155,-12 7155,-6 7161,0 7167,0 7167,0 7260,0 7260,0 7266,0 7272,-6 7272,-12 7272,-12 7272,-56 7272,-56 7272,-62 7266,-68 7260,-68\"/>\n<text text-anchor=\"middle\" x=\"7213.5\" y=\"-52.8\" font-family=\"Helvetica,sans-Serif\" font-size=\"14.00\">gini = 0.5</text>\n<text text-anchor=\"middle\" x=\"7213.5\" y=\"-37.8\" font-family=\"Helvetica,sans-Serif\" font-size=\"14.00\">samples = 0.5%</text>\n<text text-anchor=\"middle\" x=\"7213.5\" y=\"-22.8\" font-family=\"Helvetica,sans-Serif\" font-size=\"14.00\">value = [0.5, 0.5]</text>\n<text text-anchor=\"middle\" x=\"7213.5\" y=\"-7.8\" font-family=\"Helvetica,sans-Serif\" font-size=\"14.00\">class = CH</text>\n</g>\n<!-- 104&#45;&gt;106 -->\n<g id=\"edge106\" class=\"edge\">\n<title>104&#45;&gt;106</title>\n<path fill=\"none\" stroke=\"black\" d=\"M7176.28,-111.41C7181.65,-100.37 7187.49,-88.4 7192.91,-77.27\"/>\n<polygon fill=\"black\" stroke=\"black\" points=\"7196.11,-78.69 7197.34,-68.17 7189.82,-75.62 7196.11,-78.69\"/>\n</g>\n<!-- 108 -->\n<g id=\"node109\" class=\"node\">\n<title>108</title>\n<path fill=\"#e58139\" stroke=\"black\" d=\"M7395,-68C7395,-68 7302,-68 7302,-68 7296,-68 7290,-62 7290,-56 7290,-56 7290,-12 7290,-12 7290,-6 7296,0 7302,0 7302,0 7395,0 7395,0 7401,0 7407,-6 7407,-12 7407,-12 7407,-56 7407,-56 7407,-62 7401,-68 7395,-68\"/>\n<text text-anchor=\"middle\" x=\"7348.5\" y=\"-52.8\" font-family=\"Helvetica,sans-Serif\" font-size=\"14.00\">gini = 0.0</text>\n<text text-anchor=\"middle\" x=\"7348.5\" y=\"-37.8\" font-family=\"Helvetica,sans-Serif\" font-size=\"14.00\">samples = 0.2%</text>\n<text text-anchor=\"middle\" x=\"7348.5\" y=\"-22.8\" font-family=\"Helvetica,sans-Serif\" font-size=\"14.00\">value = [1.0, 0.0]</text>\n<text text-anchor=\"middle\" x=\"7348.5\" y=\"-7.8\" font-family=\"Helvetica,sans-Serif\" font-size=\"14.00\">class = CH</text>\n</g>\n<!-- 107&#45;&gt;108 -->\n<g id=\"edge108\" class=\"edge\">\n<title>107&#45;&gt;108</title>\n<path fill=\"none\" stroke=\"black\" d=\"M7348.5,-111.41C7348.5,-100.7 7348.5,-89.12 7348.5,-78.28\"/>\n<polygon fill=\"black\" stroke=\"black\" points=\"7352,-78.17 7348.5,-68.17 7345,-78.17 7352,-78.17\"/>\n</g>\n<!-- 109 -->\n<g id=\"node110\" class=\"node\">\n<title>109</title>\n<path fill=\"#ffffff\" stroke=\"black\" d=\"M7530,-68C7530,-68 7437,-68 7437,-68 7431,-68 7425,-62 7425,-56 7425,-56 7425,-12 7425,-12 7425,-6 7431,0 7437,0 7437,0 7530,0 7530,0 7536,0 7542,-6 7542,-12 7542,-12 7542,-56 7542,-56 7542,-62 7536,-68 7530,-68\"/>\n<text text-anchor=\"middle\" x=\"7483.5\" y=\"-52.8\" font-family=\"Helvetica,sans-Serif\" font-size=\"14.00\">gini = 0.5</text>\n<text text-anchor=\"middle\" x=\"7483.5\" y=\"-37.8\" font-family=\"Helvetica,sans-Serif\" font-size=\"14.00\">samples = 0.5%</text>\n<text text-anchor=\"middle\" x=\"7483.5\" y=\"-22.8\" font-family=\"Helvetica,sans-Serif\" font-size=\"14.00\">value = [0.5, 0.5]</text>\n<text text-anchor=\"middle\" x=\"7483.5\" y=\"-7.8\" font-family=\"Helvetica,sans-Serif\" font-size=\"14.00\">class = CH</text>\n</g>\n<!-- 107&#45;&gt;109 -->\n<g id=\"edge109\" class=\"edge\">\n<title>107&#45;&gt;109</title>\n<path fill=\"none\" stroke=\"black\" d=\"M7395.34,-111.41C7408.96,-99.6 7423.83,-86.72 7437.4,-74.95\"/>\n<polygon fill=\"black\" stroke=\"black\" points=\"7439.97,-77.36 7445.23,-68.17 7435.38,-72.07 7439.97,-77.36\"/>\n</g>\n<!-- 111 -->\n<g id=\"node112\" class=\"node\">\n<title>111</title>\n<path fill=\"#ffffff\" stroke=\"black\" d=\"M8130,-432.5C8130,-432.5 8037,-432.5 8037,-432.5 8031,-432.5 8025,-426.5 8025,-420.5 8025,-420.5 8025,-361.5 8025,-361.5 8025,-355.5 8031,-349.5 8037,-349.5 8037,-349.5 8130,-349.5 8130,-349.5 8136,-349.5 8142,-355.5 8142,-361.5 8142,-361.5 8142,-420.5 8142,-420.5 8142,-426.5 8136,-432.5 8130,-432.5\"/>\n<text text-anchor=\"middle\" x=\"8083.5\" y=\"-417.3\" font-family=\"Helvetica,sans-Serif\" font-size=\"14.00\">STORE &lt;= 1.5</text>\n<text text-anchor=\"middle\" x=\"8083.5\" y=\"-402.3\" font-family=\"Helvetica,sans-Serif\" font-size=\"14.00\">gini = 0.5</text>\n<text text-anchor=\"middle\" x=\"8083.5\" y=\"-387.3\" font-family=\"Helvetica,sans-Serif\" font-size=\"14.00\">samples = 1.2%</text>\n<text text-anchor=\"middle\" x=\"8083.5\" y=\"-372.3\" font-family=\"Helvetica,sans-Serif\" font-size=\"14.00\">value = [0.5, 0.5]</text>\n<text text-anchor=\"middle\" x=\"8083.5\" y=\"-357.3\" font-family=\"Helvetica,sans-Serif\" font-size=\"14.00\">class = CH</text>\n</g>\n<!-- 110&#45;&gt;111 -->\n<g id=\"edge111\" class=\"edge\">\n<title>110&#45;&gt;111</title>\n<path fill=\"none\" stroke=\"black\" d=\"M8171.66,-468.41C8160.77,-458.97 8149.09,-448.84 8137.9,-439.15\"/>\n<polygon fill=\"black\" stroke=\"black\" points=\"8140.1,-436.43 8130.25,-432.52 8135.52,-441.72 8140.1,-436.43\"/>\n</g>\n<!-- 118 -->\n<g id=\"node119\" class=\"node\">\n<title>118</title>\n<path fill=\"#e99457\" stroke=\"black\" d=\"M8478,-432.5C8478,-432.5 8363,-432.5 8363,-432.5 8357,-432.5 8351,-426.5 8351,-420.5 8351,-420.5 8351,-361.5 8351,-361.5 8351,-355.5 8357,-349.5 8363,-349.5 8363,-349.5 8478,-349.5 8478,-349.5 8484,-349.5 8490,-355.5 8490,-361.5 8490,-361.5 8490,-420.5 8490,-420.5 8490,-426.5 8484,-432.5 8478,-432.5\"/>\n<text text-anchor=\"middle\" x=\"8420.5\" y=\"-417.3\" font-family=\"Helvetica,sans-Serif\" font-size=\"14.00\">ListPriceDiff &lt;= 0.31</text>\n<text text-anchor=\"middle\" x=\"8420.5\" y=\"-402.3\" font-family=\"Helvetica,sans-Serif\" font-size=\"14.00\">gini = 0.227</text>\n<text text-anchor=\"middle\" x=\"8420.5\" y=\"-387.3\" font-family=\"Helvetica,sans-Serif\" font-size=\"14.00\">samples = 2.9%</text>\n<text text-anchor=\"middle\" x=\"8420.5\" y=\"-372.3\" font-family=\"Helvetica,sans-Serif\" font-size=\"14.00\">value = [0.87, 0.13]</text>\n<text text-anchor=\"middle\" x=\"8420.5\" y=\"-357.3\" font-family=\"Helvetica,sans-Serif\" font-size=\"14.00\">class = CH</text>\n</g>\n<!-- 110&#45;&gt;118 -->\n<g id=\"edge118\" class=\"edge\">\n<title>110&#45;&gt;118</title>\n<path fill=\"none\" stroke=\"black\" d=\"M8288.58,-468.41C8305.76,-458.46 8324.25,-447.75 8341.8,-437.58\"/>\n<polygon fill=\"black\" stroke=\"black\" points=\"8343.98,-440.36 8350.88,-432.32 8340.48,-434.31 8343.98,-440.36\"/>\n</g>\n<!-- 112 -->\n<g id=\"node113\" class=\"node\">\n<title>112</title>\n<path fill=\"#b0d8f5\" stroke=\"black\" d=\"M7950,-313.5C7950,-313.5 7797,-313.5 7797,-313.5 7791,-313.5 7785,-307.5 7785,-301.5 7785,-301.5 7785,-242.5 7785,-242.5 7785,-236.5 7791,-230.5 7797,-230.5 7797,-230.5 7950,-230.5 7950,-230.5 7956,-230.5 7962,-236.5 7962,-242.5 7962,-242.5 7962,-301.5 7962,-301.5 7962,-307.5 7956,-313.5 7950,-313.5\"/>\n<text text-anchor=\"middle\" x=\"7873.5\" y=\"-298.3\" font-family=\"Helvetica,sans-Serif\" font-size=\"14.00\">WeekofPurchase &lt;= 233.5</text>\n<text text-anchor=\"middle\" x=\"7873.5\" y=\"-283.3\" font-family=\"Helvetica,sans-Serif\" font-size=\"14.00\">gini = 0.469</text>\n<text text-anchor=\"middle\" x=\"7873.5\" y=\"-268.3\" font-family=\"Helvetica,sans-Serif\" font-size=\"14.00\">samples = 1.0%</text>\n<text text-anchor=\"middle\" x=\"7873.5\" y=\"-253.3\" font-family=\"Helvetica,sans-Serif\" font-size=\"14.00\">value = [0.375, 0.625]</text>\n<text text-anchor=\"middle\" x=\"7873.5\" y=\"-238.3\" font-family=\"Helvetica,sans-Serif\" font-size=\"14.00\">class = MM</text>\n</g>\n<!-- 111&#45;&gt;112 -->\n<g id=\"edge112\" class=\"edge\">\n<title>111&#45;&gt;112</title>\n<path fill=\"none\" stroke=\"black\" d=\"M8024.72,-357.25C8003.21,-345.26 7978.45,-331.47 7955.28,-318.56\"/>\n<polygon fill=\"black\" stroke=\"black\" points=\"7956.93,-315.48 7946.49,-313.67 7953.52,-321.59 7956.93,-315.48\"/>\n</g>\n<!-- 117 -->\n<g id=\"node118\" class=\"node\">\n<title>117</title>\n<path fill=\"#e58139\" stroke=\"black\" d=\"M8130,-68C8130,-68 8037,-68 8037,-68 8031,-68 8025,-62 8025,-56 8025,-56 8025,-12 8025,-12 8025,-6 8031,0 8037,0 8037,0 8130,0 8130,0 8136,0 8142,-6 8142,-12 8142,-12 8142,-56 8142,-56 8142,-62 8136,-68 8130,-68\"/>\n<text text-anchor=\"middle\" x=\"8083.5\" y=\"-52.8\" font-family=\"Helvetica,sans-Serif\" font-size=\"14.00\">gini = 0.0</text>\n<text text-anchor=\"middle\" x=\"8083.5\" y=\"-37.8\" font-family=\"Helvetica,sans-Serif\" font-size=\"14.00\">samples = 0.2%</text>\n<text text-anchor=\"middle\" x=\"8083.5\" y=\"-22.8\" font-family=\"Helvetica,sans-Serif\" font-size=\"14.00\">value = [1.0, 0.0]</text>\n<text text-anchor=\"middle\" x=\"8083.5\" y=\"-7.8\" font-family=\"Helvetica,sans-Serif\" font-size=\"14.00\">class = CH</text>\n</g>\n<!-- 111&#45;&gt;117 -->\n<g id=\"edge117\" class=\"edge\">\n<title>111&#45;&gt;117</title>\n<path fill=\"none\" stroke=\"black\" d=\"M8083.5,-349.28C8083.5,-281.8 8083.5,-147.42 8083.5,-78.29\"/>\n<polygon fill=\"black\" stroke=\"black\" points=\"8087,-78.18 8083.5,-68.18 8080,-78.18 8087,-78.18\"/>\n</g>\n<!-- 113 -->\n<g id=\"node114\" class=\"node\">\n<title>113</title>\n<path fill=\"#f2c09c\" stroke=\"black\" d=\"M7695,-68C7695,-68 7572,-68 7572,-68 7566,-68 7560,-62 7560,-56 7560,-56 7560,-12 7560,-12 7560,-6 7566,0 7572,0 7572,0 7695,0 7695,0 7701,0 7707,-6 7707,-12 7707,-12 7707,-56 7707,-56 7707,-62 7701,-68 7695,-68\"/>\n<text text-anchor=\"middle\" x=\"7633.5\" y=\"-52.8\" font-family=\"Helvetica,sans-Serif\" font-size=\"14.00\">gini = 0.444</text>\n<text text-anchor=\"middle\" x=\"7633.5\" y=\"-37.8\" font-family=\"Helvetica,sans-Serif\" font-size=\"14.00\">samples = 0.4%</text>\n<text text-anchor=\"middle\" x=\"7633.5\" y=\"-22.8\" font-family=\"Helvetica,sans-Serif\" font-size=\"14.00\">value = [0.667, 0.333]</text>\n<text text-anchor=\"middle\" x=\"7633.5\" y=\"-7.8\" font-family=\"Helvetica,sans-Serif\" font-size=\"14.00\">class = CH</text>\n</g>\n<!-- 112&#45;&gt;113 -->\n<g id=\"edge113\" class=\"edge\">\n<title>112&#45;&gt;113</title>\n<path fill=\"none\" stroke=\"black\" d=\"M7832.24,-230.43C7788.15,-187.08 7718.67,-118.75 7674.63,-75.45\"/>\n<polygon fill=\"black\" stroke=\"black\" points=\"7676.84,-72.71 7667.25,-68.19 7671.93,-77.7 7676.84,-72.71\"/>\n</g>\n<!-- 114 -->\n<g id=\"node115\" class=\"node\">\n<title>114</title>\n<path fill=\"#6ab6ec\" stroke=\"black\" d=\"M7922.5,-194.5C7922.5,-194.5 7824.5,-194.5 7824.5,-194.5 7818.5,-194.5 7812.5,-188.5 7812.5,-182.5 7812.5,-182.5 7812.5,-123.5 7812.5,-123.5 7812.5,-117.5 7818.5,-111.5 7824.5,-111.5 7824.5,-111.5 7922.5,-111.5 7922.5,-111.5 7928.5,-111.5 7934.5,-117.5 7934.5,-123.5 7934.5,-123.5 7934.5,-182.5 7934.5,-182.5 7934.5,-188.5 7928.5,-194.5 7922.5,-194.5\"/>\n<text text-anchor=\"middle\" x=\"7873.5\" y=\"-179.3\" font-family=\"Helvetica,sans-Serif\" font-size=\"14.00\">PriceDiff &lt;= &#45;0.11</text>\n<text text-anchor=\"middle\" x=\"7873.5\" y=\"-164.3\" font-family=\"Helvetica,sans-Serif\" font-size=\"14.00\">gini = 0.32</text>\n<text text-anchor=\"middle\" x=\"7873.5\" y=\"-149.3\" font-family=\"Helvetica,sans-Serif\" font-size=\"14.00\">samples = 0.6%</text>\n<text text-anchor=\"middle\" x=\"7873.5\" y=\"-134.3\" font-family=\"Helvetica,sans-Serif\" font-size=\"14.00\">value = [0.2, 0.8]</text>\n<text text-anchor=\"middle\" x=\"7873.5\" y=\"-119.3\" font-family=\"Helvetica,sans-Serif\" font-size=\"14.00\">class = MM</text>\n</g>\n<!-- 112&#45;&gt;114 -->\n<g id=\"edge114\" class=\"edge\">\n<title>112&#45;&gt;114</title>\n<path fill=\"none\" stroke=\"black\" d=\"M7873.5,-230.41C7873.5,-222.15 7873.5,-213.36 7873.5,-204.8\"/>\n<polygon fill=\"black\" stroke=\"black\" points=\"7877,-204.52 7873.5,-194.52 7870,-204.52 7877,-204.52\"/>\n</g>\n<!-- 115 -->\n<g id=\"node116\" class=\"node\">\n<title>115</title>\n<path fill=\"#9ccef2\" stroke=\"black\" d=\"M7860,-68C7860,-68 7737,-68 7737,-68 7731,-68 7725,-62 7725,-56 7725,-56 7725,-12 7725,-12 7725,-6 7731,0 7737,0 7737,0 7860,0 7860,0 7866,0 7872,-6 7872,-12 7872,-12 7872,-56 7872,-56 7872,-62 7866,-68 7860,-68\"/>\n<text text-anchor=\"middle\" x=\"7798.5\" y=\"-52.8\" font-family=\"Helvetica,sans-Serif\" font-size=\"14.00\">gini = 0.444</text>\n<text text-anchor=\"middle\" x=\"7798.5\" y=\"-37.8\" font-family=\"Helvetica,sans-Serif\" font-size=\"14.00\">samples = 0.4%</text>\n<text text-anchor=\"middle\" x=\"7798.5\" y=\"-22.8\" font-family=\"Helvetica,sans-Serif\" font-size=\"14.00\">value = [0.333, 0.667]</text>\n<text text-anchor=\"middle\" x=\"7798.5\" y=\"-7.8\" font-family=\"Helvetica,sans-Serif\" font-size=\"14.00\">class = MM</text>\n</g>\n<!-- 114&#45;&gt;115 -->\n<g id=\"edge115\" class=\"edge\">\n<title>114&#45;&gt;115</title>\n<path fill=\"none\" stroke=\"black\" d=\"M7847.48,-111.41C7840.26,-100.15 7832.42,-87.92 7825.17,-76.61\"/>\n<polygon fill=\"black\" stroke=\"black\" points=\"7828.1,-74.7 7819.76,-68.17 7822.21,-78.47 7828.1,-74.7\"/>\n</g>\n<!-- 116 -->\n<g id=\"node117\" class=\"node\">\n<title>116</title>\n<path fill=\"#399de5\" stroke=\"black\" d=\"M7995,-68C7995,-68 7902,-68 7902,-68 7896,-68 7890,-62 7890,-56 7890,-56 7890,-12 7890,-12 7890,-6 7896,0 7902,0 7902,0 7995,0 7995,0 8001,0 8007,-6 8007,-12 8007,-12 8007,-56 8007,-56 8007,-62 8001,-68 7995,-68\"/>\n<text text-anchor=\"middle\" x=\"7948.5\" y=\"-52.8\" font-family=\"Helvetica,sans-Serif\" font-size=\"14.00\">gini = 0.0</text>\n<text text-anchor=\"middle\" x=\"7948.5\" y=\"-37.8\" font-family=\"Helvetica,sans-Serif\" font-size=\"14.00\">samples = 0.2%</text>\n<text text-anchor=\"middle\" x=\"7948.5\" y=\"-22.8\" font-family=\"Helvetica,sans-Serif\" font-size=\"14.00\">value = [0.0, 1.0]</text>\n<text text-anchor=\"middle\" x=\"7948.5\" y=\"-7.8\" font-family=\"Helvetica,sans-Serif\" font-size=\"14.00\">class = MM</text>\n</g>\n<!-- 114&#45;&gt;116 -->\n<g id=\"edge116\" class=\"edge\">\n<title>114&#45;&gt;116</title>\n<path fill=\"none\" stroke=\"black\" d=\"M7899.52,-111.41C7906.74,-100.15 7914.58,-87.92 7921.83,-76.61\"/>\n<polygon fill=\"black\" stroke=\"black\" points=\"7924.79,-78.47 7927.24,-68.17 7918.9,-74.7 7924.79,-78.47\"/>\n</g>\n<!-- 119 -->\n<g id=\"node120\" class=\"node\">\n<title>119</title>\n<path fill=\"#e68743\" stroke=\"black\" d=\"M8497,-313.5C8497,-313.5 8344,-313.5 8344,-313.5 8338,-313.5 8332,-307.5 8332,-301.5 8332,-301.5 8332,-242.5 8332,-242.5 8332,-236.5 8338,-230.5 8344,-230.5 8344,-230.5 8497,-230.5 8497,-230.5 8503,-230.5 8509,-236.5 8509,-242.5 8509,-242.5 8509,-301.5 8509,-301.5 8509,-307.5 8503,-313.5 8497,-313.5\"/>\n<text text-anchor=\"middle\" x=\"8420.5\" y=\"-298.3\" font-family=\"Helvetica,sans-Serif\" font-size=\"14.00\">WeekofPurchase &lt;= 235.0</text>\n<text text-anchor=\"middle\" x=\"8420.5\" y=\"-283.3\" font-family=\"Helvetica,sans-Serif\" font-size=\"14.00\">gini = 0.091</text>\n<text text-anchor=\"middle\" x=\"8420.5\" y=\"-268.3\" font-family=\"Helvetica,sans-Serif\" font-size=\"14.00\">samples = 2.6%</text>\n<text text-anchor=\"middle\" x=\"8420.5\" y=\"-253.3\" font-family=\"Helvetica,sans-Serif\" font-size=\"14.00\">value = [0.952, 0.048]</text>\n<text text-anchor=\"middle\" x=\"8420.5\" y=\"-238.3\" font-family=\"Helvetica,sans-Serif\" font-size=\"14.00\">class = CH</text>\n</g>\n<!-- 118&#45;&gt;119 -->\n<g id=\"edge119\" class=\"edge\">\n<title>118&#45;&gt;119</title>\n<path fill=\"none\" stroke=\"black\" d=\"M8420.5,-349.41C8420.5,-341.15 8420.5,-332.36 8420.5,-323.8\"/>\n<polygon fill=\"black\" stroke=\"black\" points=\"8424,-323.52 8420.5,-313.52 8417,-323.52 8424,-323.52\"/>\n</g>\n<!-- 124 -->\n<g id=\"node125\" class=\"node\">\n<title>124</title>\n<path fill=\"#399de5\" stroke=\"black\" d=\"M8670,-68C8670,-68 8577,-68 8577,-68 8571,-68 8565,-62 8565,-56 8565,-56 8565,-12 8565,-12 8565,-6 8571,0 8577,0 8577,0 8670,0 8670,0 8676,0 8682,-6 8682,-12 8682,-12 8682,-56 8682,-56 8682,-62 8676,-68 8670,-68\"/>\n<text text-anchor=\"middle\" x=\"8623.5\" y=\"-52.8\" font-family=\"Helvetica,sans-Serif\" font-size=\"14.00\">gini = 0.0</text>\n<text text-anchor=\"middle\" x=\"8623.5\" y=\"-37.8\" font-family=\"Helvetica,sans-Serif\" font-size=\"14.00\">samples = 0.2%</text>\n<text text-anchor=\"middle\" x=\"8623.5\" y=\"-22.8\" font-family=\"Helvetica,sans-Serif\" font-size=\"14.00\">value = [0.0, 1.0]</text>\n<text text-anchor=\"middle\" x=\"8623.5\" y=\"-7.8\" font-family=\"Helvetica,sans-Serif\" font-size=\"14.00\">class = MM</text>\n</g>\n<!-- 118&#45;&gt;124 -->\n<g id=\"edge124\" class=\"edge\">\n<title>118&#45;&gt;124</title>\n<path fill=\"none\" stroke=\"black\" d=\"M8472.12,-349.29C8495.29,-331.02 8517.5,-313.5 8517.5,-313.5 8517.5,-313.5 8577.6,-155.61 8607.29,-77.59\"/>\n<polygon fill=\"black\" stroke=\"black\" points=\"8610.64,-78.63 8610.92,-68.04 8604.1,-76.14 8610.64,-78.63\"/>\n</g>\n<!-- 120 -->\n<g id=\"node121\" class=\"node\">\n<title>120</title>\n<path fill=\"#e99355\" stroke=\"black\" d=\"M8430,-194.5C8430,-194.5 8277,-194.5 8277,-194.5 8271,-194.5 8265,-188.5 8265,-182.5 8265,-182.5 8265,-123.5 8265,-123.5 8265,-117.5 8271,-111.5 8277,-111.5 8277,-111.5 8430,-111.5 8430,-111.5 8436,-111.5 8442,-117.5 8442,-123.5 8442,-123.5 8442,-182.5 8442,-182.5 8442,-188.5 8436,-194.5 8430,-194.5\"/>\n<text text-anchor=\"middle\" x=\"8353.5\" y=\"-179.3\" font-family=\"Helvetica,sans-Serif\" font-size=\"14.00\">WeekofPurchase &lt;= 233.5</text>\n<text text-anchor=\"middle\" x=\"8353.5\" y=\"-164.3\" font-family=\"Helvetica,sans-Serif\" font-size=\"14.00\">gini = 0.219</text>\n<text text-anchor=\"middle\" x=\"8353.5\" y=\"-149.3\" font-family=\"Helvetica,sans-Serif\" font-size=\"14.00\">samples = 1.0%</text>\n<text text-anchor=\"middle\" x=\"8353.5\" y=\"-134.3\" font-family=\"Helvetica,sans-Serif\" font-size=\"14.00\">value = [0.875, 0.125]</text>\n<text text-anchor=\"middle\" x=\"8353.5\" y=\"-119.3\" font-family=\"Helvetica,sans-Serif\" font-size=\"14.00\">class = CH</text>\n</g>\n<!-- 119&#45;&gt;120 -->\n<g id=\"edge120\" class=\"edge\">\n<title>119&#45;&gt;120</title>\n<path fill=\"none\" stroke=\"black\" d=\"M8397.25,-230.41C8392.27,-221.7 8386.94,-212.4 8381.79,-203.39\"/>\n<polygon fill=\"black\" stroke=\"black\" points=\"8384.71,-201.46 8376.7,-194.52 8378.64,-204.94 8384.71,-201.46\"/>\n</g>\n<!-- 123 -->\n<g id=\"node124\" class=\"node\">\n<title>123</title>\n<path fill=\"#e58139\" stroke=\"black\" d=\"M8535,-68C8535,-68 8442,-68 8442,-68 8436,-68 8430,-62 8430,-56 8430,-56 8430,-12 8430,-12 8430,-6 8436,0 8442,0 8442,0 8535,0 8535,0 8541,0 8547,-6 8547,-12 8547,-12 8547,-56 8547,-56 8547,-62 8541,-68 8535,-68\"/>\n<text text-anchor=\"middle\" x=\"8488.5\" y=\"-52.8\" font-family=\"Helvetica,sans-Serif\" font-size=\"14.00\">gini = 0.0</text>\n<text text-anchor=\"middle\" x=\"8488.5\" y=\"-37.8\" font-family=\"Helvetica,sans-Serif\" font-size=\"14.00\">samples = 1.6%</text>\n<text text-anchor=\"middle\" x=\"8488.5\" y=\"-22.8\" font-family=\"Helvetica,sans-Serif\" font-size=\"14.00\">value = [1.0, 0.0]</text>\n<text text-anchor=\"middle\" x=\"8488.5\" y=\"-7.8\" font-family=\"Helvetica,sans-Serif\" font-size=\"14.00\">class = CH</text>\n</g>\n<!-- 119&#45;&gt;123 -->\n<g id=\"edge123\" class=\"edge\">\n<title>119&#45;&gt;123</title>\n<path fill=\"none\" stroke=\"black\" d=\"M8436.55,-230.06C8443.69,-211.87 8450.5,-194.5 8450.5,-194.5 8450.5,-194.5 8466.99,-125.3 8478.24,-78.06\"/>\n<polygon fill=\"black\" stroke=\"black\" points=\"8481.71,-78.59 8480.63,-68.05 8474.9,-76.97 8481.71,-78.59\"/>\n</g>\n<!-- 121 -->\n<g id=\"node122\" class=\"node\">\n<title>121</title>\n<path fill=\"#e58139\" stroke=\"black\" d=\"M8265,-68C8265,-68 8172,-68 8172,-68 8166,-68 8160,-62 8160,-56 8160,-56 8160,-12 8160,-12 8160,-6 8166,0 8172,0 8172,0 8265,0 8265,0 8271,0 8277,-6 8277,-12 8277,-12 8277,-56 8277,-56 8277,-62 8271,-68 8265,-68\"/>\n<text text-anchor=\"middle\" x=\"8218.5\" y=\"-52.8\" font-family=\"Helvetica,sans-Serif\" font-size=\"14.00\">gini = 0.0</text>\n<text text-anchor=\"middle\" x=\"8218.5\" y=\"-37.8\" font-family=\"Helvetica,sans-Serif\" font-size=\"14.00\">samples = 0.9%</text>\n<text text-anchor=\"middle\" x=\"8218.5\" y=\"-22.8\" font-family=\"Helvetica,sans-Serif\" font-size=\"14.00\">value = [1.0, 0.0]</text>\n<text text-anchor=\"middle\" x=\"8218.5\" y=\"-7.8\" font-family=\"Helvetica,sans-Serif\" font-size=\"14.00\">class = CH</text>\n</g>\n<!-- 120&#45;&gt;121 -->\n<g id=\"edge121\" class=\"edge\">\n<title>120&#45;&gt;121</title>\n<path fill=\"none\" stroke=\"black\" d=\"M8306.66,-111.41C8293.04,-99.6 8278.17,-86.72 8264.6,-74.95\"/>\n<polygon fill=\"black\" stroke=\"black\" points=\"8266.62,-72.07 8256.77,-68.17 8262.03,-77.36 8266.62,-72.07\"/>\n</g>\n<!-- 122 -->\n<g id=\"node123\" class=\"node\">\n<title>122</title>\n<path fill=\"#399de5\" stroke=\"black\" d=\"M8400,-68C8400,-68 8307,-68 8307,-68 8301,-68 8295,-62 8295,-56 8295,-56 8295,-12 8295,-12 8295,-6 8301,0 8307,0 8307,0 8400,0 8400,0 8406,0 8412,-6 8412,-12 8412,-12 8412,-56 8412,-56 8412,-62 8406,-68 8400,-68\"/>\n<text text-anchor=\"middle\" x=\"8353.5\" y=\"-52.8\" font-family=\"Helvetica,sans-Serif\" font-size=\"14.00\">gini = 0.0</text>\n<text text-anchor=\"middle\" x=\"8353.5\" y=\"-37.8\" font-family=\"Helvetica,sans-Serif\" font-size=\"14.00\">samples = 0.1%</text>\n<text text-anchor=\"middle\" x=\"8353.5\" y=\"-22.8\" font-family=\"Helvetica,sans-Serif\" font-size=\"14.00\">value = [0.0, 1.0]</text>\n<text text-anchor=\"middle\" x=\"8353.5\" y=\"-7.8\" font-family=\"Helvetica,sans-Serif\" font-size=\"14.00\">class = MM</text>\n</g>\n<!-- 120&#45;&gt;122 -->\n<g id=\"edge122\" class=\"edge\">\n<title>120&#45;&gt;122</title>\n<path fill=\"none\" stroke=\"black\" d=\"M8353.5,-111.41C8353.5,-100.7 8353.5,-89.12 8353.5,-78.28\"/>\n<polygon fill=\"black\" stroke=\"black\" points=\"8357,-78.17 8353.5,-68.17 8350,-78.17 8357,-78.17\"/>\n</g>\n<!-- 126 -->\n<g id=\"node127\" class=\"node\">\n<title>126</title>\n<path fill=\"#e89153\" stroke=\"black\" d=\"M9648,-551.5C9648,-551.5 9495,-551.5 9495,-551.5 9489,-551.5 9483,-545.5 9483,-539.5 9483,-539.5 9483,-480.5 9483,-480.5 9483,-474.5 9489,-468.5 9495,-468.5 9495,-468.5 9648,-468.5 9648,-468.5 9654,-468.5 9660,-474.5 9660,-480.5 9660,-480.5 9660,-539.5 9660,-539.5 9660,-545.5 9654,-551.5 9648,-551.5\"/>\n<text text-anchor=\"middle\" x=\"9571.5\" y=\"-536.3\" font-family=\"Helvetica,sans-Serif\" font-size=\"14.00\">WeekofPurchase &lt;= 257.5</text>\n<text text-anchor=\"middle\" x=\"9571.5\" y=\"-521.3\" font-family=\"Helvetica,sans-Serif\" font-size=\"14.00\">gini = 0.203</text>\n<text text-anchor=\"middle\" x=\"9571.5\" y=\"-506.3\" font-family=\"Helvetica,sans-Serif\" font-size=\"14.00\">samples = 15.2%</text>\n<text text-anchor=\"middle\" x=\"9571.5\" y=\"-491.3\" font-family=\"Helvetica,sans-Serif\" font-size=\"14.00\">value = [0.885, 0.115]</text>\n<text text-anchor=\"middle\" x=\"9571.5\" y=\"-476.3\" font-family=\"Helvetica,sans-Serif\" font-size=\"14.00\">class = CH</text>\n</g>\n<!-- 125&#45;&gt;126 -->\n<g id=\"edge126\" class=\"edge\">\n<title>125&#45;&gt;126</title>\n<path fill=\"none\" stroke=\"black\" d=\"M9571.5,-587.41C9571.5,-579.15 9571.5,-570.36 9571.5,-561.8\"/>\n<polygon fill=\"black\" stroke=\"black\" points=\"9575,-561.52 9571.5,-551.52 9568,-561.52 9575,-561.52\"/>\n</g>\n<!-- 141 -->\n<g id=\"node142\" class=\"node\">\n<title>141</title>\n<path fill=\"#ffffff\" stroke=\"black\" d=\"M9965.5,-551.5C9965.5,-551.5 9863.5,-551.5 9863.5,-551.5 9857.5,-551.5 9851.5,-545.5 9851.5,-539.5 9851.5,-539.5 9851.5,-480.5 9851.5,-480.5 9851.5,-474.5 9857.5,-468.5 9863.5,-468.5 9863.5,-468.5 9965.5,-468.5 9965.5,-468.5 9971.5,-468.5 9977.5,-474.5 9977.5,-480.5 9977.5,-480.5 9977.5,-539.5 9977.5,-539.5 9977.5,-545.5 9971.5,-551.5 9965.5,-551.5\"/>\n<text text-anchor=\"middle\" x=\"9914.5\" y=\"-536.3\" font-family=\"Helvetica,sans-Serif\" font-size=\"14.00\">LoyalCH &lt;= 0.589</text>\n<text text-anchor=\"middle\" x=\"9914.5\" y=\"-521.3\" font-family=\"Helvetica,sans-Serif\" font-size=\"14.00\">gini = 0.5</text>\n<text text-anchor=\"middle\" x=\"9914.5\" y=\"-506.3\" font-family=\"Helvetica,sans-Serif\" font-size=\"14.00\">samples = 0.5%</text>\n<text text-anchor=\"middle\" x=\"9914.5\" y=\"-491.3\" font-family=\"Helvetica,sans-Serif\" font-size=\"14.00\">value = [0.5, 0.5]</text>\n<text text-anchor=\"middle\" x=\"9914.5\" y=\"-476.3\" font-family=\"Helvetica,sans-Serif\" font-size=\"14.00\">class = CH</text>\n</g>\n<!-- 125&#45;&gt;141 -->\n<g id=\"edge141\" class=\"edge\">\n<title>125&#45;&gt;141</title>\n<path fill=\"none\" stroke=\"black\" d=\"M9645.08,-602.9C9703.14,-583.1 9783.71,-555.61 9841.59,-535.87\"/>\n<polygon fill=\"black\" stroke=\"black\" points=\"9843.07,-539.06 9851.4,-532.52 9840.81,-532.44 9843.07,-539.06\"/>\n</g>\n<!-- 127 -->\n<g id=\"node128\" class=\"node\">\n<title>127</title>\n<path fill=\"#ea9a5f\" stroke=\"black\" d=\"M9467,-432.5C9467,-432.5 9344,-432.5 9344,-432.5 9338,-432.5 9332,-426.5 9332,-420.5 9332,-420.5 9332,-361.5 9332,-361.5 9332,-355.5 9338,-349.5 9344,-349.5 9344,-349.5 9467,-349.5 9467,-349.5 9473,-349.5 9479,-355.5 9479,-361.5 9479,-361.5 9479,-420.5 9479,-420.5 9479,-426.5 9473,-432.5 9467,-432.5\"/>\n<text text-anchor=\"middle\" x=\"9405.5\" y=\"-417.3\" font-family=\"Helvetica,sans-Serif\" font-size=\"14.00\">LoyalCH &lt;= 0.504</text>\n<text text-anchor=\"middle\" x=\"9405.5\" y=\"-402.3\" font-family=\"Helvetica,sans-Serif\" font-size=\"14.00\">gini = 0.273</text>\n<text text-anchor=\"middle\" x=\"9405.5\" y=\"-387.3\" font-family=\"Helvetica,sans-Serif\" font-size=\"14.00\">samples = 10.8%</text>\n<text text-anchor=\"middle\" x=\"9405.5\" y=\"-372.3\" font-family=\"Helvetica,sans-Serif\" font-size=\"14.00\">value = [0.837, 0.163]</text>\n<text text-anchor=\"middle\" x=\"9405.5\" y=\"-357.3\" font-family=\"Helvetica,sans-Serif\" font-size=\"14.00\">class = CH</text>\n</g>\n<!-- 126&#45;&gt;127 -->\n<g id=\"edge127\" class=\"edge\">\n<title>126&#45;&gt;127</title>\n<path fill=\"none\" stroke=\"black\" d=\"M9513.91,-468.41C9500.13,-458.7 9485.32,-448.26 9471.21,-438.31\"/>\n<polygon fill=\"black\" stroke=\"black\" points=\"9473.18,-435.42 9462.99,-432.52 9469.15,-441.14 9473.18,-435.42\"/>\n</g>\n<!-- 140 -->\n<g id=\"node141\" class=\"node\">\n<title>140</title>\n<path fill=\"#e58139\" stroke=\"black\" d=\"M9826,-68C9826,-68 9733,-68 9733,-68 9727,-68 9721,-62 9721,-56 9721,-56 9721,-12 9721,-12 9721,-6 9727,0 9733,0 9733,0 9826,0 9826,0 9832,0 9838,-6 9838,-12 9838,-12 9838,-56 9838,-56 9838,-62 9832,-68 9826,-68\"/>\n<text text-anchor=\"middle\" x=\"9779.5\" y=\"-52.8\" font-family=\"Helvetica,sans-Serif\" font-size=\"14.00\">gini = 0.0</text>\n<text text-anchor=\"middle\" x=\"9779.5\" y=\"-37.8\" font-family=\"Helvetica,sans-Serif\" font-size=\"14.00\">samples = 4.5%</text>\n<text text-anchor=\"middle\" x=\"9779.5\" y=\"-22.8\" font-family=\"Helvetica,sans-Serif\" font-size=\"14.00\">value = [1.0, 0.0]</text>\n<text text-anchor=\"middle\" x=\"9779.5\" y=\"-7.8\" font-family=\"Helvetica,sans-Serif\" font-size=\"14.00\">class = CH</text>\n</g>\n<!-- 126&#45;&gt;140 -->\n<g id=\"edge140\" class=\"edge\">\n<title>126&#45;&gt;140</title>\n<path fill=\"none\" stroke=\"black\" d=\"M9589.41,-468.18C9628.49,-379.13 9721.06,-168.17 9760.82,-77.56\"/>\n<polygon fill=\"black\" stroke=\"black\" points=\"9764.14,-78.71 9764.96,-68.14 9757.73,-75.9 9764.14,-78.71\"/>\n</g>\n<!-- 128 -->\n<g id=\"node129\" class=\"node\">\n<title>128</title>\n<path fill=\"#f0b58b\" stroke=\"black\" d=\"M9106,-313.5C9106,-313.5 8983,-313.5 8983,-313.5 8977,-313.5 8971,-307.5 8971,-301.5 8971,-301.5 8971,-242.5 8971,-242.5 8971,-236.5 8977,-230.5 8983,-230.5 8983,-230.5 9106,-230.5 9106,-230.5 9112,-230.5 9118,-236.5 9118,-242.5 9118,-242.5 9118,-301.5 9118,-301.5 9118,-307.5 9112,-313.5 9106,-313.5\"/>\n<text text-anchor=\"middle\" x=\"9044.5\" y=\"-298.3\" font-family=\"Helvetica,sans-Serif\" font-size=\"14.00\">PriceDiff &lt;= 0.375</text>\n<text text-anchor=\"middle\" x=\"9044.5\" y=\"-283.3\" font-family=\"Helvetica,sans-Serif\" font-size=\"14.00\">gini = 0.413</text>\n<text text-anchor=\"middle\" x=\"9044.5\" y=\"-268.3\" font-family=\"Helvetica,sans-Serif\" font-size=\"14.00\">samples = 3.0%</text>\n<text text-anchor=\"middle\" x=\"9044.5\" y=\"-253.3\" font-family=\"Helvetica,sans-Serif\" font-size=\"14.00\">value = [0.708, 0.292]</text>\n<text text-anchor=\"middle\" x=\"9044.5\" y=\"-238.3\" font-family=\"Helvetica,sans-Serif\" font-size=\"14.00\">class = CH</text>\n</g>\n<!-- 127&#45;&gt;128 -->\n<g id=\"edge128\" class=\"edge\">\n<title>127&#45;&gt;128</title>\n<path fill=\"none\" stroke=\"black\" d=\"M9331.58,-366.04C9272.34,-346.84 9189.26,-319.92 9127.7,-299.97\"/>\n<polygon fill=\"black\" stroke=\"black\" points=\"9128.61,-296.58 9118.02,-296.83 9126.45,-303.24 9128.61,-296.58\"/>\n</g>\n<!-- 133 -->\n<g id=\"node134\" class=\"node\">\n<title>133</title>\n<path fill=\"#e89152\" stroke=\"black\" d=\"M9467,-313.5C9467,-313.5 9344,-313.5 9344,-313.5 9338,-313.5 9332,-307.5 9332,-301.5 9332,-301.5 9332,-242.5 9332,-242.5 9332,-236.5 9338,-230.5 9344,-230.5 9344,-230.5 9467,-230.5 9467,-230.5 9473,-230.5 9479,-236.5 9479,-242.5 9479,-242.5 9479,-301.5 9479,-301.5 9479,-307.5 9473,-313.5 9467,-313.5\"/>\n<text text-anchor=\"middle\" x=\"9405.5\" y=\"-298.3\" font-family=\"Helvetica,sans-Serif\" font-size=\"14.00\">PriceCH &lt;= 1.755</text>\n<text text-anchor=\"middle\" x=\"9405.5\" y=\"-283.3\" font-family=\"Helvetica,sans-Serif\" font-size=\"14.00\">gini = 0.2</text>\n<text text-anchor=\"middle\" x=\"9405.5\" y=\"-268.3\" font-family=\"Helvetica,sans-Serif\" font-size=\"14.00\">samples = 7.8%</text>\n<text text-anchor=\"middle\" x=\"9405.5\" y=\"-253.3\" font-family=\"Helvetica,sans-Serif\" font-size=\"14.00\">value = [0.887, 0.113]</text>\n<text text-anchor=\"middle\" x=\"9405.5\" y=\"-238.3\" font-family=\"Helvetica,sans-Serif\" font-size=\"14.00\">class = CH</text>\n</g>\n<!-- 127&#45;&gt;133 -->\n<g id=\"edge133\" class=\"edge\">\n<title>127&#45;&gt;133</title>\n<path fill=\"none\" stroke=\"black\" d=\"M9405.5,-349.41C9405.5,-341.15 9405.5,-332.36 9405.5,-323.8\"/>\n<polygon fill=\"black\" stroke=\"black\" points=\"9409,-323.52 9405.5,-313.52 9402,-323.52 9409,-323.52\"/>\n</g>\n<!-- 129 -->\n<g id=\"node130\" class=\"node\">\n<title>129</title>\n<path fill=\"#eb9f68\" stroke=\"black\" d=\"M8986,-194.5C8986,-194.5 8833,-194.5 8833,-194.5 8827,-194.5 8821,-188.5 8821,-182.5 8821,-182.5 8821,-123.5 8821,-123.5 8821,-117.5 8827,-111.5 8833,-111.5 8833,-111.5 8986,-111.5 8986,-111.5 8992,-111.5 8998,-117.5 8998,-123.5 8998,-123.5 8998,-182.5 8998,-182.5 8998,-188.5 8992,-194.5 8986,-194.5\"/>\n<text text-anchor=\"middle\" x=\"8909.5\" y=\"-179.3\" font-family=\"Helvetica,sans-Serif\" font-size=\"14.00\">WeekofPurchase &lt;= 253.5</text>\n<text text-anchor=\"middle\" x=\"8909.5\" y=\"-164.3\" font-family=\"Helvetica,sans-Serif\" font-size=\"14.00\">gini = 0.308</text>\n<text text-anchor=\"middle\" x=\"8909.5\" y=\"-149.3\" font-family=\"Helvetica,sans-Serif\" font-size=\"14.00\">samples = 2.6%</text>\n<text text-anchor=\"middle\" x=\"8909.5\" y=\"-134.3\" font-family=\"Helvetica,sans-Serif\" font-size=\"14.00\">value = [0.81, 0.19]</text>\n<text text-anchor=\"middle\" x=\"8909.5\" y=\"-119.3\" font-family=\"Helvetica,sans-Serif\" font-size=\"14.00\">class = CH</text>\n</g>\n<!-- 128&#45;&gt;129 -->\n<g id=\"edge129\" class=\"edge\">\n<title>128&#45;&gt;129</title>\n<path fill=\"none\" stroke=\"black\" d=\"M8997.66,-230.41C8986.77,-220.97 8975.09,-210.84 8963.9,-201.15\"/>\n<polygon fill=\"black\" stroke=\"black\" points=\"8966.1,-198.43 8956.25,-194.52 8961.52,-203.72 8966.1,-198.43\"/>\n</g>\n<!-- 132 -->\n<g id=\"node133\" class=\"node\">\n<title>132</title>\n<path fill=\"#399de5\" stroke=\"black\" d=\"M9091,-68C9091,-68 8998,-68 8998,-68 8992,-68 8986,-62 8986,-56 8986,-56 8986,-12 8986,-12 8986,-6 8992,0 8998,0 8998,0 9091,0 9091,0 9097,0 9103,-6 9103,-12 9103,-12 9103,-56 9103,-56 9103,-62 9097,-68 9091,-68\"/>\n<text text-anchor=\"middle\" x=\"9044.5\" y=\"-52.8\" font-family=\"Helvetica,sans-Serif\" font-size=\"14.00\">gini = 0.0</text>\n<text text-anchor=\"middle\" x=\"9044.5\" y=\"-37.8\" font-family=\"Helvetica,sans-Serif\" font-size=\"14.00\">samples = 0.4%</text>\n<text text-anchor=\"middle\" x=\"9044.5\" y=\"-22.8\" font-family=\"Helvetica,sans-Serif\" font-size=\"14.00\">value = [0.0, 1.0]</text>\n<text text-anchor=\"middle\" x=\"9044.5\" y=\"-7.8\" font-family=\"Helvetica,sans-Serif\" font-size=\"14.00\">class = MM</text>\n</g>\n<!-- 128&#45;&gt;132 -->\n<g id=\"edge132\" class=\"edge\">\n<title>128&#45;&gt;132</title>\n<path fill=\"none\" stroke=\"black\" d=\"M9044.5,-230.43C9044.5,-188.06 9044.5,-121.85 9044.5,-78.44\"/>\n<polygon fill=\"black\" stroke=\"black\" points=\"9048,-78.19 9044.5,-68.19 9041,-78.19 9048,-78.19\"/>\n</g>\n<!-- 130 -->\n<g id=\"node131\" class=\"node\">\n<title>130</title>\n<path fill=\"#eeab7b\" stroke=\"black\" d=\"M8820.5,-68C8820.5,-68 8712.5,-68 8712.5,-68 8706.5,-68 8700.5,-62 8700.5,-56 8700.5,-56 8700.5,-12 8700.5,-12 8700.5,-6 8706.5,0 8712.5,0 8712.5,0 8820.5,0 8820.5,0 8826.5,0 8832.5,-6 8832.5,-12 8832.5,-12 8832.5,-56 8832.5,-56 8832.5,-62 8826.5,-68 8820.5,-68\"/>\n<text text-anchor=\"middle\" x=\"8766.5\" y=\"-52.8\" font-family=\"Helvetica,sans-Serif\" font-size=\"14.00\">gini = 0.375</text>\n<text text-anchor=\"middle\" x=\"8766.5\" y=\"-37.8\" font-family=\"Helvetica,sans-Serif\" font-size=\"14.00\">samples = 2.0%</text>\n<text text-anchor=\"middle\" x=\"8766.5\" y=\"-22.8\" font-family=\"Helvetica,sans-Serif\" font-size=\"14.00\">value = [0.75, 0.25]</text>\n<text text-anchor=\"middle\" x=\"8766.5\" y=\"-7.8\" font-family=\"Helvetica,sans-Serif\" font-size=\"14.00\">class = CH</text>\n</g>\n<!-- 129&#45;&gt;130 -->\n<g id=\"edge130\" class=\"edge\">\n<title>129&#45;&gt;130</title>\n<path fill=\"none\" stroke=\"black\" d=\"M8859.89,-111.41C8845.32,-99.49 8829.41,-86.48 8814.92,-74.62\"/>\n<polygon fill=\"black\" stroke=\"black\" points=\"8816.99,-71.79 8807.04,-68.17 8812.56,-77.21 8816.99,-71.79\"/>\n</g>\n<!-- 131 -->\n<g id=\"node132\" class=\"node\">\n<title>131</title>\n<path fill=\"#e58139\" stroke=\"black\" d=\"M8956,-68C8956,-68 8863,-68 8863,-68 8857,-68 8851,-62 8851,-56 8851,-56 8851,-12 8851,-12 8851,-6 8857,0 8863,0 8863,0 8956,0 8956,0 8962,0 8968,-6 8968,-12 8968,-12 8968,-56 8968,-56 8968,-62 8962,-68 8956,-68\"/>\n<text text-anchor=\"middle\" x=\"8909.5\" y=\"-52.8\" font-family=\"Helvetica,sans-Serif\" font-size=\"14.00\">gini = 0.0</text>\n<text text-anchor=\"middle\" x=\"8909.5\" y=\"-37.8\" font-family=\"Helvetica,sans-Serif\" font-size=\"14.00\">samples = 0.6%</text>\n<text text-anchor=\"middle\" x=\"8909.5\" y=\"-22.8\" font-family=\"Helvetica,sans-Serif\" font-size=\"14.00\">value = [1.0, 0.0]</text>\n<text text-anchor=\"middle\" x=\"8909.5\" y=\"-7.8\" font-family=\"Helvetica,sans-Serif\" font-size=\"14.00\">class = CH</text>\n</g>\n<!-- 129&#45;&gt;131 -->\n<g id=\"edge131\" class=\"edge\">\n<title>129&#45;&gt;131</title>\n<path fill=\"none\" stroke=\"black\" d=\"M8909.5,-111.41C8909.5,-100.7 8909.5,-89.12 8909.5,-78.28\"/>\n<polygon fill=\"black\" stroke=\"black\" points=\"8913,-78.17 8909.5,-68.17 8906,-78.17 8913,-78.17\"/>\n</g>\n<!-- 134 -->\n<g id=\"node135\" class=\"node\">\n<title>134</title>\n<path fill=\"#eca572\" stroke=\"black\" d=\"M9384,-194.5C9384,-194.5 9261,-194.5 9261,-194.5 9255,-194.5 9249,-188.5 9249,-182.5 9249,-182.5 9249,-123.5 9249,-123.5 9249,-117.5 9255,-111.5 9261,-111.5 9261,-111.5 9384,-111.5 9384,-111.5 9390,-111.5 9396,-117.5 9396,-123.5 9396,-123.5 9396,-182.5 9396,-182.5 9396,-188.5 9390,-194.5 9384,-194.5\"/>\n<text text-anchor=\"middle\" x=\"9322.5\" y=\"-179.3\" font-family=\"Helvetica,sans-Serif\" font-size=\"14.00\">ListPriceDiff &lt;= 0.27</text>\n<text text-anchor=\"middle\" x=\"9322.5\" y=\"-164.3\" font-family=\"Helvetica,sans-Serif\" font-size=\"14.00\">gini = 0.346</text>\n<text text-anchor=\"middle\" x=\"9322.5\" y=\"-149.3\" font-family=\"Helvetica,sans-Serif\" font-size=\"14.00\">samples = 2.2%</text>\n<text text-anchor=\"middle\" x=\"9322.5\" y=\"-134.3\" font-family=\"Helvetica,sans-Serif\" font-size=\"14.00\">value = [0.778, 0.222]</text>\n<text text-anchor=\"middle\" x=\"9322.5\" y=\"-119.3\" font-family=\"Helvetica,sans-Serif\" font-size=\"14.00\">class = CH</text>\n</g>\n<!-- 133&#45;&gt;134 -->\n<g id=\"edge134\" class=\"edge\">\n<title>133&#45;&gt;134</title>\n<path fill=\"none\" stroke=\"black\" d=\"M9376.7,-230.41C9370.39,-221.51 9363.65,-212.01 9357.14,-202.83\"/>\n<polygon fill=\"black\" stroke=\"black\" points=\"9359.89,-200.65 9351.25,-194.52 9354.18,-204.7 9359.89,-200.65\"/>\n</g>\n<!-- 137 -->\n<g id=\"node138\" class=\"node\">\n<title>137</title>\n<path fill=\"#e78a47\" stroke=\"black\" d=\"M9549,-194.5C9549,-194.5 9426,-194.5 9426,-194.5 9420,-194.5 9414,-188.5 9414,-182.5 9414,-182.5 9414,-123.5 9414,-123.5 9414,-117.5 9420,-111.5 9426,-111.5 9426,-111.5 9549,-111.5 9549,-111.5 9555,-111.5 9561,-117.5 9561,-123.5 9561,-123.5 9561,-182.5 9561,-182.5 9561,-188.5 9555,-194.5 9549,-194.5\"/>\n<text text-anchor=\"middle\" x=\"9487.5\" y=\"-179.3\" font-family=\"Helvetica,sans-Serif\" font-size=\"14.00\">StoreID &lt;= 3.5</text>\n<text text-anchor=\"middle\" x=\"9487.5\" y=\"-164.3\" font-family=\"Helvetica,sans-Serif\" font-size=\"14.00\">gini = 0.127</text>\n<text text-anchor=\"middle\" x=\"9487.5\" y=\"-149.3\" font-family=\"Helvetica,sans-Serif\" font-size=\"14.00\">samples = 5.5%</text>\n<text text-anchor=\"middle\" x=\"9487.5\" y=\"-134.3\" font-family=\"Helvetica,sans-Serif\" font-size=\"14.00\">value = [0.932, 0.068]</text>\n<text text-anchor=\"middle\" x=\"9487.5\" y=\"-119.3\" font-family=\"Helvetica,sans-Serif\" font-size=\"14.00\">class = CH</text>\n</g>\n<!-- 133&#45;&gt;137 -->\n<g id=\"edge137\" class=\"edge\">\n<title>133&#45;&gt;137</title>\n<path fill=\"none\" stroke=\"black\" d=\"M9433.95,-230.41C9440.18,-221.51 9446.84,-212.01 9453.28,-202.83\"/>\n<polygon fill=\"black\" stroke=\"black\" points=\"9456.23,-204.72 9459.1,-194.52 9450.5,-200.7 9456.23,-204.72\"/>\n</g>\n<!-- 135 -->\n<g id=\"node136\" class=\"node\">\n<title>135</title>\n<path fill=\"#ffffff\" stroke=\"black\" d=\"M9226,-68C9226,-68 9133,-68 9133,-68 9127,-68 9121,-62 9121,-56 9121,-56 9121,-12 9121,-12 9121,-6 9127,0 9133,0 9133,0 9226,0 9226,0 9232,0 9238,-6 9238,-12 9238,-12 9238,-56 9238,-56 9238,-62 9232,-68 9226,-68\"/>\n<text text-anchor=\"middle\" x=\"9179.5\" y=\"-52.8\" font-family=\"Helvetica,sans-Serif\" font-size=\"14.00\">gini = 0.5</text>\n<text text-anchor=\"middle\" x=\"9179.5\" y=\"-37.8\" font-family=\"Helvetica,sans-Serif\" font-size=\"14.00\">samples = 0.8%</text>\n<text text-anchor=\"middle\" x=\"9179.5\" y=\"-22.8\" font-family=\"Helvetica,sans-Serif\" font-size=\"14.00\">value = [0.5, 0.5]</text>\n<text text-anchor=\"middle\" x=\"9179.5\" y=\"-7.8\" font-family=\"Helvetica,sans-Serif\" font-size=\"14.00\">class = CH</text>\n</g>\n<!-- 134&#45;&gt;135 -->\n<g id=\"edge135\" class=\"edge\">\n<title>134&#45;&gt;135</title>\n<path fill=\"none\" stroke=\"black\" d=\"M9272.89,-111.41C9258.32,-99.49 9242.41,-86.48 9227.92,-74.62\"/>\n<polygon fill=\"black\" stroke=\"black\" points=\"9229.99,-71.79 9220.04,-68.17 9225.56,-77.21 9229.99,-71.79\"/>\n</g>\n<!-- 136 -->\n<g id=\"node137\" class=\"node\">\n<title>136</title>\n<path fill=\"#e78c4b\" stroke=\"black\" d=\"M9391,-68C9391,-68 9268,-68 9268,-68 9262,-68 9256,-62 9256,-56 9256,-56 9256,-12 9256,-12 9256,-6 9262,0 9268,0 9268,0 9391,0 9391,0 9397,0 9403,-6 9403,-12 9403,-12 9403,-56 9403,-56 9403,-62 9397,-68 9391,-68\"/>\n<text text-anchor=\"middle\" x=\"9329.5\" y=\"-52.8\" font-family=\"Helvetica,sans-Serif\" font-size=\"14.00\">gini = 0.153</text>\n<text text-anchor=\"middle\" x=\"9329.5\" y=\"-37.8\" font-family=\"Helvetica,sans-Serif\" font-size=\"14.00\">samples = 1.5%</text>\n<text text-anchor=\"middle\" x=\"9329.5\" y=\"-22.8\" font-family=\"Helvetica,sans-Serif\" font-size=\"14.00\">value = [0.917, 0.083]</text>\n<text text-anchor=\"middle\" x=\"9329.5\" y=\"-7.8\" font-family=\"Helvetica,sans-Serif\" font-size=\"14.00\">class = CH</text>\n</g>\n<!-- 134&#45;&gt;136 -->\n<g id=\"edge136\" class=\"edge\">\n<title>134&#45;&gt;136</title>\n<path fill=\"none\" stroke=\"black\" d=\"M9324.93,-111.41C9325.57,-100.7 9326.26,-89.12 9326.91,-78.28\"/>\n<polygon fill=\"black\" stroke=\"black\" points=\"9330.41,-78.36 9327.52,-68.17 9323.42,-77.94 9330.41,-78.36\"/>\n</g>\n<!-- 138 -->\n<g id=\"node139\" class=\"node\">\n<title>138</title>\n<path fill=\"#e58139\" stroke=\"black\" d=\"M9526,-68C9526,-68 9433,-68 9433,-68 9427,-68 9421,-62 9421,-56 9421,-56 9421,-12 9421,-12 9421,-6 9427,0 9433,0 9433,0 9526,0 9526,0 9532,0 9538,-6 9538,-12 9538,-12 9538,-56 9538,-56 9538,-62 9532,-68 9526,-68\"/>\n<text text-anchor=\"middle\" x=\"9479.5\" y=\"-52.8\" font-family=\"Helvetica,sans-Serif\" font-size=\"14.00\">gini = 0.0</text>\n<text text-anchor=\"middle\" x=\"9479.5\" y=\"-37.8\" font-family=\"Helvetica,sans-Serif\" font-size=\"14.00\">samples = 3.4%</text>\n<text text-anchor=\"middle\" x=\"9479.5\" y=\"-22.8\" font-family=\"Helvetica,sans-Serif\" font-size=\"14.00\">value = [1.0, 0.0]</text>\n<text text-anchor=\"middle\" x=\"9479.5\" y=\"-7.8\" font-family=\"Helvetica,sans-Serif\" font-size=\"14.00\">class = CH</text>\n</g>\n<!-- 137&#45;&gt;138 -->\n<g id=\"edge138\" class=\"edge\">\n<title>137&#45;&gt;138</title>\n<path fill=\"none\" stroke=\"black\" d=\"M9484.72,-111.41C9483.99,-100.7 9483.2,-89.12 9482.46,-78.28\"/>\n<polygon fill=\"black\" stroke=\"black\" points=\"9485.94,-77.9 9481.77,-68.17 9478.96,-78.38 9485.94,-77.9\"/>\n</g>\n<!-- 139 -->\n<g id=\"node140\" class=\"node\">\n<title>139</title>\n<path fill=\"#eb9c63\" stroke=\"black\" d=\"M9691,-68C9691,-68 9568,-68 9568,-68 9562,-68 9556,-62 9556,-56 9556,-56 9556,-12 9556,-12 9556,-6 9562,0 9568,0 9568,0 9691,0 9691,0 9697,0 9703,-6 9703,-12 9703,-12 9703,-56 9703,-56 9703,-62 9697,-68 9691,-68\"/>\n<text text-anchor=\"middle\" x=\"9629.5\" y=\"-52.8\" font-family=\"Helvetica,sans-Serif\" font-size=\"14.00\">gini = 0.291</text>\n<text text-anchor=\"middle\" x=\"9629.5\" y=\"-37.8\" font-family=\"Helvetica,sans-Serif\" font-size=\"14.00\">samples = 2.1%</text>\n<text text-anchor=\"middle\" x=\"9629.5\" y=\"-22.8\" font-family=\"Helvetica,sans-Serif\" font-size=\"14.00\">value = [0.824, 0.176]</text>\n<text text-anchor=\"middle\" x=\"9629.5\" y=\"-7.8\" font-family=\"Helvetica,sans-Serif\" font-size=\"14.00\">class = CH</text>\n</g>\n<!-- 137&#45;&gt;139 -->\n<g id=\"edge139\" class=\"edge\">\n<title>137&#45;&gt;139</title>\n<path fill=\"none\" stroke=\"black\" d=\"M9536.77,-111.41C9551.23,-99.49 9567.03,-86.48 9581.41,-74.62\"/>\n<polygon fill=\"black\" stroke=\"black\" points=\"9583.75,-77.23 9589.25,-68.17 9579.3,-71.82 9583.75,-77.23\"/>\n</g>\n<!-- 142 -->\n<g id=\"node143\" class=\"node\">\n<title>142</title>\n<path fill=\"#e58139\" stroke=\"black\" d=\"M9961,-68C9961,-68 9868,-68 9868,-68 9862,-68 9856,-62 9856,-56 9856,-56 9856,-12 9856,-12 9856,-6 9862,0 9868,0 9868,0 9961,0 9961,0 9967,0 9973,-6 9973,-12 9973,-12 9973,-56 9973,-56 9973,-62 9967,-68 9961,-68\"/>\n<text text-anchor=\"middle\" x=\"9914.5\" y=\"-52.8\" font-family=\"Helvetica,sans-Serif\" font-size=\"14.00\">gini = 0.0</text>\n<text text-anchor=\"middle\" x=\"9914.5\" y=\"-37.8\" font-family=\"Helvetica,sans-Serif\" font-size=\"14.00\">samples = 0.2%</text>\n<text text-anchor=\"middle\" x=\"9914.5\" y=\"-22.8\" font-family=\"Helvetica,sans-Serif\" font-size=\"14.00\">value = [1.0, 0.0]</text>\n<text text-anchor=\"middle\" x=\"9914.5\" y=\"-7.8\" font-family=\"Helvetica,sans-Serif\" font-size=\"14.00\">class = CH</text>\n</g>\n<!-- 141&#45;&gt;142 -->\n<g id=\"edge142\" class=\"edge\">\n<title>141&#45;&gt;142</title>\n<path fill=\"none\" stroke=\"black\" d=\"M9914.5,-468.18C9914.5,-379.4 9914.5,-169.45 9914.5,-78.39\"/>\n<polygon fill=\"black\" stroke=\"black\" points=\"9918,-78.14 9914.5,-68.14 9911,-78.14 9918,-78.14\"/>\n</g>\n<!-- 143 -->\n<g id=\"node144\" class=\"node\">\n<title>143</title>\n<path fill=\"#399de5\" stroke=\"black\" d=\"M10096,-68C10096,-68 10003,-68 10003,-68 9997,-68 9991,-62 9991,-56 9991,-56 9991,-12 9991,-12 9991,-6 9997,0 10003,0 10003,0 10096,0 10096,0 10102,0 10108,-6 10108,-12 10108,-12 10108,-56 10108,-56 10108,-62 10102,-68 10096,-68\"/>\n<text text-anchor=\"middle\" x=\"10049.5\" y=\"-52.8\" font-family=\"Helvetica,sans-Serif\" font-size=\"14.00\">gini = 0.0</text>\n<text text-anchor=\"middle\" x=\"10049.5\" y=\"-37.8\" font-family=\"Helvetica,sans-Serif\" font-size=\"14.00\">samples = 0.2%</text>\n<text text-anchor=\"middle\" x=\"10049.5\" y=\"-22.8\" font-family=\"Helvetica,sans-Serif\" font-size=\"14.00\">value = [0.0, 1.0]</text>\n<text text-anchor=\"middle\" x=\"10049.5\" y=\"-7.8\" font-family=\"Helvetica,sans-Serif\" font-size=\"14.00\">class = MM</text>\n</g>\n<!-- 141&#45;&gt;143 -->\n<g id=\"edge143\" class=\"edge\">\n<title>141&#45;&gt;143</title>\n<path fill=\"none\" stroke=\"black\" d=\"M9926.13,-468.18C9951.46,-379.22 10011.45,-168.59 10037.3,-77.83\"/>\n<polygon fill=\"black\" stroke=\"black\" points=\"10040.69,-78.72 10040.06,-68.14 10033.95,-76.8 10040.69,-78.72\"/>\n</g>\n<!-- 145 -->\n<g id=\"node146\" class=\"node\">\n<title>145</title>\n<path fill=\"#eeab7b\" stroke=\"black\" d=\"M10305.5,-670.5C10305.5,-670.5 10197.5,-670.5 10197.5,-670.5 10191.5,-670.5 10185.5,-664.5 10185.5,-658.5 10185.5,-658.5 10185.5,-599.5 10185.5,-599.5 10185.5,-593.5 10191.5,-587.5 10197.5,-587.5 10197.5,-587.5 10305.5,-587.5 10305.5,-587.5 10311.5,-587.5 10317.5,-593.5 10317.5,-599.5 10317.5,-599.5 10317.5,-658.5 10317.5,-658.5 10317.5,-664.5 10311.5,-670.5 10305.5,-670.5\"/>\n<text text-anchor=\"middle\" x=\"10251.5\" y=\"-655.3\" font-family=\"Helvetica,sans-Serif\" font-size=\"14.00\">StoreID &lt;= 1.5</text>\n<text text-anchor=\"middle\" x=\"10251.5\" y=\"-640.3\" font-family=\"Helvetica,sans-Serif\" font-size=\"14.00\">gini = 0.375</text>\n<text text-anchor=\"middle\" x=\"10251.5\" y=\"-625.3\" font-family=\"Helvetica,sans-Serif\" font-size=\"14.00\">samples = 1.0%</text>\n<text text-anchor=\"middle\" x=\"10251.5\" y=\"-610.3\" font-family=\"Helvetica,sans-Serif\" font-size=\"14.00\">value = [0.75, 0.25]</text>\n<text text-anchor=\"middle\" x=\"10251.5\" y=\"-595.3\" font-family=\"Helvetica,sans-Serif\" font-size=\"14.00\">class = CH</text>\n</g>\n<!-- 144&#45;&gt;145 -->\n<g id=\"edge145\" class=\"edge\">\n<title>144&#45;&gt;145</title>\n<path fill=\"none\" stroke=\"black\" d=\"M10251.5,-706.41C10251.5,-698.15 10251.5,-689.36 10251.5,-680.8\"/>\n<polygon fill=\"black\" stroke=\"black\" points=\"10255,-680.52 10251.5,-670.52 10248,-680.52 10255,-680.52\"/>\n</g>\n<!-- 152 -->\n<g id=\"node153\" class=\"node\">\n<title>152</title>\n<path fill=\"#e6853f\" stroke=\"black\" d=\"M10789,-670.5C10789,-670.5 10666,-670.5 10666,-670.5 10660,-670.5 10654,-664.5 10654,-658.5 10654,-658.5 10654,-599.5 10654,-599.5 10654,-593.5 10660,-587.5 10666,-587.5 10666,-587.5 10789,-587.5 10789,-587.5 10795,-587.5 10801,-593.5 10801,-599.5 10801,-599.5 10801,-658.5 10801,-658.5 10801,-664.5 10795,-670.5 10789,-670.5\"/>\n<text text-anchor=\"middle\" x=\"10727.5\" y=\"-655.3\" font-family=\"Helvetica,sans-Serif\" font-size=\"14.00\">STORE &lt;= 1.5</text>\n<text text-anchor=\"middle\" x=\"10727.5\" y=\"-640.3\" font-family=\"Helvetica,sans-Serif\" font-size=\"14.00\">gini = 0.061</text>\n<text text-anchor=\"middle\" x=\"10727.5\" y=\"-625.3\" font-family=\"Helvetica,sans-Serif\" font-size=\"14.00\">samples = 31.8%</text>\n<text text-anchor=\"middle\" x=\"10727.5\" y=\"-610.3\" font-family=\"Helvetica,sans-Serif\" font-size=\"14.00\">value = [0.969, 0.031]</text>\n<text text-anchor=\"middle\" x=\"10727.5\" y=\"-595.3\" font-family=\"Helvetica,sans-Serif\" font-size=\"14.00\">class = CH</text>\n</g>\n<!-- 144&#45;&gt;152 -->\n<g id=\"edge152\" class=\"edge\">\n<title>144&#45;&gt;152</title>\n<path fill=\"none\" stroke=\"black\" d=\"M10325.09,-728.91C10411.24,-707.74 10553.59,-672.75 10643.85,-650.56\"/>\n<polygon fill=\"black\" stroke=\"black\" points=\"10644.9,-653.91 10653.78,-648.12 10643.23,-647.11 10644.9,-653.91\"/>\n</g>\n<!-- 146 -->\n<g id=\"node147\" class=\"node\">\n<title>146</title>\n<path fill=\"#399de5\" stroke=\"black\" d=\"M10231,-68C10231,-68 10138,-68 10138,-68 10132,-68 10126,-62 10126,-56 10126,-56 10126,-12 10126,-12 10126,-6 10132,0 10138,0 10138,0 10231,0 10231,0 10237,0 10243,-6 10243,-12 10243,-12 10243,-56 10243,-56 10243,-62 10237,-68 10231,-68\"/>\n<text text-anchor=\"middle\" x=\"10184.5\" y=\"-52.8\" font-family=\"Helvetica,sans-Serif\" font-size=\"14.00\">gini = 0.0</text>\n<text text-anchor=\"middle\" x=\"10184.5\" y=\"-37.8\" font-family=\"Helvetica,sans-Serif\" font-size=\"14.00\">samples = 0.1%</text>\n<text text-anchor=\"middle\" x=\"10184.5\" y=\"-22.8\" font-family=\"Helvetica,sans-Serif\" font-size=\"14.00\">value = [0.0, 1.0]</text>\n<text text-anchor=\"middle\" x=\"10184.5\" y=\"-7.8\" font-family=\"Helvetica,sans-Serif\" font-size=\"14.00\">class = MM</text>\n</g>\n<!-- 145&#45;&gt;146 -->\n<g id=\"edge146\" class=\"edge\">\n<title>145&#45;&gt;146</title>\n<path fill=\"none\" stroke=\"black\" d=\"M10239.98,-587.43C10220.83,-519.95 10184.5,-392 10184.5,-392 10184.5,-392 10184.5,-392 10184.5,-271 10184.5,-271 10184.5,-146.16 10184.5,-78.08\"/>\n<polygon fill=\"black\" stroke=\"black\" points=\"10188,-78.06 10184.5,-68.06 10181,-78.06 10188,-78.06\"/>\n</g>\n<!-- 147 -->\n<g id=\"node148\" class=\"node\">\n<title>147</title>\n<path fill=\"#e9965a\" stroke=\"black\" d=\"M10381,-551.5C10381,-551.5 10258,-551.5 10258,-551.5 10252,-551.5 10246,-545.5 10246,-539.5 10246,-539.5 10246,-480.5 10246,-480.5 10246,-474.5 10252,-468.5 10258,-468.5 10258,-468.5 10381,-468.5 10381,-468.5 10387,-468.5 10393,-474.5 10393,-480.5 10393,-480.5 10393,-539.5 10393,-539.5 10393,-545.5 10387,-551.5 10381,-551.5\"/>\n<text text-anchor=\"middle\" x=\"10319.5\" y=\"-536.3\" font-family=\"Helvetica,sans-Serif\" font-size=\"14.00\">LoyalCH &lt;= 0.994</text>\n<text text-anchor=\"middle\" x=\"10319.5\" y=\"-521.3\" font-family=\"Helvetica,sans-Serif\" font-size=\"14.00\">gini = 0.245</text>\n<text text-anchor=\"middle\" x=\"10319.5\" y=\"-506.3\" font-family=\"Helvetica,sans-Serif\" font-size=\"14.00\">samples = 0.9%</text>\n<text text-anchor=\"middle\" x=\"10319.5\" y=\"-491.3\" font-family=\"Helvetica,sans-Serif\" font-size=\"14.00\">value = [0.857, 0.143]</text>\n<text text-anchor=\"middle\" x=\"10319.5\" y=\"-476.3\" font-family=\"Helvetica,sans-Serif\" font-size=\"14.00\">class = CH</text>\n</g>\n<!-- 145&#45;&gt;147 -->\n<g id=\"edge147\" class=\"edge\">\n<title>145&#45;&gt;147</title>\n<path fill=\"none\" stroke=\"black\" d=\"M10275.09,-587.41C10280.16,-578.7 10285.56,-569.4 10290.79,-560.39\"/>\n<polygon fill=\"black\" stroke=\"black\" points=\"10293.95,-561.93 10295.95,-551.52 10287.9,-558.41 10293.95,-561.93\"/>\n</g>\n<!-- 148 -->\n<g id=\"node149\" class=\"node\">\n<title>148</title>\n<path fill=\"#e58139\" stroke=\"black\" d=\"M10366,-68C10366,-68 10273,-68 10273,-68 10267,-68 10261,-62 10261,-56 10261,-56 10261,-12 10261,-12 10261,-6 10267,0 10273,0 10273,0 10366,0 10366,0 10372,0 10378,-6 10378,-12 10378,-12 10378,-56 10378,-56 10378,-62 10372,-68 10366,-68\"/>\n<text text-anchor=\"middle\" x=\"10319.5\" y=\"-52.8\" font-family=\"Helvetica,sans-Serif\" font-size=\"14.00\">gini = 0.0</text>\n<text text-anchor=\"middle\" x=\"10319.5\" y=\"-37.8\" font-family=\"Helvetica,sans-Serif\" font-size=\"14.00\">samples = 0.6%</text>\n<text text-anchor=\"middle\" x=\"10319.5\" y=\"-22.8\" font-family=\"Helvetica,sans-Serif\" font-size=\"14.00\">value = [1.0, 0.0]</text>\n<text text-anchor=\"middle\" x=\"10319.5\" y=\"-7.8\" font-family=\"Helvetica,sans-Serif\" font-size=\"14.00\">class = CH</text>\n</g>\n<!-- 147&#45;&gt;148 -->\n<g id=\"edge148\" class=\"edge\">\n<title>147&#45;&gt;148</title>\n<path fill=\"none\" stroke=\"black\" d=\"M10319.5,-468.18C10319.5,-379.4 10319.5,-169.45 10319.5,-78.39\"/>\n<polygon fill=\"black\" stroke=\"black\" points=\"10323,-78.14 10319.5,-68.14 10316,-78.14 10323,-78.14\"/>\n</g>\n<!-- 149 -->\n<g id=\"node150\" class=\"node\">\n<title>149</title>\n<path fill=\"#ffffff\" stroke=\"black\" d=\"M10505.5,-432.5C10505.5,-432.5 10403.5,-432.5 10403.5,-432.5 10397.5,-432.5 10391.5,-426.5 10391.5,-420.5 10391.5,-420.5 10391.5,-361.5 10391.5,-361.5 10391.5,-355.5 10397.5,-349.5 10403.5,-349.5 10403.5,-349.5 10505.5,-349.5 10505.5,-349.5 10511.5,-349.5 10517.5,-355.5 10517.5,-361.5 10517.5,-361.5 10517.5,-420.5 10517.5,-420.5 10517.5,-426.5 10511.5,-432.5 10505.5,-432.5\"/>\n<text text-anchor=\"middle\" x=\"10454.5\" y=\"-417.3\" font-family=\"Helvetica,sans-Serif\" font-size=\"14.00\">LoyalCH &lt;= 0.997</text>\n<text text-anchor=\"middle\" x=\"10454.5\" y=\"-402.3\" font-family=\"Helvetica,sans-Serif\" font-size=\"14.00\">gini = 0.5</text>\n<text text-anchor=\"middle\" x=\"10454.5\" y=\"-387.3\" font-family=\"Helvetica,sans-Serif\" font-size=\"14.00\">samples = 0.2%</text>\n<text text-anchor=\"middle\" x=\"10454.5\" y=\"-372.3\" font-family=\"Helvetica,sans-Serif\" font-size=\"14.00\">value = [0.5, 0.5]</text>\n<text text-anchor=\"middle\" x=\"10454.5\" y=\"-357.3\" font-family=\"Helvetica,sans-Serif\" font-size=\"14.00\">class = CH</text>\n</g>\n<!-- 147&#45;&gt;149 -->\n<g id=\"edge149\" class=\"edge\">\n<title>147&#45;&gt;149</title>\n<path fill=\"none\" stroke=\"black\" d=\"M10366.34,-468.41C10377.23,-458.97 10388.91,-448.84 10400.1,-439.15\"/>\n<polygon fill=\"black\" stroke=\"black\" points=\"10402.48,-441.72 10407.75,-432.52 10397.9,-436.43 10402.48,-441.72\"/>\n</g>\n<!-- 150 -->\n<g id=\"node151\" class=\"node\">\n<title>150</title>\n<path fill=\"#399de5\" stroke=\"black\" d=\"M10501,-68C10501,-68 10408,-68 10408,-68 10402,-68 10396,-62 10396,-56 10396,-56 10396,-12 10396,-12 10396,-6 10402,0 10408,0 10408,0 10501,0 10501,0 10507,0 10513,-6 10513,-12 10513,-12 10513,-56 10513,-56 10513,-62 10507,-68 10501,-68\"/>\n<text text-anchor=\"middle\" x=\"10454.5\" y=\"-52.8\" font-family=\"Helvetica,sans-Serif\" font-size=\"14.00\">gini = 0.0</text>\n<text text-anchor=\"middle\" x=\"10454.5\" y=\"-37.8\" font-family=\"Helvetica,sans-Serif\" font-size=\"14.00\">samples = 0.1%</text>\n<text text-anchor=\"middle\" x=\"10454.5\" y=\"-22.8\" font-family=\"Helvetica,sans-Serif\" font-size=\"14.00\">value = [0.0, 1.0]</text>\n<text text-anchor=\"middle\" x=\"10454.5\" y=\"-7.8\" font-family=\"Helvetica,sans-Serif\" font-size=\"14.00\">class = MM</text>\n</g>\n<!-- 149&#45;&gt;150 -->\n<g id=\"edge150\" class=\"edge\">\n<title>149&#45;&gt;150</title>\n<path fill=\"none\" stroke=\"black\" d=\"M10454.5,-349.28C10454.5,-281.8 10454.5,-147.42 10454.5,-78.29\"/>\n<polygon fill=\"black\" stroke=\"black\" points=\"10458,-78.18 10454.5,-68.18 10451,-78.18 10458,-78.18\"/>\n</g>\n<!-- 151 -->\n<g id=\"node152\" class=\"node\">\n<title>151</title>\n<path fill=\"#e58139\" stroke=\"black\" d=\"M10636,-68C10636,-68 10543,-68 10543,-68 10537,-68 10531,-62 10531,-56 10531,-56 10531,-12 10531,-12 10531,-6 10537,0 10543,0 10543,0 10636,0 10636,0 10642,0 10648,-6 10648,-12 10648,-12 10648,-56 10648,-56 10648,-62 10642,-68 10636,-68\"/>\n<text text-anchor=\"middle\" x=\"10589.5\" y=\"-52.8\" font-family=\"Helvetica,sans-Serif\" font-size=\"14.00\">gini = 0.0</text>\n<text text-anchor=\"middle\" x=\"10589.5\" y=\"-37.8\" font-family=\"Helvetica,sans-Serif\" font-size=\"14.00\">samples = 0.1%</text>\n<text text-anchor=\"middle\" x=\"10589.5\" y=\"-22.8\" font-family=\"Helvetica,sans-Serif\" font-size=\"14.00\">value = [1.0, 0.0]</text>\n<text text-anchor=\"middle\" x=\"10589.5\" y=\"-7.8\" font-family=\"Helvetica,sans-Serif\" font-size=\"14.00\">class = CH</text>\n</g>\n<!-- 149&#45;&gt;151 -->\n<g id=\"edge151\" class=\"edge\">\n<title>149&#45;&gt;151</title>\n<path fill=\"none\" stroke=\"black\" d=\"M10469.99,-349.28C10495.7,-281.67 10546.96,-146.87 10573.2,-77.87\"/>\n<polygon fill=\"black\" stroke=\"black\" points=\"10576.6,-78.77 10576.88,-68.18 10570.06,-76.28 10576.6,-78.77\"/>\n</g>\n<!-- 153 -->\n<g id=\"node154\" class=\"node\">\n<title>153</title>\n<path fill=\"#e58139\" stroke=\"black\" d=\"M10776.5,-68C10776.5,-68 10678.5,-68 10678.5,-68 10672.5,-68 10666.5,-62 10666.5,-56 10666.5,-56 10666.5,-12 10666.5,-12 10666.5,-6 10672.5,0 10678.5,0 10678.5,0 10776.5,0 10776.5,0 10782.5,0 10788.5,-6 10788.5,-12 10788.5,-12 10788.5,-56 10788.5,-56 10788.5,-62 10782.5,-68 10776.5,-68\"/>\n<text text-anchor=\"middle\" x=\"10727.5\" y=\"-52.8\" font-family=\"Helvetica,sans-Serif\" font-size=\"14.00\">gini = 0.0</text>\n<text text-anchor=\"middle\" x=\"10727.5\" y=\"-37.8\" font-family=\"Helvetica,sans-Serif\" font-size=\"14.00\">samples = 16.5%</text>\n<text text-anchor=\"middle\" x=\"10727.5\" y=\"-22.8\" font-family=\"Helvetica,sans-Serif\" font-size=\"14.00\">value = [1.0, 0.0]</text>\n<text text-anchor=\"middle\" x=\"10727.5\" y=\"-7.8\" font-family=\"Helvetica,sans-Serif\" font-size=\"14.00\">class = CH</text>\n</g>\n<!-- 152&#45;&gt;153 -->\n<g id=\"edge153\" class=\"edge\">\n<title>152&#45;&gt;153</title>\n<path fill=\"none\" stroke=\"black\" d=\"M10727.5,-587.43C10727.5,-519.95 10727.5,-392 10727.5,-392 10727.5,-392 10727.5,-392 10727.5,-271 10727.5,-271 10727.5,-146.16 10727.5,-78.08\"/>\n<polygon fill=\"black\" stroke=\"black\" points=\"10731,-78.06 10727.5,-68.06 10724,-78.06 10731,-78.06\"/>\n</g>\n<!-- 154 -->\n<g id=\"node155\" class=\"node\">\n<title>154</title>\n<path fill=\"#e78a47\" stroke=\"black\" d=\"M10994,-551.5C10994,-551.5 10871,-551.5 10871,-551.5 10865,-551.5 10859,-545.5 10859,-539.5 10859,-539.5 10859,-480.5 10859,-480.5 10859,-474.5 10865,-468.5 10871,-468.5 10871,-468.5 10994,-468.5 10994,-468.5 11000,-468.5 11006,-474.5 11006,-480.5 11006,-480.5 11006,-539.5 11006,-539.5 11006,-545.5 11000,-551.5 10994,-551.5\"/>\n<text text-anchor=\"middle\" x=\"10932.5\" y=\"-536.3\" font-family=\"Helvetica,sans-Serif\" font-size=\"14.00\">ListPriceDiff &lt;= 0.22</text>\n<text text-anchor=\"middle\" x=\"10932.5\" y=\"-521.3\" font-family=\"Helvetica,sans-Serif\" font-size=\"14.00\">gini = 0.123</text>\n<text text-anchor=\"middle\" x=\"10932.5\" y=\"-506.3\" font-family=\"Helvetica,sans-Serif\" font-size=\"14.00\">samples = 15.2%</text>\n<text text-anchor=\"middle\" x=\"10932.5\" y=\"-491.3\" font-family=\"Helvetica,sans-Serif\" font-size=\"14.00\">value = [0.934, 0.066]</text>\n<text text-anchor=\"middle\" x=\"10932.5\" y=\"-476.3\" font-family=\"Helvetica,sans-Serif\" font-size=\"14.00\">class = CH</text>\n</g>\n<!-- 152&#45;&gt;154 -->\n<g id=\"edge154\" class=\"edge\">\n<title>152&#45;&gt;154</title>\n<path fill=\"none\" stroke=\"black\" d=\"M10798.62,-587.41C10815.96,-577.52 10834.61,-566.87 10852.33,-556.75\"/>\n<polygon fill=\"black\" stroke=\"black\" points=\"10854.55,-559.52 10861.5,-551.52 10851.08,-553.44 10854.55,-559.52\"/>\n</g>\n<!-- 155 -->\n<g id=\"node156\" class=\"node\">\n<title>155</title>\n<path fill=\"#e68540\" stroke=\"black\" d=\"M10994,-432.5C10994,-432.5 10871,-432.5 10871,-432.5 10865,-432.5 10859,-426.5 10859,-420.5 10859,-420.5 10859,-361.5 10859,-361.5 10859,-355.5 10865,-349.5 10871,-349.5 10871,-349.5 10994,-349.5 10994,-349.5 11000,-349.5 11006,-355.5 11006,-361.5 11006,-361.5 11006,-420.5 11006,-420.5 11006,-426.5 11000,-432.5 10994,-432.5\"/>\n<text text-anchor=\"middle\" x=\"10932.5\" y=\"-417.3\" font-family=\"Helvetica,sans-Serif\" font-size=\"14.00\">PriceDiff &lt;= 0.195</text>\n<text text-anchor=\"middle\" x=\"10932.5\" y=\"-402.3\" font-family=\"Helvetica,sans-Serif\" font-size=\"14.00\">gini = 0.062</text>\n<text text-anchor=\"middle\" x=\"10932.5\" y=\"-387.3\" font-family=\"Helvetica,sans-Serif\" font-size=\"14.00\">samples = 7.8%</text>\n<text text-anchor=\"middle\" x=\"10932.5\" y=\"-372.3\" font-family=\"Helvetica,sans-Serif\" font-size=\"14.00\">value = [0.968, 0.032]</text>\n<text text-anchor=\"middle\" x=\"10932.5\" y=\"-357.3\" font-family=\"Helvetica,sans-Serif\" font-size=\"14.00\">class = CH</text>\n</g>\n<!-- 154&#45;&gt;155 -->\n<g id=\"edge155\" class=\"edge\">\n<title>154&#45;&gt;155</title>\n<path fill=\"none\" stroke=\"black\" d=\"M10932.5,-468.41C10932.5,-460.15 10932.5,-451.36 10932.5,-442.8\"/>\n<polygon fill=\"black\" stroke=\"black\" points=\"10936,-442.52 10932.5,-432.52 10929,-442.52 10936,-442.52\"/>\n</g>\n<!-- 162 -->\n<g id=\"node163\" class=\"node\">\n<title>162</title>\n<path fill=\"#e88f4f\" stroke=\"black\" d=\"M11553.5,-432.5C11553.5,-432.5 11451.5,-432.5 11451.5,-432.5 11445.5,-432.5 11439.5,-426.5 11439.5,-420.5 11439.5,-420.5 11439.5,-361.5 11439.5,-361.5 11439.5,-355.5 11445.5,-349.5 11451.5,-349.5 11451.5,-349.5 11553.5,-349.5 11553.5,-349.5 11559.5,-349.5 11565.5,-355.5 11565.5,-361.5 11565.5,-361.5 11565.5,-420.5 11565.5,-420.5 11565.5,-426.5 11559.5,-432.5 11553.5,-432.5\"/>\n<text text-anchor=\"middle\" x=\"11502.5\" y=\"-417.3\" font-family=\"Helvetica,sans-Serif\" font-size=\"14.00\">LoyalCH &lt;= 0.924</text>\n<text text-anchor=\"middle\" x=\"11502.5\" y=\"-402.3\" font-family=\"Helvetica,sans-Serif\" font-size=\"14.00\">gini = 0.18</text>\n<text text-anchor=\"middle\" x=\"11502.5\" y=\"-387.3\" font-family=\"Helvetica,sans-Serif\" font-size=\"14.00\">samples = 7.5%</text>\n<text text-anchor=\"middle\" x=\"11502.5\" y=\"-372.3\" font-family=\"Helvetica,sans-Serif\" font-size=\"14.00\">value = [0.9, 0.1]</text>\n<text text-anchor=\"middle\" x=\"11502.5\" y=\"-357.3\" font-family=\"Helvetica,sans-Serif\" font-size=\"14.00\">class = CH</text>\n</g>\n<!-- 154&#45;&gt;162 -->\n<g id=\"edge162\" class=\"edge\">\n<title>154&#45;&gt;162</title>\n<path fill=\"none\" stroke=\"black\" d=\"M11006.14,-493.88C11115.58,-471.42 11319.95,-429.47 11429.2,-407.05\"/>\n<polygon fill=\"black\" stroke=\"black\" points=\"11430.05,-410.44 11439.14,-405 11428.65,-403.59 11430.05,-410.44\"/>\n</g>\n<!-- 156 -->\n<g id=\"node157\" class=\"node\">\n<title>156</title>\n<path fill=\"#e58139\" stroke=\"black\" d=\"M10912,-68C10912,-68 10819,-68 10819,-68 10813,-68 10807,-62 10807,-56 10807,-56 10807,-12 10807,-12 10807,-6 10813,0 10819,0 10819,0 10912,0 10912,0 10918,0 10924,-6 10924,-12 10924,-12 10924,-56 10924,-56 10924,-62 10918,-68 10912,-68\"/>\n<text text-anchor=\"middle\" x=\"10865.5\" y=\"-52.8\" font-family=\"Helvetica,sans-Serif\" font-size=\"14.00\">gini = 0.0</text>\n<text text-anchor=\"middle\" x=\"10865.5\" y=\"-37.8\" font-family=\"Helvetica,sans-Serif\" font-size=\"14.00\">samples = 4.2%</text>\n<text text-anchor=\"middle\" x=\"10865.5\" y=\"-22.8\" font-family=\"Helvetica,sans-Serif\" font-size=\"14.00\">value = [1.0, 0.0]</text>\n<text text-anchor=\"middle\" x=\"10865.5\" y=\"-7.8\" font-family=\"Helvetica,sans-Serif\" font-size=\"14.00\">class = CH</text>\n</g>\n<!-- 155&#45;&gt;156 -->\n<g id=\"edge156\" class=\"edge\">\n<title>155&#45;&gt;156</title>\n<path fill=\"none\" stroke=\"black\" d=\"M10924.47,-349.06C10920.91,-330.87 10917.5,-313.5 10917.5,-313.5 10917.5,-313.5 10888.14,-156.25 10873.54,-78.07\"/>\n<polygon fill=\"black\" stroke=\"black\" points=\"10876.95,-77.23 10871.67,-68.04 10870.06,-78.51 10876.95,-77.23\"/>\n</g>\n<!-- 157 -->\n<g id=\"node158\" class=\"node\">\n<title>157</title>\n<path fill=\"#e78b48\" stroke=\"black\" d=\"M11062,-313.5C11062,-313.5 10939,-313.5 10939,-313.5 10933,-313.5 10927,-307.5 10927,-301.5 10927,-301.5 10927,-242.5 10927,-242.5 10927,-236.5 10933,-230.5 10939,-230.5 10939,-230.5 11062,-230.5 11062,-230.5 11068,-230.5 11074,-236.5 11074,-242.5 11074,-242.5 11074,-301.5 11074,-301.5 11074,-307.5 11068,-313.5 11062,-313.5\"/>\n<text text-anchor=\"middle\" x=\"11000.5\" y=\"-298.3\" font-family=\"Helvetica,sans-Serif\" font-size=\"14.00\">StoreID &lt;= 3.5</text>\n<text text-anchor=\"middle\" x=\"11000.5\" y=\"-283.3\" font-family=\"Helvetica,sans-Serif\" font-size=\"14.00\">gini = 0.133</text>\n<text text-anchor=\"middle\" x=\"11000.5\" y=\"-268.3\" font-family=\"Helvetica,sans-Serif\" font-size=\"14.00\">samples = 3.5%</text>\n<text text-anchor=\"middle\" x=\"11000.5\" y=\"-253.3\" font-family=\"Helvetica,sans-Serif\" font-size=\"14.00\">value = [0.929, 0.071]</text>\n<text text-anchor=\"middle\" x=\"11000.5\" y=\"-238.3\" font-family=\"Helvetica,sans-Serif\" font-size=\"14.00\">class = CH</text>\n</g>\n<!-- 155&#45;&gt;157 -->\n<g id=\"edge157\" class=\"edge\">\n<title>155&#45;&gt;157</title>\n<path fill=\"none\" stroke=\"black\" d=\"M10956.09,-349.41C10961.16,-340.7 10966.56,-331.4 10971.79,-322.39\"/>\n<polygon fill=\"black\" stroke=\"black\" points=\"10974.95,-323.93 10976.95,-313.52 10968.9,-320.41 10974.95,-323.93\"/>\n</g>\n<!-- 158 -->\n<g id=\"node159\" class=\"node\">\n<title>158</title>\n<path fill=\"#e58139\" stroke=\"black\" d=\"M11047,-68C11047,-68 10954,-68 10954,-68 10948,-68 10942,-62 10942,-56 10942,-56 10942,-12 10942,-12 10942,-6 10948,0 10954,0 10954,0 11047,0 11047,0 11053,0 11059,-6 11059,-12 11059,-12 11059,-56 11059,-56 11059,-62 11053,-68 11047,-68\"/>\n<text text-anchor=\"middle\" x=\"11000.5\" y=\"-52.8\" font-family=\"Helvetica,sans-Serif\" font-size=\"14.00\">gini = 0.0</text>\n<text text-anchor=\"middle\" x=\"11000.5\" y=\"-37.8\" font-family=\"Helvetica,sans-Serif\" font-size=\"14.00\">samples = 1.4%</text>\n<text text-anchor=\"middle\" x=\"11000.5\" y=\"-22.8\" font-family=\"Helvetica,sans-Serif\" font-size=\"14.00\">value = [1.0, 0.0]</text>\n<text text-anchor=\"middle\" x=\"11000.5\" y=\"-7.8\" font-family=\"Helvetica,sans-Serif\" font-size=\"14.00\">class = CH</text>\n</g>\n<!-- 157&#45;&gt;158 -->\n<g id=\"edge158\" class=\"edge\">\n<title>157&#45;&gt;158</title>\n<path fill=\"none\" stroke=\"black\" d=\"M11000.5,-230.43C11000.5,-188.06 11000.5,-121.85 11000.5,-78.44\"/>\n<polygon fill=\"black\" stroke=\"black\" points=\"11004,-78.19 11000.5,-68.19 10997,-78.19 11004,-78.19\"/>\n</g>\n<!-- 159 -->\n<g id=\"node160\" class=\"node\">\n<title>159</title>\n<path fill=\"#e89253\" stroke=\"black\" d=\"M11212,-194.5C11212,-194.5 11089,-194.5 11089,-194.5 11083,-194.5 11077,-188.5 11077,-182.5 11077,-182.5 11077,-123.5 11077,-123.5 11077,-117.5 11083,-111.5 11089,-111.5 11089,-111.5 11212,-111.5 11212,-111.5 11218,-111.5 11224,-117.5 11224,-123.5 11224,-123.5 11224,-182.5 11224,-182.5 11224,-188.5 11218,-194.5 11212,-194.5\"/>\n<text text-anchor=\"middle\" x=\"11150.5\" y=\"-179.3\" font-family=\"Helvetica,sans-Serif\" font-size=\"14.00\">LoyalCH &lt;= 0.945</text>\n<text text-anchor=\"middle\" x=\"11150.5\" y=\"-164.3\" font-family=\"Helvetica,sans-Serif\" font-size=\"14.00\">gini = 0.208</text>\n<text text-anchor=\"middle\" x=\"11150.5\" y=\"-149.3\" font-family=\"Helvetica,sans-Serif\" font-size=\"14.00\">samples = 2.1%</text>\n<text text-anchor=\"middle\" x=\"11150.5\" y=\"-134.3\" font-family=\"Helvetica,sans-Serif\" font-size=\"14.00\">value = [0.882, 0.118]</text>\n<text text-anchor=\"middle\" x=\"11150.5\" y=\"-119.3\" font-family=\"Helvetica,sans-Serif\" font-size=\"14.00\">class = CH</text>\n</g>\n<!-- 157&#45;&gt;159 -->\n<g id=\"edge159\" class=\"edge\">\n<title>157&#45;&gt;159</title>\n<path fill=\"none\" stroke=\"black\" d=\"M11052.54,-230.41C11064.76,-220.88 11077.87,-210.65 11090.41,-200.87\"/>\n<polygon fill=\"black\" stroke=\"black\" points=\"11092.82,-203.43 11098.55,-194.52 11088.51,-197.91 11092.82,-203.43\"/>\n</g>\n<!-- 160 -->\n<g id=\"node161\" class=\"node\">\n<title>160</title>\n<path fill=\"#eca572\" stroke=\"black\" d=\"M11212,-68C11212,-68 11089,-68 11089,-68 11083,-68 11077,-62 11077,-56 11077,-56 11077,-12 11077,-12 11077,-6 11083,0 11089,0 11089,0 11212,0 11212,0 11218,0 11224,-6 11224,-12 11224,-12 11224,-56 11224,-56 11224,-62 11218,-68 11212,-68\"/>\n<text text-anchor=\"middle\" x=\"11150.5\" y=\"-52.8\" font-family=\"Helvetica,sans-Serif\" font-size=\"14.00\">gini = 0.346</text>\n<text text-anchor=\"middle\" x=\"11150.5\" y=\"-37.8\" font-family=\"Helvetica,sans-Serif\" font-size=\"14.00\">samples = 1.1%</text>\n<text text-anchor=\"middle\" x=\"11150.5\" y=\"-22.8\" font-family=\"Helvetica,sans-Serif\" font-size=\"14.00\">value = [0.778, 0.222]</text>\n<text text-anchor=\"middle\" x=\"11150.5\" y=\"-7.8\" font-family=\"Helvetica,sans-Serif\" font-size=\"14.00\">class = CH</text>\n</g>\n<!-- 159&#45;&gt;160 -->\n<g id=\"edge160\" class=\"edge\">\n<title>159&#45;&gt;160</title>\n<path fill=\"none\" stroke=\"black\" d=\"M11150.5,-111.41C11150.5,-100.7 11150.5,-89.12 11150.5,-78.28\"/>\n<polygon fill=\"black\" stroke=\"black\" points=\"11154,-78.17 11150.5,-68.17 11147,-78.17 11154,-78.17\"/>\n</g>\n<!-- 161 -->\n<g id=\"node162\" class=\"node\">\n<title>161</title>\n<path fill=\"#e58139\" stroke=\"black\" d=\"M11347,-68C11347,-68 11254,-68 11254,-68 11248,-68 11242,-62 11242,-56 11242,-56 11242,-12 11242,-12 11242,-6 11248,0 11254,0 11254,0 11347,0 11347,0 11353,0 11359,-6 11359,-12 11359,-12 11359,-56 11359,-56 11359,-62 11353,-68 11347,-68\"/>\n<text text-anchor=\"middle\" x=\"11300.5\" y=\"-52.8\" font-family=\"Helvetica,sans-Serif\" font-size=\"14.00\">gini = 0.0</text>\n<text text-anchor=\"middle\" x=\"11300.5\" y=\"-37.8\" font-family=\"Helvetica,sans-Serif\" font-size=\"14.00\">samples = 1.0%</text>\n<text text-anchor=\"middle\" x=\"11300.5\" y=\"-22.8\" font-family=\"Helvetica,sans-Serif\" font-size=\"14.00\">value = [1.0, 0.0]</text>\n<text text-anchor=\"middle\" x=\"11300.5\" y=\"-7.8\" font-family=\"Helvetica,sans-Serif\" font-size=\"14.00\">class = CH</text>\n</g>\n<!-- 159&#45;&gt;161 -->\n<g id=\"edge161\" class=\"edge\">\n<title>159&#45;&gt;161</title>\n<path fill=\"none\" stroke=\"black\" d=\"M11202.54,-111.41C11217.82,-99.49 11234.51,-86.48 11249.71,-74.62\"/>\n<polygon fill=\"black\" stroke=\"black\" points=\"11252.25,-77.08 11257.98,-68.17 11247.94,-71.56 11252.25,-77.08\"/>\n</g>\n<!-- 163 -->\n<g id=\"node164\" class=\"node\">\n<title>163</title>\n<path fill=\"#e6853f\" stroke=\"black\" d=\"M11565,-313.5C11565,-313.5 11440,-313.5 11440,-313.5 11434,-313.5 11428,-307.5 11428,-301.5 11428,-301.5 11428,-242.5 11428,-242.5 11428,-236.5 11434,-230.5 11440,-230.5 11440,-230.5 11565,-230.5 11565,-230.5 11571,-230.5 11577,-236.5 11577,-242.5 11577,-242.5 11577,-301.5 11577,-301.5 11577,-307.5 11571,-313.5 11565,-313.5\"/>\n<text text-anchor=\"middle\" x=\"11502.5\" y=\"-298.3\" font-family=\"Helvetica,sans-Serif\" font-size=\"14.00\">SalePriceMM &lt;= 2.26</text>\n<text text-anchor=\"middle\" x=\"11502.5\" y=\"-283.3\" font-family=\"Helvetica,sans-Serif\" font-size=\"14.00\">gini = 0.056</text>\n<text text-anchor=\"middle\" x=\"11502.5\" y=\"-268.3\" font-family=\"Helvetica,sans-Serif\" font-size=\"14.00\">samples = 4.4%</text>\n<text text-anchor=\"middle\" x=\"11502.5\" y=\"-253.3\" font-family=\"Helvetica,sans-Serif\" font-size=\"14.00\">value = [0.971, 0.029]</text>\n<text text-anchor=\"middle\" x=\"11502.5\" y=\"-238.3\" font-family=\"Helvetica,sans-Serif\" font-size=\"14.00\">class = CH</text>\n</g>\n<!-- 162&#45;&gt;163 -->\n<g id=\"edge163\" class=\"edge\">\n<title>162&#45;&gt;163</title>\n<path fill=\"none\" stroke=\"black\" d=\"M11502.5,-349.41C11502.5,-341.15 11502.5,-332.36 11502.5,-323.8\"/>\n<polygon fill=\"black\" stroke=\"black\" points=\"11506,-323.52 11502.5,-313.52 11499,-323.52 11506,-323.52\"/>\n</g>\n<!-- 168 -->\n<g id=\"node169\" class=\"node\">\n<title>168</title>\n<path fill=\"#eca06a\" stroke=\"black\" d=\"M11891.5,-313.5C11891.5,-313.5 11789.5,-313.5 11789.5,-313.5 11783.5,-313.5 11777.5,-307.5 11777.5,-301.5 11777.5,-301.5 11777.5,-242.5 11777.5,-242.5 11777.5,-236.5 11783.5,-230.5 11789.5,-230.5 11789.5,-230.5 11891.5,-230.5 11891.5,-230.5 11897.5,-230.5 11903.5,-236.5 11903.5,-242.5 11903.5,-242.5 11903.5,-301.5 11903.5,-301.5 11903.5,-307.5 11897.5,-313.5 11891.5,-313.5\"/>\n<text text-anchor=\"middle\" x=\"11840.5\" y=\"-298.3\" font-family=\"Helvetica,sans-Serif\" font-size=\"14.00\">LoyalCH &lt;= 0.935</text>\n<text text-anchor=\"middle\" x=\"11840.5\" y=\"-283.3\" font-family=\"Helvetica,sans-Serif\" font-size=\"14.00\">gini = 0.32</text>\n<text text-anchor=\"middle\" x=\"11840.5\" y=\"-268.3\" font-family=\"Helvetica,sans-Serif\" font-size=\"14.00\">samples = 3.1%</text>\n<text text-anchor=\"middle\" x=\"11840.5\" y=\"-253.3\" font-family=\"Helvetica,sans-Serif\" font-size=\"14.00\">value = [0.8, 0.2]</text>\n<text text-anchor=\"middle\" x=\"11840.5\" y=\"-238.3\" font-family=\"Helvetica,sans-Serif\" font-size=\"14.00\">class = CH</text>\n</g>\n<!-- 162&#45;&gt;168 -->\n<g id=\"edge168\" class=\"edge\">\n<title>162&#45;&gt;168</title>\n<path fill=\"none\" stroke=\"black\" d=\"M11565.68,-368.13C11622.96,-348.3 11707.39,-319.08 11767.54,-298.26\"/>\n<polygon fill=\"black\" stroke=\"black\" points=\"11769.04,-301.44 11777.34,-294.86 11766.75,-294.83 11769.04,-301.44\"/>\n</g>\n<!-- 164 -->\n<g id=\"node165\" class=\"node\">\n<title>164</title>\n<path fill=\"#e58139\" stroke=\"black\" d=\"M11482,-68C11482,-68 11389,-68 11389,-68 11383,-68 11377,-62 11377,-56 11377,-56 11377,-12 11377,-12 11377,-6 11383,0 11389,0 11389,0 11482,0 11482,0 11488,0 11494,-6 11494,-12 11494,-12 11494,-56 11494,-56 11494,-62 11488,-68 11482,-68\"/>\n<text text-anchor=\"middle\" x=\"11435.5\" y=\"-52.8\" font-family=\"Helvetica,sans-Serif\" font-size=\"14.00\">gini = 0.0</text>\n<text text-anchor=\"middle\" x=\"11435.5\" y=\"-37.8\" font-family=\"Helvetica,sans-Serif\" font-size=\"14.00\">samples = 3.9%</text>\n<text text-anchor=\"middle\" x=\"11435.5\" y=\"-22.8\" font-family=\"Helvetica,sans-Serif\" font-size=\"14.00\">value = [1.0, 0.0]</text>\n<text text-anchor=\"middle\" x=\"11435.5\" y=\"-7.8\" font-family=\"Helvetica,sans-Serif\" font-size=\"14.00\">class = CH</text>\n</g>\n<!-- 163&#45;&gt;164 -->\n<g id=\"edge164\" class=\"edge\">\n<title>163&#45;&gt;164</title>\n<path fill=\"none\" stroke=\"black\" d=\"M11490.98,-230.43C11478.9,-187.88 11460,-121.29 11447.68,-77.89\"/>\n<polygon fill=\"black\" stroke=\"black\" points=\"11451.02,-76.86 11444.92,-68.19 11444.29,-78.77 11451.02,-76.86\"/>\n</g>\n<!-- 165 -->\n<g id=\"node166\" class=\"node\">\n<title>165</title>\n<path fill=\"#eeab7b\" stroke=\"black\" d=\"M11624.5,-194.5C11624.5,-194.5 11516.5,-194.5 11516.5,-194.5 11510.5,-194.5 11504.5,-188.5 11504.5,-182.5 11504.5,-182.5 11504.5,-123.5 11504.5,-123.5 11504.5,-117.5 11510.5,-111.5 11516.5,-111.5 11516.5,-111.5 11624.5,-111.5 11624.5,-111.5 11630.5,-111.5 11636.5,-117.5 11636.5,-123.5 11636.5,-123.5 11636.5,-182.5 11636.5,-182.5 11636.5,-188.5 11630.5,-194.5 11624.5,-194.5\"/>\n<text text-anchor=\"middle\" x=\"11570.5\" y=\"-179.3\" font-family=\"Helvetica,sans-Serif\" font-size=\"14.00\">LoyalCH &lt;= 0.813</text>\n<text text-anchor=\"middle\" x=\"11570.5\" y=\"-164.3\" font-family=\"Helvetica,sans-Serif\" font-size=\"14.00\">gini = 0.375</text>\n<text text-anchor=\"middle\" x=\"11570.5\" y=\"-149.3\" font-family=\"Helvetica,sans-Serif\" font-size=\"14.00\">samples = 0.5%</text>\n<text text-anchor=\"middle\" x=\"11570.5\" y=\"-134.3\" font-family=\"Helvetica,sans-Serif\" font-size=\"14.00\">value = [0.75, 0.25]</text>\n<text text-anchor=\"middle\" x=\"11570.5\" y=\"-119.3\" font-family=\"Helvetica,sans-Serif\" font-size=\"14.00\">class = CH</text>\n</g>\n<!-- 163&#45;&gt;165 -->\n<g id=\"edge165\" class=\"edge\">\n<title>163&#45;&gt;165</title>\n<path fill=\"none\" stroke=\"black\" d=\"M11526.09,-230.41C11531.16,-221.7 11536.56,-212.4 11541.79,-203.39\"/>\n<polygon fill=\"black\" stroke=\"black\" points=\"11544.95,-204.93 11546.95,-194.52 11538.9,-201.41 11544.95,-204.93\"/>\n</g>\n<!-- 166 -->\n<g id=\"node167\" class=\"node\">\n<title>166</title>\n<path fill=\"#399de5\" stroke=\"black\" d=\"M11617,-68C11617,-68 11524,-68 11524,-68 11518,-68 11512,-62 11512,-56 11512,-56 11512,-12 11512,-12 11512,-6 11518,0 11524,0 11524,0 11617,0 11617,0 11623,0 11629,-6 11629,-12 11629,-12 11629,-56 11629,-56 11629,-62 11623,-68 11617,-68\"/>\n<text text-anchor=\"middle\" x=\"11570.5\" y=\"-52.8\" font-family=\"Helvetica,sans-Serif\" font-size=\"14.00\">gini = 0.0</text>\n<text text-anchor=\"middle\" x=\"11570.5\" y=\"-37.8\" font-family=\"Helvetica,sans-Serif\" font-size=\"14.00\">samples = 0.1%</text>\n<text text-anchor=\"middle\" x=\"11570.5\" y=\"-22.8\" font-family=\"Helvetica,sans-Serif\" font-size=\"14.00\">value = [0.0, 1.0]</text>\n<text text-anchor=\"middle\" x=\"11570.5\" y=\"-7.8\" font-family=\"Helvetica,sans-Serif\" font-size=\"14.00\">class = MM</text>\n</g>\n<!-- 165&#45;&gt;166 -->\n<g id=\"edge166\" class=\"edge\">\n<title>165&#45;&gt;166</title>\n<path fill=\"none\" stroke=\"black\" d=\"M11570.5,-111.41C11570.5,-100.7 11570.5,-89.12 11570.5,-78.28\"/>\n<polygon fill=\"black\" stroke=\"black\" points=\"11574,-78.17 11570.5,-68.17 11567,-78.17 11574,-78.17\"/>\n</g>\n<!-- 167 -->\n<g id=\"node168\" class=\"node\">\n<title>167</title>\n<path fill=\"#e58139\" stroke=\"black\" d=\"M11752,-68C11752,-68 11659,-68 11659,-68 11653,-68 11647,-62 11647,-56 11647,-56 11647,-12 11647,-12 11647,-6 11653,0 11659,0 11659,0 11752,0 11752,0 11758,0 11764,-6 11764,-12 11764,-12 11764,-56 11764,-56 11764,-62 11758,-68 11752,-68\"/>\n<text text-anchor=\"middle\" x=\"11705.5\" y=\"-52.8\" font-family=\"Helvetica,sans-Serif\" font-size=\"14.00\">gini = 0.0</text>\n<text text-anchor=\"middle\" x=\"11705.5\" y=\"-37.8\" font-family=\"Helvetica,sans-Serif\" font-size=\"14.00\">samples = 0.4%</text>\n<text text-anchor=\"middle\" x=\"11705.5\" y=\"-22.8\" font-family=\"Helvetica,sans-Serif\" font-size=\"14.00\">value = [1.0, 0.0]</text>\n<text text-anchor=\"middle\" x=\"11705.5\" y=\"-7.8\" font-family=\"Helvetica,sans-Serif\" font-size=\"14.00\">class = CH</text>\n</g>\n<!-- 165&#45;&gt;167 -->\n<g id=\"edge167\" class=\"edge\">\n<title>165&#45;&gt;167</title>\n<path fill=\"none\" stroke=\"black\" d=\"M11617.34,-111.41C11630.96,-99.6 11645.83,-86.72 11659.4,-74.95\"/>\n<polygon fill=\"black\" stroke=\"black\" points=\"11661.97,-77.36 11667.23,-68.17 11657.38,-72.07 11661.97,-77.36\"/>\n</g>\n<!-- 169 -->\n<g id=\"node170\" class=\"node\">\n<title>169</title>\n<path fill=\"#399de5\" stroke=\"black\" d=\"M11887,-68C11887,-68 11794,-68 11794,-68 11788,-68 11782,-62 11782,-56 11782,-56 11782,-12 11782,-12 11782,-6 11788,0 11794,0 11794,0 11887,0 11887,0 11893,0 11899,-6 11899,-12 11899,-12 11899,-56 11899,-56 11899,-62 11893,-68 11887,-68\"/>\n<text text-anchor=\"middle\" x=\"11840.5\" y=\"-52.8\" font-family=\"Helvetica,sans-Serif\" font-size=\"14.00\">gini = 0.0</text>\n<text text-anchor=\"middle\" x=\"11840.5\" y=\"-37.8\" font-family=\"Helvetica,sans-Serif\" font-size=\"14.00\">samples = 0.2%</text>\n<text text-anchor=\"middle\" x=\"11840.5\" y=\"-22.8\" font-family=\"Helvetica,sans-Serif\" font-size=\"14.00\">value = [0.0, 1.0]</text>\n<text text-anchor=\"middle\" x=\"11840.5\" y=\"-7.8\" font-family=\"Helvetica,sans-Serif\" font-size=\"14.00\">class = MM</text>\n</g>\n<!-- 168&#45;&gt;169 -->\n<g id=\"edge169\" class=\"edge\">\n<title>168&#45;&gt;169</title>\n<path fill=\"none\" stroke=\"black\" d=\"M11840.5,-230.43C11840.5,-188.06 11840.5,-121.85 11840.5,-78.44\"/>\n<polygon fill=\"black\" stroke=\"black\" points=\"11844,-78.19 11840.5,-68.19 11837,-78.19 11844,-78.19\"/>\n</g>\n<!-- 170 -->\n<g id=\"node171\" class=\"node\">\n<title>170</title>\n<path fill=\"#e99457\" stroke=\"black\" d=\"M12067,-194.5C12067,-194.5 11914,-194.5 11914,-194.5 11908,-194.5 11902,-188.5 11902,-182.5 11902,-182.5 11902,-123.5 11902,-123.5 11902,-117.5 11908,-111.5 11914,-111.5 11914,-111.5 12067,-111.5 12067,-111.5 12073,-111.5 12079,-117.5 12079,-123.5 12079,-123.5 12079,-182.5 12079,-182.5 12079,-188.5 12073,-194.5 12067,-194.5\"/>\n<text text-anchor=\"middle\" x=\"11990.5\" y=\"-179.3\" font-family=\"Helvetica,sans-Serif\" font-size=\"14.00\">WeekofPurchase &lt;= 263.5</text>\n<text text-anchor=\"middle\" x=\"11990.5\" y=\"-164.3\" font-family=\"Helvetica,sans-Serif\" font-size=\"14.00\">gini = 0.227</text>\n<text text-anchor=\"middle\" x=\"11990.5\" y=\"-149.3\" font-family=\"Helvetica,sans-Serif\" font-size=\"14.00\">samples = 2.9%</text>\n<text text-anchor=\"middle\" x=\"11990.5\" y=\"-134.3\" font-family=\"Helvetica,sans-Serif\" font-size=\"14.00\">value = [0.87, 0.13]</text>\n<text text-anchor=\"middle\" x=\"11990.5\" y=\"-119.3\" font-family=\"Helvetica,sans-Serif\" font-size=\"14.00\">class = CH</text>\n</g>\n<!-- 168&#45;&gt;170 -->\n<g id=\"edge170\" class=\"edge\">\n<title>168&#45;&gt;170</title>\n<path fill=\"none\" stroke=\"black\" d=\"M11892.54,-230.41C11904.76,-220.88 11917.87,-210.65 11930.41,-200.87\"/>\n<polygon fill=\"black\" stroke=\"black\" points=\"11932.82,-203.43 11938.55,-194.52 11928.51,-197.91 11932.82,-203.43\"/>\n</g>\n<!-- 171 -->\n<g id=\"node172\" class=\"node\">\n<title>171</title>\n<path fill=\"#e78845\" stroke=\"black\" d=\"M12052,-68C12052,-68 11929,-68 11929,-68 11923,-68 11917,-62 11917,-56 11917,-56 11917,-12 11917,-12 11917,-6 11923,0 11929,0 11929,0 12052,0 12052,0 12058,0 12064,-6 12064,-12 12064,-12 12064,-56 12064,-56 12064,-62 12058,-68 12052,-68\"/>\n<text text-anchor=\"middle\" x=\"11990.5\" y=\"-52.8\" font-family=\"Helvetica,sans-Serif\" font-size=\"14.00\">gini = 0.105</text>\n<text text-anchor=\"middle\" x=\"11990.5\" y=\"-37.8\" font-family=\"Helvetica,sans-Serif\" font-size=\"14.00\">samples = 2.2%</text>\n<text text-anchor=\"middle\" x=\"11990.5\" y=\"-22.8\" font-family=\"Helvetica,sans-Serif\" font-size=\"14.00\">value = [0.944, 0.056]</text>\n<text text-anchor=\"middle\" x=\"11990.5\" y=\"-7.8\" font-family=\"Helvetica,sans-Serif\" font-size=\"14.00\">class = CH</text>\n</g>\n<!-- 170&#45;&gt;171 -->\n<g id=\"edge171\" class=\"edge\">\n<title>170&#45;&gt;171</title>\n<path fill=\"none\" stroke=\"black\" d=\"M11990.5,-111.41C11990.5,-100.7 11990.5,-89.12 11990.5,-78.28\"/>\n<polygon fill=\"black\" stroke=\"black\" points=\"11994,-78.17 11990.5,-68.17 11987,-78.17 11994,-78.17\"/>\n</g>\n<!-- 172 -->\n<g id=\"node173\" class=\"node\">\n<title>172</title>\n<path fill=\"#f6d5bd\" stroke=\"black\" d=\"M12187,-68C12187,-68 12094,-68 12094,-68 12088,-68 12082,-62 12082,-56 12082,-56 12082,-12 12082,-12 12082,-6 12088,0 12094,0 12094,0 12187,0 12187,0 12193,0 12199,-6 12199,-12 12199,-12 12199,-56 12199,-56 12199,-62 12193,-68 12187,-68\"/>\n<text text-anchor=\"middle\" x=\"12140.5\" y=\"-52.8\" font-family=\"Helvetica,sans-Serif\" font-size=\"14.00\">gini = 0.48</text>\n<text text-anchor=\"middle\" x=\"12140.5\" y=\"-37.8\" font-family=\"Helvetica,sans-Serif\" font-size=\"14.00\">samples = 0.6%</text>\n<text text-anchor=\"middle\" x=\"12140.5\" y=\"-22.8\" font-family=\"Helvetica,sans-Serif\" font-size=\"14.00\">value = [0.6, 0.4]</text>\n<text text-anchor=\"middle\" x=\"12140.5\" y=\"-7.8\" font-family=\"Helvetica,sans-Serif\" font-size=\"14.00\">class = CH</text>\n</g>\n<!-- 170&#45;&gt;172 -->\n<g id=\"edge172\" class=\"edge\">\n<title>170&#45;&gt;172</title>\n<path fill=\"none\" stroke=\"black\" d=\"M12042.54,-111.41C12057.82,-99.49 12074.51,-86.48 12089.71,-74.62\"/>\n<polygon fill=\"black\" stroke=\"black\" points=\"12092.25,-77.08 12097.98,-68.17 12087.94,-71.56 12092.25,-77.08\"/>\n</g>\n</g>\n</svg>\n",
            "text/plain": [
              "<graphviz.sources.Source at 0x7a47f3d93820>"
            ]
          },
          "metadata": {},
          "execution_count": 26
        }
      ],
      "source": [
        "dot_data = tree.export_graphviz(model, out_file=None, feature_names=X_train.columns, class_names=model.classes_, filled=True, rounded=True, leaves_parallel=True, proportion=True)\n",
        "graph = graphviz.Source(dot_data)\n",
        "graph"
      ]
    },
    {
      "cell_type": "markdown",
      "metadata": {
        "tags": [],
        "id": "l-Xy7QbqUm9c"
      },
      "source": [
        "### d)\n",
        "Predict the response on the test data, and produce a confusion matrix comparing the test labels to the predicted test labels. What is the test error rate?"
      ]
    },
    {
      "cell_type": "code",
      "execution_count": 27,
      "metadata": {
        "tags": [],
        "id": "JNhq6S5GUm9c",
        "outputId": "e602285b-895c-4133-cbe9-fa2b53671287",
        "colab": {
          "base_uri": "https://localhost:8080/",
          "height": 161
        }
      },
      "outputs": [
        {
          "output_type": "stream",
          "name": "stdout",
          "text": [
            "Accuracy rate is 0.77\n"
          ]
        },
        {
          "output_type": "execute_result",
          "data": {
            "text/plain": [
              "Purchase   CH  MM\n",
              "row_0            \n",
              "CH        135  24\n",
              "MM         37  74"
            ],
            "text/html": [
              "\n",
              "  <div id=\"df-393d17db-cc0e-4501-88e1-54ecc2f96a9b\" class=\"colab-df-container\">\n",
              "    <div>\n",
              "<style scoped>\n",
              "    .dataframe tbody tr th:only-of-type {\n",
              "        vertical-align: middle;\n",
              "    }\n",
              "\n",
              "    .dataframe tbody tr th {\n",
              "        vertical-align: top;\n",
              "    }\n",
              "\n",
              "    .dataframe thead th {\n",
              "        text-align: right;\n",
              "    }\n",
              "</style>\n",
              "<table border=\"1\" class=\"dataframe\">\n",
              "  <thead>\n",
              "    <tr style=\"text-align: right;\">\n",
              "      <th>Purchase</th>\n",
              "      <th>CH</th>\n",
              "      <th>MM</th>\n",
              "    </tr>\n",
              "    <tr>\n",
              "      <th>row_0</th>\n",
              "      <th></th>\n",
              "      <th></th>\n",
              "    </tr>\n",
              "  </thead>\n",
              "  <tbody>\n",
              "    <tr>\n",
              "      <th>CH</th>\n",
              "      <td>135</td>\n",
              "      <td>24</td>\n",
              "    </tr>\n",
              "    <tr>\n",
              "      <th>MM</th>\n",
              "      <td>37</td>\n",
              "      <td>74</td>\n",
              "    </tr>\n",
              "  </tbody>\n",
              "</table>\n",
              "</div>\n",
              "    <div class=\"colab-df-buttons\">\n",
              "\n",
              "  <div class=\"colab-df-container\">\n",
              "    <button class=\"colab-df-convert\" onclick=\"convertToInteractive('df-393d17db-cc0e-4501-88e1-54ecc2f96a9b')\"\n",
              "            title=\"Convert this dataframe to an interactive table.\"\n",
              "            style=\"display:none;\">\n",
              "\n",
              "  <svg xmlns=\"http://www.w3.org/2000/svg\" height=\"24px\" viewBox=\"0 -960 960 960\">\n",
              "    <path d=\"M120-120v-720h720v720H120Zm60-500h600v-160H180v160Zm220 220h160v-160H400v160Zm0 220h160v-160H400v160ZM180-400h160v-160H180v160Zm440 0h160v-160H620v160ZM180-180h160v-160H180v160Zm440 0h160v-160H620v160Z\"/>\n",
              "  </svg>\n",
              "    </button>\n",
              "\n",
              "  <style>\n",
              "    .colab-df-container {\n",
              "      display:flex;\n",
              "      gap: 12px;\n",
              "    }\n",
              "\n",
              "    .colab-df-convert {\n",
              "      background-color: #E8F0FE;\n",
              "      border: none;\n",
              "      border-radius: 50%;\n",
              "      cursor: pointer;\n",
              "      display: none;\n",
              "      fill: #1967D2;\n",
              "      height: 32px;\n",
              "      padding: 0 0 0 0;\n",
              "      width: 32px;\n",
              "    }\n",
              "\n",
              "    .colab-df-convert:hover {\n",
              "      background-color: #E2EBFA;\n",
              "      box-shadow: 0px 1px 2px rgba(60, 64, 67, 0.3), 0px 1px 3px 1px rgba(60, 64, 67, 0.15);\n",
              "      fill: #174EA6;\n",
              "    }\n",
              "\n",
              "    .colab-df-buttons div {\n",
              "      margin-bottom: 4px;\n",
              "    }\n",
              "\n",
              "    [theme=dark] .colab-df-convert {\n",
              "      background-color: #3B4455;\n",
              "      fill: #D2E3FC;\n",
              "    }\n",
              "\n",
              "    [theme=dark] .colab-df-convert:hover {\n",
              "      background-color: #434B5C;\n",
              "      box-shadow: 0px 1px 3px 1px rgba(0, 0, 0, 0.15);\n",
              "      filter: drop-shadow(0px 1px 2px rgba(0, 0, 0, 0.3));\n",
              "      fill: #FFFFFF;\n",
              "    }\n",
              "  </style>\n",
              "\n",
              "    <script>\n",
              "      const buttonEl =\n",
              "        document.querySelector('#df-393d17db-cc0e-4501-88e1-54ecc2f96a9b button.colab-df-convert');\n",
              "      buttonEl.style.display =\n",
              "        google.colab.kernel.accessAllowed ? 'block' : 'none';\n",
              "\n",
              "      async function convertToInteractive(key) {\n",
              "        const element = document.querySelector('#df-393d17db-cc0e-4501-88e1-54ecc2f96a9b');\n",
              "        const dataTable =\n",
              "          await google.colab.kernel.invokeFunction('convertToInteractive',\n",
              "                                                    [key], {});\n",
              "        if (!dataTable) return;\n",
              "\n",
              "        const docLinkHtml = 'Like what you see? Visit the ' +\n",
              "          '<a target=\"_blank\" href=https://colab.research.google.com/notebooks/data_table.ipynb>data table notebook</a>'\n",
              "          + ' to learn more about interactive tables.';\n",
              "        element.innerHTML = '';\n",
              "        dataTable['output_type'] = 'display_data';\n",
              "        await google.colab.output.renderOutput(dataTable, element);\n",
              "        const docLink = document.createElement('div');\n",
              "        docLink.innerHTML = docLinkHtml;\n",
              "        element.appendChild(docLink);\n",
              "      }\n",
              "    </script>\n",
              "  </div>\n",
              "\n",
              "\n",
              "<div id=\"df-2a9cfc24-8007-4186-8c6e-764e0325587b\">\n",
              "  <button class=\"colab-df-quickchart\" onclick=\"quickchart('df-2a9cfc24-8007-4186-8c6e-764e0325587b')\"\n",
              "            title=\"Suggest charts\"\n",
              "            style=\"display:none;\">\n",
              "\n",
              "<svg xmlns=\"http://www.w3.org/2000/svg\" height=\"24px\"viewBox=\"0 0 24 24\"\n",
              "     width=\"24px\">\n",
              "    <g>\n",
              "        <path d=\"M19 3H5c-1.1 0-2 .9-2 2v14c0 1.1.9 2 2 2h14c1.1 0 2-.9 2-2V5c0-1.1-.9-2-2-2zM9 17H7v-7h2v7zm4 0h-2V7h2v10zm4 0h-2v-4h2v4z\"/>\n",
              "    </g>\n",
              "</svg>\n",
              "  </button>\n",
              "\n",
              "<style>\n",
              "  .colab-df-quickchart {\n",
              "      --bg-color: #E8F0FE;\n",
              "      --fill-color: #1967D2;\n",
              "      --hover-bg-color: #E2EBFA;\n",
              "      --hover-fill-color: #174EA6;\n",
              "      --disabled-fill-color: #AAA;\n",
              "      --disabled-bg-color: #DDD;\n",
              "  }\n",
              "\n",
              "  [theme=dark] .colab-df-quickchart {\n",
              "      --bg-color: #3B4455;\n",
              "      --fill-color: #D2E3FC;\n",
              "      --hover-bg-color: #434B5C;\n",
              "      --hover-fill-color: #FFFFFF;\n",
              "      --disabled-bg-color: #3B4455;\n",
              "      --disabled-fill-color: #666;\n",
              "  }\n",
              "\n",
              "  .colab-df-quickchart {\n",
              "    background-color: var(--bg-color);\n",
              "    border: none;\n",
              "    border-radius: 50%;\n",
              "    cursor: pointer;\n",
              "    display: none;\n",
              "    fill: var(--fill-color);\n",
              "    height: 32px;\n",
              "    padding: 0;\n",
              "    width: 32px;\n",
              "  }\n",
              "\n",
              "  .colab-df-quickchart:hover {\n",
              "    background-color: var(--hover-bg-color);\n",
              "    box-shadow: 0 1px 2px rgba(60, 64, 67, 0.3), 0 1px 3px 1px rgba(60, 64, 67, 0.15);\n",
              "    fill: var(--button-hover-fill-color);\n",
              "  }\n",
              "\n",
              "  .colab-df-quickchart-complete:disabled,\n",
              "  .colab-df-quickchart-complete:disabled:hover {\n",
              "    background-color: var(--disabled-bg-color);\n",
              "    fill: var(--disabled-fill-color);\n",
              "    box-shadow: none;\n",
              "  }\n",
              "\n",
              "  .colab-df-spinner {\n",
              "    border: 2px solid var(--fill-color);\n",
              "    border-color: transparent;\n",
              "    border-bottom-color: var(--fill-color);\n",
              "    animation:\n",
              "      spin 1s steps(1) infinite;\n",
              "  }\n",
              "\n",
              "  @keyframes spin {\n",
              "    0% {\n",
              "      border-color: transparent;\n",
              "      border-bottom-color: var(--fill-color);\n",
              "      border-left-color: var(--fill-color);\n",
              "    }\n",
              "    20% {\n",
              "      border-color: transparent;\n",
              "      border-left-color: var(--fill-color);\n",
              "      border-top-color: var(--fill-color);\n",
              "    }\n",
              "    30% {\n",
              "      border-color: transparent;\n",
              "      border-left-color: var(--fill-color);\n",
              "      border-top-color: var(--fill-color);\n",
              "      border-right-color: var(--fill-color);\n",
              "    }\n",
              "    40% {\n",
              "      border-color: transparent;\n",
              "      border-right-color: var(--fill-color);\n",
              "      border-top-color: var(--fill-color);\n",
              "    }\n",
              "    60% {\n",
              "      border-color: transparent;\n",
              "      border-right-color: var(--fill-color);\n",
              "    }\n",
              "    80% {\n",
              "      border-color: transparent;\n",
              "      border-right-color: var(--fill-color);\n",
              "      border-bottom-color: var(--fill-color);\n",
              "    }\n",
              "    90% {\n",
              "      border-color: transparent;\n",
              "      border-bottom-color: var(--fill-color);\n",
              "    }\n",
              "  }\n",
              "</style>\n",
              "\n",
              "  <script>\n",
              "    async function quickchart(key) {\n",
              "      const quickchartButtonEl =\n",
              "        document.querySelector('#' + key + ' button');\n",
              "      quickchartButtonEl.disabled = true;  // To prevent multiple clicks.\n",
              "      quickchartButtonEl.classList.add('colab-df-spinner');\n",
              "      try {\n",
              "        const charts = await google.colab.kernel.invokeFunction(\n",
              "            'suggestCharts', [key], {});\n",
              "      } catch (error) {\n",
              "        console.error('Error during call to suggestCharts:', error);\n",
              "      }\n",
              "      quickchartButtonEl.classList.remove('colab-df-spinner');\n",
              "      quickchartButtonEl.classList.add('colab-df-quickchart-complete');\n",
              "    }\n",
              "    (() => {\n",
              "      let quickchartButtonEl =\n",
              "        document.querySelector('#df-2a9cfc24-8007-4186-8c6e-764e0325587b button');\n",
              "      quickchartButtonEl.style.display =\n",
              "        google.colab.kernel.accessAllowed ? 'block' : 'none';\n",
              "    })();\n",
              "  </script>\n",
              "</div>\n",
              "\n",
              "    </div>\n",
              "  </div>\n"
            ],
            "application/vnd.google.colaboratory.intrinsic+json": {
              "type": "dataframe",
              "summary": "{\n  \"name\": \"pd\",\n  \"rows\": 2,\n  \"fields\": [\n    {\n      \"column\": \"row_0\",\n      \"properties\": {\n        \"dtype\": \"string\",\n        \"num_unique_values\": 2,\n        \"samples\": [\n          \"MM\",\n          \"CH\"\n        ],\n        \"semantic_type\": \"\",\n        \"description\": \"\"\n      }\n    },\n    {\n      \"column\": \"CH\",\n      \"properties\": {\n        \"dtype\": \"number\",\n        \"std\": 69,\n        \"min\": 37,\n        \"max\": 135,\n        \"num_unique_values\": 2,\n        \"samples\": [\n          37,\n          135\n        ],\n        \"semantic_type\": \"\",\n        \"description\": \"\"\n      }\n    },\n    {\n      \"column\": \"MM\",\n      \"properties\": {\n        \"dtype\": \"number\",\n        \"std\": 35,\n        \"min\": 24,\n        \"max\": 74,\n        \"num_unique_values\": 2,\n        \"samples\": [\n          74,\n          24\n        ],\n        \"semantic_type\": \"\",\n        \"description\": \"\"\n      }\n    }\n  ]\n}"
            }
          },
          "metadata": {},
          "execution_count": 27
        }
      ],
      "source": [
        "X_test = test.drop(columns=['Purchase'])\n",
        "X_test = pd.get_dummies(X_test, columns = ['Store7'])\n",
        "\n",
        "y_test = test['Purchase']\n",
        "y_predict = model.predict(X_test)\n",
        "\n",
        "print('Accuracy rate is %.2f' % np.mean(y_predict == y_test))\n",
        "\n",
        "pd.crosstab(y_predict, y_test)"
      ]
    },
    {
      "cell_type": "markdown",
      "metadata": {
        "tags": [],
        "id": "zSr9rXzPUm9c"
      },
      "source": [
        "### e)\n",
        "\n",
        "Explore the different parameters you can pass to the tree command, such as `splitter`, `min_samples_split`, `min_samples_leaf`, `min_impurity_split` etc."
      ]
    },
    {
      "cell_type": "markdown",
      "metadata": {
        "tags": [],
        "id": "l0aepllaUm9c"
      },
      "source": [
        "## 8.2 Random Forest"
      ]
    },
    {
      "cell_type": "markdown",
      "metadata": {
        "tags": [],
        "id": "PMIeCrtjUm9c"
      },
      "source": [
        "In this exercise we will use the email-spam data that has been presented in a couple of lectures. Go to the URL\n",
        "http://archive.ics.uci.edu/ml/datasets/Spambase for more information about the data."
      ]
    },
    {
      "cell_type": "markdown",
      "metadata": {
        "tags": [],
        "id": "6ehqVOwOUm9c"
      },
      "source": [
        "### a)\n",
        "Load the dataset `data/email.csv`"
      ]
    },
    {
      "cell_type": "code",
      "execution_count": 29,
      "metadata": {
        "tags": [],
        "id": "hZBObSNjUm9c"
      },
      "outputs": [],
      "source": [
        "# url = 'data/email.csv'\n",
        "url = 'https://uu-sml.github.io/course-sml-public/data/email.csv'\n",
        "email = pd.read_csv(url)"
      ]
    },
    {
      "cell_type": "markdown",
      "metadata": {
        "tags": [],
        "id": "j0RHA6liUm9c"
      },
      "source": [
        "### (b)\n",
        "Create a training set containing a random sample of $75\\%$ of the observations, and a test set containing the remaining observations."
      ]
    },
    {
      "cell_type": "code",
      "execution_count": 32,
      "metadata": {
        "tags": [],
        "id": "l6tijcBeUm9c"
      },
      "outputs": [],
      "source": [
        "np.random.seed(1)\n",
        "\n",
        "train_data_percent = 0.75\n",
        "train_index = np.random.choice(email.shape[0], size=int(len(email)*train_data_percent), replace = False)\n",
        "\n",
        "train = email.iloc[train_index]\n",
        "test = email.iloc[~email.index.isin(train_index)]"
      ]
    },
    {
      "cell_type": "markdown",
      "metadata": {
        "tags": [],
        "id": "YTiskYs_Um9c"
      },
      "source": [
        "### (c)\n",
        "Fit a classification tree with `Class` as output. Compute the test error."
      ]
    },
    {
      "cell_type": "code",
      "execution_count": 39,
      "metadata": {
        "tags": [],
        "id": "rG0VbaI-Um9c",
        "outputId": "aee94b15-41a6-47c3-bfcd-978f3615523f",
        "colab": {
          "base_uri": "https://localhost:8080/",
          "height": 161
        }
      },
      "outputs": [
        {
          "output_type": "stream",
          "name": "stdout",
          "text": [
            "Test error rate is 0.111\n"
          ]
        },
        {
          "output_type": "execute_result",
          "data": {
            "text/plain": [
              "Class     Non-spam  Spam\n",
              "row_0                   \n",
              "Non-spam       652    72\n",
              "Spam            56   371"
            ],
            "text/html": [
              "\n",
              "  <div id=\"df-73161099-f640-4966-af2e-ed0db1839760\" class=\"colab-df-container\">\n",
              "    <div>\n",
              "<style scoped>\n",
              "    .dataframe tbody tr th:only-of-type {\n",
              "        vertical-align: middle;\n",
              "    }\n",
              "\n",
              "    .dataframe tbody tr th {\n",
              "        vertical-align: top;\n",
              "    }\n",
              "\n",
              "    .dataframe thead th {\n",
              "        text-align: right;\n",
              "    }\n",
              "</style>\n",
              "<table border=\"1\" class=\"dataframe\">\n",
              "  <thead>\n",
              "    <tr style=\"text-align: right;\">\n",
              "      <th>Class</th>\n",
              "      <th>Non-spam</th>\n",
              "      <th>Spam</th>\n",
              "    </tr>\n",
              "    <tr>\n",
              "      <th>row_0</th>\n",
              "      <th></th>\n",
              "      <th></th>\n",
              "    </tr>\n",
              "  </thead>\n",
              "  <tbody>\n",
              "    <tr>\n",
              "      <th>Non-spam</th>\n",
              "      <td>652</td>\n",
              "      <td>72</td>\n",
              "    </tr>\n",
              "    <tr>\n",
              "      <th>Spam</th>\n",
              "      <td>56</td>\n",
              "      <td>371</td>\n",
              "    </tr>\n",
              "  </tbody>\n",
              "</table>\n",
              "</div>\n",
              "    <div class=\"colab-df-buttons\">\n",
              "\n",
              "  <div class=\"colab-df-container\">\n",
              "    <button class=\"colab-df-convert\" onclick=\"convertToInteractive('df-73161099-f640-4966-af2e-ed0db1839760')\"\n",
              "            title=\"Convert this dataframe to an interactive table.\"\n",
              "            style=\"display:none;\">\n",
              "\n",
              "  <svg xmlns=\"http://www.w3.org/2000/svg\" height=\"24px\" viewBox=\"0 -960 960 960\">\n",
              "    <path d=\"M120-120v-720h720v720H120Zm60-500h600v-160H180v160Zm220 220h160v-160H400v160Zm0 220h160v-160H400v160ZM180-400h160v-160H180v160Zm440 0h160v-160H620v160ZM180-180h160v-160H180v160Zm440 0h160v-160H620v160Z\"/>\n",
              "  </svg>\n",
              "    </button>\n",
              "\n",
              "  <style>\n",
              "    .colab-df-container {\n",
              "      display:flex;\n",
              "      gap: 12px;\n",
              "    }\n",
              "\n",
              "    .colab-df-convert {\n",
              "      background-color: #E8F0FE;\n",
              "      border: none;\n",
              "      border-radius: 50%;\n",
              "      cursor: pointer;\n",
              "      display: none;\n",
              "      fill: #1967D2;\n",
              "      height: 32px;\n",
              "      padding: 0 0 0 0;\n",
              "      width: 32px;\n",
              "    }\n",
              "\n",
              "    .colab-df-convert:hover {\n",
              "      background-color: #E2EBFA;\n",
              "      box-shadow: 0px 1px 2px rgba(60, 64, 67, 0.3), 0px 1px 3px 1px rgba(60, 64, 67, 0.15);\n",
              "      fill: #174EA6;\n",
              "    }\n",
              "\n",
              "    .colab-df-buttons div {\n",
              "      margin-bottom: 4px;\n",
              "    }\n",
              "\n",
              "    [theme=dark] .colab-df-convert {\n",
              "      background-color: #3B4455;\n",
              "      fill: #D2E3FC;\n",
              "    }\n",
              "\n",
              "    [theme=dark] .colab-df-convert:hover {\n",
              "      background-color: #434B5C;\n",
              "      box-shadow: 0px 1px 3px 1px rgba(0, 0, 0, 0.15);\n",
              "      filter: drop-shadow(0px 1px 2px rgba(0, 0, 0, 0.3));\n",
              "      fill: #FFFFFF;\n",
              "    }\n",
              "  </style>\n",
              "\n",
              "    <script>\n",
              "      const buttonEl =\n",
              "        document.querySelector('#df-73161099-f640-4966-af2e-ed0db1839760 button.colab-df-convert');\n",
              "      buttonEl.style.display =\n",
              "        google.colab.kernel.accessAllowed ? 'block' : 'none';\n",
              "\n",
              "      async function convertToInteractive(key) {\n",
              "        const element = document.querySelector('#df-73161099-f640-4966-af2e-ed0db1839760');\n",
              "        const dataTable =\n",
              "          await google.colab.kernel.invokeFunction('convertToInteractive',\n",
              "                                                    [key], {});\n",
              "        if (!dataTable) return;\n",
              "\n",
              "        const docLinkHtml = 'Like what you see? Visit the ' +\n",
              "          '<a target=\"_blank\" href=https://colab.research.google.com/notebooks/data_table.ipynb>data table notebook</a>'\n",
              "          + ' to learn more about interactive tables.';\n",
              "        element.innerHTML = '';\n",
              "        dataTable['output_type'] = 'display_data';\n",
              "        await google.colab.output.renderOutput(dataTable, element);\n",
              "        const docLink = document.createElement('div');\n",
              "        docLink.innerHTML = docLinkHtml;\n",
              "        element.appendChild(docLink);\n",
              "      }\n",
              "    </script>\n",
              "  </div>\n",
              "\n",
              "\n",
              "<div id=\"df-632294db-7627-4329-9d3c-f38bb6f1e30b\">\n",
              "  <button class=\"colab-df-quickchart\" onclick=\"quickchart('df-632294db-7627-4329-9d3c-f38bb6f1e30b')\"\n",
              "            title=\"Suggest charts\"\n",
              "            style=\"display:none;\">\n",
              "\n",
              "<svg xmlns=\"http://www.w3.org/2000/svg\" height=\"24px\"viewBox=\"0 0 24 24\"\n",
              "     width=\"24px\">\n",
              "    <g>\n",
              "        <path d=\"M19 3H5c-1.1 0-2 .9-2 2v14c0 1.1.9 2 2 2h14c1.1 0 2-.9 2-2V5c0-1.1-.9-2-2-2zM9 17H7v-7h2v7zm4 0h-2V7h2v10zm4 0h-2v-4h2v4z\"/>\n",
              "    </g>\n",
              "</svg>\n",
              "  </button>\n",
              "\n",
              "<style>\n",
              "  .colab-df-quickchart {\n",
              "      --bg-color: #E8F0FE;\n",
              "      --fill-color: #1967D2;\n",
              "      --hover-bg-color: #E2EBFA;\n",
              "      --hover-fill-color: #174EA6;\n",
              "      --disabled-fill-color: #AAA;\n",
              "      --disabled-bg-color: #DDD;\n",
              "  }\n",
              "\n",
              "  [theme=dark] .colab-df-quickchart {\n",
              "      --bg-color: #3B4455;\n",
              "      --fill-color: #D2E3FC;\n",
              "      --hover-bg-color: #434B5C;\n",
              "      --hover-fill-color: #FFFFFF;\n",
              "      --disabled-bg-color: #3B4455;\n",
              "      --disabled-fill-color: #666;\n",
              "  }\n",
              "\n",
              "  .colab-df-quickchart {\n",
              "    background-color: var(--bg-color);\n",
              "    border: none;\n",
              "    border-radius: 50%;\n",
              "    cursor: pointer;\n",
              "    display: none;\n",
              "    fill: var(--fill-color);\n",
              "    height: 32px;\n",
              "    padding: 0;\n",
              "    width: 32px;\n",
              "  }\n",
              "\n",
              "  .colab-df-quickchart:hover {\n",
              "    background-color: var(--hover-bg-color);\n",
              "    box-shadow: 0 1px 2px rgba(60, 64, 67, 0.3), 0 1px 3px 1px rgba(60, 64, 67, 0.15);\n",
              "    fill: var(--button-hover-fill-color);\n",
              "  }\n",
              "\n",
              "  .colab-df-quickchart-complete:disabled,\n",
              "  .colab-df-quickchart-complete:disabled:hover {\n",
              "    background-color: var(--disabled-bg-color);\n",
              "    fill: var(--disabled-fill-color);\n",
              "    box-shadow: none;\n",
              "  }\n",
              "\n",
              "  .colab-df-spinner {\n",
              "    border: 2px solid var(--fill-color);\n",
              "    border-color: transparent;\n",
              "    border-bottom-color: var(--fill-color);\n",
              "    animation:\n",
              "      spin 1s steps(1) infinite;\n",
              "  }\n",
              "\n",
              "  @keyframes spin {\n",
              "    0% {\n",
              "      border-color: transparent;\n",
              "      border-bottom-color: var(--fill-color);\n",
              "      border-left-color: var(--fill-color);\n",
              "    }\n",
              "    20% {\n",
              "      border-color: transparent;\n",
              "      border-left-color: var(--fill-color);\n",
              "      border-top-color: var(--fill-color);\n",
              "    }\n",
              "    30% {\n",
              "      border-color: transparent;\n",
              "      border-left-color: var(--fill-color);\n",
              "      border-top-color: var(--fill-color);\n",
              "      border-right-color: var(--fill-color);\n",
              "    }\n",
              "    40% {\n",
              "      border-color: transparent;\n",
              "      border-right-color: var(--fill-color);\n",
              "      border-top-color: var(--fill-color);\n",
              "    }\n",
              "    60% {\n",
              "      border-color: transparent;\n",
              "      border-right-color: var(--fill-color);\n",
              "    }\n",
              "    80% {\n",
              "      border-color: transparent;\n",
              "      border-right-color: var(--fill-color);\n",
              "      border-bottom-color: var(--fill-color);\n",
              "    }\n",
              "    90% {\n",
              "      border-color: transparent;\n",
              "      border-bottom-color: var(--fill-color);\n",
              "    }\n",
              "  }\n",
              "</style>\n",
              "\n",
              "  <script>\n",
              "    async function quickchart(key) {\n",
              "      const quickchartButtonEl =\n",
              "        document.querySelector('#' + key + ' button');\n",
              "      quickchartButtonEl.disabled = true;  // To prevent multiple clicks.\n",
              "      quickchartButtonEl.classList.add('colab-df-spinner');\n",
              "      try {\n",
              "        const charts = await google.colab.kernel.invokeFunction(\n",
              "            'suggestCharts', [key], {});\n",
              "      } catch (error) {\n",
              "        console.error('Error during call to suggestCharts:', error);\n",
              "      }\n",
              "      quickchartButtonEl.classList.remove('colab-df-spinner');\n",
              "      quickchartButtonEl.classList.add('colab-df-quickchart-complete');\n",
              "    }\n",
              "    (() => {\n",
              "      let quickchartButtonEl =\n",
              "        document.querySelector('#df-632294db-7627-4329-9d3c-f38bb6f1e30b button');\n",
              "      quickchartButtonEl.style.display =\n",
              "        google.colab.kernel.accessAllowed ? 'block' : 'none';\n",
              "    })();\n",
              "  </script>\n",
              "</div>\n",
              "\n",
              "    </div>\n",
              "  </div>\n"
            ],
            "application/vnd.google.colaboratory.intrinsic+json": {
              "type": "dataframe",
              "summary": "{\n  \"name\": \"pd\",\n  \"rows\": 2,\n  \"fields\": [\n    {\n      \"column\": \"row_0\",\n      \"properties\": {\n        \"dtype\": \"string\",\n        \"num_unique_values\": 2,\n        \"samples\": [\n          \"Spam\",\n          \"Non-spam\"\n        ],\n        \"semantic_type\": \"\",\n        \"description\": \"\"\n      }\n    },\n    {\n      \"column\": \"Non-spam\",\n      \"properties\": {\n        \"dtype\": \"number\",\n        \"std\": 421,\n        \"min\": 56,\n        \"max\": 652,\n        \"num_unique_values\": 2,\n        \"samples\": [\n          56,\n          652\n        ],\n        \"semantic_type\": \"\",\n        \"description\": \"\"\n      }\n    },\n    {\n      \"column\": \"Spam\",\n      \"properties\": {\n        \"dtype\": \"number\",\n        \"std\": 211,\n        \"min\": 72,\n        \"max\": 371,\n        \"num_unique_values\": 2,\n        \"samples\": [\n          371,\n          72\n        ],\n        \"semantic_type\": \"\",\n        \"description\": \"\"\n      }\n    }\n  ]\n}"
            }
          },
          "metadata": {},
          "execution_count": 39
        }
      ],
      "source": [
        "X_train = train.copy().drop(columns = ['Class'])\n",
        "y_train = train['Class']\n",
        "\n",
        "X_test = test.copy().drop(columns = ['Class'])\n",
        "y_test = test['Class']\n",
        "\n",
        "model = tree.DecisionTreeClassifier(max_leaf_nodes=5)\n",
        "model.fit(X=X_train, y=y_train)\n",
        "y_predict = model.predict(X_test)\n",
        "print('Test error rate is %.3f' % np.mean(y_predict != y_test))\n",
        "\n",
        "pd.crosstab(y_predict, y_test)"
      ]
    },
    {
      "cell_type": "markdown",
      "metadata": {
        "tags": [],
        "id": "VFiEzQkrUm9c"
      },
      "source": [
        "### (d)\n",
        "Use the bagging approach to learn a classifier `sklearn.ensemble.BaggingClassifier()`. What test error do you get?"
      ]
    },
    {
      "cell_type": "code",
      "execution_count": 43,
      "metadata": {
        "tags": [],
        "id": "C2ij_WHvUm9c",
        "outputId": "1599f500-41ab-4b1d-b4b3-232d88d7759f",
        "colab": {
          "base_uri": "https://localhost:8080/"
        }
      },
      "outputs": [
        {
          "output_type": "stream",
          "name": "stdout",
          "text": [
            "Test error rate is 0.061\n"
          ]
        }
      ],
      "source": [
        "model = BaggingClassifier()\n",
        "model.fit(X_train, y_train)\n",
        "y_predict = model.predict(X_test)\n",
        "\n",
        "print('Test error rate is %.3f' % np.mean(y_predict != y_test))"
      ]
    },
    {
      "cell_type": "markdown",
      "metadata": {
        "tags": [],
        "id": "AHhah6ahUm9c"
      },
      "source": [
        "### (e)\n",
        "Learn a random forest classifier using the function `sklearn.ensemble.RandomForestClassifier()`. What test error do you get?"
      ]
    },
    {
      "cell_type": "code",
      "execution_count": 44,
      "metadata": {
        "tags": [],
        "id": "DMxjRJQvUm9c",
        "outputId": "be6b29f1-d86a-4ff5-a97f-99a8c09ea94b",
        "colab": {
          "base_uri": "https://localhost:8080/"
        }
      },
      "outputs": [
        {
          "output_type": "stream",
          "name": "stdout",
          "text": [
            "Test error is 0.036\n"
          ]
        }
      ],
      "source": [
        "model = RandomForestClassifier(n_estimators=100)\n",
        "model.fit(X_train, y_train)\n",
        "y_predict = model.predict(X_test)\n",
        "\n",
        "print('Test error is %.3f' % np.mean(y_predict != y_test))"
      ]
    },
    {
      "cell_type": "markdown",
      "metadata": {
        "tags": [],
        "id": "QYH9-QFqUm9c"
      },
      "source": [
        "## 8.3 Bootstrap"
      ]
    },
    {
      "cell_type": "markdown",
      "metadata": {
        "tags": [],
        "id": "yGlEJpgJUm9c"
      },
      "source": [
        "The bootstrap method has been introduced to reduce the variance in decision trees. However, the bootstrap method is widely applicable in other context as well, for example to estimate the variance in a parameter (cf. bias-variance tradeoff)."
      ]
    },
    {
      "cell_type": "markdown",
      "metadata": {
        "tags": [],
        "id": "9eZz6PEiUm9d"
      },
      "source": [
        "### (a)\n",
        "Generate $n = 100$ samples $\\{y_i\\}_{i=1}^n$ from $\\mathcal{N}(4, 1^2)$."
      ]
    },
    {
      "cell_type": "code",
      "execution_count": null,
      "metadata": {
        "tags": [],
        "id": "ZFMlRb4TUm9d"
      },
      "outputs": [],
      "source": []
    },
    {
      "cell_type": "markdown",
      "metadata": {
        "tags": [],
        "id": "FSK-FUFaUm9d"
      },
      "source": [
        "### (b)\n",
        "We want to lean a model $y = \\theta_0 + \\epsilon$ (with $\\mathbb{E}[\\epsilon]=0$) from the data $\\{y_i\\}_{n=1}^n$. Estimate $\\theta_0$ with least squares, i.e. $\\hat{\\theta}_0 = \\frac{1}{n}\\sum_{i=1}^n y_i$."
      ]
    },
    {
      "cell_type": "code",
      "execution_count": null,
      "metadata": {
        "tags": [],
        "id": "OdSRWOtHUm9d"
      },
      "outputs": [],
      "source": []
    },
    {
      "cell_type": "markdown",
      "metadata": {
        "tags": [],
        "id": "4huySLEmUm9d"
      },
      "source": [
        "### (c)\n",
        "To estimate the variance in $\\hat{\\theta}_0$, $\\operatorname{Var}[\\hat{\\theta}_0]$ (a possible ‘quality measure’ of an estimator), repeat (a)-(b) $1000$ times to get $1000$ estimates of $\\theta_0$, which we call $\\hat{\\theta}_0^1, ..., \\hat{\\theta}_0^{1000}$. Plot a histogram over the estimates $\\hat{\\theta}_0^1, ..., \\hat{\\theta}_0^{1000}$."
      ]
    },
    {
      "cell_type": "code",
      "execution_count": null,
      "metadata": {
        "tags": [],
        "id": "xr49W2VnUm9d"
      },
      "outputs": [],
      "source": []
    },
    {
      "cell_type": "markdown",
      "metadata": {
        "tags": [],
        "id": "KckOX3TsUm9d"
      },
      "source": [
        "In practice we only have access to $\\{y_i\\}_{n=1}^n$ $(n = 100)$ and cannot estimate $\\hat{\\theta}_0^1, ..., \\hat{\\theta}_0^{1000}$ by generating new data. However, with the bootstrap method we can obtain ‘new’ data sets by sampling from the original data set $\\{y_i\\}_{n=1}^n$."
      ]
    },
    {
      "cell_type": "markdown",
      "metadata": {
        "tags": [],
        "id": "j4dbDV_RUm9d"
      },
      "source": [
        "### (d)\n",
        "Sample $n$ indices $\\{i_1, i_2, ... , i_n\\}$ with replacement from the set $\\{0, 1, ... , n-1\\}$ using the function `numpy.random.choice()`. Note that some indices will appear multiple times and some will not appear at all."
      ]
    },
    {
      "cell_type": "code",
      "execution_count": null,
      "metadata": {
        "tags": [],
        "id": "LG-cTb6kUm9d"
      },
      "outputs": [],
      "source": []
    },
    {
      "cell_type": "markdown",
      "metadata": {
        "tags": [],
        "id": "evQ1r7AsUm9d"
      },
      "source": [
        "### (e)\n",
        "Generate a ‘new’ data set $\\{y_j\\}_{j=1}^n$ based on the indices generated in (d) and estimate $\\hat{\\mu}$ from this data set."
      ]
    },
    {
      "cell_type": "code",
      "execution_count": null,
      "metadata": {
        "tags": [],
        "id": "LZvaqhUUUm9d"
      },
      "outputs": [],
      "source": []
    },
    {
      "cell_type": "markdown",
      "metadata": {
        "tags": [],
        "id": "Lp2Zh3RAUm9g"
      },
      "source": [
        "### (f)\n",
        "Repeat (d)-(e) $1000$ times to get $1000$ estimates of $\\hat{\\mu}$, which we call $\\hat{\\mu}_1^*, ..., \\hat{\\mu}_{1000}^*$. Plot a histogram over the estimates $\\hat{\\mu}_1^*, ..., \\hat{\\mu}_{1000}^*$ and compare with the estimate achieved in (c)."
      ]
    },
    {
      "cell_type": "code",
      "execution_count": null,
      "metadata": {
        "tags": [],
        "id": "NDa6-rzBUm9g"
      },
      "outputs": [],
      "source": []
    }
  ],
  "metadata": {
    "celltoolbar": "Tags",
    "kernelspec": {
      "display_name": "Python 3",
      "language": "python",
      "name": "python3"
    },
    "language_info": {
      "codemirror_mode": {
        "name": "ipython",
        "version": 3
      },
      "file_extension": ".py",
      "mimetype": "text/x-python",
      "name": "python",
      "nbconvert_exporter": "python",
      "pygments_lexer": "ipython3",
      "version": "3.7.4"
    },
    "colab": {
      "provenance": []
    }
  },
  "nbformat": 4,
  "nbformat_minor": 0
}