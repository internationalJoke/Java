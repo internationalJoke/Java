{
  "cells": [
    {
      "cell_type": "code",
      "execution_count": null,
      "metadata": {
        "tags": [],
        "id": "8WFeRGrOrksc"
      },
      "outputs": [],
      "source": [
        "import pandas as pd\n",
        "import numpy as np\n",
        "import matplotlib\n",
        "import matplotlib.pyplot as plt\n",
        "\n",
        "from sklearn import tree\n",
        "from sklearn.ensemble import BaggingClassifier, RandomForestClassifier\n",
        "\n",
        "import graphviz"
      ]
    },
    {
      "cell_type": "markdown",
      "metadata": {
        "tags": [],
        "id": "2UlTbST5rksd"
      },
      "source": [
        "# Tree-Based Methods"
      ]
    },
    {
      "cell_type": "markdown",
      "metadata": {
        "tags": [],
        "id": "UGppVFfrrksd"
      },
      "source": [
        "## 8.1 Classification tree"
      ]
    },
    {
      "cell_type": "markdown",
      "metadata": {
        "tags": [],
        "id": "YXfJOm2frksd"
      },
      "source": [
        "This problem involves the `OJ` dataset (`data/oj.csv`)  \n",
        "**Orange Juice Data**\n",
        "\n",
        "The data contains 1070 purchases where the customer either purchased Citrus Hill or Minute Maid Orange Juice. A number of characteristics of the customer and product are recorded.\n",
        "\n",
        "A data frame with 1070 observations on the following 18 variables:\n",
        "\n",
        "`Purchase` :A factor with levels CH and MM indicating whether the customer purchased Citrus Hill or Minute Maid Orange Juice  \n",
        "`WeekofPurchase`: Week of purchase  \n",
        "`StoreID`: Store ID  \n",
        "`PriceCH`: Price charged for CH  \n",
        "`PriceMM`: Price charged for MM  \n",
        "`DiscCH`: Discount offered for CH\n",
        "`DiscMM`: Discount offered for MM  \n",
        "`SpecialCH`: Indicator of special on CH  \n",
        "`SpecialMM`: Indicator of special on MM  \n",
        "`LoyalCH`: Customer brand loyalty for CH  \n",
        "`SalePriceMM`: Sale price for MM  \n",
        "`SalePriceCH`: Sale price for CH  \n",
        "`PriceDiff`: Sale price of MM less sale price of CH  \n",
        "`Store7`: A factor with levels No and Yes indicating whether the sale is at Store 7  \n",
        "`PctDiscMM`: Percentage discount for MM  \n",
        "`PctDiscCH`: Percentage discount for CH  \n",
        "`ListPriceDiff`: List price of MM less list price of CH  \n",
        "`STORE`: Which of 5 possible stores the sale occured at"
      ]
    },
    {
      "cell_type": "markdown",
      "metadata": {
        "tags": [],
        "id": "2rhFq-KIrkse"
      },
      "source": [
        "### a)\n",
        "Create a training set containing a random sample of 800 observations, and a test set containing the remaining observations."
      ]
    },
    {
      "cell_type": "code",
      "execution_count": null,
      "metadata": {
        "tags": [],
        "id": "UFBTjmsdrkse"
      },
      "outputs": [],
      "source": [
        "#OJ = pd.read_csv('data/OJ.csv')\n",
        "OJ = pd.read_csv('https://uu-sml.github.io/course-sml-public/data/oj.csv')\n"
      ]
    },
    {
      "cell_type": "code",
      "execution_count": null,
      "metadata": {
        "tags": [],
        "id": "vuxIsh-Jrkse"
      },
      "outputs": [],
      "source": []
    },
    {
      "cell_type": "markdown",
      "metadata": {
        "tags": [],
        "id": "mQbfon9wrkse"
      },
      "source": [
        "### b)\n",
        "Learn a classification tree from the training data using the function `sklearn.tree.DecisionTreeClassifier()`, with\n",
        "`Purchase` as the output and the other variables as inputs. Don't forget to handle qulitative variables correctly. To avoid severe overfit, you have to add some constraints to the tree, using, e.g., a maximum depth of 2 (`max_depth=2`)."
      ]
    },
    {
      "cell_type": "code",
      "execution_count": null,
      "metadata": {
        "tags": [],
        "id": "y6kYOtddrkse"
      },
      "outputs": [],
      "source": []
    },
    {
      "cell_type": "markdown",
      "metadata": {
        "tags": [],
        "id": "ju9y6RTJrkse"
      },
      "source": [
        "### c)\n",
        "Use `sklearn.tree.export_graphviz()`and the `Python` module `graphviz` to visualize the tree and interpret the result. How many terminal nodes does the tree have? Pick one of the terminal nodes, and interpret the information displayed. Type `OJ.info()` to get information about all input variables in the data set."
      ]
    },
    {
      "cell_type": "code",
      "execution_count": null,
      "metadata": {
        "tags": [],
        "id": "bdwPT06yrkse"
      },
      "outputs": [],
      "source": []
    },
    {
      "cell_type": "markdown",
      "metadata": {
        "tags": [],
        "id": "PZv-zcoWrkse"
      },
      "source": [
        "### d)\n",
        "Predict the response on the test data, and produce a confusion matrix comparing the test labels to the predicted test labels. What is the test error rate?"
      ]
    },
    {
      "cell_type": "code",
      "execution_count": null,
      "metadata": {
        "tags": [],
        "id": "oyrfOHbrrksf"
      },
      "outputs": [],
      "source": []
    },
    {
      "cell_type": "markdown",
      "metadata": {
        "tags": [],
        "id": "rdgH0DOnrksf"
      },
      "source": [
        "### e)\n",
        "\n",
        "Explore the different parameters you can pass to the tree command, such as `splitter`, `min_samples_split`, `min_samples_leaf`, `min_impurity_split` etc."
      ]
    },
    {
      "cell_type": "markdown",
      "metadata": {
        "tags": [],
        "id": "IMh0BYg5rksf"
      },
      "source": [
        "## 8.2 Random Forest"
      ]
    },
    {
      "cell_type": "markdown",
      "metadata": {
        "tags": [],
        "id": "Vx7zhdEhrksf"
      },
      "source": [
        "In this exercise we will use the email-spam data that has been presented in a couple of lectures. Go to the URL\n",
        "http://archive.ics.uci.edu/ml/datasets/Spambase for more information about the data."
      ]
    },
    {
      "cell_type": "markdown",
      "metadata": {
        "tags": [],
        "id": "njVpXASfrksf"
      },
      "source": [
        "### a)\n",
        "Load the dataset `data/email.csv`"
      ]
    },
    {
      "cell_type": "code",
      "execution_count": null,
      "metadata": {
        "tags": [],
        "id": "o6d6AV5Yrksf"
      },
      "outputs": [],
      "source": [
        "# url = 'data/email.csv'\n",
        "url = 'https://uu-sml.github.io/course-sml-public/data/email.csv'\n",
        "email = pd.read_csv(url)"
      ]
    },
    {
      "cell_type": "markdown",
      "metadata": {
        "tags": [],
        "id": "kUW-8RAmrksf"
      },
      "source": [
        "### (b)\n",
        "Create a training set containing a random sample of $75\\%$ of the observations, and a test set containing the remaining observations."
      ]
    },
    {
      "cell_type": "code",
      "execution_count": null,
      "metadata": {
        "tags": [],
        "id": "mQ1JSfmerksf"
      },
      "outputs": [],
      "source": []
    },
    {
      "cell_type": "markdown",
      "metadata": {
        "tags": [],
        "id": "iDySiQ7hrksf"
      },
      "source": [
        "### (c)\n",
        "Fit a classification tree with `Class` as output. Compute the test error."
      ]
    },
    {
      "cell_type": "code",
      "execution_count": null,
      "metadata": {
        "tags": [],
        "id": "67L32FRirksf"
      },
      "outputs": [],
      "source": []
    },
    {
      "cell_type": "markdown",
      "metadata": {
        "tags": [],
        "id": "eGB6xoCIrksf"
      },
      "source": [
        "### (d)\n",
        "Use the bagging approach to learn a classifier `sklearn.ensemble.BaggingClassifier()`. What test error do you get?"
      ]
    },
    {
      "cell_type": "code",
      "execution_count": null,
      "metadata": {
        "tags": [],
        "id": "tykJS8Vgrksf"
      },
      "outputs": [],
      "source": []
    },
    {
      "cell_type": "markdown",
      "metadata": {
        "tags": [],
        "id": "8qdmE3Rirksf"
      },
      "source": [
        "### (e)\n",
        "Learn a random forest classifier using the function `sklearn.ensemble.RandomForestClassifier()`. What test error do you get?"
      ]
    },
    {
      "cell_type": "code",
      "execution_count": null,
      "metadata": {
        "tags": [],
        "id": "vwg6_-c2rksf"
      },
      "outputs": [],
      "source": []
    },
    {
      "cell_type": "markdown",
      "metadata": {
        "tags": [],
        "id": "q3uE-Q8wrksf"
      },
      "source": [
        "## 8.3 Bootstrap"
      ]
    },
    {
      "cell_type": "markdown",
      "metadata": {
        "tags": [],
        "id": "3Jdg0bXPrksf"
      },
      "source": [
        "The bootstrap method has been introduced to reduce the variance in decision trees. However, the bootstrap method is widely applicable in other context as well, for example to estimate the variance in a parameter (cf. bias-variance tradeoff)."
      ]
    },
    {
      "cell_type": "markdown",
      "metadata": {
        "tags": [],
        "id": "AYyQl5RIrksf"
      },
      "source": [
        "### (a)\n",
        "Generate $n = 100$ samples $\\{y_i\\}_{i=1}^n$ from $\\mathcal{N}(4, 1^2)$."
      ]
    },
    {
      "cell_type": "code",
      "execution_count": null,
      "metadata": {
        "tags": [],
        "id": "-Xc6DZHVrksf"
      },
      "outputs": [],
      "source": []
    },
    {
      "cell_type": "markdown",
      "metadata": {
        "tags": [],
        "id": "bQtNr6dtrksf"
      },
      "source": [
        "### (b)\n",
        "We want to lean a model $y = \\theta_0 + \\epsilon$ (with $\\mathbb{E}[\\epsilon]=0$) from the data $\\{y_i\\}_{n=1}^n$. Estimate $\\theta_0$ with least squares, i.e. $\\hat{\\theta}_0 = \\frac{1}{n}\\sum_{i=1}^n y_i$."
      ]
    },
    {
      "cell_type": "code",
      "execution_count": null,
      "metadata": {
        "tags": [],
        "id": "BWCMzxuWrksg"
      },
      "outputs": [],
      "source": []
    },
    {
      "cell_type": "markdown",
      "metadata": {
        "tags": [],
        "id": "pYckF9slrksg"
      },
      "source": [
        "### (c)\n",
        "To estimate the variance in $\\hat{\\theta}_0$, $\\operatorname{Var}[\\hat{\\theta}_0]$ (a possible ‘quality measure’ of an estimator), repeat (a)-(b) $1000$ times to get $1000$ estimates of $\\theta_0$, which we call $\\hat{\\theta}_0^1, ..., \\hat{\\theta}_0^{1000}$. Plot a histogram over the estimates $\\hat{\\theta}_0^1, ..., \\hat{\\theta}_0^{1000}$."
      ]
    },
    {
      "cell_type": "code",
      "execution_count": null,
      "metadata": {
        "tags": [],
        "id": "UWT3yjW0rksg"
      },
      "outputs": [],
      "source": []
    },
    {
      "cell_type": "markdown",
      "metadata": {
        "tags": [],
        "id": "WoG-nLDhrksg"
      },
      "source": [
        "In practice we only have access to $\\{y_i\\}_{n=1}^n$ $(n = 100)$ and cannot estimate $\\hat{\\theta}_0^1, ..., \\hat{\\theta}_0^{1000}$ by generating new data. However, with the bootstrap method we can obtain ‘new’ data sets by sampling from the original data set $\\{y_i\\}_{n=1}^n$."
      ]
    },
    {
      "cell_type": "markdown",
      "metadata": {
        "tags": [],
        "id": "4_svYC6Mrksg"
      },
      "source": [
        "### (d)\n",
        "Sample $n$ indices $\\{i_1, i_2, ... , i_n\\}$ with replacement from the set $\\{0, 1, ... , n-1\\}$ using the function `numpy.random.choice()`. Note that some indices will appear multiple times and some will not appear at all."
      ]
    },
    {
      "cell_type": "code",
      "execution_count": null,
      "metadata": {
        "tags": [],
        "id": "5ThULxAXrksg"
      },
      "outputs": [],
      "source": []
    },
    {
      "cell_type": "markdown",
      "metadata": {
        "tags": [],
        "id": "oMQHSlCwrksg"
      },
      "source": [
        "### (e)\n",
        "Generate a ‘new’ data set $\\{y_j\\}_{j=1}^n$ based on the indices generated in (d) and estimate $\\hat{\\mu}$ from this data set."
      ]
    },
    {
      "cell_type": "code",
      "execution_count": null,
      "metadata": {
        "tags": [],
        "id": "TqWCFQlNrksg"
      },
      "outputs": [],
      "source": []
    },
    {
      "cell_type": "markdown",
      "metadata": {
        "tags": [],
        "id": "54HqaRpUrksm"
      },
      "source": [
        "### (f)\n",
        "Repeat (d)-(e) $1000$ times to get $1000$ estimates of $\\hat{\\mu}$, which we call $\\hat{\\mu}_1^*, ..., \\hat{\\mu}_{1000}^*$. Plot a histogram over the estimates $\\hat{\\mu}_1^*, ..., \\hat{\\mu}_{1000}^*$ and compare with the estimate achieved in (c)."
      ]
    },
    {
      "cell_type": "code",
      "execution_count": null,
      "metadata": {
        "tags": [],
        "id": "TpQTj5mgrksm"
      },
      "outputs": [],
      "source": []
    }
  ],
  "metadata": {
    "celltoolbar": "Tags",
    "kernelspec": {
      "display_name": "Python 3",
      "language": "python",
      "name": "python3"
    },
    "language_info": {
      "codemirror_mode": {
        "name": "ipython",
        "version": 3
      },
      "file_extension": ".py",
      "mimetype": "text/x-python",
      "name": "python",
      "nbconvert_exporter": "python",
      "pygments_lexer": "ipython3",
      "version": "3.7.4"
    },
    "colab": {
      "provenance": []
    }
  },
  "nbformat": 4,
  "nbformat_minor": 0
}